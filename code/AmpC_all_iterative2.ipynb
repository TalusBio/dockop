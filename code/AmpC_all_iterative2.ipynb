{
 "cells": [
  {
   "cell_type": "code",
   "execution_count": 2,
   "metadata": {},
   "outputs": [],
   "source": [
    "import numpy as np\n",
    "import matplotlib.pyplot as plt\n",
    "import pandas as pd\n",
    "import altair as alt\n",
    "import tqdm\n",
    "from scipy import sparse\n",
    "from sklearn.linear_model import LogisticRegression\n",
    "from functools import lru_cache\n",
    "from xgboost import XGBClassifier"
   ]
  },
  {
   "cell_type": "code",
   "execution_count": 3,
   "metadata": {},
   "outputs": [
    {
     "data": {
      "text/plain": [
       "RendererRegistry.enable('default')"
      ]
     },
     "execution_count": 3,
     "metadata": {},
     "output_type": "execute_result"
    }
   ],
   "source": [
    "alt.renderers.enable('default')"
   ]
  },
  {
   "cell_type": "code",
   "execution_count": 4,
   "metadata": {
    "scrolled": true
   },
   "outputs": [],
   "source": [
    "NUM_CHUNKS = 10"
   ]
  },
  {
   "cell_type": "markdown",
   "metadata": {},
   "source": [
    "# Generate some indices\n",
    "Even the sparse matrices won't fit in memory. So we will have to loop through them when making predictions or sampling random items."
   ]
  },
  {
   "cell_type": "code",
   "execution_count": 5,
   "metadata": {},
   "outputs": [],
   "source": [
    "USE_EMBEDDINGS = False\n",
    "TOP_K_THRESHOLD = 50_000\n",
    "MODEL = \"_r1\"\n",
    "CLASSIFIER = \"_xgb\""
   ]
  },
  {
   "cell_type": "code",
   "execution_count": 6,
   "metadata": {},
   "outputs": [],
   "source": [
    "RECEPTOR = \"AmpC\"\n",
    "DATA_DIR = \"/mnt/efs/AmpC_data\"\n",
    "\n",
    "MODEL_PATH = \"/mnt/efs/mol2vec/examples/models/model_300dim.pkl\"\n",
    "UNCOMMON = \"UNK\"\n",
    "\n",
    "if USE_EMBEDDINGS:\n",
    "    OUTPUT_RESULTS_FILE = f\"{RECEPTOR}_embedding_results{MODEL}{CLASSIFIER}.csv\"\n",
    "else:\n",
    "    OUTPUT_RESULTS_FILE = f\"{RECEPTOR}_results{CLASSIFIER}.csv\""
   ]
  },
  {
   "cell_type": "code",
   "execution_count": 7,
   "metadata": {},
   "outputs": [],
   "source": [
    "# count number of items:\n",
    "indptr = [0]\n",
    "scores_lst = []\n",
    "\n",
    "# if USE_EMBEDDINGS:\n",
    "    # scores = np.load(f\"{INPUT_DATA_DIR}/{RECEPTOR}_embedding_scores.npy\")\n",
    "    # vectors = np.load(f\"{INPUT_DATA_DIR}/{RECEPTOR}_embeddings.npy\")\n",
    "# else:\n",
    "    # scores = np.load(f\"{INPUT_DATA_DIR}/{RECEPTOR}_scores.npy\")\n",
    "    # vectors = sparse.load_npz(f\"{INPUT_DATA_DIR}/{RECEPTOR}_fingerprints.npz\")\n",
    "\n",
    "for chunk_id in range(NUM_CHUNKS):\n",
    "    scores = np.load(f\"{DATA_DIR}/{RECEPTOR}_scores_{chunk_id}{MODEL}.npy\")\n",
    "    indptr.append(indptr[-1] + scores.shape[0])\n",
    "    scores_lst.append(scores)\n",
    "    \n",
    "scores = np.concatenate(scores_lst)"
   ]
  },
  {
   "cell_type": "code",
   "execution_count": 8,
   "metadata": {},
   "outputs": [
    {
     "data": {
      "text/plain": [
       "(96214206,)"
      ]
     },
     "execution_count": 8,
     "metadata": {},
     "output_type": "execute_result"
    }
   ],
   "source": [
    "scores.shape"
   ]
  },
  {
   "cell_type": "code",
   "execution_count": 9,
   "metadata": {},
   "outputs": [],
   "source": [
    "def load_vectors(chunk_id):\n",
    "    print(f\"Loading vectors {chunk_id}{MODEL}\", end=\"; \", flush=True)\n",
    "    if USE_EMBEDDINGS:\n",
    "        vectors = np.load(f\"{DATA_DIR}/{RECEPTOR}_embeddings_{chunk_id}{MODEL}.npy\")\n",
    "    else:\n",
    "        vectors = sparse.load_npz(f\"{DATA_DIR}/{RECEPTOR}_fingerprints_{chunk_id}.npz\")\n",
    "    return vectors"
   ]
  },
  {
   "cell_type": "code",
   "execution_count": 9,
   "metadata": {},
   "outputs": [],
   "source": [
    "def extract_vectors(chunk_id, indptr, is_train):\n",
    "    print(f\"Extracting vectors: {chunk_id}\", end=\"; \", flush=True)\n",
    "    vectors = load_vectors(chunk_id)\n",
    "    mask = is_train[indptr[chunk_id]:indptr[chunk_id+1]]\n",
    "    return vectors[mask].astype(int)\n",
    "\n",
    "def build_train(indptr, is_train):\n",
    "    print(\"Building training set\", end=\"; \", flush=True)\n",
    "    if USE_EMBEDDINGS:\n",
    "        vectors = np.vstack([extract_vectors(i, tuple(indptr), is_train) for i in range(NUM_CHUNKS)])\n",
    "    else:\n",
    "        vectors = sparse.vstack([extract_vectors(i, tuple(indptr), is_train) for i in range(NUM_CHUNKS)])  \n",
    "    return vectors\n",
    "\n",
    "def chunk_predict_proba(model, indptr, is_train):\n",
    "    print(\"Predicting proba\", end=\"; \", flush=True)\n",
    "    probas = []\n",
    "    for chunk_id in range(NUM_CHUNKS):\n",
    "        vectors = extract_vectors(chunk_id, indptr, ~is_train)\n",
    "        proba = model.predict_proba(vectors)[:,1]\n",
    "        probas.append(proba)\n",
    "    return np.concatenate(probas)\n",
    "\n",
    "def chunk_predict(model, indptr, is_train):\n",
    "    print(\"Predicting scores\", end=\"; \", flush=True)\n",
    "    preds = []\n",
    "    for chunk_id in range(NUM_CHUNKS):\n",
    "        vectors = extract_vectors(chunk_id, indptr, ~is_train)\n",
    "        pred = -1*model.predict(vectors) # best scoring will now be on top (like the proba)\n",
    "        preds.append(pred)\n",
    "    return np.concatenate(preds)"
   ]
  },
  {
   "cell_type": "markdown",
   "metadata": {},
   "source": [
    "# Train a Logistic Regression models"
   ]
  },
  {
   "cell_type": "code",
   "execution_count": 10,
   "metadata": {
    "scrolled": true
   },
   "outputs": [],
   "source": [
    "# model = LogisticRegression(max_iter=10000, C=1)"
   ]
  },
  {
   "cell_type": "code",
   "execution_count": 11,
   "metadata": {},
   "outputs": [],
   "source": [
    "model = XGBClassifier(objective=\"binary:logistic\", use_label_encoder=False)"
   ]
  },
  {
   "cell_type": "code",
   "execution_count": 12,
   "metadata": {},
   "outputs": [],
   "source": [
    "top_k = (scores.argsort().argsort() < TOP_K_THRESHOLD)\n",
    "total = top_k.sum() "
   ]
  },
  {
   "cell_type": "code",
   "execution_count": null,
   "metadata": {
    "scrolled": false
   },
   "outputs": [
    {
     "name": "stdout",
     "output_type": "stream",
     "text": [
      "Iteration: 1, Found 203 top k ligands\n",
      "Building training set; Extracting vectors: 0; Loading vectors 0_r1; Extracting vectors: 1; Loading vectors 1_r1; Extracting vectors: 2; Loading vectors 2_r1; Extracting vectors: 3; Loading vectors 3_r1; Extracting vectors: 4; Loading vectors 4_r1; Extracting vectors: 5; Loading vectors 5_r1; Extracting vectors: 6; Loading vectors 6_r1; Extracting vectors: 7; Loading vectors 7_r1; Extracting vectors: 8; Loading vectors 8_r1; Extracting vectors: 9; Loading vectors 9_r1; Fitting model; [15:22:42] WARNING: ../src/learner.cc:1095: Starting in XGBoost 1.3.0, the default evaluation metric used with the objective 'binary:logistic' was changed from 'error' to 'logloss'. Explicitly set eval_metric if you'd like to restore the old behavior.\n",
      "Predicting proba; Extracting vectors: 0; Loading vectors 0_r1; Extracting vectors: 1; Loading vectors 1_r1; Extracting vectors: 2; Loading vectors 2_r1; Extracting vectors: 3; Loading vectors 3_r1; Extracting vectors: 4; Loading vectors 4_r1; Extracting vectors: 5; Loading vectors 5_r1; Extracting vectors: 6; Loading vectors 6_r1; Extracting vectors: 7; Loading vectors 7_r1; Extracting vectors: 8; Loading vectors 8_r1; Extracting vectors: 9; Loading vectors 9_r1; \n",
      "Iteration: 2, Found 21405 top k ligands\n",
      "Building training set; Extracting vectors: 0; Loading vectors 0_r1; Extracting vectors: 1; Loading vectors 1_r1; Extracting vectors: 2; Loading vectors 2_r1; Extracting vectors: 3; Loading vectors 3_r1; Extracting vectors: 4; Loading vectors 4_r1; Extracting vectors: 5; Loading vectors 5_r1; Extracting vectors: 6; Loading vectors 6_r1; Extracting vectors: 7; Loading vectors 7_r1; Extracting vectors: 8; Loading vectors 8_r1; Extracting vectors: 9; Loading vectors 9_r1; Fitting model; [15:26:53] WARNING: ../src/learner.cc:1095: Starting in XGBoost 1.3.0, the default evaluation metric used with the objective 'binary:logistic' was changed from 'error' to 'logloss'. Explicitly set eval_metric if you'd like to restore the old behavior.\n",
      "Predicting proba; Extracting vectors: 0; Loading vectors 0_r1; Extracting vectors: 1; Loading vectors 1_r1; Extracting vectors: 2; Loading vectors 2_r1; Extracting vectors: 3; Loading vectors 3_r1; Extracting vectors: 4; Loading vectors 4_r1; Extracting vectors: 5; Loading vectors 5_r1; Extracting vectors: 6; Loading vectors 6_r1; Extracting vectors: 7; Loading vectors 7_r1; Extracting vectors: 8; Loading vectors 8_r1; Extracting vectors: 9; Loading vectors 9_r1; \n",
      "Iteration: 3, Found 34554 top k ligands\n",
      "Building training set; Extracting vectors: 0; Loading vectors 0_r1; Extracting vectors: 1; Loading vectors 1_r1; Extracting vectors: 2; Loading vectors 2_r1; Extracting vectors: 3; Loading vectors 3_r1; Extracting vectors: 4; Loading vectors 4_r1; Extracting vectors: 5; Loading vectors 5_r1; Extracting vectors: 6; Loading vectors 6_r1; Extracting vectors: 7; Loading vectors 7_r1; Extracting vectors: 8; Loading vectors 8_r1; Extracting vectors: 5; Loading vectors 5_r1; Extracting vectors: 6; Loading vectors 6_r1; Extracting vectors: 7; Loading vectors 7_r1; Extracting vectors: 8; Loading vectors 8_r1; Extracting vectors: 9; Loading vectors 9_r1; \n",
      "Iteration: 4, Found 40442 top k ligands\n",
      "Building training set; Extracting vectors: 0; Loading vectors 0_r1; Extracting vectors: 1; Loading vectors 1_r1; Extracting vectors: 2; Loading vectors 2_r1; Extracting vectors: 3; Loading vectors 3_r1; Extracting vectors: 4; Loading vectors 4_r1; Extracting vectors: 5; Loading vectors 5_r1; Extracting vectors: 6; Loading vectors 6_r1; Extracting vectors: 7; Loading vectors 7_r1; Extracting vectors: 8; Loading vectors 8_r1; Extracting vectors: 9; Loading vectors 9_r1; Fitting model; [15:35:41] WARNING: ../src/learner.cc:1095: Starting in XGBoost 1.3.0, the default evaluation metric used with the objective 'binary:logistic' was changed from 'error' to 'logloss'. Explicitly set eval_metric if you'd like to restore the old behavior.\n",
      "Predicting proba; Extracting vectors: 0; Loading vectors 0_r1; Extracting vectors: 1; Loading vectors 1_r1; Extracting vectors: 2; Loading vectors 2_r1; Extracting vectors: 3; Loading vectors 3_r1; Extracting vectors: 4; Loading vectors 4_r1; Extracting vectors: 5; Loading vectors 5_r1; Extracting vectors: 6; Loading vectors 6_r1; Extracting vectors: 7; Loading vectors 7_r1; Extracting vectors: 8; Loading vectors 8_r1; Extracting vectors: 9; Loading vectors 9_r1; \n",
      "Iteration: 5, Found 43832 top k ligands\n",
      "Building training set; Extracting vectors: 0; Loading vectors 0_r1; Extracting vectors: 1; Loading vectors 1_r1; Extracting vectors: 2; Loading vectors 2_r1; Extracting vectors: 3; Loading vectors 3_r1; Extracting vectors: 4; Loading vectors 4_r1; Extracting vectors: 5; Loading vectors 5_r1; Extracting vectors: 6; Loading vectors 6_r1; Extracting vectors: 7; Loading vectors 7_r1; Extracting vectors: 8; Loading vectors 8_r1; Extracting vectors: 9; Loading vectors 9_r1; Fitting model; [15:40:16] WARNING: ../src/learner.cc:1095: Starting in XGBoost 1.3.0, the default evaluation metric used with the objective 'binary:logistic' was changed from 'error' to 'logloss'. Explicitly set eval_metric if you'd like to restore the old behavior.\n",
      "Predicting proba; Extracting vectors: 0; Loading vectors 0_r1; Extracting vectors: 1; Loading vectors 1_r1; Extracting vectors: 2; Loading vectors 2_r1; Extracting vectors: 3; Loading vectors 3_r1; Extracting vectors: 4; Loading vectors 4_r1; Extracting vectors: 5; Loading vectors 5_r1; Extracting vectors: 6; Loading vectors 6_r1; Extracting vectors: 7; Loading vectors 7_r1; Extracting vectors: 8; Loading vectors 8_r1; Extracting vectors: 9; Loading vectors 9_r1; \n",
      "Iteration: 6, Found 45788 top k ligands\n",
      "Iteration: 7, Found 208 top k ligands\n",
      "Building training set; Extracting vectors: 0; Loading vectors 0_r1; Extracting vectors: 1; Loading vectors 1_r1; Extracting vectors: 2; Loading vectors 2_r1; Extracting vectors: 3; Loading vectors 3_r1; Extracting vectors: 4; Loading vectors 4_r1; Extracting vectors: 5; Loading vectors 5_r1; Extracting vectors: 6; Loading vectors 6_r1; Extracting vectors: 7; Loading vectors 7_r1; Extracting vectors: 8; Loading vectors 8_r1; Extracting vectors: 9; Loading vectors 9_r1; Fitting model; [15:45:13] WARNING: ../src/learner.cc:1095: Starting in XGBoost 1.3.0, the default evaluation metric used with the objective 'binary:logistic' was changed from 'error' to 'logloss'. Explicitly set eval_metric if you'd like to restore the old behavior.\n",
      "Predicting proba; Extracting vectors: 0; Loading vectors 0_r1; Extracting vectors: 1; Loading vectors 1_r1; Extracting vectors: 2; Loading vectors 2_r1; Extracting vectors: 3; Loading vectors 3_r1; Extracting vectors: 4; Loading vectors 4_r1; Extracting vectors: 5; Loading vectors 5_r1; Extracting vectors: 6; Loading vectors 6_r1; Extracting vectors: 7; Loading vectors 7_r1; Extracting vectors: 8; Loading vectors 8_r1; Extracting vectors: 9; Loading vectors 9_r1; "
     ]
    }
   ],
   "source": [
    "training_set_fractions = [0.004, 0.002, 0.001]\n",
    "training_set_sizes = [400_000]\n",
    "\n",
    "percentile = 0.3\n",
    "\n",
    "df = pd.DataFrame(columns=['Algorithm', 'Training size', 'N ligands explored', '% top-k found'])\n",
    "count = 0\n",
    "\n",
    "for i in range(3):\n",
    "    idx = np.arange(scores.shape[0])\n",
    "    np.random.shuffle(idx)\n",
    "\n",
    "    for size in training_set_sizes:\n",
    "#     for fraction in training_set_fractions:\n",
    "#         size = int(len(scores) * fraction)\n",
    "        \n",
    "        # split indices into train and test:\n",
    "        train_indices = idx[:size].copy()\n",
    "        test_indices = idx[size:].copy()\n",
    "        train_indices.sort()\n",
    "        test_indices.sort()\n",
    "\n",
    "        # generate a 'is a training instance' mask. \n",
    "        is_train = np.zeros(scores.shape[0]).astype(bool)\n",
    "        is_train[train_indices] = True\n",
    "\n",
    "        # top_k molecules already found in the training set:\n",
    "        num_found = top_k[train_indices].sum()\n",
    "\n",
    "        df.loc[count] = [\"morgan_feat\", size, train_indices.shape[0], num_found/total]\n",
    "        count += 1\n",
    "        print(f\"Iteration: {count}, Found {num_found} top k ligands\")\n",
    "\n",
    "        # estimate the cutoff once, from the initial random sample:\n",
    "        cutoff = np.percentile(scores[train_indices], percentile)\n",
    "\n",
    "        for i in range(5):\n",
    "            # fit logreg model:\n",
    "            x_train = build_train(indptr, is_train)\n",
    "            y_train = scores[is_train] < cutoff\n",
    "            \n",
    "            print(\"Fitting model\", end=\"; \", flush=True)\n",
    "            model.fit(x_train, y_train)\n",
    "\n",
    "            # predict (slowest step) for logreg:\n",
    "            proba = chunk_predict_proba(model, indptr, is_train)\n",
    "\n",
    "            # rank the probabilities\n",
    "            proba_sorted = (-proba).argsort()\n",
    "\n",
    "            # rank the unseen instances:\n",
    "            test_indices = test_indices[proba_sorted]\n",
    "\n",
    "            # now append the next N instances from the rank ordered unseen instances onto the training set:\n",
    "            train_indices = np.concatenate([train_indices, test_indices[:size]])\n",
    "\n",
    "            # update the isTrain mask and remove those training instances from the test set\n",
    "            is_train[train_indices] = True\n",
    "            test_indices = test_indices[size:]\n",
    "\n",
    "            # keep the train and test idx arrays sorted so they agree with the chunked* methods:\n",
    "            test_indices.sort()\n",
    "            train_indices.sort()\n",
    "\n",
    "            # topK molecules already found in the training set:\n",
    "            num_found = top_k[train_indices].sum()\n",
    "\n",
    "            df.loc[count] = ['morgan_feat', size, train_indices.shape[0], num_found/total]\n",
    "            count += 1\n",
    "            \n",
    "            print(f\"\\nIteration: {count}, Found {num_found} top k ligands\")\n",
    "            \n",
    "            df.to_csv(f\"{DATA_DIR}/{OUTPUT_RESULTS_FILE}\")\n",
    "\n",
    "df.to_csv(f\"{DATA_DIR}/{OUTPUT_RESULTS_FILE}\")"
   ]
  },
  {
   "cell_type": "markdown",
   "metadata": {},
   "source": [
    "# Results look like this:\n",
    "And they can be plotted using `./plot_scripts/plot_wholedataset.py`"
   ]
  },
  {
   "cell_type": "code",
   "execution_count": 28,
   "metadata": {},
   "outputs": [],
   "source": [
    "df0 = pd.read_csv('../processed_data/ampc_reconstruction_0.3_1_.csv', index_col=0)\n",
    "df0['Algorithm'] = 'AmpC:LogReg (lewis)'"
   ]
  },
  {
   "cell_type": "code",
   "execution_count": 29,
   "metadata": {},
   "outputs": [],
   "source": [
    "df1 = pd.read_csv(f\"{DATA_DIR}/{RECEPTOR}_embedding_results_r1.csv\", index_col=0)\n",
    "df1['Algorithm'] = 'AmpC:LogReg (embeddings)'"
   ]
  },
  {
   "cell_type": "code",
   "execution_count": 30,
   "metadata": {},
   "outputs": [],
   "source": [
    "df2 = pd.read_csv(f\"{DATA_DIR}/{RECEPTOR}_embedding_results_r1_xgb.csv\", index_col=0)\n",
    "df2['Algorithm'] = 'AmpC:LogReg (embeddings, xgb)'"
   ]
  },
  {
   "cell_type": "code",
   "execution_count": 31,
   "metadata": {},
   "outputs": [],
   "source": [
    "df3 = pd.read_csv(f\"{DATA_DIR}/{RECEPTOR}_results_xgb.csv\", index_col=0)\n",
    "df3['Algorithm'] = 'AmpC:LogReg (fps, xgb)'"
   ]
  },
  {
   "cell_type": "code",
   "execution_count": 32,
   "metadata": {},
   "outputs": [],
   "source": [
    "df4 = pd.read_csv(f\"{DATA_DIR}/{RECEPTOR}_results.csv\", index_col=0)\n",
    "df4['Algorithm'] = 'AmpC:LogReg (fps)'\n",
    "df4.loc[df4[\"Training size\"] == 384_856, \"Training size\"] = 400_000 \n",
    "df4.loc[df4[\"Training size\"] == 192_428, \"Training size\"] = 200_000\n",
    "df4.loc[df4[\"Training size\"] == 96_214, \"Training size\"] = 100_000 "
   ]
  },
  {
   "cell_type": "code",
   "execution_count": 33,
   "metadata": {},
   "outputs": [],
   "source": [
    "df = pd.concat([df0, df1, df2, df3, df4])"
   ]
  },
  {
   "cell_type": "code",
   "execution_count": 34,
   "metadata": {},
   "outputs": [],
   "source": [
    "prev_results = [['AmpC:RF (Graff)', 400_000, 71.4, 2.1], \n",
    "                ['AmpC:NN (Graff)', 400_000, 74.7, 1.4],\n",
    "                ['AmpC:MPN (Graff)',400_000, 87.9, 2.3],\n",
    "                ['AmpC:RF (Graff)', 200_000, 45.5, 1.8],\n",
    "                ['AmpC:NN (Graff)', 200_000, 52.8, 0.5],\n",
    "                ['AmpC:MPN (Graff)', 200_000, 67.1, 2.1],\n",
    "                ['AmpC:RF (Graff)', 100_000, 24.0, 2.2],\n",
    "                ['AmpC:NN (Graff)', 100_000 , 33.3,0.3],\n",
    "                ['AmpC:MPN (Graff)', 100_000, 52.0, 0.5]]\n",
    "\n",
    "coley = pd.DataFrame(columns=['Algorithm', 'Training size', 'N ligands explored', '% top-k found'])\n",
    "count = 0 \n",
    "for res in prev_results:\n",
    "    desired_std_dev = res[3]\n",
    "    samples = np.array([-1,0,1]).astype(float)\n",
    "    samples *= (desired_std_dev/np.std(samples))\n",
    "    for s in samples:\n",
    "        coley.loc[count] = [res[0], res[1], res[1]*6, (s+res[2])/100]\n",
    "        count += 1"
   ]
  },
  {
   "cell_type": "code",
   "execution_count": 35,
   "metadata": {},
   "outputs": [],
   "source": [
    "concat = pd.concat([df, coley])\n",
    "concat['% top-k found'] *= 100\n",
    "concat.columns = ['Algorithm', 'Training set size', 'N ligands explored', '% top-k found']\n",
    "concat['Training set size'] = concat['Training set size'].apply(lambda num: f\"{num:,d}\",)\n",
    "concat['Computation days (single CPU)'] = concat['N ligands explored'] / 60 / 60 /24"
   ]
  },
  {
   "cell_type": "code",
   "execution_count": 36,
   "metadata": {},
   "outputs": [],
   "source": [
    "error_bars = alt.Chart(concat).mark_errorbar(extent='ci').encode(\n",
    "  x=alt.X('N ligands explored:Q',title='Number of ligands sampled'),\n",
    "  y=alt.Y('% top-k found:Q', title='% top 50,000 found'),\n",
    "    color=alt.Color('Algorithm')\n",
    ")\n",
    "\n",
    "points = alt.Chart(concat).mark_point(filled=False, size=40, color='black').encode(\n",
    "  x=alt.X('N ligands explored:Q'),\n",
    "  y=alt.Y('% top-k found:Q',aggregate='mean',title='% top 50,000 found'),\n",
    "    color=alt.Color('Algorithm'),\n",
    "    tooltip=alt.Tooltip('% top-k found:Q',aggregate='mean',title='% top 50,000 found')\n",
    ")\n",
    "\n",
    "line = alt.Chart(concat).mark_line(color='black',size=2,opacity=0.5).encode(\n",
    "  x=alt.X('N ligands explored:Q'),\n",
    "  y=alt.Y('% top-k found:Q',aggregate='mean',title='% top 50,000 found'),\n",
    "    color=alt.Color('Algorithm')\n",
    ")\n",
    "\n",
    "ch = (error_bars+points+line).properties(height=300,width=150).facet(\n",
    "    column=alt.Column('Training set size:N',sort=alt.Sort([0.004, 0.002, 0.001])),\n",
    ").resolve_scale(x='independent')\n",
    "# ch.save('../../figures/active_learning_percentage.html')"
   ]
  },
  {
   "cell_type": "code",
   "execution_count": 37,
   "metadata": {},
   "outputs": [
    {
     "data": {
      "text/html": [
       "\n",
       "<div id=\"altair-viz-4f37e28c5b85472a844de8b9ad05f3c7\"></div>\n",
       "<script type=\"text/javascript\">\n",
       "  (function(spec, embedOpt){\n",
       "    let outputDiv = document.currentScript.previousElementSibling;\n",
       "    if (outputDiv.id !== \"altair-viz-4f37e28c5b85472a844de8b9ad05f3c7\") {\n",
       "      outputDiv = document.getElementById(\"altair-viz-4f37e28c5b85472a844de8b9ad05f3c7\");\n",
       "    }\n",
       "    const paths = {\n",
       "      \"vega\": \"https://cdn.jsdelivr.net/npm//vega@5?noext\",\n",
       "      \"vega-lib\": \"https://cdn.jsdelivr.net/npm//vega-lib?noext\",\n",
       "      \"vega-lite\": \"https://cdn.jsdelivr.net/npm//vega-lite@4.8.1?noext\",\n",
       "      \"vega-embed\": \"https://cdn.jsdelivr.net/npm//vega-embed@6?noext\",\n",
       "    };\n",
       "\n",
       "    function loadScript(lib) {\n",
       "      return new Promise(function(resolve, reject) {\n",
       "        var s = document.createElement('script');\n",
       "        s.src = paths[lib];\n",
       "        s.async = true;\n",
       "        s.onload = () => resolve(paths[lib]);\n",
       "        s.onerror = () => reject(`Error loading script: ${paths[lib]}`);\n",
       "        document.getElementsByTagName(\"head\")[0].appendChild(s);\n",
       "      });\n",
       "    }\n",
       "\n",
       "    function showError(err) {\n",
       "      outputDiv.innerHTML = `<div class=\"error\" style=\"color:red;\">${err}</div>`;\n",
       "      throw err;\n",
       "    }\n",
       "\n",
       "    function displayChart(vegaEmbed) {\n",
       "      vegaEmbed(outputDiv, spec, embedOpt)\n",
       "        .catch(err => showError(`Javascript Error: ${err.message}<br>This usually means there's a typo in your chart specification. See the javascript console for the full traceback.`));\n",
       "    }\n",
       "\n",
       "    if(typeof define === \"function\" && define.amd) {\n",
       "      requirejs.config({paths});\n",
       "      require([\"vega-embed\"], displayChart, err => showError(`Error loading script: ${err.message}`));\n",
       "    } else if (typeof vegaEmbed === \"function\") {\n",
       "      displayChart(vegaEmbed);\n",
       "    } else {\n",
       "      loadScript(\"vega\")\n",
       "        .then(() => loadScript(\"vega-lite\"))\n",
       "        .then(() => loadScript(\"vega-embed\"))\n",
       "        .catch(showError)\n",
       "        .then(() => displayChart(vegaEmbed));\n",
       "    }\n",
       "  })({\"config\": {\"view\": {\"continuousWidth\": 400, \"continuousHeight\": 300}}, \"data\": {\"name\": \"data-e42fcd22308615579403fddc69dfc7b7\"}, \"facet\": {\"column\": {\"type\": \"nominal\", \"field\": \"Training set size\", \"sort\": [0.004, 0.002, 0.001]}}, \"spec\": {\"layer\": [{\"mark\": {\"type\": \"errorbar\", \"extent\": \"ci\"}, \"encoding\": {\"color\": {\"type\": \"nominal\", \"field\": \"Algorithm\"}, \"x\": {\"type\": \"quantitative\", \"field\": \"N ligands explored\", \"title\": \"Number of ligands sampled\"}, \"y\": {\"type\": \"quantitative\", \"field\": \"% top-k found\", \"title\": \"% top 50,000 found\"}}}, {\"mark\": {\"type\": \"point\", \"color\": \"black\", \"filled\": false, \"size\": 40}, \"encoding\": {\"color\": {\"type\": \"nominal\", \"field\": \"Algorithm\"}, \"tooltip\": {\"type\": \"quantitative\", \"aggregate\": \"mean\", \"field\": \"% top-k found\", \"title\": \"% top 50,000 found\"}, \"x\": {\"type\": \"quantitative\", \"field\": \"N ligands explored\"}, \"y\": {\"type\": \"quantitative\", \"aggregate\": \"mean\", \"field\": \"% top-k found\", \"title\": \"% top 50,000 found\"}}}, {\"mark\": {\"type\": \"line\", \"color\": \"black\", \"opacity\": 0.5, \"size\": 2}, \"encoding\": {\"color\": {\"type\": \"nominal\", \"field\": \"Algorithm\"}, \"x\": {\"type\": \"quantitative\", \"field\": \"N ligands explored\"}, \"y\": {\"type\": \"quantitative\", \"aggregate\": \"mean\", \"field\": \"% top-k found\", \"title\": \"% top 50,000 found\"}}}], \"height\": 300, \"width\": 150}, \"resolve\": {\"scale\": {\"x\": \"independent\"}}, \"$schema\": \"https://vega.github.io/schema/vega-lite/v4.8.1.json\", \"datasets\": {\"data-e42fcd22308615579403fddc69dfc7b7\": [{\"Algorithm\": \"AmpC:LogReg (lewis)\", \"Training set size\": \"400,000\", \"N ligands explored\": 400000, \"% top-k found\": 0.406, \"Computation days (single CPU)\": 4.62962962962963}, {\"Algorithm\": \"AmpC:LogReg (lewis)\", \"Training set size\": \"400,000\", \"N ligands explored\": 800000, \"% top-k found\": 41.796, \"Computation days (single CPU)\": 9.25925925925926}, {\"Algorithm\": \"AmpC:LogReg (lewis)\", \"Training set size\": \"400,000\", \"N ligands explored\": 1200000, \"% top-k found\": 69.072, \"Computation days (single CPU)\": 13.888888888888888}, {\"Algorithm\": \"AmpC:LogReg (lewis)\", \"Training set size\": \"400,000\", \"N ligands explored\": 1600000, \"% top-k found\": 81.326, \"Computation days (single CPU)\": 18.51851851851852}, {\"Algorithm\": \"AmpC:LogReg (lewis)\", \"Training set size\": \"400,000\", \"N ligands explored\": 2000000, \"% top-k found\": 87.818, \"Computation days (single CPU)\": 23.14814814814815}, {\"Algorithm\": \"AmpC:LogReg (lewis)\", \"Training set size\": \"400,000\", \"N ligands explored\": 2400000, \"% top-k found\": 91.494, \"Computation days (single CPU)\": 27.777777777777775}, {\"Algorithm\": \"AmpC:LogReg (lewis)\", \"Training set size\": \"200,000\", \"N ligands explored\": 200000, \"% top-k found\": 0.2, \"Computation days (single CPU)\": 2.314814814814815}, {\"Algorithm\": \"AmpC:LogReg (lewis)\", \"Training set size\": \"200,000\", \"N ligands explored\": 400000, \"% top-k found\": 22.608, \"Computation days (single CPU)\": 4.62962962962963}, {\"Algorithm\": \"AmpC:LogReg (lewis)\", \"Training set size\": \"200,000\", \"N ligands explored\": 600000, \"% top-k found\": 47.548, \"Computation days (single CPU)\": 6.944444444444444}, {\"Algorithm\": \"AmpC:LogReg (lewis)\", \"Training set size\": \"200,000\", \"N ligands explored\": 800000, \"% top-k found\": 60.672000000000004, \"Computation days (single CPU)\": 9.25925925925926}, {\"Algorithm\": \"AmpC:LogReg (lewis)\", \"Training set size\": \"200,000\", \"N ligands explored\": 1000000, \"% top-k found\": 68.996, \"Computation days (single CPU)\": 11.574074074074074}, {\"Algorithm\": \"AmpC:LogReg (lewis)\", \"Training set size\": \"200,000\", \"N ligands explored\": 1200000, \"% top-k found\": 74.872, \"Computation days (single CPU)\": 13.888888888888888}, {\"Algorithm\": \"AmpC:LogReg (lewis)\", \"Training set size\": \"100,000\", \"N ligands explored\": 100000, \"% top-k found\": 0.098, \"Computation days (single CPU)\": 1.1574074074074074}, {\"Algorithm\": \"AmpC:LogReg (lewis)\", \"Training set size\": \"100,000\", \"N ligands explored\": 200000, \"% top-k found\": 11.544, \"Computation days (single CPU)\": 2.314814814814815}, {\"Algorithm\": \"AmpC:LogReg (lewis)\", \"Training set size\": \"100,000\", \"N ligands explored\": 300000, \"% top-k found\": 27.122, \"Computation days (single CPU)\": 3.472222222222222}, {\"Algorithm\": \"AmpC:LogReg (lewis)\", \"Training set size\": \"100,000\", \"N ligands explored\": 400000, \"% top-k found\": 41.099999999999994, \"Computation days (single CPU)\": 4.62962962962963}, {\"Algorithm\": \"AmpC:LogReg (lewis)\", \"Training set size\": \"100,000\", \"N ligands explored\": 500000, \"% top-k found\": 50.292, \"Computation days (single CPU)\": 5.787037037037037}, {\"Algorithm\": \"AmpC:LogReg (lewis)\", \"Training set size\": \"100,000\", \"N ligands explored\": 600000, \"% top-k found\": 57.05, \"Computation days (single CPU)\": 6.944444444444444}, {\"Algorithm\": \"AmpC:LogReg (lewis)\", \"Training set size\": \"400,000\", \"N ligands explored\": 400000, \"% top-k found\": 0.466, \"Computation days (single CPU)\": 4.62962962962963}, {\"Algorithm\": \"AmpC:LogReg (lewis)\", \"Training set size\": \"400,000\", \"N ligands explored\": 800000, \"% top-k found\": 41.448, \"Computation days (single CPU)\": 9.25925925925926}, {\"Algorithm\": \"AmpC:LogReg (lewis)\", \"Training set size\": \"400,000\", \"N ligands explored\": 1200000, \"% top-k found\": 68.768, \"Computation days (single CPU)\": 13.888888888888888}, {\"Algorithm\": \"AmpC:LogReg (lewis)\", \"Training set size\": \"400,000\", \"N ligands explored\": 1600000, \"% top-k found\": 81.378, \"Computation days (single CPU)\": 18.51851851851852}, {\"Algorithm\": \"AmpC:LogReg (lewis)\", \"Training set size\": \"400,000\", \"N ligands explored\": 2000000, \"% top-k found\": 88.02, \"Computation days (single CPU)\": 23.14814814814815}, {\"Algorithm\": \"AmpC:LogReg (lewis)\", \"Training set size\": \"400,000\", \"N ligands explored\": 2400000, \"% top-k found\": 91.574, \"Computation days (single CPU)\": 27.777777777777775}, {\"Algorithm\": \"AmpC:LogReg (lewis)\", \"Training set size\": \"200,000\", \"N ligands explored\": 200000, \"% top-k found\": 0.246, \"Computation days (single CPU)\": 2.314814814814815}, {\"Algorithm\": \"AmpC:LogReg (lewis)\", \"Training set size\": \"200,000\", \"N ligands explored\": 400000, \"% top-k found\": 22.98, \"Computation days (single CPU)\": 4.62962962962963}, {\"Algorithm\": \"AmpC:LogReg (lewis)\", \"Training set size\": \"200,000\", \"N ligands explored\": 600000, \"% top-k found\": 47.332, \"Computation days (single CPU)\": 6.944444444444444}, {\"Algorithm\": \"AmpC:LogReg (lewis)\", \"Training set size\": \"200,000\", \"N ligands explored\": 800000, \"% top-k found\": 61.464, \"Computation days (single CPU)\": 9.25925925925926}, {\"Algorithm\": \"AmpC:LogReg (lewis)\", \"Training set size\": \"200,000\", \"N ligands explored\": 1000000, \"% top-k found\": 70.18799999999999, \"Computation days (single CPU)\": 11.574074074074074}, {\"Algorithm\": \"AmpC:LogReg (lewis)\", \"Training set size\": \"200,000\", \"N ligands explored\": 1200000, \"% top-k found\": 76.632, \"Computation days (single CPU)\": 13.888888888888888}, {\"Algorithm\": \"AmpC:LogReg (lewis)\", \"Training set size\": \"100,000\", \"N ligands explored\": 100000, \"% top-k found\": 0.13999999999999999, \"Computation days (single CPU)\": 1.1574074074074074}, {\"Algorithm\": \"AmpC:LogReg (lewis)\", \"Training set size\": \"100,000\", \"N ligands explored\": 200000, \"% top-k found\": 11.382, \"Computation days (single CPU)\": 2.314814814814815}, {\"Algorithm\": \"AmpC:LogReg (lewis)\", \"Training set size\": \"100,000\", \"N ligands explored\": 300000, \"% top-k found\": 28.164, \"Computation days (single CPU)\": 3.472222222222222}, {\"Algorithm\": \"AmpC:LogReg (lewis)\", \"Training set size\": \"100,000\", \"N ligands explored\": 400000, \"% top-k found\": 41.388000000000005, \"Computation days (single CPU)\": 4.62962962962963}, {\"Algorithm\": \"AmpC:LogReg (lewis)\", \"Training set size\": \"100,000\", \"N ligands explored\": 500000, \"% top-k found\": 50.205999999999996, \"Computation days (single CPU)\": 5.787037037037037}, {\"Algorithm\": \"AmpC:LogReg (lewis)\", \"Training set size\": \"100,000\", \"N ligands explored\": 600000, \"% top-k found\": 56.448, \"Computation days (single CPU)\": 6.944444444444444}, {\"Algorithm\": \"AmpC:LogReg (lewis)\", \"Training set size\": \"400,000\", \"N ligands explored\": 400000, \"% top-k found\": 0.41000000000000003, \"Computation days (single CPU)\": 4.62962962962963}, {\"Algorithm\": \"AmpC:LogReg (lewis)\", \"Training set size\": \"400,000\", \"N ligands explored\": 800000, \"% top-k found\": 39.648, \"Computation days (single CPU)\": 9.25925925925926}, {\"Algorithm\": \"AmpC:LogReg (lewis)\", \"Training set size\": \"400,000\", \"N ligands explored\": 1200000, \"% top-k found\": 68.978, \"Computation days (single CPU)\": 13.888888888888888}, {\"Algorithm\": \"AmpC:LogReg (lewis)\", \"Training set size\": \"400,000\", \"N ligands explored\": 1600000, \"% top-k found\": 81.364, \"Computation days (single CPU)\": 18.51851851851852}, {\"Algorithm\": \"AmpC:LogReg (lewis)\", \"Training set size\": \"400,000\", \"N ligands explored\": 2000000, \"% top-k found\": 87.888, \"Computation days (single CPU)\": 23.14814814814815}, {\"Algorithm\": \"AmpC:LogReg (lewis)\", \"Training set size\": \"400,000\", \"N ligands explored\": 2400000, \"% top-k found\": 91.678, \"Computation days (single CPU)\": 27.777777777777775}, {\"Algorithm\": \"AmpC:LogReg (lewis)\", \"Training set size\": \"200,000\", \"N ligands explored\": 200000, \"% top-k found\": 0.186, \"Computation days (single CPU)\": 2.314814814814815}, {\"Algorithm\": \"AmpC:LogReg (lewis)\", \"Training set size\": \"200,000\", \"N ligands explored\": 400000, \"% top-k found\": 22.182, \"Computation days (single CPU)\": 4.62962962962963}, {\"Algorithm\": \"AmpC:LogReg (lewis)\", \"Training set size\": \"200,000\", \"N ligands explored\": 600000, \"% top-k found\": 47.355999999999995, \"Computation days (single CPU)\": 6.944444444444444}, {\"Algorithm\": \"AmpC:LogReg (lewis)\", \"Training set size\": \"200,000\", \"N ligands explored\": 800000, \"% top-k found\": 61.224000000000004, \"Computation days (single CPU)\": 9.25925925925926}, {\"Algorithm\": \"AmpC:LogReg (lewis)\", \"Training set size\": \"200,000\", \"N ligands explored\": 1000000, \"% top-k found\": 69.56, \"Computation days (single CPU)\": 11.574074074074074}, {\"Algorithm\": \"AmpC:LogReg (lewis)\", \"Training set size\": \"200,000\", \"N ligands explored\": 1200000, \"% top-k found\": 75.78, \"Computation days (single CPU)\": 13.888888888888888}, {\"Algorithm\": \"AmpC:LogReg (lewis)\", \"Training set size\": \"100,000\", \"N ligands explored\": 100000, \"% top-k found\": 0.092, \"Computation days (single CPU)\": 1.1574074074074074}, {\"Algorithm\": \"AmpC:LogReg (lewis)\", \"Training set size\": \"100,000\", \"N ligands explored\": 200000, \"% top-k found\": 10.498000000000001, \"Computation days (single CPU)\": 2.314814814814815}, {\"Algorithm\": \"AmpC:LogReg (lewis)\", \"Training set size\": \"100,000\", \"N ligands explored\": 300000, \"% top-k found\": 26.669999999999998, \"Computation days (single CPU)\": 3.472222222222222}, {\"Algorithm\": \"AmpC:LogReg (lewis)\", \"Training set size\": \"100,000\", \"N ligands explored\": 400000, \"% top-k found\": 37.897999999999996, \"Computation days (single CPU)\": 4.62962962962963}, {\"Algorithm\": \"AmpC:LogReg (lewis)\", \"Training set size\": \"100,000\", \"N ligands explored\": 500000, \"% top-k found\": 46.760000000000005, \"Computation days (single CPU)\": 5.787037037037037}, {\"Algorithm\": \"AmpC:LogReg (lewis)\", \"Training set size\": \"100,000\", \"N ligands explored\": 600000, \"% top-k found\": 53.776, \"Computation days (single CPU)\": 6.944444444444444}, {\"Algorithm\": \"AmpC:LogReg (embeddings)\", \"Training set size\": \"400,000\", \"N ligands explored\": 400000, \"% top-k found\": 0.418, \"Computation days (single CPU)\": 4.62962962962963}, {\"Algorithm\": \"AmpC:LogReg (embeddings)\", \"Training set size\": \"400,000\", \"N ligands explored\": 800000, \"% top-k found\": 28.977999999999998, \"Computation days (single CPU)\": 9.25925925925926}, {\"Algorithm\": \"AmpC:LogReg (embeddings)\", \"Training set size\": \"400,000\", \"N ligands explored\": 1200000, \"% top-k found\": 42.424, \"Computation days (single CPU)\": 13.888888888888888}, {\"Algorithm\": \"AmpC:LogReg (embeddings)\", \"Training set size\": \"400,000\", \"N ligands explored\": 1600000, \"% top-k found\": 55.779999999999994, \"Computation days (single CPU)\": 18.51851851851852}, {\"Algorithm\": \"AmpC:LogReg (embeddings)\", \"Training set size\": \"400,000\", \"N ligands explored\": 2000000, \"% top-k found\": 64.39200000000001, \"Computation days (single CPU)\": 23.14814814814815}, {\"Algorithm\": \"AmpC:LogReg (embeddings)\", \"Training set size\": \"400,000\", \"N ligands explored\": 2400000, \"% top-k found\": 70.44399999999999, \"Computation days (single CPU)\": 27.777777777777775}, {\"Algorithm\": \"AmpC:LogReg (embeddings)\", \"Training set size\": \"400,000\", \"N ligands explored\": 400000, \"% top-k found\": 0.392, \"Computation days (single CPU)\": 4.62962962962963}, {\"Algorithm\": \"AmpC:LogReg (embeddings)\", \"Training set size\": \"400,000\", \"N ligands explored\": 800000, \"% top-k found\": 28.322000000000003, \"Computation days (single CPU)\": 9.25925925925926}, {\"Algorithm\": \"AmpC:LogReg (embeddings)\", \"Training set size\": \"400,000\", \"N ligands explored\": 1200000, \"% top-k found\": 43.194, \"Computation days (single CPU)\": 13.888888888888888}, {\"Algorithm\": \"AmpC:LogReg (embeddings)\", \"Training set size\": \"400,000\", \"N ligands explored\": 1600000, \"% top-k found\": 56.442, \"Computation days (single CPU)\": 18.51851851851852}, {\"Algorithm\": \"AmpC:LogReg (embeddings)\", \"Training set size\": \"400,000\", \"N ligands explored\": 2000000, \"% top-k found\": 64.95400000000001, \"Computation days (single CPU)\": 23.14814814814815}, {\"Algorithm\": \"AmpC:LogReg (embeddings)\", \"Training set size\": \"400,000\", \"N ligands explored\": 2400000, \"% top-k found\": 70.502, \"Computation days (single CPU)\": 27.777777777777775}, {\"Algorithm\": \"AmpC:LogReg (embeddings)\", \"Training set size\": \"400,000\", \"N ligands explored\": 400000, \"% top-k found\": 0.4, \"Computation days (single CPU)\": 4.62962962962963}, {\"Algorithm\": \"AmpC:LogReg (embeddings)\", \"Training set size\": \"400,000\", \"N ligands explored\": 800000, \"% top-k found\": 30.081999999999997, \"Computation days (single CPU)\": 9.25925925925926}, {\"Algorithm\": \"AmpC:LogReg (embeddings)\", \"Training set size\": \"400,000\", \"N ligands explored\": 1200000, \"% top-k found\": 44.13, \"Computation days (single CPU)\": 13.888888888888888}, {\"Algorithm\": \"AmpC:LogReg (embeddings)\", \"Training set size\": \"400,000\", \"N ligands explored\": 1600000, \"% top-k found\": 56.862, \"Computation days (single CPU)\": 18.51851851851852}, {\"Algorithm\": \"AmpC:LogReg (embeddings)\", \"Training set size\": \"400,000\", \"N ligands explored\": 2000000, \"% top-k found\": 64.60000000000001, \"Computation days (single CPU)\": 23.14814814814815}, {\"Algorithm\": \"AmpC:LogReg (embeddings)\", \"Training set size\": \"400,000\", \"N ligands explored\": 2400000, \"% top-k found\": 70.262, \"Computation days (single CPU)\": 27.777777777777775}, {\"Algorithm\": \"AmpC:LogReg (embeddings, xgb)\", \"Training set size\": \"400,000\", \"N ligands explored\": 400000, \"% top-k found\": 0.428, \"Computation days (single CPU)\": 4.62962962962963}, {\"Algorithm\": \"AmpC:LogReg (embeddings, xgb)\", \"Training set size\": \"400,000\", \"N ligands explored\": 800000, \"% top-k found\": 25.044, \"Computation days (single CPU)\": 9.25925925925926}, {\"Algorithm\": \"AmpC:LogReg (embeddings, xgb)\", \"Training set size\": \"400,000\", \"N ligands explored\": 1200000, \"% top-k found\": 49.884, \"Computation days (single CPU)\": 13.888888888888888}, {\"Algorithm\": \"AmpC:LogReg (embeddings, xgb)\", \"Training set size\": \"400,000\", \"N ligands explored\": 1600000, \"% top-k found\": 64.104, \"Computation days (single CPU)\": 18.51851851851852}, {\"Algorithm\": \"AmpC:LogReg (embeddings, xgb)\", \"Training set size\": \"400,000\", \"N ligands explored\": 2000000, \"% top-k found\": 73.45, \"Computation days (single CPU)\": 23.14814814814815}, {\"Algorithm\": \"AmpC:LogReg (embeddings, xgb)\", \"Training set size\": \"400,000\", \"N ligands explored\": 2400000, \"% top-k found\": 79.386, \"Computation days (single CPU)\": 27.777777777777775}, {\"Algorithm\": \"AmpC:LogReg (embeddings, xgb)\", \"Training set size\": \"400,000\", \"N ligands explored\": 400000, \"% top-k found\": 0.434, \"Computation days (single CPU)\": 4.62962962962963}, {\"Algorithm\": \"AmpC:LogReg (embeddings, xgb)\", \"Training set size\": \"400,000\", \"N ligands explored\": 800000, \"% top-k found\": 24.008, \"Computation days (single CPU)\": 9.25925925925926}, {\"Algorithm\": \"AmpC:LogReg (embeddings, xgb)\", \"Training set size\": \"400,000\", \"N ligands explored\": 1200000, \"% top-k found\": 49.874, \"Computation days (single CPU)\": 13.888888888888888}, {\"Algorithm\": \"AmpC:LogReg (embeddings, xgb)\", \"Training set size\": \"400,000\", \"N ligands explored\": 1600000, \"% top-k found\": 64.30399999999999, \"Computation days (single CPU)\": 18.51851851851852}, {\"Algorithm\": \"AmpC:LogReg (embeddings, xgb)\", \"Training set size\": \"400,000\", \"N ligands explored\": 2000000, \"% top-k found\": 73.894, \"Computation days (single CPU)\": 23.14814814814815}, {\"Algorithm\": \"AmpC:LogReg (embeddings, xgb)\", \"Training set size\": \"400,000\", \"N ligands explored\": 2400000, \"% top-k found\": 80.414, \"Computation days (single CPU)\": 27.777777777777775}, {\"Algorithm\": \"AmpC:LogReg (embeddings, xgb)\", \"Training set size\": \"400,000\", \"N ligands explored\": 400000, \"% top-k found\": 0.378, \"Computation days (single CPU)\": 4.62962962962963}, {\"Algorithm\": \"AmpC:LogReg (embeddings, xgb)\", \"Training set size\": \"400,000\", \"N ligands explored\": 800000, \"% top-k found\": 24.706, \"Computation days (single CPU)\": 9.25925925925926}, {\"Algorithm\": \"AmpC:LogReg (embeddings, xgb)\", \"Training set size\": \"400,000\", \"N ligands explored\": 1200000, \"% top-k found\": 49.448, \"Computation days (single CPU)\": 13.888888888888888}, {\"Algorithm\": \"AmpC:LogReg (embeddings, xgb)\", \"Training set size\": \"400,000\", \"N ligands explored\": 1600000, \"% top-k found\": 64.14800000000001, \"Computation days (single CPU)\": 18.51851851851852}, {\"Algorithm\": \"AmpC:LogReg (embeddings, xgb)\", \"Training set size\": \"400,000\", \"N ligands explored\": 2000000, \"% top-k found\": 73.8, \"Computation days (single CPU)\": 23.14814814814815}, {\"Algorithm\": \"AmpC:LogReg (embeddings, xgb)\", \"Training set size\": \"400,000\", \"N ligands explored\": 2400000, \"% top-k found\": 80.02, \"Computation days (single CPU)\": 27.777777777777775}, {\"Algorithm\": \"AmpC:LogReg (fps, xgb)\", \"Training set size\": \"400,000\", \"N ligands explored\": 400000, \"% top-k found\": 0.406, \"Computation days (single CPU)\": 4.62962962962963}, {\"Algorithm\": \"AmpC:LogReg (fps, xgb)\", \"Training set size\": \"400,000\", \"N ligands explored\": 800000, \"% top-k found\": 42.809999999999995, \"Computation days (single CPU)\": 9.25925925925926}, {\"Algorithm\": \"AmpC:LogReg (fps, xgb)\", \"Training set size\": \"400,000\", \"N ligands explored\": 1200000, \"% top-k found\": 69.108, \"Computation days (single CPU)\": 13.888888888888888}, {\"Algorithm\": \"AmpC:LogReg (fps, xgb)\", \"Training set size\": \"400,000\", \"N ligands explored\": 1600000, \"% top-k found\": 80.884, \"Computation days (single CPU)\": 18.51851851851852}, {\"Algorithm\": \"AmpC:LogReg (fps, xgb)\", \"Training set size\": \"400,000\", \"N ligands explored\": 2000000, \"% top-k found\": 87.664, \"Computation days (single CPU)\": 23.14814814814815}, {\"Algorithm\": \"AmpC:LogReg (fps, xgb)\", \"Training set size\": \"400,000\", \"N ligands explored\": 2400000, \"% top-k found\": 91.57600000000001, \"Computation days (single CPU)\": 27.777777777777775}, {\"Algorithm\": \"AmpC:LogReg (fps, xgb)\", \"Training set size\": \"400,000\", \"N ligands explored\": 400000, \"% top-k found\": 0.416, \"Computation days (single CPU)\": 4.62962962962963}, {\"Algorithm\": \"AmpC:LogReg (fps, xgb)\", \"Training set size\": \"400,000\", \"N ligands explored\": 800000, \"% top-k found\": 42.096000000000004, \"Computation days (single CPU)\": 9.25925925925926}, {\"Algorithm\": \"AmpC:LogReg (fps)\", \"Training set size\": \"400,000\", \"N ligands explored\": 384856, \"% top-k found\": 0.41000000000000003, \"Computation days (single CPU)\": 4.454351851851851}, {\"Algorithm\": \"AmpC:LogReg (fps)\", \"Training set size\": \"400,000\", \"N ligands explored\": 769712, \"% top-k found\": 40.224, \"Computation days (single CPU)\": 8.908703703703702}, {\"Algorithm\": \"AmpC:LogReg (fps)\", \"Training set size\": \"400,000\", \"N ligands explored\": 1154568, \"% top-k found\": 67.974, \"Computation days (single CPU)\": 13.363055555555555}, {\"Algorithm\": \"AmpC:LogReg (fps)\", \"Training set size\": \"400,000\", \"N ligands explored\": 1539424, \"% top-k found\": 80.298, \"Computation days (single CPU)\": 17.817407407407405}, {\"Algorithm\": \"AmpC:LogReg (fps)\", \"Training set size\": \"400,000\", \"N ligands explored\": 1924280, \"% top-k found\": 86.944, \"Computation days (single CPU)\": 22.27175925925926}, {\"Algorithm\": \"AmpC:LogReg (fps)\", \"Training set size\": \"400,000\", \"N ligands explored\": 2309136, \"% top-k found\": 90.884, \"Computation days (single CPU)\": 26.72611111111111}, {\"Algorithm\": \"AmpC:LogReg (fps)\", \"Training set size\": \"200,000\", \"N ligands explored\": 192428, \"% top-k found\": 0.198, \"Computation days (single CPU)\": 2.2271759259259256}, {\"Algorithm\": \"AmpC:LogReg (fps)\", \"Training set size\": \"200,000\", \"N ligands explored\": 384856, \"% top-k found\": 22.43, \"Computation days (single CPU)\": 4.454351851851851}, {\"Algorithm\": \"AmpC:LogReg (fps)\", \"Training set size\": \"200,000\", \"N ligands explored\": 577284, \"% top-k found\": 45.94, \"Computation days (single CPU)\": 6.681527777777777}, {\"Algorithm\": \"AmpC:LogReg (fps)\", \"Training set size\": \"200,000\", \"N ligands explored\": 769712, \"% top-k found\": 60.068, \"Computation days (single CPU)\": 8.908703703703702}, {\"Algorithm\": \"AmpC:LogReg (fps)\", \"Training set size\": \"200,000\", \"N ligands explored\": 962140, \"% top-k found\": 69.382, \"Computation days (single CPU)\": 11.13587962962963}, {\"Algorithm\": \"AmpC:LogReg (fps)\", \"Training set size\": \"200,000\", \"N ligands explored\": 1154568, \"% top-k found\": 75.664, \"Computation days (single CPU)\": 13.363055555555555}, {\"Algorithm\": \"AmpC:LogReg (fps)\", \"Training set size\": \"100,000\", \"N ligands explored\": 96214, \"% top-k found\": 0.098, \"Computation days (single CPU)\": 1.1135879629629628}, {\"Algorithm\": \"AmpC:LogReg (fps)\", \"Training set size\": \"100,000\", \"N ligands explored\": 192428, \"% top-k found\": 11.176, \"Computation days (single CPU)\": 2.2271759259259256}, {\"Algorithm\": \"AmpC:LogReg (fps)\", \"Training set size\": \"100,000\", \"N ligands explored\": 288642, \"% top-k found\": 26.732, \"Computation days (single CPU)\": 3.3407638888888886}, {\"Algorithm\": \"AmpC:LogReg (fps)\", \"Training set size\": \"100,000\", \"N ligands explored\": 384856, \"% top-k found\": 40.355999999999995, \"Computation days (single CPU)\": 4.454351851851851}, {\"Algorithm\": \"AmpC:LogReg (fps)\", \"Training set size\": \"100,000\", \"N ligands explored\": 481070, \"% top-k found\": 49.728, \"Computation days (single CPU)\": 5.567939814814815}, {\"Algorithm\": \"AmpC:LogReg (fps)\", \"Training set size\": \"100,000\", \"N ligands explored\": 577284, \"% top-k found\": 56.426, \"Computation days (single CPU)\": 6.681527777777777}, {\"Algorithm\": \"AmpC:LogReg (fps)\", \"Training set size\": \"400,000\", \"N ligands explored\": 384856, \"% top-k found\": 0.362, \"Computation days (single CPU)\": 4.454351851851851}, {\"Algorithm\": \"AmpC:LogReg (fps)\", \"Training set size\": \"400,000\", \"N ligands explored\": 769712, \"% top-k found\": 38.07, \"Computation days (single CPU)\": 8.908703703703702}, {\"Algorithm\": \"AmpC:LogReg (fps)\", \"Training set size\": \"400,000\", \"N ligands explored\": 1154568, \"% top-k found\": 67.60199999999999, \"Computation days (single CPU)\": 13.363055555555555}, {\"Algorithm\": \"AmpC:LogReg (fps)\", \"Training set size\": \"400,000\", \"N ligands explored\": 1539424, \"% top-k found\": 80.25, \"Computation days (single CPU)\": 17.817407407407405}, {\"Algorithm\": \"AmpC:LogReg (fps)\", \"Training set size\": \"400,000\", \"N ligands explored\": 1924280, \"% top-k found\": 86.954, \"Computation days (single CPU)\": 22.27175925925926}, {\"Algorithm\": \"AmpC:LogReg (fps)\", \"Training set size\": \"400,000\", \"N ligands explored\": 2309136, \"% top-k found\": 90.802, \"Computation days (single CPU)\": 26.72611111111111}, {\"Algorithm\": \"AmpC:LogReg (fps)\", \"Training set size\": \"200,000\", \"N ligands explored\": 192428, \"% top-k found\": 0.192, \"Computation days (single CPU)\": 2.2271759259259256}, {\"Algorithm\": \"AmpC:LogReg (fps)\", \"Training set size\": \"200,000\", \"N ligands explored\": 384856, \"% top-k found\": 20.241999999999997, \"Computation days (single CPU)\": 4.454351851851851}, {\"Algorithm\": \"AmpC:LogReg (fps)\", \"Training set size\": \"200,000\", \"N ligands explored\": 577284, \"% top-k found\": 44.274, \"Computation days (single CPU)\": 6.681527777777777}, {\"Algorithm\": \"AmpC:LogReg (fps)\", \"Training set size\": \"200,000\", \"N ligands explored\": 769712, \"% top-k found\": 59.89, \"Computation days (single CPU)\": 8.908703703703702}, {\"Algorithm\": \"AmpC:LogReg (fps)\", \"Training set size\": \"200,000\", \"N ligands explored\": 962140, \"% top-k found\": 69.664, \"Computation days (single CPU)\": 11.13587962962963}, {\"Algorithm\": \"AmpC:LogReg (fps)\", \"Training set size\": \"200,000\", \"N ligands explored\": 1154568, \"% top-k found\": 76.24600000000001, \"Computation days (single CPU)\": 13.363055555555555}, {\"Algorithm\": \"AmpC:LogReg (fps)\", \"Training set size\": \"100,000\", \"N ligands explored\": 96214, \"% top-k found\": 0.096, \"Computation days (single CPU)\": 1.1135879629629628}, {\"Algorithm\": \"AmpC:LogReg (fps)\", \"Training set size\": \"100,000\", \"N ligands explored\": 192428, \"% top-k found\": 9.766, \"Computation days (single CPU)\": 2.2271759259259256}, {\"Algorithm\": \"AmpC:LogReg (fps)\", \"Training set size\": \"100,000\", \"N ligands explored\": 288642, \"% top-k found\": 25.3, \"Computation days (single CPU)\": 3.3407638888888886}, {\"Algorithm\": \"AmpC:LogReg (fps)\", \"Training set size\": \"100,000\", \"N ligands explored\": 384856, \"% top-k found\": 37.246, \"Computation days (single CPU)\": 4.454351851851851}, {\"Algorithm\": \"AmpC:LogReg (fps)\", \"Training set size\": \"100,000\", \"N ligands explored\": 481070, \"% top-k found\": 46.196, \"Computation days (single CPU)\": 5.567939814814815}, {\"Algorithm\": \"AmpC:LogReg (fps)\", \"Training set size\": \"100,000\", \"N ligands explored\": 577284, \"% top-k found\": 52.624, \"Computation days (single CPU)\": 6.681527777777777}, {\"Algorithm\": \"AmpC:LogReg (fps)\", \"Training set size\": \"400,000\", \"N ligands explored\": 384856, \"% top-k found\": 0.41200000000000003, \"Computation days (single CPU)\": 4.454351851851851}, {\"Algorithm\": \"AmpC:LogReg (fps)\", \"Training set size\": \"400,000\", \"N ligands explored\": 769712, \"% top-k found\": 40.526, \"Computation days (single CPU)\": 8.908703703703702}, {\"Algorithm\": \"AmpC:LogReg (fps)\", \"Training set size\": \"400,000\", \"N ligands explored\": 1154568, \"% top-k found\": 67.808, \"Computation days (single CPU)\": 13.363055555555555}, {\"Algorithm\": \"AmpC:LogReg (fps)\", \"Training set size\": \"400,000\", \"N ligands explored\": 1539424, \"% top-k found\": 80.276, \"Computation days (single CPU)\": 17.817407407407405}, {\"Algorithm\": \"AmpC:LogReg (fps)\", \"Training set size\": \"400,000\", \"N ligands explored\": 1924280, \"% top-k found\": 87.012, \"Computation days (single CPU)\": 22.27175925925926}, {\"Algorithm\": \"AmpC:LogReg (fps)\", \"Training set size\": \"400,000\", \"N ligands explored\": 2309136, \"% top-k found\": 91.026, \"Computation days (single CPU)\": 26.72611111111111}, {\"Algorithm\": \"AmpC:LogReg (fps)\", \"Training set size\": \"200,000\", \"N ligands explored\": 192428, \"% top-k found\": 0.2, \"Computation days (single CPU)\": 2.2271759259259256}, {\"Algorithm\": \"AmpC:LogReg (fps)\", \"Training set size\": \"200,000\", \"N ligands explored\": 384856, \"% top-k found\": 21.854000000000003, \"Computation days (single CPU)\": 4.454351851851851}, {\"Algorithm\": \"AmpC:LogReg (fps)\", \"Training set size\": \"200,000\", \"N ligands explored\": 577284, \"% top-k found\": 46.386, \"Computation days (single CPU)\": 6.681527777777777}, {\"Algorithm\": \"AmpC:LogReg (fps)\", \"Training set size\": \"200,000\", \"N ligands explored\": 769712, \"% top-k found\": 59.864, \"Computation days (single CPU)\": 8.908703703703702}, {\"Algorithm\": \"AmpC:LogReg (fps)\", \"Training set size\": \"200,000\", \"N ligands explored\": 962140, \"% top-k found\": 67.71000000000001, \"Computation days (single CPU)\": 11.13587962962963}, {\"Algorithm\": \"AmpC:LogReg (fps)\", \"Training set size\": \"200,000\", \"N ligands explored\": 1154568, \"% top-k found\": 74.17200000000001, \"Computation days (single CPU)\": 13.363055555555555}, {\"Algorithm\": \"AmpC:LogReg (fps)\", \"Training set size\": \"100,000\", \"N ligands explored\": 96214, \"% top-k found\": 0.094, \"Computation days (single CPU)\": 1.1135879629629628}, {\"Algorithm\": \"AmpC:LogReg (fps)\", \"Training set size\": \"100,000\", \"N ligands explored\": 192428, \"% top-k found\": 10.894, \"Computation days (single CPU)\": 2.2271759259259256}, {\"Algorithm\": \"AmpC:LogReg (fps)\", \"Training set size\": \"100,000\", \"N ligands explored\": 288642, \"% top-k found\": 27.132, \"Computation days (single CPU)\": 3.3407638888888886}, {\"Algorithm\": \"AmpC:LogReg (fps)\", \"Training set size\": \"100,000\", \"N ligands explored\": 384856, \"% top-k found\": 39.592, \"Computation days (single CPU)\": 4.454351851851851}, {\"Algorithm\": \"AmpC:LogReg (fps)\", \"Training set size\": \"100,000\", \"N ligands explored\": 481070, \"% top-k found\": 48.522, \"Computation days (single CPU)\": 5.567939814814815}, {\"Algorithm\": \"AmpC:LogReg (fps)\", \"Training set size\": \"100,000\", \"N ligands explored\": 577284, \"% top-k found\": 55.489999999999995, \"Computation days (single CPU)\": 6.681527777777777}, {\"Algorithm\": \"AmpC:RF (Graff)\", \"Training set size\": \"400,000\", \"N ligands explored\": 2400000, \"% top-k found\": 68.82803577007766, \"Computation days (single CPU)\": 27.777777777777775}, {\"Algorithm\": \"AmpC:RF (Graff)\", \"Training set size\": \"400,000\", \"N ligands explored\": 2400000, \"% top-k found\": 71.4, \"Computation days (single CPU)\": 27.777777777777775}, {\"Algorithm\": \"AmpC:RF (Graff)\", \"Training set size\": \"400,000\", \"N ligands explored\": 2400000, \"% top-k found\": 73.97196422992235, \"Computation days (single CPU)\": 27.777777777777775}, {\"Algorithm\": \"AmpC:NN (Graff)\", \"Training set size\": \"400,000\", \"N ligands explored\": 2400000, \"% top-k found\": 72.98535718005178, \"Computation days (single CPU)\": 27.777777777777775}, {\"Algorithm\": \"AmpC:NN (Graff)\", \"Training set size\": \"400,000\", \"N ligands explored\": 2400000, \"% top-k found\": 74.7, \"Computation days (single CPU)\": 27.777777777777775}, {\"Algorithm\": \"AmpC:NN (Graff)\", \"Training set size\": \"400,000\", \"N ligands explored\": 2400000, \"% top-k found\": 76.41464281994823, \"Computation days (single CPU)\": 27.777777777777775}, {\"Algorithm\": \"AmpC:MPN (Graff)\", \"Training set size\": \"400,000\", \"N ligands explored\": 2400000, \"% top-k found\": 85.08308679579935, \"Computation days (single CPU)\": 27.777777777777775}, {\"Algorithm\": \"AmpC:MPN (Graff)\", \"Training set size\": \"400,000\", \"N ligands explored\": 2400000, \"% top-k found\": 87.9, \"Computation days (single CPU)\": 27.777777777777775}, {\"Algorithm\": \"AmpC:MPN (Graff)\", \"Training set size\": \"400,000\", \"N ligands explored\": 2400000, \"% top-k found\": 90.71691320420067, \"Computation days (single CPU)\": 27.777777777777775}, {\"Algorithm\": \"AmpC:RF (Graff)\", \"Training set size\": \"200,000\", \"N ligands explored\": 1200000, \"% top-k found\": 43.29545923149514, \"Computation days (single CPU)\": 13.888888888888888}, {\"Algorithm\": \"AmpC:RF (Graff)\", \"Training set size\": \"200,000\", \"N ligands explored\": 1200000, \"% top-k found\": 45.5, \"Computation days (single CPU)\": 13.888888888888888}, {\"Algorithm\": \"AmpC:RF (Graff)\", \"Training set size\": \"200,000\", \"N ligands explored\": 1200000, \"% top-k found\": 47.70454076850486, \"Computation days (single CPU)\": 13.888888888888888}, {\"Algorithm\": \"AmpC:NN (Graff)\", \"Training set size\": \"200,000\", \"N ligands explored\": 1200000, \"% top-k found\": 52.187627564304194, \"Computation days (single CPU)\": 13.888888888888888}, {\"Algorithm\": \"AmpC:NN (Graff)\", \"Training set size\": \"200,000\", \"N ligands explored\": 1200000, \"% top-k found\": 52.800000000000004, \"Computation days (single CPU)\": 13.888888888888888}, {\"Algorithm\": \"AmpC:NN (Graff)\", \"Training set size\": \"200,000\", \"N ligands explored\": 1200000, \"% top-k found\": 53.4123724356958, \"Computation days (single CPU)\": 13.888888888888888}, {\"Algorithm\": \"AmpC:MPN (Graff)\", \"Training set size\": \"200,000\", \"N ligands explored\": 1200000, \"% top-k found\": 64.52803577007765, \"Computation days (single CPU)\": 13.888888888888888}, {\"Algorithm\": \"AmpC:MPN (Graff)\", \"Training set size\": \"200,000\", \"N ligands explored\": 1200000, \"% top-k found\": 67.1, \"Computation days (single CPU)\": 13.888888888888888}, {\"Algorithm\": \"AmpC:MPN (Graff)\", \"Training set size\": \"200,000\", \"N ligands explored\": 1200000, \"% top-k found\": 69.67196422992234, \"Computation days (single CPU)\": 13.888888888888888}, {\"Algorithm\": \"AmpC:RF (Graff)\", \"Training set size\": \"100,000\", \"N ligands explored\": 600000, \"% top-k found\": 21.305561282938505, \"Computation days (single CPU)\": 6.944444444444444}, {\"Algorithm\": \"AmpC:RF (Graff)\", \"Training set size\": \"100,000\", \"N ligands explored\": 600000, \"% top-k found\": 24.0, \"Computation days (single CPU)\": 6.944444444444444}, {\"Algorithm\": \"AmpC:RF (Graff)\", \"Training set size\": \"100,000\", \"N ligands explored\": 600000, \"% top-k found\": 26.694438717061498, \"Computation days (single CPU)\": 6.944444444444444}, {\"Algorithm\": \"AmpC:NN (Graff)\", \"Training set size\": \"100,000\", \"N ligands explored\": 600000, \"% top-k found\": 32.93257653858252, \"Computation days (single CPU)\": 6.944444444444444}, {\"Algorithm\": \"AmpC:NN (Graff)\", \"Training set size\": \"100,000\", \"N ligands explored\": 600000, \"% top-k found\": 33.3, \"Computation days (single CPU)\": 6.944444444444444}, {\"Algorithm\": \"AmpC:NN (Graff)\", \"Training set size\": \"100,000\", \"N ligands explored\": 600000, \"% top-k found\": 33.66742346141747, \"Computation days (single CPU)\": 6.944444444444444}, {\"Algorithm\": \"AmpC:MPN (Graff)\", \"Training set size\": \"100,000\", \"N ligands explored\": 600000, \"% top-k found\": 51.3876275643042, \"Computation days (single CPU)\": 6.944444444444444}, {\"Algorithm\": \"AmpC:MPN (Graff)\", \"Training set size\": \"100,000\", \"N ligands explored\": 600000, \"% top-k found\": 52.0, \"Computation days (single CPU)\": 6.944444444444444}, {\"Algorithm\": \"AmpC:MPN (Graff)\", \"Training set size\": \"100,000\", \"N ligands explored\": 600000, \"% top-k found\": 52.6123724356958, \"Computation days (single CPU)\": 6.944444444444444}]}}, {\"mode\": \"vega-lite\"});\n",
       "</script>"
      ],
      "text/plain": [
       "alt.FacetChart(...)"
      ]
     },
     "execution_count": 37,
     "metadata": {},
     "output_type": "execute_result"
    }
   ],
   "source": [
    "ch"
   ]
  },
  {
   "cell_type": "code",
   "execution_count": null,
   "metadata": {},
   "outputs": [],
   "source": []
  }
 ],
 "metadata": {
  "kernelspec": {
   "display_name": "dockop",
   "language": "python",
   "name": "dockop"
  },
  "language_info": {
   "codemirror_mode": {
    "name": "ipython",
    "version": 3
   },
   "file_extension": ".py",
   "mimetype": "text/x-python",
   "name": "python",
   "nbconvert_exporter": "python",
   "pygments_lexer": "ipython3",
   "version": "3.8.10"
  }
 },
 "nbformat": 4,
 "nbformat_minor": 4
}
