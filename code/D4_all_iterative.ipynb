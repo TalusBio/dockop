{
 "cells": [
  {
   "cell_type": "code",
   "execution_count": 1,
   "metadata": {},
   "outputs": [],
   "source": [
    "import numpy as np\n",
    "import matplotlib.pyplot as plt\n",
    "import pandas as pd\n",
    "import tqdm\n",
    "from scipy import sparse"
   ]
  },
  {
   "cell_type": "markdown",
   "metadata": {},
   "source": [
    "# Generate some indices\n",
    "Even the sparse matrices won't fit in memory. So we will have to loop through them when making predictions or sampling random items."
   ]
  },
  {
   "cell_type": "code",
   "execution_count": 2,
   "metadata": {},
   "outputs": [],
   "source": [
    "#count number of items:\n",
    "indptr = [0]\n",
    "\n",
    "for chunkID in range(12):\n",
    "    scores = np.load(f'../processed_data/D4_all{chunkID}.npy')\n",
    "    indptr.append(indptr[-1] + scores.shape[0])\n"
   ]
  },
  {
   "cell_type": "code",
   "execution_count": 3,
   "metadata": {},
   "outputs": [],
   "source": [
    "scores = np.concatenate([np.load(f'../processed_data/D4_all{i}.npy') for i in range(12)])"
   ]
  },
  {
   "cell_type": "markdown",
   "metadata": {},
   "source": [
    "# functions to handle the slabs"
   ]
  },
  {
   "cell_type": "code",
   "execution_count": 4,
   "metadata": {},
   "outputs": [],
   "source": [
    "def extractFPs(chunkID, indptr, isTrain):\n",
    "    fp = sparse.load_npz(f'../processed_data/D4_all{chunkID}.npz')\n",
    "    mask = isTrain[indptr[chunkID]:indptr[chunkID+1]]\n",
    "    return fp[mask]\n",
    "\n",
    "def buildTrain(indptr, isTrain, verbose=0):\n",
    "    if verbose:\n",
    "        print('building training matrix')\n",
    "    fps = sparse.vstack([extractFPs(i, indptr, isTrain) for i in range(12)])\n",
    "    return fps\n",
    "\n",
    "def chunkPredictProba(model, indptr, isTrain, verbose=0):\n",
    "    if verbose:\n",
    "        print('predicting probabilities')\n",
    "    probas = []\n",
    "    for chunkID in range(12):\n",
    "        fps = extractFPs(chunkID, indptr, ~isTrain)\n",
    "        proba = model.predict_proba(fps)[:,1]\n",
    "        probas.append(proba)\n",
    "    return np.concatenate(probas)"
   ]
  },
  {
   "cell_type": "markdown",
   "metadata": {},
   "source": [
    "# Train and RF regressor and Logistic Regression models"
   ]
  },
  {
   "cell_type": "code",
   "execution_count": 5,
   "metadata": {
    "scrolled": true
   },
   "outputs": [],
   "source": [
    "from sklearn.linear_model import LogisticRegression\n",
    "model = LogisticRegression(max_iter=10000, C=1)"
   ]
  },
  {
   "cell_type": "code",
   "execution_count": 6,
   "metadata": {},
   "outputs": [],
   "source": [
    "topK = (scores.argsort().argsort() < (scores.shape[0]*0.0005)) #0.05th percentile.\n",
    "\n",
    "#topK = (scores.argsort().argsort() < 50_000) #~0.05th percentile for AmpC, but not for D4\n",
    "#tot = topK.sum() "
   ]
  },
  {
   "cell_type": "code",
   "execution_count": 1,
   "metadata": {},
   "outputs": [
    {
     "data": {
      "text/plain": [
       "0.05"
      ]
     },
     "execution_count": 1,
     "metadata": {},
     "output_type": "execute_result"
    }
   ],
   "source": [
    "0.0005 * 100"
   ]
  },
  {
   "cell_type": "code",
   "execution_count": 7,
   "metadata": {
    "scrolled": true
   },
   "outputs": [],
   "source": [
    "tot = topK.sum()"
   ]
  },
  {
   "cell_type": "code",
   "execution_count": 8,
   "metadata": {},
   "outputs": [
    {
     "name": "stdout",
     "output_type": "stream",
     "text": [
      "58121\n"
     ]
    }
   ],
   "source": [
    "print(tot)"
   ]
  },
  {
   "cell_type": "markdown",
   "metadata": {},
   "source": [
    "# With Altair, using three repeats:"
   ]
  },
  {
   "cell_type": "code",
   "execution_count": 9,
   "metadata": {
    "scrolled": true
   },
   "outputs": [
    {
     "name": "stdout",
     "output_type": "stream",
     "text": [
      "1 197\n",
      "building training matrix\n",
      "predicting probabilities\n",
      "2 14990\n",
      "building training matrix\n",
      "predicting probabilities\n",
      "3 24587\n",
      "building training matrix\n",
      "predicting probabilities\n",
      "4 31220\n",
      "building training matrix\n",
      "predicting probabilities\n",
      "5 34899\n",
      "building training matrix\n",
      "predicting probabilities\n",
      "6 37686\n",
      "7 111\n",
      "building training matrix\n",
      "predicting probabilities\n",
      "8 9032\n",
      "building training matrix\n",
      "predicting probabilities\n",
      "9 16379\n",
      "building training matrix\n",
      "predicting probabilities\n",
      "10 22244\n",
      "building training matrix\n",
      "predicting probabilities\n",
      "11 26431\n",
      "building training matrix\n",
      "predicting probabilities\n",
      "12 29556\n",
      "13 47\n",
      "building training matrix\n",
      "predicting probabilities\n",
      "14 4577\n",
      "building training matrix\n",
      "predicting probabilities\n",
      "15 9727\n",
      "building training matrix\n",
      "predicting probabilities\n",
      "16 14522\n",
      "building training matrix\n",
      "predicting probabilities\n",
      "17 18300\n",
      "building training matrix\n",
      "predicting probabilities\n",
      "18 21242\n",
      "19 215\n",
      "building training matrix\n",
      "predicting probabilities\n",
      "20 14618\n",
      "building training matrix\n",
      "predicting probabilities\n",
      "21 24103\n",
      "building training matrix\n",
      "predicting probabilities\n",
      "22 30439\n",
      "building training matrix\n",
      "predicting probabilities\n",
      "23 34619\n",
      "building training matrix\n",
      "predicting probabilities\n",
      "24 37438\n",
      "25 119\n",
      "building training matrix\n",
      "predicting probabilities\n",
      "26 7594\n",
      "building training matrix\n",
      "predicting probabilities\n",
      "27 15713\n",
      "building training matrix\n",
      "predicting probabilities\n",
      "28 21635\n",
      "building training matrix\n",
      "predicting probabilities\n",
      "29 25894\n",
      "building training matrix\n",
      "predicting probabilities\n",
      "30 29267\n",
      "31 59\n",
      "building training matrix\n",
      "predicting probabilities\n",
      "32 3309\n",
      "building training matrix\n",
      "predicting probabilities\n",
      "33 9382\n",
      "building training matrix\n",
      "predicting probabilities\n",
      "34 14184\n",
      "building training matrix\n",
      "predicting probabilities\n",
      "35 17818\n",
      "building training matrix\n",
      "predicting probabilities\n",
      "36 20858\n",
      "37 201\n",
      "building training matrix\n",
      "predicting probabilities\n",
      "38 15286\n",
      "building training matrix\n",
      "predicting probabilities\n",
      "39 25026\n",
      "building training matrix\n",
      "predicting probabilities\n",
      "40 31341\n",
      "building training matrix\n",
      "predicting probabilities\n",
      "41 35175\n",
      "building training matrix\n",
      "predicting probabilities\n",
      "42 37876\n",
      "43 112\n",
      "building training matrix\n",
      "predicting probabilities\n",
      "44 8334\n",
      "building training matrix\n",
      "predicting probabilities\n",
      "45 16813\n",
      "building training matrix\n",
      "predicting probabilities\n",
      "46 23055\n",
      "building training matrix\n",
      "predicting probabilities\n",
      "47 27006\n",
      "building training matrix\n",
      "predicting probabilities\n",
      "48 29911\n",
      "49 55\n",
      "building training matrix\n",
      "predicting probabilities\n",
      "50 3867\n",
      "building training matrix\n",
      "predicting probabilities\n",
      "51 9693\n",
      "building training matrix\n",
      "predicting probabilities\n",
      "52 14881\n",
      "building training matrix\n",
      "predicting probabilities\n",
      "53 18945\n",
      "building training matrix\n",
      "predicting probabilities\n",
      "54 21718\n"
     ]
    }
   ],
   "source": [
    "\n",
    "trainingSetSizes=[400_000, 200_000, 100_000]\n",
    "#for percentile in [0.05, 0.1, 0.25, 0.5, 0.75, 1 ]:\n",
    "for percentile in [0.3]:\n",
    "    \n",
    "    df = pd.DataFrame(columns=['Algorithm', 'Training size', 'N ligands explored', '% top-k found'])\n",
    "    count=0\n",
    "    \n",
    "    for i in range(3):\n",
    "        idx = np.arange(scores.shape[0])\n",
    "        np.random.shuffle(idx)\n",
    "\n",
    "        for size in trainingSetSizes:\n",
    "            #split indices into train and test:\n",
    "            train = idx[:size].copy()\n",
    "            test = idx[size:].copy()\n",
    "            train.sort()\n",
    "            test.sort()\n",
    "    \n",
    "            #generate a 'is a training instance' mask. \n",
    "            isTrain = np.zeros(scores.shape[0]).astype(bool)\n",
    "            isTrain[train]=True\n",
    "    \n",
    "            #topK molecules already found in the training set:\n",
    "            numFound = topK[train].sum()\n",
    "        \n",
    "            df.loc[count] = ['morgan_feat', size, train.shape[0], numFound/tot]\n",
    "            count+=1\n",
    "            print(count, numFound)\n",
    "            \n",
    "            #estimate the cutoff once, from the initial random sample:\n",
    "            cutoff = np.percentile(scores[train], percentile)\n",
    "    \n",
    "            for i in range(5):\n",
    "                \n",
    "                #fit model:\n",
    "                model.fit(buildTrain(indptr, isTrain, 1), scores[isTrain]<cutoff)\n",
    "    \n",
    "                #predict (slowest step):\n",
    "                proba = chunkPredictProba(model, indptr, isTrain, 1)\n",
    "    \n",
    "                #rank the probabilities\n",
    "                proba_sorted = (-proba).argsort()\n",
    "        \n",
    "                #rank the unseen instances:\n",
    "                test = test[proba_sorted]\n",
    "\n",
    "                #now append the next N instances from the rank ordered unseen instances onto the training set:\n",
    "                train = np.concatenate([train, test[:size]])\n",
    "        \n",
    "                #update the isTrain mask:\n",
    "                isTrain[train]=True\n",
    "        \n",
    "                #now remove those training instances from the test set:\n",
    "                test = test[size:]\n",
    "\n",
    "                #keep the train and test idx arrays sorted so they agree with the chunked* methods:\n",
    "                test.sort()\n",
    "                train.sort()\n",
    "        \n",
    "                #topK molecules already found in the training set:\n",
    "                numFound = topK[train].sum()\n",
    "            \n",
    "                df.loc[count] = ['morgan_feat', size, train.shape[0], numFound/tot]\n",
    "                count+=1\n",
    "                print(count, numFound)\n",
    "                df.to_csv('../processed_data/D4_reconstruction_'+str(percentile)+'_1_.csv')\n",
    "                \n",
    "    df.to_csv('../processed_data/D4_reconstruction_'+str(percentile)+'_1_.csv')"
   ]
  },
  {
   "cell_type": "markdown",
   "metadata": {},
   "source": [
    "# Plot"
   ]
  },
  {
   "cell_type": "code",
   "execution_count": 10,
   "metadata": {},
   "outputs": [],
   "source": [
    "import altair as alt\n",
    "import pandas as pd\n",
    "import numpy as np"
   ]
  },
  {
   "cell_type": "code",
   "execution_count": 11,
   "metadata": {},
   "outputs": [],
   "source": [
    "#df = pd.read_csv('../processed_data/ampc_reconstruction_0.1.csv')\n",
    "#df = pd.read_csv('../processed_data/ampc_reconstruction_0.125.csv')\n",
    "#df = pd.read_csv('../processed_data/ampc_reconstruction_0.15.csv')\n",
    "#df = pd.read_csv('../processed_data/ampc_reconstruction_0.175.csv')\n"
   ]
  },
  {
   "cell_type": "code",
   "execution_count": 12,
   "metadata": {},
   "outputs": [],
   "source": [
    "prev_results = [['RF (Coley)', 400_000, 71.4, 2.1], ['NN (Coley)', 400_000, 74.7, 1.4],\n",
    "                ['MPN (Coley)',400_000, 87.9, 2.3],\n",
    "    ['RF (Coley)', 200_000, 45.5, 1.8],\n",
    "['NN (Coley)', 200_000, 52.8, 0.5],\n",
    "['MPN (Coley)', 200_000, 67.1, 2.1],\n",
    "['RF (Coley)', 100_000, 24.0, 2.2],\n",
    "['NN (Coley)', 100_000 , 33.3,0.3],\n",
    "['MPN (Coley)', 100_000, 52.0, 0.5]]\n"
   ]
  },
  {
   "cell_type": "code",
   "execution_count": 13,
   "metadata": {},
   "outputs": [],
   "source": [
    "\n",
    "\n",
    "coley = pd.DataFrame(columns=['Algorithm', 'Training size', 'N ligands explored', '% top-k found'])\n",
    "count = 0 \n",
    "for res in prev_results:\n",
    "    \n",
    "    desired_std_dev = res[3]\n",
    "    samples = np.array([-1,0,1]).astype(float)\n",
    "    samples *= (desired_std_dev/np.std(samples))\n",
    "    for s in samples:\n",
    "        coley.loc[count]= [res[0], res[1], res[1]*6, (s+res[2])/100]\n",
    "        count+=1"
   ]
  },
  {
   "cell_type": "code",
   "execution_count": 14,
   "metadata": {},
   "outputs": [],
   "source": [
    "concat = pd.concat([df, coley])"
   ]
  },
  {
   "cell_type": "code",
   "execution_count": 15,
   "metadata": {
    "scrolled": true
   },
   "outputs": [
    {
     "data": {
      "text/html": [
       "\n",
       "<div id=\"altair-viz-4360fc4497f14a2da1f62f00d0d47924\"></div>\n",
       "<script type=\"text/javascript\">\n",
       "  (function(spec, embedOpt){\n",
       "    let outputDiv = document.currentScript.previousElementSibling;\n",
       "    if (outputDiv.id !== \"altair-viz-4360fc4497f14a2da1f62f00d0d47924\") {\n",
       "      outputDiv = document.getElementById(\"altair-viz-4360fc4497f14a2da1f62f00d0d47924\");\n",
       "    }\n",
       "    const paths = {\n",
       "      \"vega\": \"https://cdn.jsdelivr.net/npm//vega@5?noext\",\n",
       "      \"vega-lib\": \"https://cdn.jsdelivr.net/npm//vega-lib?noext\",\n",
       "      \"vega-lite\": \"https://cdn.jsdelivr.net/npm//vega-lite@4.8.1?noext\",\n",
       "      \"vega-embed\": \"https://cdn.jsdelivr.net/npm//vega-embed@6?noext\",\n",
       "    };\n",
       "\n",
       "    function loadScript(lib) {\n",
       "      return new Promise(function(resolve, reject) {\n",
       "        var s = document.createElement('script');\n",
       "        s.src = paths[lib];\n",
       "        s.async = true;\n",
       "        s.onload = () => resolve(paths[lib]);\n",
       "        s.onerror = () => reject(`Error loading script: ${paths[lib]}`);\n",
       "        document.getElementsByTagName(\"head\")[0].appendChild(s);\n",
       "      });\n",
       "    }\n",
       "\n",
       "    function showError(err) {\n",
       "      outputDiv.innerHTML = `<div class=\"error\" style=\"color:red;\">${err}</div>`;\n",
       "      throw err;\n",
       "    }\n",
       "\n",
       "    function displayChart(vegaEmbed) {\n",
       "      vegaEmbed(outputDiv, spec, embedOpt)\n",
       "        .catch(err => showError(`Javascript Error: ${err.message}<br>This usually means there's a typo in your chart specification. See the javascript console for the full traceback.`));\n",
       "    }\n",
       "\n",
       "    if(typeof define === \"function\" && define.amd) {\n",
       "      requirejs.config({paths});\n",
       "      require([\"vega-embed\"], displayChart, err => showError(`Error loading script: ${err.message}`));\n",
       "    } else if (typeof vegaEmbed === \"function\") {\n",
       "      displayChart(vegaEmbed);\n",
       "    } else {\n",
       "      loadScript(\"vega\")\n",
       "        .then(() => loadScript(\"vega-lite\"))\n",
       "        .then(() => loadScript(\"vega-embed\"))\n",
       "        .catch(showError)\n",
       "        .then(() => displayChart(vegaEmbed));\n",
       "    }\n",
       "  })({\"config\": {\"view\": {\"continuousWidth\": 400, \"continuousHeight\": 300}}, \"data\": {\"name\": \"data-6c096c61f669d0417302bd226997fdb9\"}, \"facet\": {\"column\": {\"type\": \"nominal\", \"field\": \"Training size\", \"sort\": [0.004, 0.002, 0.001]}}, \"spec\": {\"layer\": [{\"mark\": {\"type\": \"errorbar\", \"extent\": \"ci\"}, \"encoding\": {\"color\": {\"type\": \"nominal\", \"field\": \"Algorithm\"}, \"x\": {\"type\": \"quantitative\", \"field\": \"N ligands explored\", \"title\": \"Number of ligands sampled\"}, \"y\": {\"type\": \"quantitative\", \"field\": \"% top-k found\", \"title\": \"% top 50,000 found\"}}}, {\"mark\": {\"type\": \"point\", \"color\": \"black\", \"filled\": true}, \"encoding\": {\"color\": {\"type\": \"nominal\", \"field\": \"Algorithm\"}, \"x\": {\"type\": \"quantitative\", \"field\": \"N ligands explored\"}, \"y\": {\"type\": \"quantitative\", \"aggregate\": \"mean\", \"field\": \"% top-k found\", \"title\": \"% top 50,000 found\"}}}, {\"mark\": {\"type\": \"line\", \"color\": \"black\", \"opacity\": 0.5, \"size\": 1}, \"encoding\": {\"color\": {\"type\": \"nominal\", \"field\": \"Algorithm\"}, \"x\": {\"type\": \"quantitative\", \"field\": \"N ligands explored\"}, \"y\": {\"type\": \"quantitative\", \"aggregate\": \"mean\", \"field\": \"% top-k found\", \"title\": \"% top 50,000 found\"}}}], \"height\": 400, \"width\": 200}, \"resolve\": {\"scale\": {\"x\": \"independent\"}}, \"$schema\": \"https://vega.github.io/schema/vega-lite/v4.8.1.json\", \"datasets\": {\"data-6c096c61f669d0417302bd226997fdb9\": [{\"Algorithm\": \"morgan_feat\", \"Training size\": 400000, \"N ligands explored\": 400000, \"% top-k found\": 0.00338948056640457}, {\"Algorithm\": \"morgan_feat\", \"Training size\": 400000, \"N ligands explored\": 800000, \"% top-k found\": 0.25791022177870304}, {\"Algorithm\": \"morgan_feat\", \"Training size\": 400000, \"N ligands explored\": 1200000, \"% top-k found\": 0.4230312623664424}, {\"Algorithm\": \"morgan_feat\", \"Training size\": 400000, \"N ligands explored\": 1600000, \"% top-k found\": 0.5371552450921354}, {\"Algorithm\": \"morgan_feat\", \"Training size\": 400000, \"N ligands explored\": 2000000, \"% top-k found\": 0.6004542248068684}, {\"Algorithm\": \"morgan_feat\", \"Training size\": 400000, \"N ligands explored\": 2400000, \"% top-k found\": 0.6484059118046833}, {\"Algorithm\": \"morgan_feat\", \"Training size\": 200000, \"N ligands explored\": 200000, \"% top-k found\": 0.0019098088470604429}, {\"Algorithm\": \"morgan_feat\", \"Training size\": 200000, \"N ligands explored\": 400000, \"% top-k found\": 0.15539994150135064}, {\"Algorithm\": \"morgan_feat\", \"Training size\": 200000, \"N ligands explored\": 600000, \"% top-k found\": 0.2818086405946216}, {\"Algorithm\": \"morgan_feat\", \"Training size\": 200000, \"N ligands explored\": 800000, \"% top-k found\": 0.3827188107568693}, {\"Algorithm\": \"morgan_feat\", \"Training size\": 200000, \"N ligands explored\": 1000000, \"% top-k found\": 0.4547581769067979}, {\"Algorithm\": \"morgan_feat\", \"Training size\": 200000, \"N ligands explored\": 1200000, \"% top-k found\": 0.5085253178713374}, {\"Algorithm\": \"morgan_feat\", \"Training size\": 100000, \"N ligands explored\": 100000, \"% top-k found\": 0.000808657800106674}, {\"Algorithm\": \"morgan_feat\", \"Training size\": 100000, \"N ligands explored\": 200000, \"% top-k found\": 0.07874950534230313}, {\"Algorithm\": \"morgan_feat\", \"Training size\": 100000, \"N ligands explored\": 300000, \"% top-k found\": 0.16735775365186423}, {\"Algorithm\": \"morgan_feat\", \"Training size\": 100000, \"N ligands explored\": 400000, \"% top-k found\": 0.2498580547478536}, {\"Algorithm\": \"morgan_feat\", \"Training size\": 100000, \"N ligands explored\": 500000, \"% top-k found\": 0.3148603774883433}, {\"Algorithm\": \"morgan_feat\", \"Training size\": 100000, \"N ligands explored\": 600000, \"% top-k found\": 0.36547891467799937}, {\"Algorithm\": \"morgan_feat\", \"Training size\": 400000, \"N ligands explored\": 400000, \"% top-k found\": 0.0036991792983603173}, {\"Algorithm\": \"morgan_feat\", \"Training size\": 400000, \"N ligands explored\": 800000, \"% top-k found\": 0.2515097813182843}, {\"Algorithm\": \"morgan_feat\", \"Training size\": 400000, \"N ligands explored\": 1200000, \"% top-k found\": 0.41470380757385455}, {\"Algorithm\": \"morgan_feat\", \"Training size\": 400000, \"N ligands explored\": 1600000, \"% top-k found\": 0.5237177612222776}, {\"Algorithm\": \"morgan_feat\", \"Training size\": 400000, \"N ligands explored\": 2000000, \"% top-k found\": 0.5956366889764457}, {\"Algorithm\": \"morgan_feat\", \"Training size\": 400000, \"N ligands explored\": 2400000, \"% top-k found\": 0.6441389514977375}, {\"Algorithm\": \"morgan_feat\", \"Training size\": 200000, \"N ligands explored\": 200000, \"% top-k found\": 0.002047452727929664}, {\"Algorithm\": \"morgan_feat\", \"Training size\": 200000, \"N ligands explored\": 400000, \"% top-k found\": 0.13065845391510814}, {\"Algorithm\": \"morgan_feat\", \"Training size\": 200000, \"N ligands explored\": 600000, \"% top-k found\": 0.2703497875122589}, {\"Algorithm\": \"morgan_feat\", \"Training size\": 200000, \"N ligands explored\": 800000, \"% top-k found\": 0.37224067032569985}, {\"Algorithm\": \"morgan_feat\", \"Training size\": 200000, \"N ligands explored\": 1000000, \"% top-k found\": 0.44551883140345144}, {\"Algorithm\": \"morgan_feat\", \"Training size\": 200000, \"N ligands explored\": 1200000, \"% top-k found\": 0.5035529326749367}, {\"Algorithm\": \"morgan_feat\", \"Training size\": 100000, \"N ligands explored\": 100000, \"% top-k found\": 0.0010151236214105057}, {\"Algorithm\": \"morgan_feat\", \"Training size\": 100000, \"N ligands explored\": 200000, \"% top-k found\": 0.056932950224531584}, {\"Algorithm\": \"morgan_feat\", \"Training size\": 100000, \"N ligands explored\": 300000, \"% top-k found\": 0.16142186128937905}, {\"Algorithm\": \"morgan_feat\", \"Training size\": 100000, \"N ligands explored\": 400000, \"% top-k found\": 0.24404260078112902}, {\"Algorithm\": \"morgan_feat\", \"Training size\": 100000, \"N ligands explored\": 500000, \"% top-k found\": 0.3065673336659727}, {\"Algorithm\": \"morgan_feat\", \"Training size\": 100000, \"N ligands explored\": 600000, \"% top-k found\": 0.35887200839627675}, {\"Algorithm\": \"morgan_feat\", \"Training size\": 400000, \"N ligands explored\": 400000, \"% top-k found\": 0.0034583025068391803}, {\"Algorithm\": \"morgan_feat\", \"Training size\": 400000, \"N ligands explored\": 800000, \"% top-k found\": 0.2630030453708642}, {\"Algorithm\": \"morgan_feat\", \"Training size\": 400000, \"N ligands explored\": 1200000, \"% top-k found\": 0.43058447032914093}, {\"Algorithm\": \"morgan_feat\", \"Training size\": 400000, \"N ligands explored\": 1600000, \"% top-k found\": 0.5392371087902823}, {\"Algorithm\": \"morgan_feat\", \"Training size\": 400000, \"N ligands explored\": 2000000, \"% top-k found\": 0.6052029386968566}, {\"Algorithm\": \"morgan_feat\", \"Training size\": 400000, \"N ligands explored\": 2400000, \"% top-k found\": 0.6516749539753274}, {\"Algorithm\": \"morgan_feat\", \"Training size\": 200000, \"N ligands explored\": 200000, \"% top-k found\": 0.0019270143321690955}, {\"Algorithm\": \"morgan_feat\", \"Training size\": 200000, \"N ligands explored\": 400000, \"% top-k found\": 0.14339051289551108}, {\"Algorithm\": \"morgan_feat\", \"Training size\": 200000, \"N ligands explored\": 600000, \"% top-k found\": 0.2892758211317768}, {\"Algorithm\": \"morgan_feat\", \"Training size\": 200000, \"N ligands explored\": 800000, \"% top-k found\": 0.39667245917998656}, {\"Algorithm\": \"morgan_feat\", \"Training size\": 200000, \"N ligands explored\": 1000000, \"% top-k found\": 0.4646513308442732}, {\"Algorithm\": \"morgan_feat\", \"Training size\": 200000, \"N ligands explored\": 1200000, \"% top-k found\": 0.514633265084909}, {\"Algorithm\": \"morgan_feat\", \"Training size\": 100000, \"N ligands explored\": 100000, \"% top-k found\": 0.0009463016809758951}, {\"Algorithm\": \"morgan_feat\", \"Training size\": 100000, \"N ligands explored\": 200000, \"% top-k found\": 0.06653361091515975}, {\"Algorithm\": \"morgan_feat\", \"Training size\": 100000, \"N ligands explored\": 300000, \"% top-k found\": 0.16677276715817002}, {\"Algorithm\": \"morgan_feat\", \"Training size\": 100000, \"N ligands explored\": 400000, \"% top-k found\": 0.2560348239018599}, {\"Algorithm\": \"morgan_feat\", \"Training size\": 100000, \"N ligands explored\": 500000, \"% top-k found\": 0.3259579153834242}, {\"Algorithm\": \"morgan_feat\", \"Training size\": 100000, \"N ligands explored\": 600000, \"% top-k found\": 0.373668725589718}, {\"Algorithm\": \"RF (Coley)\", \"Training size\": 400000, \"N ligands explored\": 2400000, \"% top-k found\": 0.6882803577007767}, {\"Algorithm\": \"RF (Coley)\", \"Training size\": 400000, \"N ligands explored\": 2400000, \"% top-k found\": 0.7140000000000001}, {\"Algorithm\": \"RF (Coley)\", \"Training size\": 400000, \"N ligands explored\": 2400000, \"% top-k found\": 0.7397196422992235}, {\"Algorithm\": \"NN (Coley)\", \"Training size\": 400000, \"N ligands explored\": 2400000, \"% top-k found\": 0.7298535718005178}, {\"Algorithm\": \"NN (Coley)\", \"Training size\": 400000, \"N ligands explored\": 2400000, \"% top-k found\": 0.747}, {\"Algorithm\": \"NN (Coley)\", \"Training size\": 400000, \"N ligands explored\": 2400000, \"% top-k found\": 0.7641464281994823}, {\"Algorithm\": \"MPN (Coley)\", \"Training size\": 400000, \"N ligands explored\": 2400000, \"% top-k found\": 0.8508308679579935}, {\"Algorithm\": \"MPN (Coley)\", \"Training size\": 400000, \"N ligands explored\": 2400000, \"% top-k found\": 0.879}, {\"Algorithm\": \"MPN (Coley)\", \"Training size\": 400000, \"N ligands explored\": 2400000, \"% top-k found\": 0.9071691320420067}, {\"Algorithm\": \"RF (Coley)\", \"Training size\": 200000, \"N ligands explored\": 1200000, \"% top-k found\": 0.43295459231495137}, {\"Algorithm\": \"RF (Coley)\", \"Training size\": 200000, \"N ligands explored\": 1200000, \"% top-k found\": 0.455}, {\"Algorithm\": \"RF (Coley)\", \"Training size\": 200000, \"N ligands explored\": 1200000, \"% top-k found\": 0.4770454076850486}, {\"Algorithm\": \"NN (Coley)\", \"Training size\": 200000, \"N ligands explored\": 1200000, \"% top-k found\": 0.521876275643042}, {\"Algorithm\": \"NN (Coley)\", \"Training size\": 200000, \"N ligands explored\": 1200000, \"% top-k found\": 0.528}, {\"Algorithm\": \"NN (Coley)\", \"Training size\": 200000, \"N ligands explored\": 1200000, \"% top-k found\": 0.534123724356958}, {\"Algorithm\": \"MPN (Coley)\", \"Training size\": 200000, \"N ligands explored\": 1200000, \"% top-k found\": 0.6452803577007765}, {\"Algorithm\": \"MPN (Coley)\", \"Training size\": 200000, \"N ligands explored\": 1200000, \"% top-k found\": 0.6709999999999999}, {\"Algorithm\": \"MPN (Coley)\", \"Training size\": 200000, \"N ligands explored\": 1200000, \"% top-k found\": 0.6967196422992233}, {\"Algorithm\": \"RF (Coley)\", \"Training size\": 100000, \"N ligands explored\": 600000, \"% top-k found\": 0.21305561282938507}, {\"Algorithm\": \"RF (Coley)\", \"Training size\": 100000, \"N ligands explored\": 600000, \"% top-k found\": 0.24}, {\"Algorithm\": \"RF (Coley)\", \"Training size\": 100000, \"N ligands explored\": 600000, \"% top-k found\": 0.26694438717061497}, {\"Algorithm\": \"NN (Coley)\", \"Training size\": 100000, \"N ligands explored\": 600000, \"% top-k found\": 0.32932576538582525}, {\"Algorithm\": \"NN (Coley)\", \"Training size\": 100000, \"N ligands explored\": 600000, \"% top-k found\": 0.33299999999999996}, {\"Algorithm\": \"NN (Coley)\", \"Training size\": 100000, \"N ligands explored\": 600000, \"% top-k found\": 0.3366742346141747}, {\"Algorithm\": \"MPN (Coley)\", \"Training size\": 100000, \"N ligands explored\": 600000, \"% top-k found\": 0.5138762756430421}, {\"Algorithm\": \"MPN (Coley)\", \"Training size\": 100000, \"N ligands explored\": 600000, \"% top-k found\": 0.52}, {\"Algorithm\": \"MPN (Coley)\", \"Training size\": 100000, \"N ligands explored\": 600000, \"% top-k found\": 0.526123724356958}]}}, {\"mode\": \"vega-lite\"});\n",
       "</script>"
      ],
      "text/plain": [
       "alt.FacetChart(...)"
      ]
     },
     "execution_count": 15,
     "metadata": {},
     "output_type": "execute_result"
    }
   ],
   "source": [
    "error_bars = alt.Chart(concat).mark_errorbar(extent='ci').encode(\n",
    "  x=alt.X('N ligands explored:Q',title='Number of ligands sampled'),\n",
    "  y=alt.Y('% top-k found:Q', title='% top 50,000 found'),\n",
    "    color=alt.Color('Algorithm')\n",
    ")\n",
    "\n",
    "points = alt.Chart(concat).mark_point(filled=True, color='black').encode(\n",
    "  x=alt.X('N ligands explored:Q'),\n",
    "  y=alt.Y('% top-k found:Q',aggregate='mean',title='% top 50,000 found'),\n",
    "    color=alt.Color('Algorithm')\n",
    ")\n",
    "\n",
    "line = alt.Chart(concat).mark_line(color='black',size=1,opacity=0.5).encode(\n",
    "  x=alt.X('N ligands explored:Q'),\n",
    "  y=alt.Y('% top-k found:Q',aggregate='mean',title='% top 50,000 found'),\n",
    "    color=alt.Color('Algorithm')\n",
    ")\n",
    "\n",
    "ch = (error_bars+points+line).properties(height=400,width=200).facet(\n",
    "    column=alt.Column('Training size:N',sort=alt.Sort([0.004, 0.002, 0.001])),\n",
    ").resolve_scale(x='independent')\n",
    "ch\n"
   ]
  },
  {
   "cell_type": "code",
   "execution_count": 106,
   "metadata": {
    "scrolled": true
   },
   "outputs": [],
   "source": [
    "#df.to_csv('../processed_data/ampc_reconstruction.csv')"
   ]
  },
  {
   "cell_type": "code",
   "execution_count": 107,
   "metadata": {},
   "outputs": [],
   "source": [
    "chs = []\n",
    "for frac in [400000, 200000, 100000]:\n",
    "    \n",
    "    df_ = concat[concat['Training size']==frac].replace('morgan_feat', 'Morgan pharm. & Log.reg. (ours)')\n",
    "    error_bars = alt.Chart(df_).mark_errorbar(extent='ci').encode(\n",
    "          x=alt.X('N ligands explored:Q', \n",
    "                  title='Number of ligands sampled',\n",
    "                  scale=alt.Scale(domain=[0,max(df_['N ligands explored'])+10000])),\n",
    "          y=alt.Y('% top-k found:Q',scale=alt.Scale(domain=[0,0.95])),\n",
    "        color=alt.Color('Algorithm')\n",
    "        )\n",
    "\n",
    "    points = alt.Chart(df_).mark_point(filled=True, color='black').encode(\n",
    "          x=alt.X('N ligands explored:Q'),\n",
    "          y=alt.Y('% top-k found:Q',aggregate='mean',scale=alt.Scale(domain=[0,0.95])),\n",
    "        color=alt.Color('Algorithm')\n",
    "        )\n",
    "\n",
    "    line = alt.Chart(df_).mark_line(color='black',size=1,opacity=0.5).encode(\n",
    "          x=alt.X('N ligands explored:Q'),\n",
    "          y=alt.Y('% top-k found:Q',aggregate='mean',scale=alt.Scale(domain=[0,0.95])),\n",
    "        color=alt.Color('Algorithm')\n",
    "        )\n",
    "    ch = (error_bars+points+line).properties(width=200)\n",
    "    ch.title = str(frac / (100*1e6)*100)\n",
    "    chs.append(ch)\n"
   ]
  },
  {
   "cell_type": "code",
   "execution_count": 110,
   "metadata": {},
   "outputs": [],
   "source": [
    "chs[0]\n",
    "sup = chs[0] |  chs[1] | chs[2]\n",
    "sup.save('../figures/ampC_reconstruction.html') #using 0.05"
   ]
  },
  {
   "cell_type": "code",
   "execution_count": 109,
   "metadata": {},
   "outputs": [
    {
     "data": {
      "text/html": [
       "\n",
       "<div id=\"altair-viz-c06589d518d546808370e0ac42e315b8\"></div>\n",
       "<script type=\"text/javascript\">\n",
       "  (function(spec, embedOpt){\n",
       "    let outputDiv = document.currentScript.previousElementSibling;\n",
       "    if (outputDiv.id !== \"altair-viz-c06589d518d546808370e0ac42e315b8\") {\n",
       "      outputDiv = document.getElementById(\"altair-viz-c06589d518d546808370e0ac42e315b8\");\n",
       "    }\n",
       "    const paths = {\n",
       "      \"vega\": \"https://cdn.jsdelivr.net/npm//vega@5?noext\",\n",
       "      \"vega-lib\": \"https://cdn.jsdelivr.net/npm//vega-lib?noext\",\n",
       "      \"vega-lite\": \"https://cdn.jsdelivr.net/npm//vega-lite@4.8.1?noext\",\n",
       "      \"vega-embed\": \"https://cdn.jsdelivr.net/npm//vega-embed@6?noext\",\n",
       "    };\n",
       "\n",
       "    function loadScript(lib) {\n",
       "      return new Promise(function(resolve, reject) {\n",
       "        var s = document.createElement('script');\n",
       "        s.src = paths[lib];\n",
       "        s.async = true;\n",
       "        s.onload = () => resolve(paths[lib]);\n",
       "        s.onerror = () => reject(`Error loading script: ${paths[lib]}`);\n",
       "        document.getElementsByTagName(\"head\")[0].appendChild(s);\n",
       "      });\n",
       "    }\n",
       "\n",
       "    function showError(err) {\n",
       "      outputDiv.innerHTML = `<div class=\"error\" style=\"color:red;\">${err}</div>`;\n",
       "      throw err;\n",
       "    }\n",
       "\n",
       "    function displayChart(vegaEmbed) {\n",
       "      vegaEmbed(outputDiv, spec, embedOpt)\n",
       "        .catch(err => showError(`Javascript Error: ${err.message}<br>This usually means there's a typo in your chart specification. See the javascript console for the full traceback.`));\n",
       "    }\n",
       "\n",
       "    if(typeof define === \"function\" && define.amd) {\n",
       "      requirejs.config({paths});\n",
       "      require([\"vega-embed\"], displayChart, err => showError(`Error loading script: ${err.message}`));\n",
       "    } else if (typeof vegaEmbed === \"function\") {\n",
       "      displayChart(vegaEmbed);\n",
       "    } else {\n",
       "      loadScript(\"vega\")\n",
       "        .then(() => loadScript(\"vega-lite\"))\n",
       "        .then(() => loadScript(\"vega-embed\"))\n",
       "        .catch(showError)\n",
       "        .then(() => displayChart(vegaEmbed));\n",
       "    }\n",
       "  })({\"config\": {\"view\": {\"continuousWidth\": 400, \"continuousHeight\": 300}}, \"layer\": [{\"mark\": {\"type\": \"errorbar\", \"extent\": \"ci\"}, \"encoding\": {\"color\": {\"type\": \"nominal\", \"field\": \"Algorithm\"}, \"x\": {\"type\": \"quantitative\", \"field\": \"N ligands explored\", \"scale\": {\"domain\": [0, 2410000]}, \"title\": \"Number of ligands sampled\"}, \"y\": {\"type\": \"quantitative\", \"field\": \"% top-k found\", \"scale\": {\"domain\": [0, 0.95]}}}}, {\"mark\": {\"type\": \"point\", \"color\": \"black\", \"filled\": true}, \"encoding\": {\"color\": {\"type\": \"nominal\", \"field\": \"Algorithm\"}, \"x\": {\"type\": \"quantitative\", \"field\": \"N ligands explored\"}, \"y\": {\"type\": \"quantitative\", \"aggregate\": \"mean\", \"field\": \"% top-k found\", \"scale\": {\"domain\": [0, 0.95]}}}}, {\"mark\": {\"type\": \"line\", \"color\": \"black\", \"opacity\": 0.5, \"size\": 1}, \"encoding\": {\"color\": {\"type\": \"nominal\", \"field\": \"Algorithm\"}, \"x\": {\"type\": \"quantitative\", \"field\": \"N ligands explored\"}, \"y\": {\"type\": \"quantitative\", \"aggregate\": \"mean\", \"field\": \"% top-k found\", \"scale\": {\"domain\": [0, 0.95]}}}}, {\"layer\": [{\"mark\": {\"type\": \"errorbar\", \"extent\": \"ci\"}, \"encoding\": {\"color\": {\"type\": \"nominal\", \"field\": \"Algorithm\"}, \"x\": {\"type\": \"quantitative\", \"field\": \"N ligands explored\", \"scale\": {\"domain\": [0, 1210000]}, \"title\": \"Number of ligands sampled\"}, \"y\": {\"type\": \"quantitative\", \"field\": \"% top-k found\", \"scale\": {\"domain\": [0, 0.95]}}}}, {\"mark\": {\"type\": \"point\", \"color\": \"black\", \"filled\": true}, \"encoding\": {\"color\": {\"type\": \"nominal\", \"field\": \"Algorithm\"}, \"x\": {\"type\": \"quantitative\", \"field\": \"N ligands explored\"}, \"y\": {\"type\": \"quantitative\", \"aggregate\": \"mean\", \"field\": \"% top-k found\", \"scale\": {\"domain\": [0, 0.95]}}}}, {\"mark\": {\"type\": \"line\", \"color\": \"black\", \"opacity\": 0.5, \"size\": 1}, \"encoding\": {\"color\": {\"type\": \"nominal\", \"field\": \"Algorithm\"}, \"x\": {\"type\": \"quantitative\", \"field\": \"N ligands explored\"}, \"y\": {\"type\": \"quantitative\", \"aggregate\": \"mean\", \"field\": \"% top-k found\", \"scale\": {\"domain\": [0, 0.95]}}}}], \"data\": {\"name\": \"data-7455ae1cdda928ca2d8cb4528a4807b2\"}, \"title\": \"0.2\", \"width\": 200}, {\"layer\": [{\"mark\": {\"type\": \"errorbar\", \"extent\": \"ci\"}, \"encoding\": {\"color\": {\"type\": \"nominal\", \"field\": \"Algorithm\"}, \"x\": {\"type\": \"quantitative\", \"field\": \"N ligands explored\", \"scale\": {\"domain\": [0, 610000]}, \"title\": \"Number of ligands sampled\"}, \"y\": {\"type\": \"quantitative\", \"field\": \"% top-k found\", \"scale\": {\"domain\": [0, 0.95]}}}}, {\"mark\": {\"type\": \"point\", \"color\": \"black\", \"filled\": true}, \"encoding\": {\"color\": {\"type\": \"nominal\", \"field\": \"Algorithm\"}, \"x\": {\"type\": \"quantitative\", \"field\": \"N ligands explored\"}, \"y\": {\"type\": \"quantitative\", \"aggregate\": \"mean\", \"field\": \"% top-k found\", \"scale\": {\"domain\": [0, 0.95]}}}}, {\"mark\": {\"type\": \"line\", \"color\": \"black\", \"opacity\": 0.5, \"size\": 1}, \"encoding\": {\"color\": {\"type\": \"nominal\", \"field\": \"Algorithm\"}, \"x\": {\"type\": \"quantitative\", \"field\": \"N ligands explored\"}, \"y\": {\"type\": \"quantitative\", \"aggregate\": \"mean\", \"field\": \"% top-k found\", \"scale\": {\"domain\": [0, 0.95]}}}}], \"data\": {\"name\": \"data-0c01a76e22be92105ddc77feeec60061\"}, \"title\": \"0.1\", \"width\": 200}], \"data\": {\"name\": \"data-088d808d9d564587e1089f10a2fd406a\"}, \"title\": \"0.4\", \"width\": 200, \"$schema\": \"https://vega.github.io/schema/vega-lite/v4.8.1.json\", \"datasets\": {\"data-088d808d9d564587e1089f10a2fd406a\": [{\"Unnamed: 0\": 0.0, \"Algorithm\": \"Morgan pharm. & Log.reg. (ours)\", \"Training size\": 400000, \"N ligands explored\": 400000, \"% top-k found\": 0.0037}, {\"Unnamed: 0\": 1.0, \"Algorithm\": \"Morgan pharm. & Log.reg. (ours)\", \"Training size\": 400000, \"N ligands explored\": 800000, \"% top-k found\": 0.30772}, {\"Unnamed: 0\": 2.0, \"Algorithm\": \"Morgan pharm. & Log.reg. (ours)\", \"Training size\": 400000, \"N ligands explored\": 1200000, \"% top-k found\": 0.60858}, {\"Unnamed: 0\": 3.0, \"Algorithm\": \"Morgan pharm. & Log.reg. (ours)\", \"Training size\": 400000, \"N ligands explored\": 1600000, \"% top-k found\": 0.7477600000000001}, {\"Unnamed: 0\": 4.0, \"Algorithm\": \"Morgan pharm. & Log.reg. (ours)\", \"Training size\": 400000, \"N ligands explored\": 2000000, \"% top-k found\": 0.8266600000000001}, {\"Unnamed: 0\": 5.0, \"Algorithm\": \"Morgan pharm. & Log.reg. (ours)\", \"Training size\": 400000, \"N ligands explored\": 2400000, \"% top-k found\": 0.89136}, {\"Unnamed: 0\": 18.0, \"Algorithm\": \"Morgan pharm. & Log.reg. (ours)\", \"Training size\": 400000, \"N ligands explored\": 400000, \"% top-k found\": 0.00448}, {\"Unnamed: 0\": 19.0, \"Algorithm\": \"Morgan pharm. & Log.reg. (ours)\", \"Training size\": 400000, \"N ligands explored\": 800000, \"% top-k found\": 0.3252}, {\"Unnamed: 0\": 20.0, \"Algorithm\": \"Morgan pharm. & Log.reg. (ours)\", \"Training size\": 400000, \"N ligands explored\": 1200000, \"% top-k found\": 0.61252}, {\"Unnamed: 0\": 21.0, \"Algorithm\": \"Morgan pharm. & Log.reg. (ours)\", \"Training size\": 400000, \"N ligands explored\": 1600000, \"% top-k found\": 0.72344}, {\"Unnamed: 0\": 22.0, \"Algorithm\": \"Morgan pharm. & Log.reg. (ours)\", \"Training size\": 400000, \"N ligands explored\": 2000000, \"% top-k found\": 0.79804}, {\"Unnamed: 0\": 23.0, \"Algorithm\": \"Morgan pharm. & Log.reg. (ours)\", \"Training size\": 400000, \"N ligands explored\": 2400000, \"% top-k found\": 0.8627}, {\"Unnamed: 0\": 36.0, \"Algorithm\": \"Morgan pharm. & Log.reg. (ours)\", \"Training size\": 400000, \"N ligands explored\": 400000, \"% top-k found\": 0.00448}, {\"Unnamed: 0\": 37.0, \"Algorithm\": \"Morgan pharm. & Log.reg. (ours)\", \"Training size\": 400000, \"N ligands explored\": 800000, \"% top-k found\": 0.34968}, {\"Unnamed: 0\": 38.0, \"Algorithm\": \"Morgan pharm. & Log.reg. (ours)\", \"Training size\": 400000, \"N ligands explored\": 1200000, \"% top-k found\": 0.647}, {\"Unnamed: 0\": 39.0, \"Algorithm\": \"Morgan pharm. & Log.reg. (ours)\", \"Training size\": 400000, \"N ligands explored\": 1600000, \"% top-k found\": 0.77712}, {\"Unnamed: 0\": 40.0, \"Algorithm\": \"Morgan pharm. & Log.reg. (ours)\", \"Training size\": 400000, \"N ligands explored\": 2000000, \"% top-k found\": 0.84564}, {\"Unnamed: 0\": 41.0, \"Algorithm\": \"Morgan pharm. & Log.reg. (ours)\", \"Training size\": 400000, \"N ligands explored\": 2400000, \"% top-k found\": 0.8835799999999999}, {\"Unnamed: 0\": null, \"Algorithm\": \"RF (Coley)\", \"Training size\": 400000, \"N ligands explored\": 2400000, \"% top-k found\": 0.6882803577007767}, {\"Unnamed: 0\": null, \"Algorithm\": \"RF (Coley)\", \"Training size\": 400000, \"N ligands explored\": 2400000, \"% top-k found\": 0.7140000000000001}, {\"Unnamed: 0\": null, \"Algorithm\": \"RF (Coley)\", \"Training size\": 400000, \"N ligands explored\": 2400000, \"% top-k found\": 0.7397196422992235}, {\"Unnamed: 0\": null, \"Algorithm\": \"NN (Coley)\", \"Training size\": 400000, \"N ligands explored\": 2400000, \"% top-k found\": 0.7298535718005178}, {\"Unnamed: 0\": null, \"Algorithm\": \"NN (Coley)\", \"Training size\": 400000, \"N ligands explored\": 2400000, \"% top-k found\": 0.747}, {\"Unnamed: 0\": null, \"Algorithm\": \"NN (Coley)\", \"Training size\": 400000, \"N ligands explored\": 2400000, \"% top-k found\": 0.7641464281994823}, {\"Unnamed: 0\": null, \"Algorithm\": \"MPN (Coley)\", \"Training size\": 400000, \"N ligands explored\": 2400000, \"% top-k found\": 0.8508308679579935}, {\"Unnamed: 0\": null, \"Algorithm\": \"MPN (Coley)\", \"Training size\": 400000, \"N ligands explored\": 2400000, \"% top-k found\": 0.879}, {\"Unnamed: 0\": null, \"Algorithm\": \"MPN (Coley)\", \"Training size\": 400000, \"N ligands explored\": 2400000, \"% top-k found\": 0.9071691320420067}], \"data-7455ae1cdda928ca2d8cb4528a4807b2\": [{\"Unnamed: 0\": 6.0, \"Algorithm\": \"Morgan pharm. & Log.reg. (ours)\", \"Training size\": 200000, \"N ligands explored\": 200000, \"% top-k found\": 0.0017800000000000001}, {\"Unnamed: 0\": 7.0, \"Algorithm\": \"Morgan pharm. & Log.reg. (ours)\", \"Training size\": 200000, \"N ligands explored\": 400000, \"% top-k found\": 0.15298}, {\"Unnamed: 0\": 8.0, \"Algorithm\": \"Morgan pharm. & Log.reg. (ours)\", \"Training size\": 200000, \"N ligands explored\": 600000, \"% top-k found\": 0.38156}, {\"Unnamed: 0\": 9.0, \"Algorithm\": \"Morgan pharm. & Log.reg. (ours)\", \"Training size\": 200000, \"N ligands explored\": 800000, \"% top-k found\": 0.5052399999999999}, {\"Unnamed: 0\": 10.0, \"Algorithm\": \"Morgan pharm. & Log.reg. (ours)\", \"Training size\": 200000, \"N ligands explored\": 1000000, \"% top-k found\": 0.5795399999999999}, {\"Unnamed: 0\": 11.0, \"Algorithm\": \"Morgan pharm. & Log.reg. (ours)\", \"Training size\": 200000, \"N ligands explored\": 1200000, \"% top-k found\": 0.64248}, {\"Unnamed: 0\": 24.0, \"Algorithm\": \"Morgan pharm. & Log.reg. (ours)\", \"Training size\": 200000, \"N ligands explored\": 200000, \"% top-k found\": 0.0022}, {\"Unnamed: 0\": 25.0, \"Algorithm\": \"Morgan pharm. & Log.reg. (ours)\", \"Training size\": 200000, \"N ligands explored\": 400000, \"% top-k found\": 0.17504}, {\"Unnamed: 0\": 26.0, \"Algorithm\": \"Morgan pharm. & Log.reg. (ours)\", \"Training size\": 200000, \"N ligands explored\": 600000, \"% top-k found\": 0.41576}, {\"Unnamed: 0\": 27.0, \"Algorithm\": \"Morgan pharm. & Log.reg. (ours)\", \"Training size\": 200000, \"N ligands explored\": 800000, \"% top-k found\": 0.555}, {\"Unnamed: 0\": 28.0, \"Algorithm\": \"Morgan pharm. & Log.reg. (ours)\", \"Training size\": 200000, \"N ligands explored\": 1000000, \"% top-k found\": 0.63354}, {\"Unnamed: 0\": 29.0, \"Algorithm\": \"Morgan pharm. & Log.reg. (ours)\", \"Training size\": 200000, \"N ligands explored\": 1200000, \"% top-k found\": 0.69568}, {\"Unnamed: 0\": 42.0, \"Algorithm\": \"Morgan pharm. & Log.reg. (ours)\", \"Training size\": 200000, \"N ligands explored\": 200000, \"% top-k found\": 0.0025399999999999997}, {\"Unnamed: 0\": 43.0, \"Algorithm\": \"Morgan pharm. & Log.reg. (ours)\", \"Training size\": 200000, \"N ligands explored\": 400000, \"% top-k found\": 0.18758}, {\"Unnamed: 0\": 44.0, \"Algorithm\": \"Morgan pharm. & Log.reg. (ours)\", \"Training size\": 200000, \"N ligands explored\": 600000, \"% top-k found\": 0.42516000000000004}, {\"Unnamed: 0\": 45.0, \"Algorithm\": \"Morgan pharm. & Log.reg. (ours)\", \"Training size\": 200000, \"N ligands explored\": 800000, \"% top-k found\": 0.58024}, {\"Unnamed: 0\": 46.0, \"Algorithm\": \"Morgan pharm. & Log.reg. (ours)\", \"Training size\": 200000, \"N ligands explored\": 1000000, \"% top-k found\": 0.6659}, {\"Unnamed: 0\": 47.0, \"Algorithm\": \"Morgan pharm. & Log.reg. (ours)\", \"Training size\": 200000, \"N ligands explored\": 1200000, \"% top-k found\": 0.73056}, {\"Unnamed: 0\": null, \"Algorithm\": \"RF (Coley)\", \"Training size\": 200000, \"N ligands explored\": 1200000, \"% top-k found\": 0.43295459231495137}, {\"Unnamed: 0\": null, \"Algorithm\": \"RF (Coley)\", \"Training size\": 200000, \"N ligands explored\": 1200000, \"% top-k found\": 0.455}, {\"Unnamed: 0\": null, \"Algorithm\": \"RF (Coley)\", \"Training size\": 200000, \"N ligands explored\": 1200000, \"% top-k found\": 0.4770454076850486}, {\"Unnamed: 0\": null, \"Algorithm\": \"NN (Coley)\", \"Training size\": 200000, \"N ligands explored\": 1200000, \"% top-k found\": 0.521876275643042}, {\"Unnamed: 0\": null, \"Algorithm\": \"NN (Coley)\", \"Training size\": 200000, \"N ligands explored\": 1200000, \"% top-k found\": 0.528}, {\"Unnamed: 0\": null, \"Algorithm\": \"NN (Coley)\", \"Training size\": 200000, \"N ligands explored\": 1200000, \"% top-k found\": 0.534123724356958}, {\"Unnamed: 0\": null, \"Algorithm\": \"MPN (Coley)\", \"Training size\": 200000, \"N ligands explored\": 1200000, \"% top-k found\": 0.6452803577007765}, {\"Unnamed: 0\": null, \"Algorithm\": \"MPN (Coley)\", \"Training size\": 200000, \"N ligands explored\": 1200000, \"% top-k found\": 0.6709999999999999}, {\"Unnamed: 0\": null, \"Algorithm\": \"MPN (Coley)\", \"Training size\": 200000, \"N ligands explored\": 1200000, \"% top-k found\": 0.6967196422992233}], \"data-0c01a76e22be92105ddc77feeec60061\": [{\"Unnamed: 0\": 12.0, \"Algorithm\": \"Morgan pharm. & Log.reg. (ours)\", \"Training size\": 100000, \"N ligands explored\": 100000, \"% top-k found\": 0.0009400000000000001}, {\"Unnamed: 0\": 13.0, \"Algorithm\": \"Morgan pharm. & Log.reg. (ours)\", \"Training size\": 100000, \"N ligands explored\": 200000, \"% top-k found\": 0.07122}, {\"Unnamed: 0\": 14.0, \"Algorithm\": \"Morgan pharm. & Log.reg. (ours)\", \"Training size\": 100000, \"N ligands explored\": 300000, \"% top-k found\": 0.22885999999999998}, {\"Unnamed: 0\": 15.0, \"Algorithm\": \"Morgan pharm. & Log.reg. (ours)\", \"Training size\": 100000, \"N ligands explored\": 400000, \"% top-k found\": 0.34031999999999996}, {\"Unnamed: 0\": 16.0, \"Algorithm\": \"Morgan pharm. & Log.reg. (ours)\", \"Training size\": 100000, \"N ligands explored\": 500000, \"% top-k found\": 0.41912}, {\"Unnamed: 0\": 17.0, \"Algorithm\": \"Morgan pharm. & Log.reg. (ours)\", \"Training size\": 100000, \"N ligands explored\": 600000, \"% top-k found\": 0.48218}, {\"Unnamed: 0\": 30.0, \"Algorithm\": \"Morgan pharm. & Log.reg. (ours)\", \"Training size\": 100000, \"N ligands explored\": 100000, \"% top-k found\": 0.00116}, {\"Unnamed: 0\": 31.0, \"Algorithm\": \"Morgan pharm. & Log.reg. (ours)\", \"Training size\": 100000, \"N ligands explored\": 200000, \"% top-k found\": 0.08806}, {\"Unnamed: 0\": 32.0, \"Algorithm\": \"Morgan pharm. & Log.reg. (ours)\", \"Training size\": 100000, \"N ligands explored\": 300000, \"% top-k found\": 0.25188}, {\"Unnamed: 0\": 33.0, \"Algorithm\": \"Morgan pharm. & Log.reg. (ours)\", \"Training size\": 100000, \"N ligands explored\": 400000, \"% top-k found\": 0.35324}, {\"Unnamed: 0\": 34.0, \"Algorithm\": \"Morgan pharm. & Log.reg. (ours)\", \"Training size\": 100000, \"N ligands explored\": 500000, \"% top-k found\": 0.42628}, {\"Unnamed: 0\": 35.0, \"Algorithm\": \"Morgan pharm. & Log.reg. (ours)\", \"Training size\": 100000, \"N ligands explored\": 600000, \"% top-k found\": 0.48294}, {\"Unnamed: 0\": 48.0, \"Algorithm\": \"Morgan pharm. & Log.reg. (ours)\", \"Training size\": 100000, \"N ligands explored\": 100000, \"% top-k found\": 0.00118}, {\"Unnamed: 0\": 49.0, \"Algorithm\": \"Morgan pharm. & Log.reg. (ours)\", \"Training size\": 100000, \"N ligands explored\": 200000, \"% top-k found\": 0.08394}, {\"Unnamed: 0\": 50.0, \"Algorithm\": \"Morgan pharm. & Log.reg. (ours)\", \"Training size\": 100000, \"N ligands explored\": 300000, \"% top-k found\": 0.24106}, {\"Unnamed: 0\": 51.0, \"Algorithm\": \"Morgan pharm. & Log.reg. (ours)\", \"Training size\": 100000, \"N ligands explored\": 400000, \"% top-k found\": 0.35702}, {\"Unnamed: 0\": 52.0, \"Algorithm\": \"Morgan pharm. & Log.reg. (ours)\", \"Training size\": 100000, \"N ligands explored\": 500000, \"% top-k found\": 0.44752}, {\"Unnamed: 0\": 53.0, \"Algorithm\": \"Morgan pharm. & Log.reg. (ours)\", \"Training size\": 100000, \"N ligands explored\": 600000, \"% top-k found\": 0.53092}, {\"Unnamed: 0\": null, \"Algorithm\": \"RF (Coley)\", \"Training size\": 100000, \"N ligands explored\": 600000, \"% top-k found\": 0.21305561282938507}, {\"Unnamed: 0\": null, \"Algorithm\": \"RF (Coley)\", \"Training size\": 100000, \"N ligands explored\": 600000, \"% top-k found\": 0.24}, {\"Unnamed: 0\": null, \"Algorithm\": \"RF (Coley)\", \"Training size\": 100000, \"N ligands explored\": 600000, \"% top-k found\": 0.26694438717061497}, {\"Unnamed: 0\": null, \"Algorithm\": \"NN (Coley)\", \"Training size\": 100000, \"N ligands explored\": 600000, \"% top-k found\": 0.32932576538582525}, {\"Unnamed: 0\": null, \"Algorithm\": \"NN (Coley)\", \"Training size\": 100000, \"N ligands explored\": 600000, \"% top-k found\": 0.33299999999999996}, {\"Unnamed: 0\": null, \"Algorithm\": \"NN (Coley)\", \"Training size\": 100000, \"N ligands explored\": 600000, \"% top-k found\": 0.3366742346141747}, {\"Unnamed: 0\": null, \"Algorithm\": \"MPN (Coley)\", \"Training size\": 100000, \"N ligands explored\": 600000, \"% top-k found\": 0.5138762756430421}, {\"Unnamed: 0\": null, \"Algorithm\": \"MPN (Coley)\", \"Training size\": 100000, \"N ligands explored\": 600000, \"% top-k found\": 0.52}, {\"Unnamed: 0\": null, \"Algorithm\": \"MPN (Coley)\", \"Training size\": 100000, \"N ligands explored\": 600000, \"% top-k found\": 0.526123724356958}]}}, {\"mode\": \"vega-lite\"});\n",
       "</script>"
      ],
      "text/plain": [
       "alt.LayerChart(...)"
      ]
     },
     "execution_count": 109,
     "metadata": {},
     "output_type": "execute_result"
    }
   ],
   "source": [
    "chs[0]+chs[1]+chs[2]"
   ]
  },
  {
   "cell_type": "code",
   "execution_count": 289,
   "metadata": {},
   "outputs": [],
   "source": [
    "sup.save('../figures/ampC_reconstruction.html')"
   ]
  },
  {
   "cell_type": "code",
   "execution_count": null,
   "metadata": {},
   "outputs": [],
   "source": []
  }
 ],
 "metadata": {
  "kernelspec": {
   "display_name": "Python 3",
   "language": "python",
   "name": "python3"
  },
  "language_info": {
   "codemirror_mode": {
    "name": "ipython",
    "version": 3
   },
   "file_extension": ".py",
   "mimetype": "text/x-python",
   "name": "python",
   "nbconvert_exporter": "python",
   "pygments_lexer": "ipython3",
   "version": "3.8.5"
  }
 },
 "nbformat": 4,
 "nbformat_minor": 4
}
