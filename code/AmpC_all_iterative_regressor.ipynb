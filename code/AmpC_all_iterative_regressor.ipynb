{
 "cells": [
  {
   "cell_type": "code",
   "execution_count": 1,
   "metadata": {},
   "outputs": [],
   "source": [
    "import random\n",
    "import numpy as np\n",
    "import matplotlib.pyplot as plt\n",
    "import pandas as pd\n",
    "import altair as alt\n",
    "import tqdm\n",
    "from scipy import sparse\n",
    "from sklearn.linear_model import LogisticRegression, LinearRegression, Ridge\n",
    "from functools import lru_cache\n",
    "from sklearn.metrics import recall_score\n",
    "from xgboost import XGBClassifier, XGBRegressor\n",
    "from sklearn.ensemble import RandomForestRegressor\n",
    "from apricot import FeatureBasedSelection"
   ]
  },
  {
   "cell_type": "code",
   "execution_count": 2,
   "metadata": {},
   "outputs": [
    {
     "data": {
      "text/plain": [
       "RendererRegistry.enable('default')"
      ]
     },
     "execution_count": 2,
     "metadata": {},
     "output_type": "execute_result"
    }
   ],
   "source": [
    "alt.renderers.enable('default')"
   ]
  },
  {
   "cell_type": "code",
   "execution_count": 3,
   "metadata": {
    "scrolled": true
   },
   "outputs": [],
   "source": [
    "NUM_CHUNKS = 10"
   ]
  },
  {
   "cell_type": "markdown",
   "metadata": {},
   "source": [
    "# Generate some indices\n",
    "Even the sparse matrices won't fit in memory. So we will have to loop through them when making predictions or sampling random items."
   ]
  },
  {
   "cell_type": "code",
   "execution_count": 4,
   "metadata": {},
   "outputs": [],
   "source": [
    "USE_EMBEDDINGS = False\n",
    "MODEL = \"_r1\"\n",
    "CLASSIFIER = \"_xgb_reg_sqrt_sel\""
   ]
  },
  {
   "cell_type": "code",
   "execution_count": 5,
   "metadata": {},
   "outputs": [],
   "source": [
    "RECEPTOR = \"AmpC\"\n",
    "DATA_DIR = \"/mnt/efs/AmpC_data\"\n",
    "\n",
    "MODEL_PATH = \"/mnt/efs/mol2vec/examples/models/model_300dim.pkl\"\n",
    "UNCOMMON = \"UNK\"\n",
    "\n",
    "if USE_EMBEDDINGS:\n",
    "    OUTPUT_RESULTS_FILE = f\"{RECEPTOR}_embedding_results{MODEL}{CLASSIFIER}.csv\"\n",
    "else:\n",
    "    OUTPUT_RESULTS_FILE = f\"{RECEPTOR}_results{CLASSIFIER}.csv\""
   ]
  },
  {
   "cell_type": "code",
   "execution_count": 6,
   "metadata": {},
   "outputs": [],
   "source": [
    "# count number of items:\n",
    "indptr = [0]\n",
    "scores_lst = []\n",
    "\n",
    "for chunk_id in range(NUM_CHUNKS):\n",
    "    scores = np.load(f\"{DATA_DIR}/{RECEPTOR}_scores_{chunk_id}{MODEL}.npy\")\n",
    "    indptr.append(indptr[-1] + scores.shape[0])\n",
    "    scores_lst.append(scores)\n",
    "    \n",
    "scores = np.concatenate(scores_lst)"
   ]
  },
  {
   "cell_type": "code",
   "execution_count": 7,
   "metadata": {},
   "outputs": [
    {
     "data": {
      "text/plain": [
       "(96214206,)"
      ]
     },
     "execution_count": 7,
     "metadata": {},
     "output_type": "execute_result"
    }
   ],
   "source": [
    "scores.shape"
   ]
  },
  {
   "cell_type": "code",
   "execution_count": 8,
   "metadata": {},
   "outputs": [],
   "source": [
    "def load_vectors(chunk_id, use_embeddings=True):\n",
    "    print(f\"Loading vectors {chunk_id}{MODEL}\", end=\"; \", flush=True)\n",
    "    if use_embeddings:\n",
    "        vectors = np.load(f\"{DATA_DIR}/{RECEPTOR}_embeddings_{chunk_id}{MODEL}.npy\")\n",
    "    else:\n",
    "        vectors = sparse.load_npz(f\"{DATA_DIR}/{RECEPTOR}_fingerprints_{chunk_id}.npz\")\n",
    "    return vectors\n",
    "\n",
    "def extract_vectors(chunk_id, indptr, is_train):\n",
    "    print(f\"Extracting vectors: {chunk_id}\", end=\"; \", flush=True)\n",
    "    vectors = load_vectors(chunk_id, use_embeddings=USE_EMBEDDINGS)\n",
    "    mask = is_train[indptr[chunk_id]:indptr[chunk_id+1]]\n",
    "    return vectors[mask].astype(int)\n",
    "\n",
    "def build_train(indptr, is_train):\n",
    "    print(\"Building training set\", end=\"; \", flush=True)\n",
    "    if USE_EMBEDDINGS:\n",
    "        vectors = np.vstack([extract_vectors(i, tuple(indptr), is_train) for i in range(NUM_CHUNKS)])\n",
    "    else:\n",
    "        vectors = sparse.vstack([extract_vectors(i, tuple(indptr), is_train) for i in range(NUM_CHUNKS)], format=\"csr\", dtype=np.int64)  \n",
    "    return vectors\n",
    "\n",
    "def chunk_predict_proba(model, indptr, is_train):\n",
    "    print(\"Predicting proba\", end=\"; \", flush=True)\n",
    "    probas = []\n",
    "    for chunk_id in range(NUM_CHUNKS):\n",
    "        vectors = extract_vectors(chunk_id, indptr, ~is_train)\n",
    "        proba = model.predict_proba(vectors)[:,1]\n",
    "        probas.append(proba)\n",
    "    return np.concatenate(probas)\n",
    "\n",
    "def chunk_predict(model, indptr, is_train):\n",
    "    print(\"Predicting scores\", end=\"; \", flush=True)\n",
    "    preds = []\n",
    "    for chunk_id in range(NUM_CHUNKS):\n",
    "        vectors = extract_vectors(chunk_id, indptr, ~is_train)\n",
    "        pred = model.predict(vectors)\n",
    "        preds.append(pred)\n",
    "    return np.concatenate(preds)\n",
    "\n",
    "def chunk_get_mean_and_var(model, indptr, is_train):\n",
    "    print(\"Getting mean and var\", end=\"; \", flush=True)\n",
    "    preds = []\n",
    "    for chunk_id in range(NUM_CHUNKS):\n",
    "        vectors = extract_vectors(chunk_id, indptr, ~is_train)\n",
    "        pred = np.zeros((len(vectors), len(model.estimators_)))\n",
    "        for j, submodel in enumerate(model.estimators_):\n",
    "            pred[:, j] = submodel.predict(vectors)\n",
    "        preds.append(pred)\n",
    "    preds = np.concatenate(preds)\n",
    "    return np.mean(preds, axis=1), np.var(preds, axis=1)\n",
    "\n",
    "def select_train_indices(n_samples, total_samples, method=\"random\"):\n",
    "    print(f\"Selecting train indices with method: {method}\", end=\"; \", flush=True)\n",
    "    if method == \"random\":\n",
    "        train_indices = np.random.randint(low=0, high=total_samples+1, size=n_samples)\n",
    "    else:\n",
    "        if USE_EMBEDDINGS:\n",
    "            vectors = np.vstack([load_vectors(chunk_id=i, use_embeddings=USE_EMBEDDINGS) for i in range(NUM_CHUNKS)])\n",
    "        else:\n",
    "            vectors = sparse.vstack([load_vectors(chunk_id=i, use_embeddings=USE_EMBEDDINGS) for i in range(NUM_CHUNKS)])\n",
    "        selector = FeatureBasedSelection(n_samples, concave_func=method, verbose=True)\n",
    "        selector.fit(vectors)\n",
    "        train_indices = selector.ranking\n",
    "    return train_indices"
   ]
  },
  {
   "cell_type": "code",
   "execution_count": 9,
   "metadata": {},
   "outputs": [],
   "source": [
    "def greedy(Y_mean: np.ndarray) -> np.ndarray:\n",
    "    \"\"\"Greedy acquisition score\n",
    "    \n",
    "    Parameters\n",
    "    ----------\n",
    "    Y_mean : np.ndarray\n",
    "        the mean predicted y values\n",
    "    Returns\n",
    "    -------\n",
    "    np.ndarray\n",
    "        the greedy acquisition scores\n",
    "    \"\"\"\n",
    "    return Y_mean\n",
    "\n",
    "def ucb(Y_mean: np.ndarray, Y_var: np.ndarray, beta: int = 2) -> float:\n",
    "    \"\"\"Upper confidence bound acquisition score\n",
    "    Parameters\n",
    "    ----------\n",
    "    Y_mean : np.ndarray\n",
    "    Y_var : np.ndarray\n",
    "        the variance of the mean predicted y values\n",
    "    beta : int (Default = 2)\n",
    "        the number of standard deviations to add to Y_mean\n",
    "    Returns\n",
    "    -------\n",
    "    np.ndarray\n",
    "        the upper confidence bound acquisition scores\n",
    "    \"\"\"\n",
    "    return Y_mean + beta*np.sqrt(Y_var)"
   ]
  },
  {
   "cell_type": "markdown",
   "metadata": {},
   "source": [
    "# Train a Logistic Regression models"
   ]
  },
  {
   "cell_type": "code",
   "execution_count": 10,
   "metadata": {
    "scrolled": true
   },
   "outputs": [],
   "source": [
    "# model = LogisticRegression(max_iter=10000, C=1)\n",
    "# model = LinearRegression()\n",
    "# model = Ridge()"
   ]
  },
  {
   "cell_type": "code",
   "execution_count": 11,
   "metadata": {},
   "outputs": [],
   "source": [
    "model = XGBRegressor(\n",
    "#     objective=\"reg:squaredlogerror\"\n",
    "    use_label_encoder=False\n",
    ")\n",
    "\n",
    "# model = RandomForestRegressor(\n",
    "#     n_estimators=100,\n",
    "#     max_depth=8,\n",
    "#     min_samples_leaf=1\n",
    "# )"
   ]
  },
  {
   "cell_type": "code",
   "execution_count": 12,
   "metadata": {},
   "outputs": [],
   "source": [
    "# model = XGBClassifier(\n",
    "#     objective=\"binary:logistic\",\n",
    "#     use_label_encoder=False\n",
    "# )"
   ]
  },
  {
   "cell_type": "code",
   "execution_count": 13,
   "metadata": {},
   "outputs": [],
   "source": [
    "TOP_K_THRESHOLD = 50_000\n",
    "N_QUERIES = 6\n",
    "N_FOLDS = 1\n",
    "EPSILON = 0.0"
   ]
  },
  {
   "cell_type": "code",
   "execution_count": 14,
   "metadata": {
    "scrolled": false
   },
   "outputs": [
    {
     "name": "stdout",
     "output_type": "stream",
     "text": [
      "Selecting train indices with method: sqrt; Loading vectors 0_r1; Loading vectors 1_r1; Loading vectors 2_r1; Loading vectors 3_r1; Loading vectors 4_r1; Loading vectors 5_r1; Loading vectors 6_r1; Loading vectors 7_r1; Loading vectors 8_r1; Loading vectors 9_r1; "
     ]
    },
    {
     "name": "stderr",
     "output_type": "stream",
     "text": [
      "  0%|          | 94.0/400k [1:14:15<11453:11:10, 103s/it] "
     ]
    },
    {
     "ename": "KeyboardInterrupt",
     "evalue": "",
     "output_type": "error",
     "traceback": [
      "\u001b[0;31m---------------------------------------------------------------------------\u001b[0m",
      "\u001b[0;31mKeyboardInterrupt\u001b[0m                         Traceback (most recent call last)",
      "\u001b[0;32m<ipython-input-14-b1232950b4de>\u001b[0m in \u001b[0;36m<module>\u001b[0;34m\u001b[0m\n\u001b[1;32m     20\u001b[0m \u001b[0;34m\u001b[0m\u001b[0m\n\u001b[1;32m     21\u001b[0m         \u001b[0mconc_method\u001b[0m \u001b[0;34m=\u001b[0m \u001b[0;34m\"sqrt\"\u001b[0m\u001b[0;34m\u001b[0m\u001b[0;34m\u001b[0m\u001b[0m\n\u001b[0;32m---> 22\u001b[0;31m         \u001b[0mtrain_indices\u001b[0m \u001b[0;34m=\u001b[0m \u001b[0mselect_train_indices\u001b[0m\u001b[0;34m(\u001b[0m\u001b[0mn_samples\u001b[0m\u001b[0;34m=\u001b[0m\u001b[0msize\u001b[0m\u001b[0;34m,\u001b[0m \u001b[0mtotal_samples\u001b[0m\u001b[0;34m=\u001b[0m\u001b[0mn_labeled_examples\u001b[0m\u001b[0;34m,\u001b[0m \u001b[0mmethod\u001b[0m\u001b[0;34m=\u001b[0m\u001b[0mconc_method\u001b[0m\u001b[0;34m)\u001b[0m\u001b[0;34m\u001b[0m\u001b[0;34m\u001b[0m\u001b[0m\n\u001b[0m\u001b[1;32m     23\u001b[0m \u001b[0;34m\u001b[0m\u001b[0m\n\u001b[1;32m     24\u001b[0m         \u001b[0mpool_indices\u001b[0m \u001b[0;34m=\u001b[0m \u001b[0mnp\u001b[0m\u001b[0;34m.\u001b[0m\u001b[0mdelete\u001b[0m\u001b[0;34m(\u001b[0m\u001b[0mall_indices\u001b[0m\u001b[0;34m,\u001b[0m \u001b[0mtrain_indices\u001b[0m\u001b[0;34m,\u001b[0m \u001b[0maxis\u001b[0m\u001b[0;34m=\u001b[0m\u001b[0;36m0\u001b[0m\u001b[0;34m)\u001b[0m\u001b[0;34m\u001b[0m\u001b[0;34m\u001b[0m\u001b[0m\n",
      "\u001b[0;32m<ipython-input-8-3759bd7cb948>\u001b[0m in \u001b[0;36mselect_train_indices\u001b[0;34m(n_samples, total_samples, method)\u001b[0m\n\u001b[1;32m     61\u001b[0m             \u001b[0mvectors\u001b[0m \u001b[0;34m=\u001b[0m \u001b[0msparse\u001b[0m\u001b[0;34m.\u001b[0m\u001b[0mvstack\u001b[0m\u001b[0;34m(\u001b[0m\u001b[0;34m[\u001b[0m\u001b[0mload_vectors\u001b[0m\u001b[0;34m(\u001b[0m\u001b[0mchunk_id\u001b[0m\u001b[0;34m=\u001b[0m\u001b[0mi\u001b[0m\u001b[0;34m,\u001b[0m \u001b[0muse_embeddings\u001b[0m\u001b[0;34m=\u001b[0m\u001b[0mUSE_EMBEDDINGS\u001b[0m\u001b[0;34m)\u001b[0m \u001b[0;32mfor\u001b[0m \u001b[0mi\u001b[0m \u001b[0;32min\u001b[0m \u001b[0mrange\u001b[0m\u001b[0;34m(\u001b[0m\u001b[0mNUM_CHUNKS\u001b[0m\u001b[0;34m)\u001b[0m\u001b[0;34m]\u001b[0m\u001b[0;34m)\u001b[0m\u001b[0;34m\u001b[0m\u001b[0;34m\u001b[0m\u001b[0m\n\u001b[1;32m     62\u001b[0m         \u001b[0mselector\u001b[0m \u001b[0;34m=\u001b[0m \u001b[0mFeatureBasedSelection\u001b[0m\u001b[0;34m(\u001b[0m\u001b[0mn_samples\u001b[0m\u001b[0;34m,\u001b[0m \u001b[0mconcave_func\u001b[0m\u001b[0;34m=\u001b[0m\u001b[0mmethod\u001b[0m\u001b[0;34m,\u001b[0m \u001b[0mverbose\u001b[0m\u001b[0;34m=\u001b[0m\u001b[0;32mTrue\u001b[0m\u001b[0;34m)\u001b[0m\u001b[0;34m\u001b[0m\u001b[0;34m\u001b[0m\u001b[0m\n\u001b[0;32m---> 63\u001b[0;31m         \u001b[0mselector\u001b[0m\u001b[0;34m.\u001b[0m\u001b[0mfit\u001b[0m\u001b[0;34m(\u001b[0m\u001b[0mvectors\u001b[0m\u001b[0;34m)\u001b[0m\u001b[0;34m\u001b[0m\u001b[0;34m\u001b[0m\u001b[0m\n\u001b[0m\u001b[1;32m     64\u001b[0m         \u001b[0mtrain_indices\u001b[0m \u001b[0;34m=\u001b[0m \u001b[0mselector\u001b[0m\u001b[0;34m.\u001b[0m\u001b[0mranking\u001b[0m\u001b[0;34m\u001b[0m\u001b[0;34m\u001b[0m\u001b[0m\n\u001b[1;32m     65\u001b[0m     \u001b[0;32mreturn\u001b[0m \u001b[0mtrain_indices\u001b[0m\u001b[0;34m\u001b[0m\u001b[0;34m\u001b[0m\u001b[0m\n",
      "\u001b[0;32m~/anaconda3/envs/dockop/lib/python3.8/site-packages/apricot/functions/featureBased.py\u001b[0m in \u001b[0;36mfit\u001b[0;34m(self, X, y, sample_weight, sample_cost)\u001b[0m\n\u001b[1;32m    292\u001b[0m \t\t\"\"\"\n\u001b[1;32m    293\u001b[0m \u001b[0;34m\u001b[0m\u001b[0m\n\u001b[0;32m--> 294\u001b[0;31m \t\treturn super(FeatureBasedSelection, self).fit(X, y=y, \n\u001b[0m\u001b[1;32m    295\u001b[0m \t\t\tsample_weight=sample_weight, sample_cost=sample_cost)\n\u001b[1;32m    296\u001b[0m \u001b[0;34m\u001b[0m\u001b[0m\n",
      "\u001b[0;32m~/anaconda3/envs/dockop/lib/python3.8/site-packages/apricot/functions/base.py\u001b[0m in \u001b[0;36mfit\u001b[0;34m(self, X, y, sample_weight, sample_cost)\u001b[0m\n\u001b[1;32m    223\u001b[0m                         \u001b[0mself\u001b[0m\u001b[0;34m.\u001b[0m\u001b[0mpbar\u001b[0m \u001b[0;34m=\u001b[0m \u001b[0mtqdm\u001b[0m\u001b[0;34m(\u001b[0m\u001b[0mtotal\u001b[0m\u001b[0;34m=\u001b[0m\u001b[0mself\u001b[0m\u001b[0;34m.\u001b[0m\u001b[0mn_samples\u001b[0m\u001b[0;34m,\u001b[0m \u001b[0munit_scale\u001b[0m\u001b[0;34m=\u001b[0m\u001b[0;32mTrue\u001b[0m\u001b[0;34m)\u001b[0m\u001b[0;34m\u001b[0m\u001b[0;34m\u001b[0m\u001b[0m\n\u001b[1;32m    224\u001b[0m \u001b[0;34m\u001b[0m\u001b[0m\n\u001b[0;32m--> 225\u001b[0;31m                 \u001b[0moptimizer\u001b[0m\u001b[0;34m.\u001b[0m\u001b[0mselect\u001b[0m\u001b[0;34m(\u001b[0m\u001b[0mX\u001b[0m\u001b[0;34m,\u001b[0m \u001b[0mself\u001b[0m\u001b[0;34m.\u001b[0m\u001b[0mn_samples\u001b[0m\u001b[0;34m,\u001b[0m \u001b[0msample_cost\u001b[0m\u001b[0;34m=\u001b[0m\u001b[0msample_cost\u001b[0m\u001b[0;34m)\u001b[0m\u001b[0;34m\u001b[0m\u001b[0;34m\u001b[0m\u001b[0m\n\u001b[0m\u001b[1;32m    226\u001b[0m \u001b[0;34m\u001b[0m\u001b[0m\n\u001b[1;32m    227\u001b[0m                 \u001b[0;32mif\u001b[0m \u001b[0mself\u001b[0m\u001b[0;34m.\u001b[0m\u001b[0mverbose\u001b[0m \u001b[0;34m==\u001b[0m \u001b[0;32mTrue\u001b[0m\u001b[0;34m:\u001b[0m\u001b[0;34m\u001b[0m\u001b[0;34m\u001b[0m\u001b[0m\n",
      "\u001b[0;32m~/anaconda3/envs/dockop/lib/python3.8/site-packages/apricot/optimizers.py\u001b[0m in \u001b[0;36mselect\u001b[0;34m(self, X, k, sample_cost)\u001b[0m\n\u001b[1;32m    438\u001b[0m                 \u001b[0;32mif\u001b[0m \u001b[0mk\u001b[0m \u001b[0;34m>\u001b[0m \u001b[0mself\u001b[0m\u001b[0;34m.\u001b[0m\u001b[0mn_first_selections\u001b[0m\u001b[0;34m:\u001b[0m\u001b[0;34m\u001b[0m\u001b[0;34m\u001b[0m\u001b[0m\n\u001b[1;32m    439\u001b[0m                         \u001b[0mm\u001b[0m \u001b[0;34m=\u001b[0m \u001b[0mk\u001b[0m \u001b[0;34m-\u001b[0m \u001b[0mself\u001b[0m\u001b[0;34m.\u001b[0m\u001b[0mn_first_selections\u001b[0m\u001b[0;34m\u001b[0m\u001b[0;34m\u001b[0m\u001b[0m\n\u001b[0;32m--> 440\u001b[0;31m                         \u001b[0moptimizer2\u001b[0m\u001b[0;34m.\u001b[0m\u001b[0mselect\u001b[0m\u001b[0;34m(\u001b[0m\u001b[0mX\u001b[0m\u001b[0;34m,\u001b[0m \u001b[0mm\u001b[0m\u001b[0;34m,\u001b[0m \u001b[0msample_cost\u001b[0m\u001b[0;34m=\u001b[0m\u001b[0msample_cost\u001b[0m\u001b[0;34m)\u001b[0m\u001b[0;34m\u001b[0m\u001b[0;34m\u001b[0m\u001b[0m\n\u001b[0m\u001b[1;32m    441\u001b[0m \u001b[0;34m\u001b[0m\u001b[0m\n\u001b[1;32m    442\u001b[0m \u001b[0;34m\u001b[0m\u001b[0m\n",
      "\u001b[0;32m~/anaconda3/envs/dockop/lib/python3.8/site-packages/apricot/optimizers.py\u001b[0m in \u001b[0;36mselect\u001b[0;34m(self, X, k, sample_cost)\u001b[0m\n\u001b[1;32m    236\u001b[0m \u001b[0;34m\u001b[0m\u001b[0m\n\u001b[1;32m    237\u001b[0m                                 \u001b[0midxs\u001b[0m \u001b[0;34m=\u001b[0m \u001b[0mnumpy\u001b[0m\u001b[0;34m.\u001b[0m\u001b[0marray\u001b[0m\u001b[0;34m(\u001b[0m\u001b[0;34m[\u001b[0m\u001b[0midx\u001b[0m\u001b[0;34m]\u001b[0m\u001b[0;34m)\u001b[0m\u001b[0;34m\u001b[0m\u001b[0;34m\u001b[0m\u001b[0m\n\u001b[0;32m--> 238\u001b[0;31m                                 \u001b[0mgain\u001b[0m \u001b[0;34m=\u001b[0m \u001b[0mself\u001b[0m\u001b[0;34m.\u001b[0m\u001b[0mfunction\u001b[0m\u001b[0;34m.\u001b[0m\u001b[0m_calculate_gains\u001b[0m\u001b[0;34m(\u001b[0m\u001b[0mX\u001b[0m\u001b[0;34m,\u001b[0m \u001b[0midxs\u001b[0m\u001b[0;34m)\u001b[0m\u001b[0;34m[\u001b[0m\u001b[0;36m0\u001b[0m\u001b[0;34m]\u001b[0m \u001b[0;34m/\u001b[0m \u001b[0msample_cost\u001b[0m\u001b[0;34m[\u001b[0m\u001b[0midx\u001b[0m\u001b[0;34m]\u001b[0m\u001b[0;34m\u001b[0m\u001b[0;34m\u001b[0m\u001b[0m\n\u001b[0m\u001b[1;32m    239\u001b[0m                                 \u001b[0mself\u001b[0m\u001b[0;34m.\u001b[0m\u001b[0mpq\u001b[0m\u001b[0;34m.\u001b[0m\u001b[0madd\u001b[0m\u001b[0;34m(\u001b[0m\u001b[0midx\u001b[0m\u001b[0;34m,\u001b[0m \u001b[0;34m-\u001b[0m\u001b[0mgain\u001b[0m\u001b[0;34m)\u001b[0m\u001b[0;34m\u001b[0m\u001b[0;34m\u001b[0m\u001b[0m\n\u001b[1;32m    240\u001b[0m \u001b[0;34m\u001b[0m\u001b[0m\n",
      "\u001b[0;32m~/anaconda3/envs/dockop/lib/python3.8/site-packages/apricot/functions/featureBased.py\u001b[0m in \u001b[0;36m_calculate_gains\u001b[0;34m(self, X, idxs)\u001b[0m\n\u001b[1;32m    341\u001b[0m \u001b[0;34m\u001b[0m\u001b[0m\n\u001b[1;32m    342\u001b[0m                 \u001b[0;32mif\u001b[0m \u001b[0mself\u001b[0m\u001b[0;34m.\u001b[0m\u001b[0msparse\u001b[0m\u001b[0;34m:\u001b[0m\u001b[0;34m\u001b[0m\u001b[0;34m\u001b[0m\u001b[0m\n\u001b[0;32m--> 343\u001b[0;31m \t\t\tself.calculate_gains_(X.data, X.indices, X.indptr, gains, \n\u001b[0m\u001b[1;32m    344\u001b[0m \t\t\t\tself.current_values, self.current_concave_values, idxs)\n\u001b[1;32m    345\u001b[0m                 \u001b[0;32melse\u001b[0m\u001b[0;34m:\u001b[0m\u001b[0;34m\u001b[0m\u001b[0;34m\u001b[0m\u001b[0m\n",
      "\u001b[0;31mKeyboardInterrupt\u001b[0m: "
     ]
    }
   ],
   "source": [
    "# training_set_fractions = [0.004, 0.002, 0.001]\n",
    "training_set_sizes = [400_000]\n",
    "\n",
    "# percentile = 0.3\n",
    "\n",
    "cols = ['Algorithm', 'Training size', 'N ligands explored', '% top-k found']\n",
    "df = pd.DataFrame(columns=cols)\n",
    "\n",
    "n_labeled_examples = scores.shape[0]\n",
    "\n",
    "y_test = (scores.argsort().argsort() < TOP_K_THRESHOLD)\n",
    "\n",
    "for i in range(N_FOLDS):\n",
    "    for size in training_set_sizes:\n",
    "#     for fraction in training_set_fractions:\n",
    "#         size = int(len(scores) * fraction)\n",
    "        \n",
    "        # split indices into train and pool\n",
    "        all_indices = np.arange(n_labeled_examples)\n",
    "        \n",
    "        conc_method = \"sqrt\"\n",
    "        train_indices = select_train_indices(n_samples=size, total_samples=n_labeled_examples, method=conc_method)\n",
    "        \n",
    "        pool_indices = np.delete(all_indices, train_indices, axis=0)\n",
    "        train_indices.sort()\n",
    "        pool_indices.sort()\n",
    "\n",
    "        # generate a 'is a training instance' mask. \n",
    "        is_train = np.zeros(n_labeled_examples).astype(bool)\n",
    "        is_train[train_indices] = True\n",
    "\n",
    "        # Calculate recall\n",
    "        y_pred = np.zeros(n_labeled_examples).astype(int)\n",
    "        y_pred[train_indices] = 1\n",
    "        recall = recall_score(y_true=y_test, y_pred=y_pred)\n",
    "        \n",
    "        df = df.append(pd.DataFrame([[\"morgan_feat\", size, train_indices.shape[0], recall]],\n",
    "                                    columns=cols),\n",
    "                      ignore_index=True)\n",
    "        print(f\"Iteration: -1, Recall: {recall}\")\n",
    "\n",
    "        # estimate the cutoff once, from the initial random sample:\n",
    "#         cutoff = np.percentile(scores[train_indices], percentile)\n",
    "\n",
    "        for i in range(N_QUERIES):\n",
    "            # fit logreg model\n",
    "            x_train = build_train(indptr, is_train)\n",
    "            y_train = scores[is_train]\n",
    "#             y_train = scores[is_train] < cutoff\n",
    "\n",
    "            print(\"Fitting model\", end=\"; \", flush=True)\n",
    "            model.fit(\n",
    "                x_train,\n",
    "                y_train, \n",
    "#                 eval_metric=\"rmsle\"\n",
    "                eval_metric=\"rmse\"\n",
    "            )\n",
    "\n",
    "            # predict (slowest step) for logreg\n",
    "            preds = chunk_predict(model, indptr, is_train)\n",
    "#             preds = chunk_predict_proba(model, indptr, is_train)\n",
    "#             y_mean, y_var = chunk_get_mean_and_var(model, indptr, is_train)\n",
    "#             preds = greedy(Y_mean=y_mean)\n",
    "#             preds = ucb(Y_mean=y_mean, Y_var=y_var)\n",
    "            \n",
    "            # get some exploration indices\n",
    "            exploration_indices = np.random.choice(\n",
    "                np.arange(preds.size), \n",
    "                replace=False,\n",
    "                size=int(size * EPSILON)\n",
    "            )\n",
    "            preds[exploration_indices] = -np.inf\n",
    "\n",
    "            # rank the probabilities (negative is better, otherwise we'd have to do (-preds).argsort())\n",
    "            preds_sorted = preds.argsort()\n",
    "#             preds_sorted = (-preds).argsort()\n",
    "\n",
    "            # rank the unseen instances\n",
    "            pool_indices = pool_indices[preds_sorted]\n",
    "\n",
    "            # now append the next N instances from the rank ordered unseen instances onto the training set\n",
    "            train_indices = np.concatenate([train_indices, pool_indices[:size]])\n",
    "\n",
    "            # update the isTrain mask and remove those training instances from the test set\n",
    "            is_train[train_indices] = True\n",
    "            pool_indices = pool_indices[size:]\n",
    "\n",
    "            # keep the train and test idx arrays sorted so they agree with the chunked* methods\n",
    "            pool_indices.sort()\n",
    "            train_indices.sort()\n",
    "\n",
    "            # Calculate recall\n",
    "            y_pred = np.zeros(n_labeled_examples).astype(int)\n",
    "            y_pred[train_indices] = 1\n",
    "            recall = recall_score(y_true=y_test, y_pred=y_pred)\n",
    "                        \n",
    "            df = df.append(pd.DataFrame([[\"morgan_feat\", size, train_indices.shape[0], recall]],\n",
    "                                        columns=cols),\n",
    "                          ignore_index=True)\n",
    "            \n",
    "            print(f\"\\nIteration: {i+1}, Recall: {recall}\")\n",
    "                        \n",
    "            df.to_csv(f\"{DATA_DIR}/{OUTPUT_RESULTS_FILE}\")\n",
    "\n",
    "df.to_csv(f\"{DATA_DIR}/{OUTPUT_RESULTS_FILE}\")"
   ]
  },
  {
   "cell_type": "markdown",
   "metadata": {},
   "source": [
    "# Results look like this:\n",
    "And they can be plotted using `./plot_scripts/plot_wholedataset.py`"
   ]
  },
  {
   "cell_type": "code",
   "execution_count": null,
   "metadata": {},
   "outputs": [],
   "source": [
    "df0 = pd.read_csv('../processed_data/ampc_reconstruction_0.3_1_.csv', index_col=0)\n",
    "df0['Algorithm'] = 'AmpC:LogReg (lewis)'"
   ]
  },
  {
   "cell_type": "code",
   "execution_count": null,
   "metadata": {},
   "outputs": [],
   "source": [
    "df1 = pd.read_csv(f\"{DATA_DIR}/{RECEPTOR}_embedding_results_r1.csv\", index_col=0)\n",
    "df1['Algorithm'] = 'AmpC:LogReg (embeddings)'"
   ]
  },
  {
   "cell_type": "code",
   "execution_count": null,
   "metadata": {},
   "outputs": [],
   "source": [
    "df2 = pd.read_csv(f\"{DATA_DIR}/{RECEPTOR}_embedding_results_r1_xgb.csv\", index_col=0)\n",
    "df2['Algorithm'] = 'AmpC:XGBCl (embeddings)'"
   ]
  },
  {
   "cell_type": "code",
   "execution_count": null,
   "metadata": {},
   "outputs": [],
   "source": [
    "df22 = pd.read_csv(f\"{DATA_DIR}/{RECEPTOR}_embedding_results_r1_xgb_reg_exp0.csv\", index_col=0)\n",
    "df22['Algorithm'] = 'AmpC:XGBReg (embeddings)'"
   ]
  },
  {
   "cell_type": "code",
   "execution_count": null,
   "metadata": {},
   "outputs": [],
   "source": [
    "df3 = pd.read_csv(f\"{DATA_DIR}/{RECEPTOR}_results_xgb.csv\", index_col=0)\n",
    "df3['Algorithm'] = 'AmpC:XGBCl (fps, xgb)'"
   ]
  },
  {
   "cell_type": "code",
   "execution_count": null,
   "metadata": {},
   "outputs": [],
   "source": [
    "# df33 = pd.read_csv(f\"{DATA_DIR}/{RECEPTOR}_results_xgb_reg.csv\", index_col=0)\n",
    "# df33['Algorithm'] = 'AmpC:XGBReg (fps)'"
   ]
  },
  {
   "cell_type": "code",
   "execution_count": null,
   "metadata": {},
   "outputs": [],
   "source": [
    "df37 = pd.read_csv(f\"{DATA_DIR}/{RECEPTOR}_results_xgb_reg_exp0p1.csv\", index_col=0)\n",
    "df37['Algorithm'] = 'AmpC:XGBReg (fps, exp=0.1)'"
   ]
  },
  {
   "cell_type": "code",
   "execution_count": null,
   "metadata": {},
   "outputs": [],
   "source": [
    "df38 = pd.read_csv(f\"{DATA_DIR}/{RECEPTOR}_results_xgb_reg_exp0.csv\", index_col=0)\n",
    "df38['Algorithm'] = 'AmpC:XGBReg (fps, exp=0.0)'"
   ]
  },
  {
   "cell_type": "code",
   "execution_count": null,
   "metadata": {},
   "outputs": [],
   "source": [
    "df39 = pd.read_csv(f\"{DATA_DIR}/{RECEPTOR}_results_xgb_reg_exp0p1_500k.csv\", index_col=0)\n",
    "df39['Algorithm'] = 'AmpC:XGBReg (fps, exp=0.1, 500k)'"
   ]
  },
  {
   "cell_type": "code",
   "execution_count": null,
   "metadata": {},
   "outputs": [],
   "source": [
    "df40 = pd.read_csv(f\"{DATA_DIR}/{RECEPTOR}_results_xgb_reg_exp0_500k.csv\", index_col=0)\n",
    "df40['Algorithm'] = 'AmpC:XGBReg (fps, exp=0.0, 500k)'"
   ]
  },
  {
   "cell_type": "code",
   "execution_count": null,
   "metadata": {},
   "outputs": [],
   "source": [
    "# df34 = pd.read_csv(f\"{DATA_DIR}/{RECEPTOR}_results_linreg.csv\", index_col=0)\n",
    "# df34['Algorithm'] = 'AmpC:LinReg (fps)'"
   ]
  },
  {
   "cell_type": "code",
   "execution_count": null,
   "metadata": {},
   "outputs": [],
   "source": [
    "# df35 = pd.read_csv(f\"{DATA_DIR}/{RECEPTOR}_results_ridgereg.csv\", index_col=0)\n",
    "# df35['Algorithm'] = 'AmpC:RidgeReg (fps)'"
   ]
  },
  {
   "cell_type": "code",
   "execution_count": null,
   "metadata": {},
   "outputs": [],
   "source": [
    "# df36 = pd.read_csv(f\"{DATA_DIR}/{RECEPTOR}_results_ridgereg_exp0p1.csv\", index_col=0)\n",
    "# df36['Algorithm'] = 'AmpC:RidgeReg (fps, exp=0.1)'"
   ]
  },
  {
   "cell_type": "code",
   "execution_count": null,
   "metadata": {},
   "outputs": [],
   "source": [
    "df4 = pd.read_csv(f\"{DATA_DIR}/{RECEPTOR}_results.csv\", index_col=0)\n",
    "df4['Algorithm'] = 'AmpC:LogReg (fps)'\n",
    "df4.loc[df4[\"Training size\"] == 384_856, \"Training size\"] = 400_000 \n",
    "df4.loc[df4[\"Training size\"] == 192_428, \"Training size\"] = 200_000\n",
    "df4.loc[df4[\"Training size\"] == 96_214, \"Training size\"] = 100_000 "
   ]
  },
  {
   "cell_type": "code",
   "execution_count": null,
   "metadata": {},
   "outputs": [],
   "source": [
    "df = pd.concat([df0, df1, df2, df22, df3, df37, df38, df39, df40, df4])"
   ]
  },
  {
   "cell_type": "code",
   "execution_count": null,
   "metadata": {},
   "outputs": [],
   "source": [
    "prev_results = [['AmpC:RF (Graff)', 400_000, 71.4, 2.1], \n",
    "                ['AmpC:NN (Graff)', 400_000, 74.7, 1.4],\n",
    "                ['AmpC:MPN (Graff)',400_000, 87.9, 2.3],\n",
    "                ['AmpC:RF (Graff)', 200_000, 45.5, 1.8],\n",
    "                ['AmpC:NN (Graff)', 200_000, 52.8, 0.5],\n",
    "                ['AmpC:MPN (Graff)', 200_000, 67.1, 2.1],\n",
    "                ['AmpC:RF (Graff)', 100_000, 24.0, 2.2],\n",
    "                ['AmpC:NN (Graff)', 100_000 , 33.3,0.3],\n",
    "                ['AmpC:MPN (Graff)', 100_000, 52.0, 0.5]]\n",
    "\n",
    "coley = pd.DataFrame(columns=['Algorithm', 'Training size', 'N ligands explored', '% top-k found'])\n",
    "count = 0 \n",
    "for res in prev_results:\n",
    "    desired_std_dev = res[3]\n",
    "    samples = np.array([-1,0,1]).astype(float)\n",
    "    samples *= (desired_std_dev/np.std(samples))\n",
    "    for s in samples:\n",
    "        coley.loc[count] = [res[0], res[1], res[1]*6, (s+res[2])/100]\n",
    "        count += 1"
   ]
  },
  {
   "cell_type": "code",
   "execution_count": null,
   "metadata": {},
   "outputs": [],
   "source": [
    "concat = pd.concat([df, coley])\n",
    "concat['% top-k found'] *= 100\n",
    "concat.columns = ['Algorithm', 'Training set size', 'N ligands explored', '% top-k found']\n",
    "concat['Training set size'] = concat['Training set size'].apply(lambda num: f\"{num:,d}\",)\n",
    "concat['Computation days (single CPU)'] = concat['N ligands explored']/60/60/24"
   ]
  },
  {
   "cell_type": "code",
   "execution_count": null,
   "metadata": {},
   "outputs": [],
   "source": [
    "concat = concat[concat[\"Training set size\"].isin(set([\"400,000\", \"500,000\"]))]"
   ]
  },
  {
   "cell_type": "code",
   "execution_count": null,
   "metadata": {},
   "outputs": [],
   "source": [
    "error_bars = alt.Chart(concat).mark_errorbar(extent='ci').encode(\n",
    "  x=alt.X('N ligands explored:Q',title='Number of ligands sampled'),\n",
    "  y=alt.Y('% top-k found:Q', title='% top 50,000 found'),\n",
    "    color=alt.Color('Algorithm')\n",
    ")\n",
    "\n",
    "points = alt.Chart(concat).mark_point(filled=False, size=40, color='black').encode(\n",
    "  x=alt.X('N ligands explored:Q'),\n",
    "  y=alt.Y('% top-k found:Q',aggregate='mean',title='% top 50,000 found'),\n",
    "    color=alt.Color('Algorithm'),\n",
    "    tooltip=alt.Tooltip('% top-k found:Q',aggregate='mean',title='% top 50,000 found')\n",
    ")\n",
    "\n",
    "line = alt.Chart(concat).mark_line(color='black',size=2,opacity=0.5).encode(\n",
    "  x=alt.X('N ligands explored:Q'),\n",
    "  y=alt.Y('% top-k found:Q',aggregate='mean',title='% top 50,000 found'),\n",
    "    color=alt.Color('Algorithm')\n",
    ")\n",
    "\n",
    "ch = (error_bars+points+line).properties(height=600,width=300).facet(\n",
    "    column=alt.Column('Training set size:N',sort=alt.Sort([0.004, 0.002, 0.001])),\n",
    ").resolve_scale(x='independent')\n",
    "# ch.save('../../figures/active_learning_percentage.html')"
   ]
  },
  {
   "cell_type": "code",
   "execution_count": null,
   "metadata": {},
   "outputs": [],
   "source": [
    "ch"
   ]
  },
  {
   "cell_type": "code",
   "execution_count": null,
   "metadata": {},
   "outputs": [],
   "source": []
  }
 ],
 "metadata": {
  "kernelspec": {
   "display_name": "dockop",
   "language": "python",
   "name": "dockop"
  },
  "language_info": {
   "codemirror_mode": {
    "name": "ipython",
    "version": 3
   },
   "file_extension": ".py",
   "mimetype": "text/x-python",
   "name": "python",
   "nbconvert_exporter": "python",
   "pygments_lexer": "ipython3",
   "version": "3.8.10"
  }
 },
 "nbformat": 4,
 "nbformat_minor": 4
}
