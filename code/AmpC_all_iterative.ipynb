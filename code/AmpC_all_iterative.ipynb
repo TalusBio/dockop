{
 "cells": [
  {
   "cell_type": "code",
   "execution_count": 9,
   "metadata": {},
   "outputs": [],
   "source": [
    "import numpy as np\n",
    "import matplotlib.pyplot as plt\n",
    "import pandas as pd\n",
    "import tqdm\n",
    "from scipy import sparse"
   ]
  },
  {
   "cell_type": "markdown",
   "metadata": {},
   "source": [
    "# Generate some indices\n",
    "Even the sparse matrices won't fit in memory. So we will have to loop through them when making predictions or sampling random items."
   ]
  },
  {
   "cell_type": "code",
   "execution_count": 10,
   "metadata": {},
   "outputs": [],
   "source": [
    "#count number of items:\n",
    "indptr = [0]\n",
    "\n",
    "for chunkID in range(10):\n",
    "    scores = np.load(f'../processed_data/AmpC_all{chunkID}.npy')\n",
    "    indptr.append(indptr[-1] + scores.shape[0])\n"
   ]
  },
  {
   "cell_type": "code",
   "execution_count": 11,
   "metadata": {},
   "outputs": [],
   "source": [
    "scores = np.concatenate([np.load(f'../processed_data/AmpC_all{i}.npy') for i in range(10)])"
   ]
  },
  {
   "cell_type": "markdown",
   "metadata": {},
   "source": [
    "# functions to handle the slabs"
   ]
  },
  {
   "cell_type": "code",
   "execution_count": 12,
   "metadata": {},
   "outputs": [],
   "source": [
    "def extractFPs(chunkID, indptr, isTrain):\n",
    "    fp = sparse.load_npz(f'../processed_data/AmpC_all{chunkID}.npz')\n",
    "    mask = isTrain[indptr[chunkID]:indptr[chunkID+1]]\n",
    "    return fp[mask]\n",
    "\n",
    "def buildTrain(indptr, isTrain, verbose=0):\n",
    "    if verbose:\n",
    "        print('building training matrix')\n",
    "    fps = sparse.vstack([extractFPs(i, indptr, isTrain) for i in range(10)])\n",
    "    return fps\n",
    "\n",
    "def chunkPredictProba(model, indptr, isTrain, verbose=0):\n",
    "    if verbose:\n",
    "        print('predicting probabilities')\n",
    "    probas = []\n",
    "    for chunkID in range(10):\n",
    "        fps = extractFPs(chunkID, indptr, ~isTrain)\n",
    "        proba = model.predict_proba(fps)[:,1]\n",
    "        probas.append(proba)\n",
    "    return np.concatenate(probas)\n",
    "\n",
    "def chunkPredict(model, indptr, isTrain, verbose=0):\n",
    "    if verbose:\n",
    "        print('predicting probabilities')\n",
    "    preds = []\n",
    "    for chunkID in range(10):\n",
    "        fps = extractFPs(chunkID, indptr, ~isTrain)\n",
    "        pred = -1*model.predict(fps) #best scoring will now be on top (like the proba)\n",
    "        preds.append(pred)\n",
    "    return np.concatenate(preds)"
   ]
  },
  {
   "cell_type": "markdown",
   "metadata": {},
   "source": [
    "# Train and RF regressor and Logistic Regression models"
   ]
  },
  {
   "cell_type": "code",
   "execution_count": 13,
   "metadata": {
    "scrolled": true
   },
   "outputs": [],
   "source": [
    "from sklearn.linear_model import LogisticRegression\n",
    "from sklearn.linear_model import Ridge\n",
    "model = LogisticRegression(max_iter=10000, C=0.1)\n",
    "#model = Ridge()"
   ]
  },
  {
   "cell_type": "code",
   "execution_count": 14,
   "metadata": {},
   "outputs": [],
   "source": [
    "# #trainingSetSizes = np.array([0.4,0.2,0.1])/100\n",
    "# trainingSetSizes = np.array([0.1])/100\n",
    "\n",
    "# trainingSetSizes = (trainingSetSizes * scores.shape[0]).astype(int)"
   ]
  },
  {
   "cell_type": "code",
   "execution_count": 15,
   "metadata": {},
   "outputs": [],
   "source": [
    "#topK = (scores.argsort().argsort() < (scores.shape[0]*0.005)) #0.5th percentile.\n",
    "\n",
    "topK = (scores.argsort().argsort() < 50_000) #~0.05th percentile.\n",
    "tot = topK.sum() "
   ]
  },
  {
   "cell_type": "markdown",
   "metadata": {},
   "source": [
    "# With Altair, using three repeats:"
   ]
  },
  {
   "cell_type": "code",
   "execution_count": 16,
   "metadata": {
    "scrolled": true
   },
   "outputs": [
    {
     "name": "stdout",
     "output_type": "stream",
     "text": [
      "1 195\n",
      "building training matrix\n",
      "predicting probabilities\n",
      "2 20265\n",
      "building training matrix\n",
      "predicting probabilities\n",
      "3 33575\n",
      "building training matrix\n",
      "predicting probabilities\n",
      "4 39692\n",
      "building training matrix\n",
      "predicting probabilities\n",
      "5 43225\n",
      "building training matrix\n",
      "predicting probabilities\n",
      "6 45474\n",
      "7 102\n",
      "building training matrix\n",
      "predicting probabilities\n",
      "8 11336\n",
      "building training matrix\n",
      "predicting probabilities\n",
      "9 23616\n",
      "building training matrix\n",
      "predicting probabilities\n",
      "10 30340\n",
      "building training matrix\n",
      "predicting probabilities\n",
      "11 34173\n",
      "building training matrix\n",
      "predicting probabilities\n",
      "12 36860\n",
      "13 40\n",
      "building training matrix\n",
      "predicting probabilities\n",
      "14 4639\n",
      "building training matrix\n",
      "predicting probabilities\n",
      "15 13656\n",
      "building training matrix\n",
      "predicting probabilities\n",
      "16 20553\n",
      "building training matrix\n",
      "predicting probabilities\n",
      "17 25235\n",
      "building training matrix\n",
      "predicting probabilities\n",
      "18 28423\n",
      "19 199\n",
      "building training matrix\n",
      "predicting probabilities\n",
      "20 17575\n",
      "building training matrix\n",
      "predicting probabilities\n",
      "21 33085\n",
      "building training matrix\n",
      "predicting probabilities\n",
      "22 39997\n",
      "building training matrix\n",
      "predicting probabilities\n",
      "23 43280\n",
      "building training matrix\n",
      "predicting probabilities\n",
      "24 44997\n",
      "25 96\n",
      "building training matrix\n",
      "predicting probabilities\n",
      "26 8696\n",
      "building training matrix\n",
      "predicting probabilities\n",
      "27 20821\n",
      "building training matrix\n",
      "predicting probabilities\n",
      "28 28406\n",
      "building training matrix\n",
      "predicting probabilities\n",
      "29 32449\n",
      "building training matrix\n",
      "predicting probabilities\n",
      "30 35867\n",
      "31 48\n",
      "building training matrix\n",
      "predicting probabilities\n",
      "32 4605\n",
      "building training matrix\n",
      "predicting probabilities\n",
      "33 12778\n",
      "building training matrix\n",
      "predicting probabilities\n",
      "34 17936\n",
      "building training matrix\n",
      "predicting probabilities\n",
      "35 21589\n",
      "building training matrix\n",
      "predicting probabilities\n",
      "36 24286\n",
      "37 179\n",
      "building training matrix\n",
      "predicting probabilities\n",
      "38 17932\n",
      "building training matrix\n",
      "predicting probabilities\n",
      "39 32778\n",
      "building training matrix\n",
      "predicting probabilities\n",
      "40 39393\n",
      "building training matrix\n",
      "predicting probabilities\n",
      "41 43111\n",
      "building training matrix\n",
      "predicting probabilities\n",
      "42 45072\n",
      "43 82\n",
      "building training matrix\n",
      "predicting probabilities\n",
      "44 9326\n",
      "building training matrix\n",
      "predicting probabilities\n",
      "45 21364\n",
      "building training matrix\n",
      "predicting probabilities\n",
      "46 28712\n",
      "building training matrix\n",
      "predicting probabilities\n",
      "47 32613\n",
      "building training matrix\n",
      "predicting probabilities\n",
      "48 36067\n",
      "49 43\n",
      "building training matrix\n",
      "predicting probabilities\n",
      "50 4608\n",
      "building training matrix\n",
      "predicting probabilities\n",
      "51 12798\n",
      "building training matrix\n",
      "predicting probabilities\n",
      "52 17922\n",
      "building training matrix\n",
      "predicting probabilities\n",
      "53 21746\n",
      "building training matrix\n",
      "predicting probabilities\n",
      "54 24419\n"
     ]
    }
   ],
   "source": [
    "\n",
    "trainingSetSizes=[400_000, 200_000, 100_000]\n",
    "#for percentile in [0.05, 0.1, 0.25, 0.5, 0.75, 1 ]:\n",
    "for percentile in [0.125 ]:\n",
    "    #only for logreg:\n",
    "    cutoff = np.percentile(scores, percentile)\n",
    "    \n",
    "    df = pd.DataFrame(columns=['Algorithm', 'Training size', 'N ligands explored', '% top-k found'])\n",
    "    count=0\n",
    "    \n",
    "    for i in range(3):\n",
    "        idx = np.arange(scores.shape[0])\n",
    "        np.random.shuffle(idx)\n",
    "\n",
    "        for size in trainingSetSizes:\n",
    "            #split indices into train and test:\n",
    "            train = idx[:size].copy()\n",
    "            test = idx[size:].copy()\n",
    "            train.sort()\n",
    "            test.sort()\n",
    "    \n",
    "            #generate a 'is a training instance' mask. \n",
    "            isTrain = np.zeros(scores.shape[0]).astype(bool)\n",
    "            isTrain[train]=True\n",
    "    \n",
    "            #topK molecules already found in the training set:\n",
    "            numFound = topK[train].sum()\n",
    "        \n",
    "            df.loc[count] = ['morgan_feat', size, train.shape[0], numFound/tot]\n",
    "            count+=1\n",
    "            print(count, numFound)\n",
    "    \n",
    "            for i in range(5):\n",
    "                #fit logreg model:\n",
    "                model.fit(buildTrain(indptr, isTrain, 1), scores[isTrain]<cutoff)\n",
    "                #fit ridge:\n",
    "                #model.fit(buildTrain(indptr, isTrain, 1), scores[isTrain])\n",
    "    \n",
    "                #predict (slowest step) for logreg:\n",
    "                proba = chunkPredictProba(model, indptr, isTrain, 1)\n",
    "                #predict (slowest step) for ridge:\n",
    "                #proba = chunkPredict(model, indptr, isTrain, 1)\n",
    "    \n",
    "                #rank the probabilities\n",
    "                proba_sorted = (-proba).argsort()\n",
    "        \n",
    "                #rank the unseen instances:\n",
    "                test = test[proba_sorted]\n",
    "\n",
    "                #now append the next N instances from the rank ordered unseen instances onto the training set:\n",
    "                train = np.concatenate([train, test[:size]])\n",
    "        \n",
    "                #update the isTrain mask:\n",
    "                isTrain[train]=True\n",
    "        \n",
    "                #now remove those training instances from the test set:\n",
    "                test = test[size:]\n",
    "\n",
    "                #keep the train and test idx arrays sorted so they agree with the chunked* methods:\n",
    "                test.sort()\n",
    "                train.sort()\n",
    "        \n",
    "                #topK molecules already found in the training set:\n",
    "                numFound = topK[train].sum()\n",
    "            \n",
    "                df.loc[count] = ['morgan_feat', size, train.shape[0], numFound/tot]\n",
    "                count+=1\n",
    "                print(count, numFound)\n",
    "                \n",
    "    #df.to_csv('../processed_data/ampc_reconstruction_'+str(percentile)+'.csv')\n",
    "    #df.to_csv('../processed_data/ampc_reconstruction_ridge.csv')\n",
    "    "
   ]
  },
  {
   "cell_type": "code",
   "execution_count": 17,
   "metadata": {},
   "outputs": [],
   "source": [
    "df.to_csv('../processed_data/ampc_reconstruction_0.125.0.8.csv')"
   ]
  },
  {
   "cell_type": "markdown",
   "metadata": {},
   "source": [
    "# Plot"
   ]
  },
  {
   "cell_type": "code",
   "execution_count": 31,
   "metadata": {},
   "outputs": [],
   "source": [
    "import altair as alt"
   ]
  },
  {
   "cell_type": "code",
   "execution_count": 101,
   "metadata": {},
   "outputs": [],
   "source": [
    "df = pd.read_csv('../processed_data/ampc_reconstruction_0.03.csv')\n",
    "df = pd.read_csv('../processed_data/ampc_reconstruction_0.04.csv')\n",
    "df = pd.read_csv('../processed_data/ampc_reconstruction_0.05.csv')\n",
    "df = pd.read_csv('../processed_data/ampc_reconstruction_0.06.csv')\n",
    "#df = pd.read_csv('../processed_data/ampc_reconstruction_0.1.csv')\n",
    "#df = pd.read_csv('../processed_data/ampc_reconstruction_0.25.csv')\n",
    "#df = pd.read_csv('../processed_data/ampc_reconstruction_0.5.csv')\n",
    "#df = pd.read_csv('../processed_data/ampc_reconstruction_0.75.csv')\n",
    "#df = pd.read_csv('../processed_data/ampc_reconstruction_1.csv')"
   ]
  },
  {
   "cell_type": "code",
   "execution_count": null,
   "metadata": {},
   "outputs": [],
   "source": []
  },
  {
   "cell_type": "code",
   "execution_count": 102,
   "metadata": {},
   "outputs": [],
   "source": [
    "prev_results = [['RF (Coley)', 400_000, 71.4, 2.1], ['NN (Coley)', 400_000, 74.7, 1.4],\n",
    "                ['MPN (Coley)',400_000, 87.9, 2.3],\n",
    "    ['RF (Coley)', 200_000, 45.5, 1.8],\n",
    "['NN (Coley)', 200_000, 52.8, 0.5],\n",
    "['MPN (Coley)', 200_000, 67.1, 2.1],\n",
    "['RF (Coley)', 100_000, 24.0, 2.2],\n",
    "['NN (Coley)', 100_000 , 33.3,0.3],\n",
    "['MPN (Coley)', 100_000, 52.0, 0.5]]\n"
   ]
  },
  {
   "cell_type": "code",
   "execution_count": 103,
   "metadata": {},
   "outputs": [],
   "source": [
    "\n",
    "\n",
    "coley = pd.DataFrame(columns=['Algorithm', 'Training size', 'N ligands explored', '% top-k found'])\n",
    "count = 0 \n",
    "for res in prev_results:\n",
    "    \n",
    "    desired_std_dev = res[3]\n",
    "    samples = np.array([-1,0,1]).astype(float)\n",
    "    samples *= (desired_std_dev/np.std(samples))\n",
    "    for s in samples:\n",
    "        coley.loc[count]= [res[0], res[1], res[1]*6, (s+res[2])/100]\n",
    "        count+=1"
   ]
  },
  {
   "cell_type": "code",
   "execution_count": 104,
   "metadata": {},
   "outputs": [],
   "source": [
    "concat = pd.concat([df, coley])"
   ]
  },
  {
   "cell_type": "code",
   "execution_count": 105,
   "metadata": {
    "scrolled": true
   },
   "outputs": [
    {
     "data": {
      "text/html": [
       "\n",
       "<div id=\"altair-viz-eb9c75c84606451b8dd081edaef733f6\"></div>\n",
       "<script type=\"text/javascript\">\n",
       "  (function(spec, embedOpt){\n",
       "    let outputDiv = document.currentScript.previousElementSibling;\n",
       "    if (outputDiv.id !== \"altair-viz-eb9c75c84606451b8dd081edaef733f6\") {\n",
       "      outputDiv = document.getElementById(\"altair-viz-eb9c75c84606451b8dd081edaef733f6\");\n",
       "    }\n",
       "    const paths = {\n",
       "      \"vega\": \"https://cdn.jsdelivr.net/npm//vega@5?noext\",\n",
       "      \"vega-lib\": \"https://cdn.jsdelivr.net/npm//vega-lib?noext\",\n",
       "      \"vega-lite\": \"https://cdn.jsdelivr.net/npm//vega-lite@4.8.1?noext\",\n",
       "      \"vega-embed\": \"https://cdn.jsdelivr.net/npm//vega-embed@6?noext\",\n",
       "    };\n",
       "\n",
       "    function loadScript(lib) {\n",
       "      return new Promise(function(resolve, reject) {\n",
       "        var s = document.createElement('script');\n",
       "        s.src = paths[lib];\n",
       "        s.async = true;\n",
       "        s.onload = () => resolve(paths[lib]);\n",
       "        s.onerror = () => reject(`Error loading script: ${paths[lib]}`);\n",
       "        document.getElementsByTagName(\"head\")[0].appendChild(s);\n",
       "      });\n",
       "    }\n",
       "\n",
       "    function showError(err) {\n",
       "      outputDiv.innerHTML = `<div class=\"error\" style=\"color:red;\">${err}</div>`;\n",
       "      throw err;\n",
       "    }\n",
       "\n",
       "    function displayChart(vegaEmbed) {\n",
       "      vegaEmbed(outputDiv, spec, embedOpt)\n",
       "        .catch(err => showError(`Javascript Error: ${err.message}<br>This usually means there's a typo in your chart specification. See the javascript console for the full traceback.`));\n",
       "    }\n",
       "\n",
       "    if(typeof define === \"function\" && define.amd) {\n",
       "      requirejs.config({paths});\n",
       "      require([\"vega-embed\"], displayChart, err => showError(`Error loading script: ${err.message}`));\n",
       "    } else if (typeof vegaEmbed === \"function\") {\n",
       "      displayChart(vegaEmbed);\n",
       "    } else {\n",
       "      loadScript(\"vega\")\n",
       "        .then(() => loadScript(\"vega-lite\"))\n",
       "        .then(() => loadScript(\"vega-embed\"))\n",
       "        .catch(showError)\n",
       "        .then(() => displayChart(vegaEmbed));\n",
       "    }\n",
       "  })({\"config\": {\"view\": {\"continuousWidth\": 400, \"continuousHeight\": 300}}, \"data\": {\"name\": \"data-ccf4b4b9d0bb947ece1143dc200744dd\"}, \"facet\": {\"column\": {\"type\": \"nominal\", \"field\": \"Training size\", \"sort\": [0.004, 0.002, 0.001]}}, \"spec\": {\"layer\": [{\"mark\": {\"type\": \"errorbar\", \"extent\": \"ci\"}, \"encoding\": {\"color\": {\"type\": \"nominal\", \"field\": \"Algorithm\"}, \"x\": {\"type\": \"quantitative\", \"field\": \"N ligands explored\", \"title\": \"Number of ligands sampled\"}, \"y\": {\"type\": \"quantitative\", \"field\": \"% top-k found\", \"title\": \"% top 50,000 found\"}}}, {\"mark\": {\"type\": \"point\", \"color\": \"black\", \"filled\": true}, \"encoding\": {\"color\": {\"type\": \"nominal\", \"field\": \"Algorithm\"}, \"x\": {\"type\": \"quantitative\", \"field\": \"N ligands explored\"}, \"y\": {\"type\": \"quantitative\", \"aggregate\": \"mean\", \"field\": \"% top-k found\", \"title\": \"% top 50,000 found\"}}}, {\"mark\": {\"type\": \"line\", \"color\": \"black\", \"opacity\": 0.5, \"size\": 1}, \"encoding\": {\"color\": {\"type\": \"nominal\", \"field\": \"Algorithm\"}, \"x\": {\"type\": \"quantitative\", \"field\": \"N ligands explored\"}, \"y\": {\"type\": \"quantitative\", \"aggregate\": \"mean\", \"field\": \"% top-k found\", \"title\": \"% top 50,000 found\"}}}], \"height\": 400, \"width\": 200}, \"resolve\": {\"scale\": {\"x\": \"independent\"}}, \"$schema\": \"https://vega.github.io/schema/vega-lite/v4.8.1.json\", \"datasets\": {\"data-ccf4b4b9d0bb947ece1143dc200744dd\": [{\"Unnamed: 0\": 0.0, \"Algorithm\": \"morgan_feat\", \"Training size\": 400000, \"N ligands explored\": 400000, \"% top-k found\": 0.0037}, {\"Unnamed: 0\": 1.0, \"Algorithm\": \"morgan_feat\", \"Training size\": 400000, \"N ligands explored\": 800000, \"% top-k found\": 0.30772}, {\"Unnamed: 0\": 2.0, \"Algorithm\": \"morgan_feat\", \"Training size\": 400000, \"N ligands explored\": 1200000, \"% top-k found\": 0.60858}, {\"Unnamed: 0\": 3.0, \"Algorithm\": \"morgan_feat\", \"Training size\": 400000, \"N ligands explored\": 1600000, \"% top-k found\": 0.7477600000000001}, {\"Unnamed: 0\": 4.0, \"Algorithm\": \"morgan_feat\", \"Training size\": 400000, \"N ligands explored\": 2000000, \"% top-k found\": 0.8266600000000001}, {\"Unnamed: 0\": 5.0, \"Algorithm\": \"morgan_feat\", \"Training size\": 400000, \"N ligands explored\": 2400000, \"% top-k found\": 0.89136}, {\"Unnamed: 0\": 6.0, \"Algorithm\": \"morgan_feat\", \"Training size\": 200000, \"N ligands explored\": 200000, \"% top-k found\": 0.0017800000000000001}, {\"Unnamed: 0\": 7.0, \"Algorithm\": \"morgan_feat\", \"Training size\": 200000, \"N ligands explored\": 400000, \"% top-k found\": 0.15298}, {\"Unnamed: 0\": 8.0, \"Algorithm\": \"morgan_feat\", \"Training size\": 200000, \"N ligands explored\": 600000, \"% top-k found\": 0.38156}, {\"Unnamed: 0\": 9.0, \"Algorithm\": \"morgan_feat\", \"Training size\": 200000, \"N ligands explored\": 800000, \"% top-k found\": 0.5052399999999999}, {\"Unnamed: 0\": 10.0, \"Algorithm\": \"morgan_feat\", \"Training size\": 200000, \"N ligands explored\": 1000000, \"% top-k found\": 0.5795399999999999}, {\"Unnamed: 0\": 11.0, \"Algorithm\": \"morgan_feat\", \"Training size\": 200000, \"N ligands explored\": 1200000, \"% top-k found\": 0.64248}, {\"Unnamed: 0\": 12.0, \"Algorithm\": \"morgan_feat\", \"Training size\": 100000, \"N ligands explored\": 100000, \"% top-k found\": 0.0009400000000000001}, {\"Unnamed: 0\": 13.0, \"Algorithm\": \"morgan_feat\", \"Training size\": 100000, \"N ligands explored\": 200000, \"% top-k found\": 0.07122}, {\"Unnamed: 0\": 14.0, \"Algorithm\": \"morgan_feat\", \"Training size\": 100000, \"N ligands explored\": 300000, \"% top-k found\": 0.22885999999999998}, {\"Unnamed: 0\": 15.0, \"Algorithm\": \"morgan_feat\", \"Training size\": 100000, \"N ligands explored\": 400000, \"% top-k found\": 0.34031999999999996}, {\"Unnamed: 0\": 16.0, \"Algorithm\": \"morgan_feat\", \"Training size\": 100000, \"N ligands explored\": 500000, \"% top-k found\": 0.41912}, {\"Unnamed: 0\": 17.0, \"Algorithm\": \"morgan_feat\", \"Training size\": 100000, \"N ligands explored\": 600000, \"% top-k found\": 0.48218}, {\"Unnamed: 0\": 18.0, \"Algorithm\": \"morgan_feat\", \"Training size\": 400000, \"N ligands explored\": 400000, \"% top-k found\": 0.00448}, {\"Unnamed: 0\": 19.0, \"Algorithm\": \"morgan_feat\", \"Training size\": 400000, \"N ligands explored\": 800000, \"% top-k found\": 0.3252}, {\"Unnamed: 0\": 20.0, \"Algorithm\": \"morgan_feat\", \"Training size\": 400000, \"N ligands explored\": 1200000, \"% top-k found\": 0.61252}, {\"Unnamed: 0\": 21.0, \"Algorithm\": \"morgan_feat\", \"Training size\": 400000, \"N ligands explored\": 1600000, \"% top-k found\": 0.72344}, {\"Unnamed: 0\": 22.0, \"Algorithm\": \"morgan_feat\", \"Training size\": 400000, \"N ligands explored\": 2000000, \"% top-k found\": 0.79804}, {\"Unnamed: 0\": 23.0, \"Algorithm\": \"morgan_feat\", \"Training size\": 400000, \"N ligands explored\": 2400000, \"% top-k found\": 0.8627}, {\"Unnamed: 0\": 24.0, \"Algorithm\": \"morgan_feat\", \"Training size\": 200000, \"N ligands explored\": 200000, \"% top-k found\": 0.0022}, {\"Unnamed: 0\": 25.0, \"Algorithm\": \"morgan_feat\", \"Training size\": 200000, \"N ligands explored\": 400000, \"% top-k found\": 0.17504}, {\"Unnamed: 0\": 26.0, \"Algorithm\": \"morgan_feat\", \"Training size\": 200000, \"N ligands explored\": 600000, \"% top-k found\": 0.41576}, {\"Unnamed: 0\": 27.0, \"Algorithm\": \"morgan_feat\", \"Training size\": 200000, \"N ligands explored\": 800000, \"% top-k found\": 0.555}, {\"Unnamed: 0\": 28.0, \"Algorithm\": \"morgan_feat\", \"Training size\": 200000, \"N ligands explored\": 1000000, \"% top-k found\": 0.63354}, {\"Unnamed: 0\": 29.0, \"Algorithm\": \"morgan_feat\", \"Training size\": 200000, \"N ligands explored\": 1200000, \"% top-k found\": 0.69568}, {\"Unnamed: 0\": 30.0, \"Algorithm\": \"morgan_feat\", \"Training size\": 100000, \"N ligands explored\": 100000, \"% top-k found\": 0.00116}, {\"Unnamed: 0\": 31.0, \"Algorithm\": \"morgan_feat\", \"Training size\": 100000, \"N ligands explored\": 200000, \"% top-k found\": 0.08806}, {\"Unnamed: 0\": 32.0, \"Algorithm\": \"morgan_feat\", \"Training size\": 100000, \"N ligands explored\": 300000, \"% top-k found\": 0.25188}, {\"Unnamed: 0\": 33.0, \"Algorithm\": \"morgan_feat\", \"Training size\": 100000, \"N ligands explored\": 400000, \"% top-k found\": 0.35324}, {\"Unnamed: 0\": 34.0, \"Algorithm\": \"morgan_feat\", \"Training size\": 100000, \"N ligands explored\": 500000, \"% top-k found\": 0.42628}, {\"Unnamed: 0\": 35.0, \"Algorithm\": \"morgan_feat\", \"Training size\": 100000, \"N ligands explored\": 600000, \"% top-k found\": 0.48294}, {\"Unnamed: 0\": 36.0, \"Algorithm\": \"morgan_feat\", \"Training size\": 400000, \"N ligands explored\": 400000, \"% top-k found\": 0.00448}, {\"Unnamed: 0\": 37.0, \"Algorithm\": \"morgan_feat\", \"Training size\": 400000, \"N ligands explored\": 800000, \"% top-k found\": 0.34968}, {\"Unnamed: 0\": 38.0, \"Algorithm\": \"morgan_feat\", \"Training size\": 400000, \"N ligands explored\": 1200000, \"% top-k found\": 0.647}, {\"Unnamed: 0\": 39.0, \"Algorithm\": \"morgan_feat\", \"Training size\": 400000, \"N ligands explored\": 1600000, \"% top-k found\": 0.77712}, {\"Unnamed: 0\": 40.0, \"Algorithm\": \"morgan_feat\", \"Training size\": 400000, \"N ligands explored\": 2000000, \"% top-k found\": 0.84564}, {\"Unnamed: 0\": 41.0, \"Algorithm\": \"morgan_feat\", \"Training size\": 400000, \"N ligands explored\": 2400000, \"% top-k found\": 0.8835799999999999}, {\"Unnamed: 0\": 42.0, \"Algorithm\": \"morgan_feat\", \"Training size\": 200000, \"N ligands explored\": 200000, \"% top-k found\": 0.0025399999999999997}, {\"Unnamed: 0\": 43.0, \"Algorithm\": \"morgan_feat\", \"Training size\": 200000, \"N ligands explored\": 400000, \"% top-k found\": 0.18758}, {\"Unnamed: 0\": 44.0, \"Algorithm\": \"morgan_feat\", \"Training size\": 200000, \"N ligands explored\": 600000, \"% top-k found\": 0.42516000000000004}, {\"Unnamed: 0\": 45.0, \"Algorithm\": \"morgan_feat\", \"Training size\": 200000, \"N ligands explored\": 800000, \"% top-k found\": 0.58024}, {\"Unnamed: 0\": 46.0, \"Algorithm\": \"morgan_feat\", \"Training size\": 200000, \"N ligands explored\": 1000000, \"% top-k found\": 0.6659}, {\"Unnamed: 0\": 47.0, \"Algorithm\": \"morgan_feat\", \"Training size\": 200000, \"N ligands explored\": 1200000, \"% top-k found\": 0.73056}, {\"Unnamed: 0\": 48.0, \"Algorithm\": \"morgan_feat\", \"Training size\": 100000, \"N ligands explored\": 100000, \"% top-k found\": 0.00118}, {\"Unnamed: 0\": 49.0, \"Algorithm\": \"morgan_feat\", \"Training size\": 100000, \"N ligands explored\": 200000, \"% top-k found\": 0.08394}, {\"Unnamed: 0\": 50.0, \"Algorithm\": \"morgan_feat\", \"Training size\": 100000, \"N ligands explored\": 300000, \"% top-k found\": 0.24106}, {\"Unnamed: 0\": 51.0, \"Algorithm\": \"morgan_feat\", \"Training size\": 100000, \"N ligands explored\": 400000, \"% top-k found\": 0.35702}, {\"Unnamed: 0\": 52.0, \"Algorithm\": \"morgan_feat\", \"Training size\": 100000, \"N ligands explored\": 500000, \"% top-k found\": 0.44752}, {\"Unnamed: 0\": 53.0, \"Algorithm\": \"morgan_feat\", \"Training size\": 100000, \"N ligands explored\": 600000, \"% top-k found\": 0.53092}, {\"Unnamed: 0\": null, \"Algorithm\": \"RF (Coley)\", \"Training size\": 400000, \"N ligands explored\": 2400000, \"% top-k found\": 0.6882803577007767}, {\"Unnamed: 0\": null, \"Algorithm\": \"RF (Coley)\", \"Training size\": 400000, \"N ligands explored\": 2400000, \"% top-k found\": 0.7140000000000001}, {\"Unnamed: 0\": null, \"Algorithm\": \"RF (Coley)\", \"Training size\": 400000, \"N ligands explored\": 2400000, \"% top-k found\": 0.7397196422992235}, {\"Unnamed: 0\": null, \"Algorithm\": \"NN (Coley)\", \"Training size\": 400000, \"N ligands explored\": 2400000, \"% top-k found\": 0.7298535718005178}, {\"Unnamed: 0\": null, \"Algorithm\": \"NN (Coley)\", \"Training size\": 400000, \"N ligands explored\": 2400000, \"% top-k found\": 0.747}, {\"Unnamed: 0\": null, \"Algorithm\": \"NN (Coley)\", \"Training size\": 400000, \"N ligands explored\": 2400000, \"% top-k found\": 0.7641464281994823}, {\"Unnamed: 0\": null, \"Algorithm\": \"MPN (Coley)\", \"Training size\": 400000, \"N ligands explored\": 2400000, \"% top-k found\": 0.8508308679579935}, {\"Unnamed: 0\": null, \"Algorithm\": \"MPN (Coley)\", \"Training size\": 400000, \"N ligands explored\": 2400000, \"% top-k found\": 0.879}, {\"Unnamed: 0\": null, \"Algorithm\": \"MPN (Coley)\", \"Training size\": 400000, \"N ligands explored\": 2400000, \"% top-k found\": 0.9071691320420067}, {\"Unnamed: 0\": null, \"Algorithm\": \"RF (Coley)\", \"Training size\": 200000, \"N ligands explored\": 1200000, \"% top-k found\": 0.43295459231495137}, {\"Unnamed: 0\": null, \"Algorithm\": \"RF (Coley)\", \"Training size\": 200000, \"N ligands explored\": 1200000, \"% top-k found\": 0.455}, {\"Unnamed: 0\": null, \"Algorithm\": \"RF (Coley)\", \"Training size\": 200000, \"N ligands explored\": 1200000, \"% top-k found\": 0.4770454076850486}, {\"Unnamed: 0\": null, \"Algorithm\": \"NN (Coley)\", \"Training size\": 200000, \"N ligands explored\": 1200000, \"% top-k found\": 0.521876275643042}, {\"Unnamed: 0\": null, \"Algorithm\": \"NN (Coley)\", \"Training size\": 200000, \"N ligands explored\": 1200000, \"% top-k found\": 0.528}, {\"Unnamed: 0\": null, \"Algorithm\": \"NN (Coley)\", \"Training size\": 200000, \"N ligands explored\": 1200000, \"% top-k found\": 0.534123724356958}, {\"Unnamed: 0\": null, \"Algorithm\": \"MPN (Coley)\", \"Training size\": 200000, \"N ligands explored\": 1200000, \"% top-k found\": 0.6452803577007765}, {\"Unnamed: 0\": null, \"Algorithm\": \"MPN (Coley)\", \"Training size\": 200000, \"N ligands explored\": 1200000, \"% top-k found\": 0.6709999999999999}, {\"Unnamed: 0\": null, \"Algorithm\": \"MPN (Coley)\", \"Training size\": 200000, \"N ligands explored\": 1200000, \"% top-k found\": 0.6967196422992233}, {\"Unnamed: 0\": null, \"Algorithm\": \"RF (Coley)\", \"Training size\": 100000, \"N ligands explored\": 600000, \"% top-k found\": 0.21305561282938507}, {\"Unnamed: 0\": null, \"Algorithm\": \"RF (Coley)\", \"Training size\": 100000, \"N ligands explored\": 600000, \"% top-k found\": 0.24}, {\"Unnamed: 0\": null, \"Algorithm\": \"RF (Coley)\", \"Training size\": 100000, \"N ligands explored\": 600000, \"% top-k found\": 0.26694438717061497}, {\"Unnamed: 0\": null, \"Algorithm\": \"NN (Coley)\", \"Training size\": 100000, \"N ligands explored\": 600000, \"% top-k found\": 0.32932576538582525}, {\"Unnamed: 0\": null, \"Algorithm\": \"NN (Coley)\", \"Training size\": 100000, \"N ligands explored\": 600000, \"% top-k found\": 0.33299999999999996}, {\"Unnamed: 0\": null, \"Algorithm\": \"NN (Coley)\", \"Training size\": 100000, \"N ligands explored\": 600000, \"% top-k found\": 0.3366742346141747}, {\"Unnamed: 0\": null, \"Algorithm\": \"MPN (Coley)\", \"Training size\": 100000, \"N ligands explored\": 600000, \"% top-k found\": 0.5138762756430421}, {\"Unnamed: 0\": null, \"Algorithm\": \"MPN (Coley)\", \"Training size\": 100000, \"N ligands explored\": 600000, \"% top-k found\": 0.52}, {\"Unnamed: 0\": null, \"Algorithm\": \"MPN (Coley)\", \"Training size\": 100000, \"N ligands explored\": 600000, \"% top-k found\": 0.526123724356958}]}}, {\"mode\": \"vega-lite\"});\n",
       "</script>"
      ],
      "text/plain": [
       "alt.FacetChart(...)"
      ]
     },
     "execution_count": 105,
     "metadata": {},
     "output_type": "execute_result"
    }
   ],
   "source": [
    "error_bars = alt.Chart(concat).mark_errorbar(extent='ci').encode(\n",
    "  x=alt.X('N ligands explored:Q',title='Number of ligands sampled'),\n",
    "  y=alt.Y('% top-k found:Q', title='% top 50,000 found'),\n",
    "    color=alt.Color('Algorithm')\n",
    ")\n",
    "\n",
    "points = alt.Chart(concat).mark_point(filled=True, color='black').encode(\n",
    "  x=alt.X('N ligands explored:Q'),\n",
    "  y=alt.Y('% top-k found:Q',aggregate='mean',title='% top 50,000 found'),\n",
    "    color=alt.Color('Algorithm')\n",
    ")\n",
    "\n",
    "line = alt.Chart(concat).mark_line(color='black',size=1,opacity=0.5).encode(\n",
    "  x=alt.X('N ligands explored:Q'),\n",
    "  y=alt.Y('% top-k found:Q',aggregate='mean',title='% top 50,000 found'),\n",
    "    color=alt.Color('Algorithm')\n",
    ")\n",
    "\n",
    "ch = (error_bars+points+line).properties(height=400,width=200).facet(\n",
    "    column=alt.Column('Training size:N',sort=alt.Sort([0.004, 0.002, 0.001])),\n",
    ").resolve_scale(x='independent')\n",
    "ch"
   ]
  },
  {
   "cell_type": "code",
   "execution_count": 106,
   "metadata": {
    "scrolled": true
   },
   "outputs": [],
   "source": [
    "#df.to_csv('../processed_data/ampc_reconstruction.csv')"
   ]
  },
  {
   "cell_type": "code",
   "execution_count": 107,
   "metadata": {},
   "outputs": [],
   "source": [
    "chs = []\n",
    "for frac in [400000, 200000, 100000]:\n",
    "    \n",
    "    df_ = concat[concat['Training size']==frac].replace('morgan_feat', 'Morgan pharm. & Log.reg. (ours)')\n",
    "    error_bars = alt.Chart(df_).mark_errorbar(extent='ci').encode(\n",
    "          x=alt.X('N ligands explored:Q', \n",
    "                  title='Number of ligands sampled',\n",
    "                  scale=alt.Scale(domain=[0,max(df_['N ligands explored'])+10000])),\n",
    "          y=alt.Y('% top-k found:Q',scale=alt.Scale(domain=[0,0.95])),\n",
    "        color=alt.Color('Algorithm')\n",
    "        )\n",
    "\n",
    "    points = alt.Chart(df_).mark_point(filled=True, color='black').encode(\n",
    "          x=alt.X('N ligands explored:Q'),\n",
    "          y=alt.Y('% top-k found:Q',aggregate='mean',scale=alt.Scale(domain=[0,0.95])),\n",
    "        color=alt.Color('Algorithm')\n",
    "        )\n",
    "\n",
    "    line = alt.Chart(df_).mark_line(color='black',size=1,opacity=0.5).encode(\n",
    "          x=alt.X('N ligands explored:Q'),\n",
    "          y=alt.Y('% top-k found:Q',aggregate='mean',scale=alt.Scale(domain=[0,0.95])),\n",
    "        color=alt.Color('Algorithm')\n",
    "        )\n",
    "    ch = (error_bars+points+line).properties(width=200)\n",
    "    ch.title = str(frac / (100*1e6)*100)\n",
    "    chs.append(ch)\n"
   ]
  },
  {
   "cell_type": "code",
   "execution_count": 110,
   "metadata": {},
   "outputs": [],
   "source": [
    "chs[0]\n",
    "sup = chs[0] |  chs[1] | chs[2]\n",
    "sup.save('../figures/ampC_reconstruction.html') #using 0.05"
   ]
  },
  {
   "cell_type": "code",
   "execution_count": 109,
   "metadata": {},
   "outputs": [
    {
     "data": {
      "text/html": [
       "\n",
       "<div id=\"altair-viz-c06589d518d546808370e0ac42e315b8\"></div>\n",
       "<script type=\"text/javascript\">\n",
       "  (function(spec, embedOpt){\n",
       "    let outputDiv = document.currentScript.previousElementSibling;\n",
       "    if (outputDiv.id !== \"altair-viz-c06589d518d546808370e0ac42e315b8\") {\n",
       "      outputDiv = document.getElementById(\"altair-viz-c06589d518d546808370e0ac42e315b8\");\n",
       "    }\n",
       "    const paths = {\n",
       "      \"vega\": \"https://cdn.jsdelivr.net/npm//vega@5?noext\",\n",
       "      \"vega-lib\": \"https://cdn.jsdelivr.net/npm//vega-lib?noext\",\n",
       "      \"vega-lite\": \"https://cdn.jsdelivr.net/npm//vega-lite@4.8.1?noext\",\n",
       "      \"vega-embed\": \"https://cdn.jsdelivr.net/npm//vega-embed@6?noext\",\n",
       "    };\n",
       "\n",
       "    function loadScript(lib) {\n",
       "      return new Promise(function(resolve, reject) {\n",
       "        var s = document.createElement('script');\n",
       "        s.src = paths[lib];\n",
       "        s.async = true;\n",
       "        s.onload = () => resolve(paths[lib]);\n",
       "        s.onerror = () => reject(`Error loading script: ${paths[lib]}`);\n",
       "        document.getElementsByTagName(\"head\")[0].appendChild(s);\n",
       "      });\n",
       "    }\n",
       "\n",
       "    function showError(err) {\n",
       "      outputDiv.innerHTML = `<div class=\"error\" style=\"color:red;\">${err}</div>`;\n",
       "      throw err;\n",
       "    }\n",
       "\n",
       "    function displayChart(vegaEmbed) {\n",
       "      vegaEmbed(outputDiv, spec, embedOpt)\n",
       "        .catch(err => showError(`Javascript Error: ${err.message}<br>This usually means there's a typo in your chart specification. See the javascript console for the full traceback.`));\n",
       "    }\n",
       "\n",
       "    if(typeof define === \"function\" && define.amd) {\n",
       "      requirejs.config({paths});\n",
       "      require([\"vega-embed\"], displayChart, err => showError(`Error loading script: ${err.message}`));\n",
       "    } else if (typeof vegaEmbed === \"function\") {\n",
       "      displayChart(vegaEmbed);\n",
       "    } else {\n",
       "      loadScript(\"vega\")\n",
       "        .then(() => loadScript(\"vega-lite\"))\n",
       "        .then(() => loadScript(\"vega-embed\"))\n",
       "        .catch(showError)\n",
       "        .then(() => displayChart(vegaEmbed));\n",
       "    }\n",
       "  })({\"config\": {\"view\": {\"continuousWidth\": 400, \"continuousHeight\": 300}}, \"layer\": [{\"mark\": {\"type\": \"errorbar\", \"extent\": \"ci\"}, \"encoding\": {\"color\": {\"type\": \"nominal\", \"field\": \"Algorithm\"}, \"x\": {\"type\": \"quantitative\", \"field\": \"N ligands explored\", \"scale\": {\"domain\": [0, 2410000]}, \"title\": \"Number of ligands sampled\"}, \"y\": {\"type\": \"quantitative\", \"field\": \"% top-k found\", \"scale\": {\"domain\": [0, 0.95]}}}}, {\"mark\": {\"type\": \"point\", \"color\": \"black\", \"filled\": true}, \"encoding\": {\"color\": {\"type\": \"nominal\", \"field\": \"Algorithm\"}, \"x\": {\"type\": \"quantitative\", \"field\": \"N ligands explored\"}, \"y\": {\"type\": \"quantitative\", \"aggregate\": \"mean\", \"field\": \"% top-k found\", \"scale\": {\"domain\": [0, 0.95]}}}}, {\"mark\": {\"type\": \"line\", \"color\": \"black\", \"opacity\": 0.5, \"size\": 1}, \"encoding\": {\"color\": {\"type\": \"nominal\", \"field\": \"Algorithm\"}, \"x\": {\"type\": \"quantitative\", \"field\": \"N ligands explored\"}, \"y\": {\"type\": \"quantitative\", \"aggregate\": \"mean\", \"field\": \"% top-k found\", \"scale\": {\"domain\": [0, 0.95]}}}}, {\"layer\": [{\"mark\": {\"type\": \"errorbar\", \"extent\": \"ci\"}, \"encoding\": {\"color\": {\"type\": \"nominal\", \"field\": \"Algorithm\"}, \"x\": {\"type\": \"quantitative\", \"field\": \"N ligands explored\", \"scale\": {\"domain\": [0, 1210000]}, \"title\": \"Number of ligands sampled\"}, \"y\": {\"type\": \"quantitative\", \"field\": \"% top-k found\", \"scale\": {\"domain\": [0, 0.95]}}}}, {\"mark\": {\"type\": \"point\", \"color\": \"black\", \"filled\": true}, \"encoding\": {\"color\": {\"type\": \"nominal\", \"field\": \"Algorithm\"}, \"x\": {\"type\": \"quantitative\", \"field\": \"N ligands explored\"}, \"y\": {\"type\": \"quantitative\", \"aggregate\": \"mean\", \"field\": \"% top-k found\", \"scale\": {\"domain\": [0, 0.95]}}}}, {\"mark\": {\"type\": \"line\", \"color\": \"black\", \"opacity\": 0.5, \"size\": 1}, \"encoding\": {\"color\": {\"type\": \"nominal\", \"field\": \"Algorithm\"}, \"x\": {\"type\": \"quantitative\", \"field\": \"N ligands explored\"}, \"y\": {\"type\": \"quantitative\", \"aggregate\": \"mean\", \"field\": \"% top-k found\", \"scale\": {\"domain\": [0, 0.95]}}}}], \"data\": {\"name\": \"data-7455ae1cdda928ca2d8cb4528a4807b2\"}, \"title\": \"0.2\", \"width\": 200}, {\"layer\": [{\"mark\": {\"type\": \"errorbar\", \"extent\": \"ci\"}, \"encoding\": {\"color\": {\"type\": \"nominal\", \"field\": \"Algorithm\"}, \"x\": {\"type\": \"quantitative\", \"field\": \"N ligands explored\", \"scale\": {\"domain\": [0, 610000]}, \"title\": \"Number of ligands sampled\"}, \"y\": {\"type\": \"quantitative\", \"field\": \"% top-k found\", \"scale\": {\"domain\": [0, 0.95]}}}}, {\"mark\": {\"type\": \"point\", \"color\": \"black\", \"filled\": true}, \"encoding\": {\"color\": {\"type\": \"nominal\", \"field\": \"Algorithm\"}, \"x\": {\"type\": \"quantitative\", \"field\": \"N ligands explored\"}, \"y\": {\"type\": \"quantitative\", \"aggregate\": \"mean\", \"field\": \"% top-k found\", \"scale\": {\"domain\": [0, 0.95]}}}}, {\"mark\": {\"type\": \"line\", \"color\": \"black\", \"opacity\": 0.5, \"size\": 1}, \"encoding\": {\"color\": {\"type\": \"nominal\", \"field\": \"Algorithm\"}, \"x\": {\"type\": \"quantitative\", \"field\": \"N ligands explored\"}, \"y\": {\"type\": \"quantitative\", \"aggregate\": \"mean\", \"field\": \"% top-k found\", \"scale\": {\"domain\": [0, 0.95]}}}}], \"data\": {\"name\": \"data-0c01a76e22be92105ddc77feeec60061\"}, \"title\": \"0.1\", \"width\": 200}], \"data\": {\"name\": \"data-088d808d9d564587e1089f10a2fd406a\"}, \"title\": \"0.4\", \"width\": 200, \"$schema\": \"https://vega.github.io/schema/vega-lite/v4.8.1.json\", \"datasets\": {\"data-088d808d9d564587e1089f10a2fd406a\": [{\"Unnamed: 0\": 0.0, \"Algorithm\": \"Morgan pharm. & Log.reg. (ours)\", \"Training size\": 400000, \"N ligands explored\": 400000, \"% top-k found\": 0.0037}, {\"Unnamed: 0\": 1.0, \"Algorithm\": \"Morgan pharm. & Log.reg. (ours)\", \"Training size\": 400000, \"N ligands explored\": 800000, \"% top-k found\": 0.30772}, {\"Unnamed: 0\": 2.0, \"Algorithm\": \"Morgan pharm. & Log.reg. (ours)\", \"Training size\": 400000, \"N ligands explored\": 1200000, \"% top-k found\": 0.60858}, {\"Unnamed: 0\": 3.0, \"Algorithm\": \"Morgan pharm. & Log.reg. (ours)\", \"Training size\": 400000, \"N ligands explored\": 1600000, \"% top-k found\": 0.7477600000000001}, {\"Unnamed: 0\": 4.0, \"Algorithm\": \"Morgan pharm. & Log.reg. (ours)\", \"Training size\": 400000, \"N ligands explored\": 2000000, \"% top-k found\": 0.8266600000000001}, {\"Unnamed: 0\": 5.0, \"Algorithm\": \"Morgan pharm. & Log.reg. (ours)\", \"Training size\": 400000, \"N ligands explored\": 2400000, \"% top-k found\": 0.89136}, {\"Unnamed: 0\": 18.0, \"Algorithm\": \"Morgan pharm. & Log.reg. (ours)\", \"Training size\": 400000, \"N ligands explored\": 400000, \"% top-k found\": 0.00448}, {\"Unnamed: 0\": 19.0, \"Algorithm\": \"Morgan pharm. & Log.reg. (ours)\", \"Training size\": 400000, \"N ligands explored\": 800000, \"% top-k found\": 0.3252}, {\"Unnamed: 0\": 20.0, \"Algorithm\": \"Morgan pharm. & Log.reg. (ours)\", \"Training size\": 400000, \"N ligands explored\": 1200000, \"% top-k found\": 0.61252}, {\"Unnamed: 0\": 21.0, \"Algorithm\": \"Morgan pharm. & Log.reg. (ours)\", \"Training size\": 400000, \"N ligands explored\": 1600000, \"% top-k found\": 0.72344}, {\"Unnamed: 0\": 22.0, \"Algorithm\": \"Morgan pharm. & Log.reg. (ours)\", \"Training size\": 400000, \"N ligands explored\": 2000000, \"% top-k found\": 0.79804}, {\"Unnamed: 0\": 23.0, \"Algorithm\": \"Morgan pharm. & Log.reg. (ours)\", \"Training size\": 400000, \"N ligands explored\": 2400000, \"% top-k found\": 0.8627}, {\"Unnamed: 0\": 36.0, \"Algorithm\": \"Morgan pharm. & Log.reg. (ours)\", \"Training size\": 400000, \"N ligands explored\": 400000, \"% top-k found\": 0.00448}, {\"Unnamed: 0\": 37.0, \"Algorithm\": \"Morgan pharm. & Log.reg. (ours)\", \"Training size\": 400000, \"N ligands explored\": 800000, \"% top-k found\": 0.34968}, {\"Unnamed: 0\": 38.0, \"Algorithm\": \"Morgan pharm. & Log.reg. (ours)\", \"Training size\": 400000, \"N ligands explored\": 1200000, \"% top-k found\": 0.647}, {\"Unnamed: 0\": 39.0, \"Algorithm\": \"Morgan pharm. & Log.reg. (ours)\", \"Training size\": 400000, \"N ligands explored\": 1600000, \"% top-k found\": 0.77712}, {\"Unnamed: 0\": 40.0, \"Algorithm\": \"Morgan pharm. & Log.reg. (ours)\", \"Training size\": 400000, \"N ligands explored\": 2000000, \"% top-k found\": 0.84564}, {\"Unnamed: 0\": 41.0, \"Algorithm\": \"Morgan pharm. & Log.reg. (ours)\", \"Training size\": 400000, \"N ligands explored\": 2400000, \"% top-k found\": 0.8835799999999999}, {\"Unnamed: 0\": null, \"Algorithm\": \"RF (Coley)\", \"Training size\": 400000, \"N ligands explored\": 2400000, \"% top-k found\": 0.6882803577007767}, {\"Unnamed: 0\": null, \"Algorithm\": \"RF (Coley)\", \"Training size\": 400000, \"N ligands explored\": 2400000, \"% top-k found\": 0.7140000000000001}, {\"Unnamed: 0\": null, \"Algorithm\": \"RF (Coley)\", \"Training size\": 400000, \"N ligands explored\": 2400000, \"% top-k found\": 0.7397196422992235}, {\"Unnamed: 0\": null, \"Algorithm\": \"NN (Coley)\", \"Training size\": 400000, \"N ligands explored\": 2400000, \"% top-k found\": 0.7298535718005178}, {\"Unnamed: 0\": null, \"Algorithm\": \"NN (Coley)\", \"Training size\": 400000, \"N ligands explored\": 2400000, \"% top-k found\": 0.747}, {\"Unnamed: 0\": null, \"Algorithm\": \"NN (Coley)\", \"Training size\": 400000, \"N ligands explored\": 2400000, \"% top-k found\": 0.7641464281994823}, {\"Unnamed: 0\": null, \"Algorithm\": \"MPN (Coley)\", \"Training size\": 400000, \"N ligands explored\": 2400000, \"% top-k found\": 0.8508308679579935}, {\"Unnamed: 0\": null, \"Algorithm\": \"MPN (Coley)\", \"Training size\": 400000, \"N ligands explored\": 2400000, \"% top-k found\": 0.879}, {\"Unnamed: 0\": null, \"Algorithm\": \"MPN (Coley)\", \"Training size\": 400000, \"N ligands explored\": 2400000, \"% top-k found\": 0.9071691320420067}], \"data-7455ae1cdda928ca2d8cb4528a4807b2\": [{\"Unnamed: 0\": 6.0, \"Algorithm\": \"Morgan pharm. & Log.reg. (ours)\", \"Training size\": 200000, \"N ligands explored\": 200000, \"% top-k found\": 0.0017800000000000001}, {\"Unnamed: 0\": 7.0, \"Algorithm\": \"Morgan pharm. & Log.reg. (ours)\", \"Training size\": 200000, \"N ligands explored\": 400000, \"% top-k found\": 0.15298}, {\"Unnamed: 0\": 8.0, \"Algorithm\": \"Morgan pharm. & Log.reg. (ours)\", \"Training size\": 200000, \"N ligands explored\": 600000, \"% top-k found\": 0.38156}, {\"Unnamed: 0\": 9.0, \"Algorithm\": \"Morgan pharm. & Log.reg. (ours)\", \"Training size\": 200000, \"N ligands explored\": 800000, \"% top-k found\": 0.5052399999999999}, {\"Unnamed: 0\": 10.0, \"Algorithm\": \"Morgan pharm. & Log.reg. (ours)\", \"Training size\": 200000, \"N ligands explored\": 1000000, \"% top-k found\": 0.5795399999999999}, {\"Unnamed: 0\": 11.0, \"Algorithm\": \"Morgan pharm. & Log.reg. (ours)\", \"Training size\": 200000, \"N ligands explored\": 1200000, \"% top-k found\": 0.64248}, {\"Unnamed: 0\": 24.0, \"Algorithm\": \"Morgan pharm. & Log.reg. (ours)\", \"Training size\": 200000, \"N ligands explored\": 200000, \"% top-k found\": 0.0022}, {\"Unnamed: 0\": 25.0, \"Algorithm\": \"Morgan pharm. & Log.reg. (ours)\", \"Training size\": 200000, \"N ligands explored\": 400000, \"% top-k found\": 0.17504}, {\"Unnamed: 0\": 26.0, \"Algorithm\": \"Morgan pharm. & Log.reg. (ours)\", \"Training size\": 200000, \"N ligands explored\": 600000, \"% top-k found\": 0.41576}, {\"Unnamed: 0\": 27.0, \"Algorithm\": \"Morgan pharm. & Log.reg. (ours)\", \"Training size\": 200000, \"N ligands explored\": 800000, \"% top-k found\": 0.555}, {\"Unnamed: 0\": 28.0, \"Algorithm\": \"Morgan pharm. & Log.reg. (ours)\", \"Training size\": 200000, \"N ligands explored\": 1000000, \"% top-k found\": 0.63354}, {\"Unnamed: 0\": 29.0, \"Algorithm\": \"Morgan pharm. & Log.reg. (ours)\", \"Training size\": 200000, \"N ligands explored\": 1200000, \"% top-k found\": 0.69568}, {\"Unnamed: 0\": 42.0, \"Algorithm\": \"Morgan pharm. & Log.reg. (ours)\", \"Training size\": 200000, \"N ligands explored\": 200000, \"% top-k found\": 0.0025399999999999997}, {\"Unnamed: 0\": 43.0, \"Algorithm\": \"Morgan pharm. & Log.reg. (ours)\", \"Training size\": 200000, \"N ligands explored\": 400000, \"% top-k found\": 0.18758}, {\"Unnamed: 0\": 44.0, \"Algorithm\": \"Morgan pharm. & Log.reg. (ours)\", \"Training size\": 200000, \"N ligands explored\": 600000, \"% top-k found\": 0.42516000000000004}, {\"Unnamed: 0\": 45.0, \"Algorithm\": \"Morgan pharm. & Log.reg. (ours)\", \"Training size\": 200000, \"N ligands explored\": 800000, \"% top-k found\": 0.58024}, {\"Unnamed: 0\": 46.0, \"Algorithm\": \"Morgan pharm. & Log.reg. (ours)\", \"Training size\": 200000, \"N ligands explored\": 1000000, \"% top-k found\": 0.6659}, {\"Unnamed: 0\": 47.0, \"Algorithm\": \"Morgan pharm. & Log.reg. (ours)\", \"Training size\": 200000, \"N ligands explored\": 1200000, \"% top-k found\": 0.73056}, {\"Unnamed: 0\": null, \"Algorithm\": \"RF (Coley)\", \"Training size\": 200000, \"N ligands explored\": 1200000, \"% top-k found\": 0.43295459231495137}, {\"Unnamed: 0\": null, \"Algorithm\": \"RF (Coley)\", \"Training size\": 200000, \"N ligands explored\": 1200000, \"% top-k found\": 0.455}, {\"Unnamed: 0\": null, \"Algorithm\": \"RF (Coley)\", \"Training size\": 200000, \"N ligands explored\": 1200000, \"% top-k found\": 0.4770454076850486}, {\"Unnamed: 0\": null, \"Algorithm\": \"NN (Coley)\", \"Training size\": 200000, \"N ligands explored\": 1200000, \"% top-k found\": 0.521876275643042}, {\"Unnamed: 0\": null, \"Algorithm\": \"NN (Coley)\", \"Training size\": 200000, \"N ligands explored\": 1200000, \"% top-k found\": 0.528}, {\"Unnamed: 0\": null, \"Algorithm\": \"NN (Coley)\", \"Training size\": 200000, \"N ligands explored\": 1200000, \"% top-k found\": 0.534123724356958}, {\"Unnamed: 0\": null, \"Algorithm\": \"MPN (Coley)\", \"Training size\": 200000, \"N ligands explored\": 1200000, \"% top-k found\": 0.6452803577007765}, {\"Unnamed: 0\": null, \"Algorithm\": \"MPN (Coley)\", \"Training size\": 200000, \"N ligands explored\": 1200000, \"% top-k found\": 0.6709999999999999}, {\"Unnamed: 0\": null, \"Algorithm\": \"MPN (Coley)\", \"Training size\": 200000, \"N ligands explored\": 1200000, \"% top-k found\": 0.6967196422992233}], \"data-0c01a76e22be92105ddc77feeec60061\": [{\"Unnamed: 0\": 12.0, \"Algorithm\": \"Morgan pharm. & Log.reg. (ours)\", \"Training size\": 100000, \"N ligands explored\": 100000, \"% top-k found\": 0.0009400000000000001}, {\"Unnamed: 0\": 13.0, \"Algorithm\": \"Morgan pharm. & Log.reg. (ours)\", \"Training size\": 100000, \"N ligands explored\": 200000, \"% top-k found\": 0.07122}, {\"Unnamed: 0\": 14.0, \"Algorithm\": \"Morgan pharm. & Log.reg. (ours)\", \"Training size\": 100000, \"N ligands explored\": 300000, \"% top-k found\": 0.22885999999999998}, {\"Unnamed: 0\": 15.0, \"Algorithm\": \"Morgan pharm. & Log.reg. (ours)\", \"Training size\": 100000, \"N ligands explored\": 400000, \"% top-k found\": 0.34031999999999996}, {\"Unnamed: 0\": 16.0, \"Algorithm\": \"Morgan pharm. & Log.reg. (ours)\", \"Training size\": 100000, \"N ligands explored\": 500000, \"% top-k found\": 0.41912}, {\"Unnamed: 0\": 17.0, \"Algorithm\": \"Morgan pharm. & Log.reg. (ours)\", \"Training size\": 100000, \"N ligands explored\": 600000, \"% top-k found\": 0.48218}, {\"Unnamed: 0\": 30.0, \"Algorithm\": \"Morgan pharm. & Log.reg. (ours)\", \"Training size\": 100000, \"N ligands explored\": 100000, \"% top-k found\": 0.00116}, {\"Unnamed: 0\": 31.0, \"Algorithm\": \"Morgan pharm. & Log.reg. (ours)\", \"Training size\": 100000, \"N ligands explored\": 200000, \"% top-k found\": 0.08806}, {\"Unnamed: 0\": 32.0, \"Algorithm\": \"Morgan pharm. & Log.reg. (ours)\", \"Training size\": 100000, \"N ligands explored\": 300000, \"% top-k found\": 0.25188}, {\"Unnamed: 0\": 33.0, \"Algorithm\": \"Morgan pharm. & Log.reg. (ours)\", \"Training size\": 100000, \"N ligands explored\": 400000, \"% top-k found\": 0.35324}, {\"Unnamed: 0\": 34.0, \"Algorithm\": \"Morgan pharm. & Log.reg. (ours)\", \"Training size\": 100000, \"N ligands explored\": 500000, \"% top-k found\": 0.42628}, {\"Unnamed: 0\": 35.0, \"Algorithm\": \"Morgan pharm. & Log.reg. (ours)\", \"Training size\": 100000, \"N ligands explored\": 600000, \"% top-k found\": 0.48294}, {\"Unnamed: 0\": 48.0, \"Algorithm\": \"Morgan pharm. & Log.reg. (ours)\", \"Training size\": 100000, \"N ligands explored\": 100000, \"% top-k found\": 0.00118}, {\"Unnamed: 0\": 49.0, \"Algorithm\": \"Morgan pharm. & Log.reg. (ours)\", \"Training size\": 100000, \"N ligands explored\": 200000, \"% top-k found\": 0.08394}, {\"Unnamed: 0\": 50.0, \"Algorithm\": \"Morgan pharm. & Log.reg. (ours)\", \"Training size\": 100000, \"N ligands explored\": 300000, \"% top-k found\": 0.24106}, {\"Unnamed: 0\": 51.0, \"Algorithm\": \"Morgan pharm. & Log.reg. (ours)\", \"Training size\": 100000, \"N ligands explored\": 400000, \"% top-k found\": 0.35702}, {\"Unnamed: 0\": 52.0, \"Algorithm\": \"Morgan pharm. & Log.reg. (ours)\", \"Training size\": 100000, \"N ligands explored\": 500000, \"% top-k found\": 0.44752}, {\"Unnamed: 0\": 53.0, \"Algorithm\": \"Morgan pharm. & Log.reg. (ours)\", \"Training size\": 100000, \"N ligands explored\": 600000, \"% top-k found\": 0.53092}, {\"Unnamed: 0\": null, \"Algorithm\": \"RF (Coley)\", \"Training size\": 100000, \"N ligands explored\": 600000, \"% top-k found\": 0.21305561282938507}, {\"Unnamed: 0\": null, \"Algorithm\": \"RF (Coley)\", \"Training size\": 100000, \"N ligands explored\": 600000, \"% top-k found\": 0.24}, {\"Unnamed: 0\": null, \"Algorithm\": \"RF (Coley)\", \"Training size\": 100000, \"N ligands explored\": 600000, \"% top-k found\": 0.26694438717061497}, {\"Unnamed: 0\": null, \"Algorithm\": \"NN (Coley)\", \"Training size\": 100000, \"N ligands explored\": 600000, \"% top-k found\": 0.32932576538582525}, {\"Unnamed: 0\": null, \"Algorithm\": \"NN (Coley)\", \"Training size\": 100000, \"N ligands explored\": 600000, \"% top-k found\": 0.33299999999999996}, {\"Unnamed: 0\": null, \"Algorithm\": \"NN (Coley)\", \"Training size\": 100000, \"N ligands explored\": 600000, \"% top-k found\": 0.3366742346141747}, {\"Unnamed: 0\": null, \"Algorithm\": \"MPN (Coley)\", \"Training size\": 100000, \"N ligands explored\": 600000, \"% top-k found\": 0.5138762756430421}, {\"Unnamed: 0\": null, \"Algorithm\": \"MPN (Coley)\", \"Training size\": 100000, \"N ligands explored\": 600000, \"% top-k found\": 0.52}, {\"Unnamed: 0\": null, \"Algorithm\": \"MPN (Coley)\", \"Training size\": 100000, \"N ligands explored\": 600000, \"% top-k found\": 0.526123724356958}]}}, {\"mode\": \"vega-lite\"});\n",
       "</script>"
      ],
      "text/plain": [
       "alt.LayerChart(...)"
      ]
     },
     "execution_count": 109,
     "metadata": {},
     "output_type": "execute_result"
    }
   ],
   "source": [
    "chs[0]+chs[1]+chs[2]"
   ]
  },
  {
   "cell_type": "code",
   "execution_count": 289,
   "metadata": {},
   "outputs": [],
   "source": [
    "sup.save('../figures/ampC_reconstruction.html')"
   ]
  },
  {
   "cell_type": "code",
   "execution_count": null,
   "metadata": {},
   "outputs": [],
   "source": []
  }
 ],
 "metadata": {
  "kernelspec": {
   "display_name": "Python 3",
   "language": "python",
   "name": "python3"
  },
  "language_info": {
   "codemirror_mode": {
    "name": "ipython",
    "version": 3
   },
   "file_extension": ".py",
   "mimetype": "text/x-python",
   "name": "python",
   "nbconvert_exporter": "python",
   "pygments_lexer": "ipython3",
   "version": "3.8.5"
  }
 },
 "nbformat": 4,
 "nbformat_minor": 4
}
