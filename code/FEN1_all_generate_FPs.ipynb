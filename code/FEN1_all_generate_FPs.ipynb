{
 "cells": [
  {
   "cell_type": "code",
   "execution_count": 1,
   "metadata": {},
   "outputs": [],
   "source": [
    "import numpy as np\n",
    "import matplotlib.pyplot as plt\n",
    "import pandas as pd\n",
    "import tqdm\n",
    "import ray\n",
    "from rdkit import Chem\n",
    "from rdkit.Chem import rdMolDescriptors\n",
    "from scipy import sparse\n",
    "import logging"
   ]
  },
  {
   "cell_type": "code",
   "execution_count": 2,
   "metadata": {},
   "outputs": [
    {
     "name": "stderr",
     "output_type": "stream",
     "text": [
      "2021-05-26 15:28:36,206\tINFO services.py:1267 -- View the Ray dashboard at \u001b[1m\u001b[32mhttp://127.0.0.1:8265\u001b[39m\u001b[22m\n"
     ]
    },
    {
     "data": {
      "text/plain": [
       "{'node_ip_address': '172.31.34.223',\n",
       " 'raylet_ip_address': '172.31.34.223',\n",
       " 'redis_address': '172.31.34.223:6379',\n",
       " 'object_store_address': '/tmp/ray/session_2021-05-26_15-28-35_313386_9827/sockets/plasma_store',\n",
       " 'raylet_socket_name': '/tmp/ray/session_2021-05-26_15-28-35_313386_9827/sockets/raylet',\n",
       " 'webui_url': '127.0.0.1:8265',\n",
       " 'session_dir': '/tmp/ray/session_2021-05-26_15-28-35_313386_9827',\n",
       " 'metrics_export_port': 59591,\n",
       " 'node_id': '75a8b87c7ba995ea45fc77b70fa42e8f447a553f1da0eace33bdfcca'}"
      ]
     },
     "execution_count": 2,
     "metadata": {},
     "output_type": "execute_result"
    }
   ],
   "source": [
    "ray.init()"
   ]
  },
  {
   "cell_type": "code",
   "execution_count": 35,
   "metadata": {},
   "outputs": [],
   "source": [
    "RECEPTOR = \"FEN1\"\n",
    "INPUT_DATA_DIR = f\"/mnt/efs/lit-pcba/{RECEPTOR}\"\n",
    "OUTPUT_DATA_DIR = \"../processed_data\""
   ]
  },
  {
   "cell_type": "code",
   "execution_count": 5,
   "metadata": {},
   "outputs": [],
   "source": [
    "def get_data():\n",
    "    actives = pd.read_csv(f\"{INPUT_DATA_DIR}/actives.smi\", sep=\" \", names=[\"Smiles\", \"Ligand\"])\n",
    "    actives[\"Active\"] = 1\n",
    "    inactives = pd.read_csv(f\"{INPUT_DATA_DIR}/inactives.smi\", sep=\" \", names=[\"Smiles\", \"Ligand\"])\n",
    "    inactives[\"Active\"] = 0\n",
    "    ligands_df = pd.concat([actives, inactives]).reset_index(drop=True)\n",
    "    \n",
    "    return ligands_df"
   ]
  },
  {
   "cell_type": "markdown",
   "metadata": {},
   "source": [
    "# Fingerprint molecules\n",
    "The whole set of fingerprints won't fit in memory (even sparse) so we have to save them as chunks. This iterates over the SMILES codes, generating fingerprint_matrices and score arrays, saving them as chunks of 10,000,000"
   ]
  },
  {
   "cell_type": "code",
   "execution_count": 20,
   "metadata": {},
   "outputs": [],
   "source": [
    "@ray.remote\n",
    "def create_fingerprint(smiles, score, i):\n",
    "    if i % 10000 == 0:\n",
    "        logging.basicConfig(level=logging.INFO)\n",
    "        logging.info(i)\n",
    "        \n",
    "    mol = Chem.MolFromSmiles(smiles)\n",
    "    pars = { \"radius\": 2,\n",
    "             \"nBits\": 8192,\n",
    "             \"invariants\": [],\n",
    "             \"fromAtoms\": [],\n",
    "             \"useChirality\": False,\n",
    "             \"useBondTypes\": True,\n",
    "             \"useFeatures\": True,\n",
    "    }\n",
    "    fp = rdMolDescriptors.GetMorganFingerprintAsBitVect(mol, **pars)\n",
    "    onbits = list(fp.GetOnBits())\n",
    "\n",
    "    return onbits, float(score)"
   ]
  },
  {
   "cell_type": "code",
   "execution_count": 23,
   "metadata": {},
   "outputs": [],
   "source": [
    "def get_fingerprints(ligands_df, fp_size=8192):\n",
    "    future_values = [create_fingerprint.remote(smiles=smiles, score=score, i=i) for (i, (smiles, score)) in enumerate(zip(ligands_df[\"Smiles\"], ligands_df[\"Active\"]))]\n",
    "    \n",
    "    values = [v for v in ray.get(future_values) if v]\n",
    "    all_bits, scores = zip(*values)\n",
    "    \n",
    "    row_idx = []\n",
    "    col_idx = []\n",
    "    for i, bits in enumerate(all_bits):\n",
    "        # these bits all have the same row:\n",
    "        row_idx += [i] * len(bits)\n",
    "        #and the column indices of those bits:\n",
    "        col_idx += bits\n",
    "    \n",
    "    # generate a sparse matrix out of the row,col indices:\n",
    "    unfolded_size = 8192\n",
    "    fingerprint_matrix = sparse.coo_matrix((np.ones(len(row_idx)).astype(bool), \n",
    "                                           (row_idx, col_idx)), \n",
    "                                           shape=(max(row_idx)+1, unfolded_size))\n",
    "    \n",
    "    # convert to csr matrix, it is better:\n",
    "    fingerprint_matrix =  sparse.csr_matrix(fingerprint_matrix)\n",
    "\n",
    "    return fingerprint_matrix, scores"
   ]
  },
  {
   "cell_type": "code",
   "execution_count": 17,
   "metadata": {},
   "outputs": [],
   "source": [
    "ligands_df = get_data()"
   ]
  },
  {
   "cell_type": "code",
   "execution_count": 24,
   "metadata": {},
   "outputs": [
    {
     "name": "stderr",
     "output_type": "stream",
     "text": [
      "\u001b[2m\u001b[36m(pid=9986)\u001b[0m INFO:root:0\n",
      "\u001b[2m\u001b[36m(pid=9968)\u001b[0m INFO:root:10000\n",
      "\u001b[2m\u001b[36m(pid=9966)\u001b[0m INFO:root:20000\n",
      "\u001b[2m\u001b[36m(pid=9968)\u001b[0m INFO:root:30000\n",
      "\u001b[2m\u001b[36m(pid=9978)\u001b[0m INFO:root:40000\n",
      "\u001b[2m\u001b[36m(pid=9973)\u001b[0m INFO:root:50000\n",
      "\u001b[2m\u001b[36m(pid=9974)\u001b[0m INFO:root:60000\n",
      "\u001b[2m\u001b[36m(pid=9978)\u001b[0m INFO:root:70000\n",
      "\u001b[2m\u001b[36m(pid=9972)\u001b[0m INFO:root:80000\n",
      "\u001b[2m\u001b[36m(pid=9969)\u001b[0m INFO:root:90000\n",
      "\u001b[2m\u001b[36m(pid=9981)\u001b[0m INFO:root:100000\n",
      "\u001b[2m\u001b[36m(pid=9976)\u001b[0m INFO:root:110000\n",
      "\u001b[2m\u001b[36m(pid=9972)\u001b[0m INFO:root:120000\n",
      "\u001b[2m\u001b[36m(pid=9986)\u001b[0m INFO:root:130000\n",
      "\u001b[2m\u001b[36m(pid=9966)\u001b[0m INFO:root:140000\n",
      "\u001b[2m\u001b[36m(pid=9967)\u001b[0m INFO:root:150000\n",
      "\u001b[2m\u001b[36m(pid=9970)\u001b[0m INFO:root:160000\n",
      "\u001b[2m\u001b[36m(pid=9971)\u001b[0m INFO:root:170000\n",
      "\u001b[2m\u001b[36m(pid=9977)\u001b[0m INFO:root:180000\n",
      "\u001b[2m\u001b[36m(pid=9978)\u001b[0m INFO:root:190000\n",
      "\u001b[2m\u001b[36m(pid=9973)\u001b[0m INFO:root:200000\n",
      "\u001b[2m\u001b[36m(pid=9975)\u001b[0m INFO:root:210000\n",
      "\u001b[2m\u001b[36m(pid=9971)\u001b[0m INFO:root:220000\n",
      "\u001b[2m\u001b[36m(pid=9978)\u001b[0m INFO:root:230000\n",
      "\u001b[2m\u001b[36m(pid=9986)\u001b[0m INFO:root:240000\n",
      "\u001b[2m\u001b[36m(pid=9967)\u001b[0m INFO:root:250000\n",
      "\u001b[2m\u001b[36m(pid=9968)\u001b[0m INFO:root:260000\n",
      "\u001b[2m\u001b[36m(pid=9967)\u001b[0m INFO:root:270000\n",
      "\u001b[2m\u001b[36m(pid=9971)\u001b[0m INFO:root:280000\n",
      "\u001b[2m\u001b[36m(pid=9986)\u001b[0m INFO:root:290000\n",
      "\u001b[2m\u001b[36m(pid=9967)\u001b[0m INFO:root:300000\n",
      "\u001b[2m\u001b[36m(pid=9970)\u001b[0m INFO:root:310000\n",
      "\u001b[2m\u001b[36m(pid=9974)\u001b[0m INFO:root:320000\n",
      "\u001b[2m\u001b[36m(pid=9971)\u001b[0m INFO:root:330000\n",
      "\u001b[2m\u001b[36m(pid=9986)\u001b[0m INFO:root:340000\n",
      "\u001b[2m\u001b[36m(pid=9968)\u001b[0m INFO:root:350000\n"
     ]
    }
   ],
   "source": [
    "fingerprint_matrix, scores = get_fingerprints(ligands_df=ligands_df)"
   ]
  },
  {
   "cell_type": "code",
   "execution_count": 37,
   "metadata": {},
   "outputs": [],
   "source": [
    "sparse.save_npz(f\"{OUTPUT_DATA_DIR}/{RECEPTOR}_fingerprints.npz\", fingerprint_matrix)\n",
    "np.save(f\"{OUTPUT_DATA_DIR}/{RECEPTOR}_scores.npy\", np.array(scores))"
   ]
  },
  {
   "cell_type": "code",
   "execution_count": null,
   "metadata": {},
   "outputs": [],
   "source": []
  }
 ],
 "metadata": {
  "kernelspec": {
   "display_name": "dockop",
   "language": "python",
   "name": "dockop"
  },
  "language_info": {
   "codemirror_mode": {
    "name": "ipython",
    "version": 3
   },
   "file_extension": ".py",
   "mimetype": "text/x-python",
   "name": "python",
   "nbconvert_exporter": "python",
   "pygments_lexer": "ipython3",
   "version": "3.8.10"
  }
 },
 "nbformat": 4,
 "nbformat_minor": 4
}
