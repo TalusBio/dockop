{
 "cells": [
  {
   "cell_type": "markdown",
   "metadata": {},
   "source": [
    "# Single iteration:"
   ]
  },
  {
   "cell_type": "code",
   "execution_count": 34,
   "metadata": {},
   "outputs": [],
   "source": [
    "import pandas as pd\n",
    "import altair as alt\n",
    "import numpy as np"
   ]
  },
  {
   "cell_type": "code",
   "execution_count": 314,
   "metadata": {
    "scrolled": true
   },
   "outputs": [
    {
     "name": "stdout",
     "output_type": "stream",
     "text": [
      "147\n"
     ]
    },
    {
     "data": {
      "text/html": [
       "<div>\n",
       "<style scoped>\n",
       "    .dataframe tbody tr th:only-of-type {\n",
       "        vertical-align: middle;\n",
       "    }\n",
       "\n",
       "    .dataframe tbody tr th {\n",
       "        vertical-align: top;\n",
       "    }\n",
       "\n",
       "    .dataframe thead th {\n",
       "        text-align: right;\n",
       "    }\n",
       "</style>\n",
       "<table border=\"1\" class=\"dataframe\">\n",
       "  <thead>\n",
       "    <tr style=\"text-align: right;\">\n",
       "      <th></th>\n",
       "      <th>Unnamed: 0</th>\n",
       "      <th>Algorithm</th>\n",
       "      <th>Training size</th>\n",
       "      <th>N hits wanted</th>\n",
       "      <th>N hits explored</th>\n",
       "      <th>gain</th>\n",
       "      <th>Days</th>\n",
       "    </tr>\n",
       "  </thead>\n",
       "  <tbody>\n",
       "    <tr>\n",
       "      <th>0</th>\n",
       "      <td>0</td>\n",
       "      <td>morgan_feat</td>\n",
       "      <td>5000</td>\n",
       "      <td>10000</td>\n",
       "      <td>289976</td>\n",
       "      <td>8.621403</td>\n",
       "      <td>3.356204</td>\n",
       "    </tr>\n",
       "    <tr>\n",
       "      <th>1</th>\n",
       "      <td>1</td>\n",
       "      <td>morgan_feat</td>\n",
       "      <td>10000</td>\n",
       "      <td>10000</td>\n",
       "      <td>221687</td>\n",
       "      <td>11.277161</td>\n",
       "      <td>2.565822</td>\n",
       "    </tr>\n",
       "    <tr>\n",
       "      <th>2</th>\n",
       "      <td>2</td>\n",
       "      <td>morgan_feat</td>\n",
       "      <td>20000</td>\n",
       "      <td>10000</td>\n",
       "      <td>154451</td>\n",
       "      <td>16.186363</td>\n",
       "      <td>1.787627</td>\n",
       "    </tr>\n",
       "    <tr>\n",
       "      <th>3</th>\n",
       "      <td>3</td>\n",
       "      <td>morgan_feat</td>\n",
       "      <td>40000</td>\n",
       "      <td>10000</td>\n",
       "      <td>150189</td>\n",
       "      <td>16.645693</td>\n",
       "      <td>1.738299</td>\n",
       "    </tr>\n",
       "    <tr>\n",
       "      <th>4</th>\n",
       "      <td>4</td>\n",
       "      <td>morgan_feat</td>\n",
       "      <td>80000</td>\n",
       "      <td>10000</td>\n",
       "      <td>146393</td>\n",
       "      <td>17.077319</td>\n",
       "      <td>1.694363</td>\n",
       "    </tr>\n",
       "  </tbody>\n",
       "</table>\n",
       "</div>"
      ],
      "text/plain": [
       "   Unnamed: 0    Algorithm  Training size  N hits wanted  N hits explored  \\\n",
       "0           0  morgan_feat           5000          10000           289976   \n",
       "1           1  morgan_feat          10000          10000           221687   \n",
       "2           2  morgan_feat          20000          10000           154451   \n",
       "3           3  morgan_feat          40000          10000           150189   \n",
       "4           4  morgan_feat          80000          10000           146393   \n",
       "\n",
       "        gain      Days  \n",
       "0   8.621403  3.356204  \n",
       "1  11.277161  2.565822  \n",
       "2  16.186363  1.787627  \n",
       "3  16.645693  1.738299  \n",
       "4  17.077319  1.694363  "
      ]
     },
     "execution_count": 314,
     "metadata": {},
     "output_type": "execute_result"
    }
   ],
   "source": [
    "df = pd.read_csv('../processed_data/D4_single_0.4.csv')\n",
    "#df = pd.read_csv('../processed_data/AmpC_single_0.4.csv')\n",
    "\n",
    "print(len(df))\n",
    "df['gain'] = df['N hits wanted']/0.004 / df['N hits explored']\n",
    "df['Days'] = df['N hits explored'] / 60 / 60 /24\n",
    "df.head()"
   ]
  },
  {
   "cell_type": "code",
   "execution_count": 402,
   "metadata": {},
   "outputs": [
    {
     "data": {
      "text/plain": [
       "0.4714045207910316"
      ]
     },
     "execution_count": 402,
     "metadata": {},
     "output_type": "execute_result"
    }
   ],
   "source": [
    "np.var([1,2,3])/np.sqrt(2)"
   ]
  },
  {
   "cell_type": "code",
   "execution_count": 401,
   "metadata": {},
   "outputs": [
    {
     "data": {
      "text/plain": [
       "1.0"
      ]
     },
     "execution_count": 401,
     "metadata": {},
     "output_type": "execute_result"
    }
   ],
   "source": [
    "tstd([1,2,3])"
   ]
  },
  {
   "cell_type": "code",
   "execution_count": 381,
   "metadata": {
    "scrolled": true
   },
   "outputs": [
    {
     "data": {
      "text/html": [
       "\n",
       "<div id=\"altair-viz-b8e54e24d12844108b31ad3ea4c50f8d\"></div>\n",
       "<script type=\"text/javascript\">\n",
       "  (function(spec, embedOpt){\n",
       "    let outputDiv = document.currentScript.previousElementSibling;\n",
       "    if (outputDiv.id !== \"altair-viz-b8e54e24d12844108b31ad3ea4c50f8d\") {\n",
       "      outputDiv = document.getElementById(\"altair-viz-b8e54e24d12844108b31ad3ea4c50f8d\");\n",
       "    }\n",
       "    const paths = {\n",
       "      \"vega\": \"https://cdn.jsdelivr.net/npm//vega@5?noext\",\n",
       "      \"vega-lib\": \"https://cdn.jsdelivr.net/npm//vega-lib?noext\",\n",
       "      \"vega-lite\": \"https://cdn.jsdelivr.net/npm//vega-lite@4.8.1?noext\",\n",
       "      \"vega-embed\": \"https://cdn.jsdelivr.net/npm//vega-embed@6?noext\",\n",
       "    };\n",
       "\n",
       "    function loadScript(lib) {\n",
       "      return new Promise(function(resolve, reject) {\n",
       "        var s = document.createElement('script');\n",
       "        s.src = paths[lib];\n",
       "        s.async = true;\n",
       "        s.onload = () => resolve(paths[lib]);\n",
       "        s.onerror = () => reject(`Error loading script: ${paths[lib]}`);\n",
       "        document.getElementsByTagName(\"head\")[0].appendChild(s);\n",
       "      });\n",
       "    }\n",
       "\n",
       "    function showError(err) {\n",
       "      outputDiv.innerHTML = `<div class=\"error\" style=\"color:red;\">${err}</div>`;\n",
       "      throw err;\n",
       "    }\n",
       "\n",
       "    function displayChart(vegaEmbed) {\n",
       "      vegaEmbed(outputDiv, spec, embedOpt)\n",
       "        .catch(err => showError(`Javascript Error: ${err.message}<br>This usually means there's a typo in your chart specification. See the javascript console for the full traceback.`));\n",
       "    }\n",
       "\n",
       "    if(typeof define === \"function\" && define.amd) {\n",
       "      requirejs.config({paths});\n",
       "      require([\"vega-embed\"], displayChart, err => showError(`Error loading script: ${err.message}`));\n",
       "    } else if (typeof vegaEmbed === \"function\") {\n",
       "      displayChart(vegaEmbed);\n",
       "    } else {\n",
       "      loadScript(\"vega\")\n",
       "        .then(() => loadScript(\"vega-lite\"))\n",
       "        .then(() => loadScript(\"vega-embed\"))\n",
       "        .catch(showError)\n",
       "        .then(() => displayChart(vegaEmbed));\n",
       "    }\n",
       "  })({\"config\": {\"view\": {\"continuousWidth\": 400, \"continuousHeight\": 300}}, \"layer\": [{\"mark\": {\"type\": \"errorbar\", \"extent\": \"ci\"}, \"encoding\": {\"color\": {\"type\": \"nominal\", \"field\": \"a\"}, \"x\": {\"type\": \"quantitative\", \"field\": \"a\"}, \"y\": {\"type\": \"quantitative\", \"field\": \"b\"}}}, {\"mark\": \"point\", \"encoding\": {\"color\": {\"type\": \"nominal\", \"field\": \"a\"}, \"x\": {\"type\": \"quantitative\", \"field\": \"a\"}, \"y\": {\"type\": \"quantitative\", \"aggregate\": \"mean\", \"field\": \"b\"}}}], \"data\": {\"name\": \"data-c1841da6a033a5e41a210b0d260f03fe\"}, \"$schema\": \"https://vega.github.io/schema/vega-lite/v4.8.1.json\", \"datasets\": {\"data-c1841da6a033a5e41a210b0d260f03fe\": [{\"a\": 0.5, \"b\": 1}, {\"a\": 0.5, \"b\": 2}, {\"a\": 0.5, \"b\": 3}, {\"a\": 1.5, \"b\": 4}, {\"a\": 1.5, \"b\": 6}, {\"a\": 1.5, \"b\": 8}]}}, {\"mode\": \"vega-lite\"});\n",
       "</script>"
      ],
      "text/plain": [
       "alt.LayerChart(...)"
      ]
     },
     "execution_count": 381,
     "metadata": {},
     "output_type": "execute_result"
    }
   ],
   "source": [
    "d = pd.DataFrame({'a':[0.5,0.5,0.5,1.5,1.5,1.5], 'b':[1,2,3, 4,6,8]})\n",
    "\n",
    "eb = alt.Chart(d).mark_errorbar(extent='ci').encode(\n",
    "    x=alt.X('a:Q'),\n",
    "    y=alt.Y('b:Q'),\n",
    "    color=alt.Color('a:N')\n",
    ")\n",
    "pts = alt.Chart(d).mark_point().encode(\n",
    "    x=alt.X('a:Q'),\n",
    "    y=alt.Y('b:Q', aggregate='mean'),\n",
    "    color=alt.Color('a:N')\n",
    ")\n",
    "eb+pts\n"
   ]
  },
  {
   "cell_type": "code",
   "execution_count": 387,
   "metadata": {},
   "outputs": [
    {
     "data": {
      "text/html": [
       "\n",
       "<div id=\"altair-viz-105983d7601843ad8cfa09c8b226d959\"></div>\n",
       "<script type=\"text/javascript\">\n",
       "  (function(spec, embedOpt){\n",
       "    let outputDiv = document.currentScript.previousElementSibling;\n",
       "    if (outputDiv.id !== \"altair-viz-105983d7601843ad8cfa09c8b226d959\") {\n",
       "      outputDiv = document.getElementById(\"altair-viz-105983d7601843ad8cfa09c8b226d959\");\n",
       "    }\n",
       "    const paths = {\n",
       "      \"vega\": \"https://cdn.jsdelivr.net/npm//vega@5?noext\",\n",
       "      \"vega-lib\": \"https://cdn.jsdelivr.net/npm//vega-lib?noext\",\n",
       "      \"vega-lite\": \"https://cdn.jsdelivr.net/npm//vega-lite@4.8.1?noext\",\n",
       "      \"vega-embed\": \"https://cdn.jsdelivr.net/npm//vega-embed@6?noext\",\n",
       "    };\n",
       "\n",
       "    function loadScript(lib) {\n",
       "      return new Promise(function(resolve, reject) {\n",
       "        var s = document.createElement('script');\n",
       "        s.src = paths[lib];\n",
       "        s.async = true;\n",
       "        s.onload = () => resolve(paths[lib]);\n",
       "        s.onerror = () => reject(`Error loading script: ${paths[lib]}`);\n",
       "        document.getElementsByTagName(\"head\")[0].appendChild(s);\n",
       "      });\n",
       "    }\n",
       "\n",
       "    function showError(err) {\n",
       "      outputDiv.innerHTML = `<div class=\"error\" style=\"color:red;\">${err}</div>`;\n",
       "      throw err;\n",
       "    }\n",
       "\n",
       "    function displayChart(vegaEmbed) {\n",
       "      vegaEmbed(outputDiv, spec, embedOpt)\n",
       "        .catch(err => showError(`Javascript Error: ${err.message}<br>This usually means there's a typo in your chart specification. See the javascript console for the full traceback.`));\n",
       "    }\n",
       "\n",
       "    if(typeof define === \"function\" && define.amd) {\n",
       "      requirejs.config({paths});\n",
       "      require([\"vega-embed\"], displayChart, err => showError(`Error loading script: ${err.message}`));\n",
       "    } else if (typeof vegaEmbed === \"function\") {\n",
       "      displayChart(vegaEmbed);\n",
       "    } else {\n",
       "      loadScript(\"vega\")\n",
       "        .then(() => loadScript(\"vega-lite\"))\n",
       "        .then(() => loadScript(\"vega-embed\"))\n",
       "        .catch(showError)\n",
       "        .then(() => displayChart(vegaEmbed));\n",
       "    }\n",
       "  })({\"config\": {\"view\": {\"continuousWidth\": 400, \"continuousHeight\": 300}}, \"layer\": [{\"mark\": {\"type\": \"line\", \"color\": \"black\", \"opacity\": 0.5, \"size\": 2}, \"encoding\": {\"color\": {\"type\": \"nominal\", \"field\": \"N hits wanted\"}, \"x\": {\"type\": \"quantitative\", \"field\": \"Training size\", \"scale\": {\"type\": \"log\"}}, \"y\": {\"type\": \"quantitative\", \"aggregate\": \"mean\", \"field\": \"gain\", \"title\": \"Enrichment\"}}}, {\"mark\": \"point\", \"encoding\": {\"color\": {\"type\": \"nominal\", \"field\": \"N hits wanted\"}, \"x\": {\"type\": \"quantitative\", \"field\": \"Training size\"}, \"y\": {\"type\": \"quantitative\", \"aggregate\": \"mean\", \"field\": \"gain\"}}}, {\"mark\": {\"type\": \"errorbar\", \"extent\": \"stdev\"}, \"encoding\": {\"color\": {\"type\": \"nominal\", \"field\": \"N hits wanted\"}, \"x\": {\"type\": \"quantitative\", \"field\": \"Training size\"}, \"y\": {\"type\": \"quantitative\", \"aggregate\": \"mean\", \"field\": \"gain\"}}}], \"data\": {\"name\": \"data-cc105c07098f86cabadbc707cfc40725\"}, \"$schema\": \"https://vega.github.io/schema/vega-lite/v4.8.1.json\", \"datasets\": {\"data-cc105c07098f86cabadbc707cfc40725\": [{\"Unnamed: 0\": 0, \"Algorithm\": \"morgan_feat\", \"Training size\": 5000, \"N hits wanted\": 10000, \"N hits explored\": 289976, \"gain\": 8.621403150605568, \"Days\": 3.356203703703704}, {\"Unnamed: 0\": 1, \"Algorithm\": \"morgan_feat\", \"Training size\": 10000, \"N hits wanted\": 10000, \"N hits explored\": 221687, \"gain\": 11.27716104237055, \"Days\": 2.565821759259259}, {\"Unnamed: 0\": 2, \"Algorithm\": \"morgan_feat\", \"Training size\": 20000, \"N hits wanted\": 10000, \"N hits explored\": 154451, \"gain\": 16.18636331263637, \"Days\": 1.7876273148148147}, {\"Unnamed: 0\": 3, \"Algorithm\": \"morgan_feat\", \"Training size\": 40000, \"N hits wanted\": 10000, \"N hits explored\": 150189, \"gain\": 16.645693093369022, \"Days\": 1.7382986111111112}, {\"Unnamed: 0\": 4, \"Algorithm\": \"morgan_feat\", \"Training size\": 80000, \"N hits wanted\": 10000, \"N hits explored\": 146393, \"gain\": 17.077319270730158, \"Days\": 1.6943634259259257}, {\"Unnamed: 0\": 5, \"Algorithm\": \"morgan_feat\", \"Training size\": 160000, \"N hits wanted\": 10000, \"N hits explored\": 206603, \"gain\": 12.100501928820007, \"Days\": 2.3912384259259256}, {\"Unnamed: 0\": 6, \"Algorithm\": \"morgan_feat\", \"Training size\": 320000, \"N hits wanted\": 10000, \"N hits explored\": 357871, \"gain\": 6.985757437735944, \"Days\": 4.142025462962963}, {\"Unnamed: 0\": 7, \"Algorithm\": \"morgan_feat\", \"Training size\": 640000, \"N hits wanted\": 10000, \"N hits explored\": 664730, \"gain\": 3.760925488544221, \"Days\": 7.69363425925926}, {\"Unnamed: 0\": 8, \"Algorithm\": \"morgan_feat\", \"Training size\": 5000, \"N hits wanted\": 30000, \"N hits explored\": 881190, \"gain\": 8.511217785040683, \"Days\": 10.198958333333334}, {\"Unnamed: 0\": 9, \"Algorithm\": \"morgan_feat\", \"Training size\": 10000, \"N hits wanted\": 30000, \"N hits explored\": 603481, \"gain\": 12.427897481445148, \"Days\": 6.984733796296296}, {\"Unnamed: 0\": 10, \"Algorithm\": \"morgan_feat\", \"Training size\": 20000, \"N hits wanted\": 30000, \"N hits explored\": 429493, \"gain\": 17.462449911872834, \"Days\": 4.970983796296296}, {\"Unnamed: 0\": 11, \"Algorithm\": \"morgan_feat\", \"Training size\": 40000, \"N hits wanted\": 30000, \"N hits explored\": 339125, \"gain\": 22.115739034279397, \"Days\": 3.9250578703703702}, {\"Unnamed: 0\": 12, \"Algorithm\": \"morgan_feat\", \"Training size\": 80000, \"N hits wanted\": 30000, \"N hits explored\": 336149, \"gain\": 22.311534468345883, \"Days\": 3.890613425925926}, {\"Unnamed: 0\": 13, \"Algorithm\": \"morgan_feat\", \"Training size\": 160000, \"N hits wanted\": 30000, \"N hits explored\": 360274, \"gain\": 20.817488911217573, \"Days\": 4.169837962962963}, {\"Unnamed: 0\": 14, \"Algorithm\": \"morgan_feat\", \"Training size\": 320000, \"N hits wanted\": 30000, \"N hits explored\": 478429, \"gain\": 15.676307247261349, \"Days\": 5.537372685185185}, {\"Unnamed: 0\": 15, \"Algorithm\": \"morgan_feat\", \"Training size\": 640000, \"N hits wanted\": 30000, \"N hits explored\": 763330, \"gain\": 9.8253704164647, \"Days\": 8.834837962962963}, {\"Unnamed: 0\": 16, \"Algorithm\": \"morgan_feat\", \"Training size\": 5000, \"N hits wanted\": 100000, \"N hits explored\": 2452342, \"gain\": 10.194336678978708, \"Days\": 28.383587962962963}, {\"Unnamed: 0\": 17, \"Algorithm\": \"morgan_feat\", \"Training size\": 10000, \"N hits wanted\": 100000, \"N hits explored\": 2221114, \"gain\": 11.25561317429002, \"Days\": 25.707337962962963}, {\"Unnamed: 0\": 18, \"Algorithm\": \"morgan_feat\", \"Training size\": 20000, \"N hits wanted\": 100000, \"N hits explored\": 1851224, \"gain\": 13.504578592325942, \"Days\": 21.426203703703706}, {\"Unnamed: 0\": 19, \"Algorithm\": \"morgan_feat\", \"Training size\": 40000, \"N hits wanted\": 100000, \"N hits explored\": 1425096, \"gain\": 17.542677826616593, \"Days\": 16.494166666666665}, {\"Unnamed: 0\": 20, \"Algorithm\": \"morgan_feat\", \"Training size\": 80000, \"N hits wanted\": 100000, \"N hits explored\": 1279256, \"gain\": 19.542609141563535, \"Days\": 14.806203703703703}, {\"Unnamed: 0\": 21, \"Algorithm\": \"morgan_feat\", \"Training size\": 160000, \"N hits wanted\": 100000, \"N hits explored\": 1139867, \"gain\": 21.93238333945978, \"Days\": 13.192905092592591}, {\"Unnamed: 0\": 22, \"Algorithm\": \"morgan_feat\", \"Training size\": 320000, \"N hits wanted\": 100000, \"N hits explored\": 1138506, \"gain\": 21.958601887034412, \"Days\": 13.177152777777778}, {\"Unnamed: 0\": 23, \"Algorithm\": \"morgan_feat\", \"Training size\": 640000, \"N hits wanted\": 100000, \"N hits explored\": 1317028, \"gain\": 18.98213249832198, \"Days\": 15.24337962962963}, {\"Unnamed: 0\": 24, \"Algorithm\": \"morgan_feat\", \"Training size\": 5000, \"N hits wanted\": 300000, \"N hits explored\": 13704864, \"gain\": 5.47250961410489, \"Days\": 158.6211111111111}, {\"Unnamed: 0\": 25, \"Algorithm\": \"morgan_feat\", \"Training size\": 10000, \"N hits wanted\": 300000, \"N hits explored\": 12733532, \"gain\": 5.889960460302766, \"Days\": 147.37884259259258}, {\"Unnamed: 0\": 26, \"Algorithm\": \"morgan_feat\", \"Training size\": 20000, \"N hits wanted\": 300000, \"N hits explored\": 11329150, \"gain\": 6.620090651107983, \"Days\": 131.12442129629628}, {\"Unnamed: 0\": 27, \"Algorithm\": \"morgan_feat\", \"Training size\": 40000, \"N hits wanted\": 300000, \"N hits explored\": 9695190, \"gain\": 7.735794760082062, \"Days\": 112.21284722222221}, {\"Unnamed: 0\": 28, \"Algorithm\": \"morgan_feat\", \"Training size\": 80000, \"N hits wanted\": 300000, \"N hits explored\": 8084362, \"gain\": 9.277169923860411, \"Days\": 93.56900462962962}, {\"Unnamed: 0\": 29, \"Algorithm\": \"morgan_feat\", \"Training size\": 160000, \"N hits wanted\": 300000, \"N hits explored\": 7072122, \"gain\": 10.605020671306292, \"Days\": 81.85326388888889}, {\"Unnamed: 0\": 30, \"Algorithm\": \"morgan_feat\", \"Training size\": 320000, \"N hits wanted\": 300000, \"N hits explored\": 6360367, \"gain\": 11.79177239300814, \"Days\": 73.61535879629629}, {\"Unnamed: 0\": 31, \"Algorithm\": \"morgan_feat\", \"Training size\": 640000, \"N hits wanted\": 300000, \"N hits explored\": 6054712, \"gain\": 12.38704665060865, \"Days\": 70.07768518518519}, {\"Unnamed: 0\": 32, \"Algorithm\": \"morgan_feat\", \"Training size\": 5000, \"N hits wanted\": 10000, \"N hits explored\": 147191, \"gain\": 16.98473412097207, \"Days\": 1.703599537037037}, {\"Unnamed: 0\": 33, \"Algorithm\": \"morgan_feat\", \"Training size\": 10000, \"N hits wanted\": 10000, \"N hits explored\": 110755, \"gain\": 22.572344363685612, \"Days\": 1.2818865740740741}, {\"Unnamed: 0\": 34, \"Algorithm\": \"morgan_feat\", \"Training size\": 20000, \"N hits wanted\": 10000, \"N hits explored\": 102886, \"gain\": 24.29873840950178, \"Days\": 1.190810185185185}, {\"Unnamed: 0\": 35, \"Algorithm\": \"morgan_feat\", \"Training size\": 40000, \"N hits wanted\": 10000, \"N hits explored\": 116242, \"gain\": 21.506856385815798, \"Days\": 1.3453935185185184}, {\"Unnamed: 0\": 36, \"Algorithm\": \"morgan_feat\", \"Training size\": 80000, \"N hits wanted\": 10000, \"N hits explored\": 160457, \"gain\": 15.580498202010508, \"Days\": 1.8571412037037038}, {\"Unnamed: 0\": 37, \"Algorithm\": \"morgan_feat\", \"Training size\": 160000, \"N hits wanted\": 10000, \"N hits explored\": 208480, \"gain\": 11.991557943207981, \"Days\": 2.412962962962963}, {\"Unnamed: 0\": 38, \"Algorithm\": \"morgan_feat\", \"Training size\": 320000, \"N hits wanted\": 10000, \"N hits explored\": 358206, \"gain\": 6.97922424526669, \"Days\": 4.145902777777779}, {\"Unnamed: 0\": 39, \"Algorithm\": \"morgan_feat\", \"Training size\": 640000, \"N hits wanted\": 10000, \"N hits explored\": 666034, \"gain\": 3.753562130461808, \"Days\": 7.708726851851853}, {\"Unnamed: 0\": 40, \"Algorithm\": \"morgan_feat\", \"Training size\": 5000, \"N hits wanted\": 30000, \"N hits explored\": 797579, \"gain\": 9.403457212388993, \"Days\": 9.231238425925925}, {\"Unnamed: 0\": 41, \"Algorithm\": \"morgan_feat\", \"Training size\": 10000, \"N hits wanted\": 30000, \"N hits explored\": 487954, \"gain\": 15.370301298892928, \"Days\": 5.647615740740741}, {\"Unnamed: 0\": 42, \"Algorithm\": \"morgan_feat\", \"Training size\": 20000, \"N hits wanted\": 30000, \"N hits explored\": 379762, \"gain\": 19.749211348160163, \"Days\": 4.395393518518518}, {\"Unnamed: 0\": 43, \"Algorithm\": \"morgan_feat\", \"Training size\": 40000, \"N hits wanted\": 30000, \"N hits explored\": 301000, \"gain\": 24.916943521594686, \"Days\": 3.4837962962962963}, {\"Unnamed: 0\": 44, \"Algorithm\": \"morgan_feat\", \"Training size\": 80000, \"N hits wanted\": 30000, \"N hits explored\": 299153, \"gain\": 25.070783177838766, \"Days\": 3.462418981481481}, {\"Unnamed: 0\": 45, \"Algorithm\": \"morgan_feat\", \"Training size\": 160000, \"N hits wanted\": 30000, \"N hits explored\": 351700, \"gain\": 21.324992891669037, \"Days\": 4.070601851851852}, {\"Unnamed: 0\": 46, \"Algorithm\": \"morgan_feat\", \"Training size\": 320000, \"N hits wanted\": 30000, \"N hits explored\": 467493, \"gain\": 16.043020965019796, \"Days\": 5.410798611111112}, {\"Unnamed: 0\": 47, \"Algorithm\": \"morgan_feat\", \"Training size\": 640000, \"N hits wanted\": 30000, \"N hits explored\": 762559, \"gain\": 9.83530454692686, \"Days\": 8.825914351851852}, {\"Unnamed: 0\": 48, \"Algorithm\": \"morgan_feat\", \"Training size\": 5000, \"N hits wanted\": 100000, \"N hits explored\": 2769598, \"gain\": 9.026580752874604, \"Days\": 32.055532407407405}, {\"Unnamed: 0\": 49, \"Algorithm\": \"morgan_feat\", \"Training size\": 10000, \"N hits wanted\": 100000, \"N hits explored\": 2112081, \"gain\": 11.836667249030695, \"Days\": 24.445381944444446}, {\"Unnamed: 0\": 50, \"Algorithm\": \"morgan_feat\", \"Training size\": 20000, \"N hits wanted\": 100000, \"N hits explored\": 1708605, \"gain\": 14.631819525285247, \"Days\": 19.775520833333335}, {\"Unnamed: 0\": 51, \"Algorithm\": \"morgan_feat\", \"Training size\": 40000, \"N hits wanted\": 100000, \"N hits explored\": 1344764, \"gain\": 18.590622592514375, \"Days\": 15.564398148148149}, {\"Unnamed: 0\": 52, \"Algorithm\": \"morgan_feat\", \"Training size\": 80000, \"N hits wanted\": 100000, \"N hits explored\": 1234545, \"gain\": 20.250375644468203, \"Days\": 14.288715277777778}, {\"Unnamed: 0\": 53, \"Algorithm\": \"morgan_feat\", \"Training size\": 160000, \"N hits wanted\": 100000, \"N hits explored\": 1125042, \"gain\": 22.221392623564277, \"Days\": 13.021319444444444}, {\"Unnamed: 0\": 54, \"Algorithm\": \"morgan_feat\", \"Training size\": 320000, \"N hits wanted\": 100000, \"N hits explored\": 1168286, \"gain\": 21.398869797292786, \"Days\": 13.521828703703704}, {\"Unnamed: 0\": 55, \"Algorithm\": \"morgan_feat\", \"Training size\": 640000, \"N hits wanted\": 100000, \"N hits explored\": 1346774, \"gain\": 18.562876919215846, \"Days\": 15.587662037037036}, {\"Unnamed: 0\": 56, \"Algorithm\": \"morgan_feat\", \"Training size\": 5000, \"N hits wanted\": 300000, \"N hits explored\": 17897451, \"gain\": 4.190540876463358, \"Days\": 207.1464236111111}, {\"Unnamed: 0\": 57, \"Algorithm\": \"morgan_feat\", \"Training size\": 10000, \"N hits wanted\": 300000, \"N hits explored\": 12332485, \"gain\": 6.081499389620178, \"Days\": 142.7370949074074}, {\"Unnamed: 0\": 58, \"Algorithm\": \"morgan_feat\", \"Training size\": 20000, \"N hits wanted\": 300000, \"N hits explored\": 10450688, \"gain\": 7.1765610072753105, \"Days\": 120.95703703703704}, {\"Unnamed: 0\": 59, \"Algorithm\": \"morgan_feat\", \"Training size\": 40000, \"N hits wanted\": 300000, \"N hits explored\": 9032976, \"gain\": 8.302911465722925, \"Days\": 104.54833333333335}, {\"Unnamed: 0\": 60, \"Algorithm\": \"morgan_feat\", \"Training size\": 80000, \"N hits wanted\": 300000, \"N hits explored\": 8033064, \"gain\": 9.336412606696523, \"Days\": 92.97527777777778}, {\"Unnamed: 0\": 61, \"Algorithm\": \"morgan_feat\", \"Training size\": 160000, \"N hits wanted\": 300000, \"N hits explored\": 7022275, \"gain\": 10.680299475597296, \"Days\": 81.27633101851852}, {\"Unnamed: 0\": 62, \"Algorithm\": \"morgan_feat\", \"Training size\": 320000, \"N hits wanted\": 300000, \"N hits explored\": 6473740, \"gain\": 11.585266013154683, \"Days\": 74.9275462962963}, {\"Unnamed: 0\": 63, \"Algorithm\": \"morgan_feat\", \"Training size\": 640000, \"N hits wanted\": 300000, \"N hits explored\": 6093706, \"gain\": 12.307781176184083, \"Days\": 70.52900462962963}, {\"Unnamed: 0\": 64, \"Algorithm\": \"morgan_feat\", \"Training size\": 5000, \"N hits wanted\": 10000, \"N hits explored\": 167563, \"gain\": 14.919761522531823, \"Days\": 1.939386574074074}, {\"Unnamed: 0\": 65, \"Algorithm\": \"morgan_feat\", \"Training size\": 10000, \"N hits wanted\": 10000, \"N hits explored\": 177291, \"gain\": 14.10111060347113, \"Days\": 2.0519791666666665}, {\"Unnamed: 0\": 66, \"Algorithm\": \"morgan_feat\", \"Training size\": 20000, \"N hits wanted\": 10000, \"N hits explored\": 136521, \"gain\": 18.312201053317803, \"Days\": 1.5801041666666666}, {\"Unnamed: 0\": 67, \"Algorithm\": \"morgan_feat\", \"Training size\": 40000, \"N hits wanted\": 10000, \"N hits explored\": 144359, \"gain\": 17.31793653322619, \"Days\": 1.6708217592592591}, {\"Unnamed: 0\": 68, \"Algorithm\": \"morgan_feat\", \"Training size\": 80000, \"N hits wanted\": 10000, \"N hits explored\": 150744, \"gain\": 16.584408002971927, \"Days\": 1.7447222222222223}, {\"Unnamed: 0\": 69, \"Algorithm\": \"morgan_feat\", \"Training size\": 160000, \"N hits wanted\": 10000, \"N hits explored\": 208765, \"gain\": 11.975187411682993, \"Days\": 2.416261574074074}, {\"Unnamed: 0\": 70, \"Algorithm\": \"morgan_feat\", \"Training size\": 320000, \"N hits wanted\": 10000, \"N hits explored\": 357755, \"gain\": 6.988022529384635, \"Days\": 4.14068287037037}, {\"Unnamed: 0\": 71, \"Algorithm\": \"morgan_feat\", \"Training size\": 640000, \"N hits wanted\": 10000, \"N hits explored\": 663916, \"gain\": 3.7655366040282203, \"Days\": 7.684212962962963}, {\"Unnamed: 0\": 72, \"Algorithm\": \"morgan_feat\", \"Training size\": 5000, \"N hits wanted\": 30000, \"N hits explored\": 530735, \"gain\": 14.131346152034443, \"Days\": 6.1427662037037045}, {\"Unnamed: 0\": 73, \"Algorithm\": \"morgan_feat\", \"Training size\": 10000, \"N hits wanted\": 30000, \"N hits explored\": 535530, \"gain\": 14.004817657274103, \"Days\": 6.198263888888889}, {\"Unnamed: 0\": 74, \"Algorithm\": \"morgan_feat\", \"Training size\": 20000, \"N hits wanted\": 30000, \"N hits explored\": 461139, \"gain\": 16.264076558261173, \"Days\": 5.337256944444444}, {\"Unnamed: 0\": 75, \"Algorithm\": \"morgan_feat\", \"Training size\": 40000, \"N hits wanted\": 30000, \"N hits explored\": 375039, \"gain\": 19.997920216297505, \"Days\": 4.340729166666667}, {\"Unnamed: 0\": 76, \"Algorithm\": \"morgan_feat\", \"Training size\": 80000, \"N hits wanted\": 30000, \"N hits explored\": 318970, \"gain\": 23.513183057967833, \"Days\": 3.6917824074074077}, {\"Unnamed: 0\": 77, \"Algorithm\": \"morgan_feat\", \"Training size\": 160000, \"N hits wanted\": 30000, \"N hits explored\": 348454, \"gain\": 21.523644440873113, \"Days\": 4.033032407407407}, {\"Unnamed: 0\": 78, \"Algorithm\": \"morgan_feat\", \"Training size\": 320000, \"N hits wanted\": 30000, \"N hits explored\": 470379, \"gain\": 15.944589363045544, \"Days\": 5.444201388888889}, {\"Unnamed: 0\": 79, \"Algorithm\": \"morgan_feat\", \"Training size\": 640000, \"N hits wanted\": 30000, \"N hits explored\": 755976, \"gain\": 9.92094987142449, \"Days\": 8.749722222222223}, {\"Unnamed: 0\": 80, \"Algorithm\": \"morgan_feat\", \"Training size\": 5000, \"N hits wanted\": 100000, \"N hits explored\": 4258304, \"gain\": 5.870881928580017, \"Days\": 49.28592592592593}, {\"Unnamed: 0\": 81, \"Algorithm\": \"morgan_feat\", \"Training size\": 10000, \"N hits wanted\": 100000, \"N hits explored\": 3146309, \"gain\": 7.94581841770786, \"Days\": 36.41561342592592}, {\"Unnamed: 0\": 82, \"Algorithm\": \"morgan_feat\", \"Training size\": 20000, \"N hits wanted\": 100000, \"N hits explored\": 2177513, \"gain\": 11.480987713965428, \"Days\": 25.202696759259258}, {\"Unnamed: 0\": 83, \"Algorithm\": \"morgan_feat\", \"Training size\": 40000, \"N hits wanted\": 100000, \"N hits explored\": 1657423, \"gain\": 15.083656978333233, \"Days\": 19.183136574074073}, {\"Unnamed: 0\": 84, \"Algorithm\": \"morgan_feat\", \"Training size\": 80000, \"N hits wanted\": 100000, \"N hits explored\": 1400456, \"gain\": 17.851328424456035, \"Days\": 16.208981481481484}, {\"Unnamed: 0\": 85, \"Algorithm\": \"morgan_feat\", \"Training size\": 160000, \"N hits wanted\": 100000, \"N hits explored\": 1240975, \"gain\": 20.145450150083605, \"Days\": 14.363136574074074}, {\"Unnamed: 0\": 86, \"Algorithm\": \"morgan_feat\", \"Training size\": 320000, \"N hits wanted\": 100000, \"N hits explored\": 1168389, \"gain\": 21.39698336769689, \"Days\": 13.523020833333334}, {\"Unnamed: 0\": 87, \"Algorithm\": \"morgan_feat\", \"Training size\": 640000, \"N hits wanted\": 100000, \"N hits explored\": 1348575, \"gain\": 18.538086498711603, \"Days\": 15.608506944444445}, {\"Unnamed: 0\": 88, \"Algorithm\": \"morgan_feat\", \"Training size\": 5000, \"N hits wanted\": 300000, \"N hits explored\": 16440133, \"gain\": 4.562006888873709, \"Days\": 190.27931712962962}, {\"Unnamed: 0\": 89, \"Algorithm\": \"morgan_feat\", \"Training size\": 10000, \"N hits wanted\": 300000, \"N hits explored\": 12478289, \"gain\": 6.010439412005925, \"Days\": 144.42464120370371}, {\"Unnamed: 0\": 90, \"Algorithm\": \"morgan_feat\", \"Training size\": 20000, \"N hits wanted\": 300000, \"N hits explored\": 10717990, \"gain\": 6.997580703098249, \"Days\": 124.05081018518518}, {\"Unnamed: 0\": 91, \"Algorithm\": \"morgan_feat\", \"Training size\": 40000, \"N hits wanted\": 300000, \"N hits explored\": 9290230, \"gain\": 8.07299711632543, \"Days\": 107.52581018518516}, {\"Unnamed: 0\": 92, \"Algorithm\": \"morgan_feat\", \"Training size\": 80000, \"N hits wanted\": 300000, \"N hits explored\": 7929215, \"gain\": 9.458691686377529, \"Days\": 91.77332175925926}, {\"Unnamed: 0\": 93, \"Algorithm\": \"morgan_feat\", \"Training size\": 160000, \"N hits wanted\": 300000, \"N hits explored\": 7052325, \"gain\": 10.634790654145974, \"Days\": 81.62413194444444}, {\"Unnamed: 0\": 94, \"Algorithm\": \"morgan_feat\", \"Training size\": 320000, \"N hits wanted\": 300000, \"N hits explored\": 6483590, \"gain\": 11.567665444607078, \"Days\": 75.04155092592592}, {\"Unnamed: 0\": 95, \"Algorithm\": \"morgan_feat\", \"Training size\": 640000, \"N hits wanted\": 300000, \"N hits explored\": 6078858, \"gain\": 12.337843719988195, \"Days\": 70.35715277777778}, {\"Unnamed: 0\": 96, \"Algorithm\": \"morgan_feat\", \"Training size\": 1280000, \"N hits wanted\": 10000, \"N hits explored\": 1293329, \"gain\": 1.9329961672551996, \"Days\": 14.96908564814815}, {\"Unnamed: 0\": 97, \"Algorithm\": \"morgan_feat\", \"Training size\": 2560000, \"N hits wanted\": 10000, \"N hits explored\": 2560000, \"gain\": 0.9765625, \"Days\": 29.62962962962963}, {\"Unnamed: 0\": 98, \"Algorithm\": \"morgan_feat\", \"Training size\": 1280000, \"N hits wanted\": 30000, \"N hits explored\": 1374967, \"gain\": 5.454676366778258, \"Days\": 15.913969907407406}, {\"Unnamed: 0\": 99, \"Algorithm\": \"morgan_feat\", \"Training size\": 2560000, \"N hits wanted\": 30000, \"N hits explored\": 2621720, \"gain\": 2.860717391636025, \"Days\": 30.34398148148148}, {\"Unnamed: 0\": 100, \"Algorithm\": \"morgan_feat\", \"Training size\": 1280000, \"N hits wanted\": 100000, \"N hits explored\": 1869492, \"gain\": 13.372616732245978, \"Days\": 21.63763888888889}, {\"Unnamed: 0\": 101, \"Algorithm\": \"morgan_feat\", \"Training size\": 2560000, \"N hits wanted\": 100000, \"N hits explored\": 3049659, \"gain\": 8.197637834262782, \"Days\": 35.29697916666667}, {\"Unnamed: 0\": 102, \"Algorithm\": \"morgan_feat\", \"Training size\": 1280000, \"N hits wanted\": 300000, \"N hits explored\": 6158540, \"gain\": 12.178211069506734, \"Days\": 71.27939814814815}, {\"Unnamed: 0\": 103, \"Algorithm\": \"morgan_feat\", \"Training size\": 2560000, \"N hits wanted\": 300000, \"N hits explored\": 6922230, \"gain\": 10.834658773256596, \"Days\": 80.11840277777777}, {\"Unnamed: 0\": 104, \"Algorithm\": \"morgan_feat\", \"Training size\": 1280000, \"N hits wanted\": 10000, \"N hits explored\": 1293968, \"gain\": 1.932041596082747, \"Days\": 14.976481481481484}, {\"Unnamed: 0\": 105, \"Algorithm\": \"morgan_feat\", \"Training size\": 2560000, \"N hits wanted\": 10000, \"N hits explored\": 2560000, \"gain\": 0.9765625, \"Days\": 29.62962962962963}, {\"Unnamed: 0\": 106, \"Algorithm\": \"morgan_feat\", \"Training size\": 1280000, \"N hits wanted\": 30000, \"N hits explored\": 1373203, \"gain\": 5.461683378204096, \"Days\": 15.893553240740742}, {\"Unnamed: 0\": 107, \"Algorithm\": \"morgan_feat\", \"Training size\": 2560000, \"N hits wanted\": 30000, \"N hits explored\": 2623061, \"gain\": 2.8592548934241333, \"Days\": 30.359502314814815}, {\"Unnamed: 0\": 108, \"Algorithm\": \"morgan_feat\", \"Training size\": 1280000, \"N hits wanted\": 100000, \"N hits explored\": 1876366, \"gain\": 13.32362662721452, \"Days\": 21.717199074074074}, {\"Unnamed: 0\": 109, \"Algorithm\": \"morgan_feat\", \"Training size\": 2560000, \"N hits wanted\": 100000, \"N hits explored\": 3056462, \"gain\": 8.179391728082992, \"Days\": 35.37571759259259}, {\"Unnamed: 0\": 110, \"Algorithm\": \"morgan_feat\", \"Training size\": 1280000, \"N hits wanted\": 300000, \"N hits explored\": 6177149, \"gain\": 12.141523541038106, \"Days\": 71.49478009259259}, {\"Unnamed: 0\": 111, \"Algorithm\": \"morgan_feat\", \"Training size\": 2560000, \"N hits wanted\": 300000, \"N hits explored\": 6930390, \"gain\": 10.821901797734327, \"Days\": 80.21284722222222}, {\"Unnamed: 0\": 112, \"Algorithm\": \"morgan_feat\", \"Training size\": 1280000, \"N hits wanted\": 10000, \"N hits explored\": 1294234, \"gain\": 1.9316445094163806, \"Days\": 14.979560185185186}, {\"Unnamed: 0\": 113, \"Algorithm\": \"morgan_feat\", \"Training size\": 2560000, \"N hits wanted\": 10000, \"N hits explored\": 2560000, \"gain\": 0.9765625, \"Days\": 29.62962962962963}, {\"Unnamed: 0\": 114, \"Algorithm\": \"morgan_feat\", \"Training size\": 1280000, \"N hits wanted\": 30000, \"N hits explored\": 1369256, \"gain\": 5.477427157522041, \"Days\": 15.847870370370371}, {\"Unnamed: 0\": 115, \"Algorithm\": \"morgan_feat\", \"Training size\": 2560000, \"N hits wanted\": 30000, \"N hits explored\": 2622759, \"gain\": 2.859584124961539, \"Days\": 30.356006944444445}, {\"Unnamed: 0\": 116, \"Algorithm\": \"morgan_feat\", \"Training size\": 1280000, \"N hits wanted\": 100000, \"N hits explored\": 1870932, \"gain\": 13.362324231987053, \"Days\": 21.654305555555556}, {\"Unnamed: 0\": 117, \"Algorithm\": \"morgan_feat\", \"Training size\": 2560000, \"N hits wanted\": 100000, \"N hits explored\": 3049948, \"gain\": 8.196861061237765, \"Days\": 35.30032407407408}, {\"Unnamed: 0\": 118, \"Algorithm\": \"morgan_feat\", \"Training size\": 1280000, \"N hits wanted\": 300000, \"N hits explored\": 6154434, \"gain\": 12.186335900263128, \"Days\": 71.23187499999999}, {\"Unnamed: 0\": 119, \"Algorithm\": \"morgan_feat\", \"Training size\": 2560000, \"N hits wanted\": 300000, \"N hits explored\": 6916133, \"gain\": 10.8442101966518, \"Days\": 80.04783564814815}, {\"Unnamed: 0\": 120, \"Algorithm\": \"morgan_feat\", \"Training size\": 5000, \"N hits wanted\": 200000, \"N hits explored\": 6888965, \"gain\": 7.257984327108644, \"Days\": 79.7333912037037}, {\"Unnamed: 0\": 121, \"Algorithm\": \"morgan_feat\", \"Training size\": 10000, \"N hits wanted\": 200000, \"N hits explored\": 6640293, \"gain\": 7.529788218682519, \"Days\": 76.85524305555556}, {\"Unnamed: 0\": 122, \"Algorithm\": \"morgan_feat\", \"Training size\": 20000, \"N hits wanted\": 200000, \"N hits explored\": 5452224, \"gain\": 9.170569661114436, \"Days\": 63.10444444444445}, {\"Unnamed: 0\": 123, \"Algorithm\": \"morgan_feat\", \"Training size\": 40000, \"N hits wanted\": 200000, \"N hits explored\": 4127726, \"gain\": 12.113207126635828, \"Days\": 47.77460648148148}, {\"Unnamed: 0\": 124, \"Algorithm\": \"morgan_feat\", \"Training size\": 80000, \"N hits wanted\": 200000, \"N hits explored\": 3606330, \"gain\": 13.864510458000238, \"Days\": 41.73993055555555}, {\"Unnamed: 0\": 125, \"Algorithm\": \"morgan_feat\", \"Training size\": 160000, \"N hits wanted\": 200000, \"N hits explored\": 3181967, \"gain\": 15.713550769068314, \"Days\": 36.82832175925926}, {\"Unnamed: 0\": 126, \"Algorithm\": \"morgan_feat\", \"Training size\": 320000, \"N hits wanted\": 200000, \"N hits explored\": 2902533, \"gain\": 17.226332999487, \"Days\": 33.59413194444445}, {\"Unnamed: 0\": 127, \"Algorithm\": \"morgan_feat\", \"Training size\": 640000, \"N hits wanted\": 200000, \"N hits explored\": 2878277, \"gain\": 17.37150385456299, \"Days\": 33.3133912037037}, {\"Unnamed: 0\": 128, \"Algorithm\": \"morgan_feat\", \"Training size\": 1280000, \"N hits wanted\": 200000, \"N hits explored\": 3240249, \"gain\": 15.430912871202182, \"Days\": 37.50288194444445}, {\"Unnamed: 0\": 129, \"Algorithm\": \"morgan_feat\", \"Training size\": 2560000, \"N hits wanted\": 200000, \"N hits explored\": 4293211, \"gain\": 11.646294579977551, \"Days\": 49.68994212962963}, {\"Unnamed: 0\": 130, \"Algorithm\": \"morgan_feat\", \"Training size\": 5000, \"N hits wanted\": 200000, \"N hits explored\": 8737472, \"gain\": 5.722478996213092, \"Days\": 101.12814814814816}, {\"Unnamed: 0\": 131, \"Algorithm\": \"morgan_feat\", \"Training size\": 10000, \"N hits wanted\": 200000, \"N hits explored\": 7584830, \"gain\": 6.59210555806788, \"Days\": 87.78738425925927}, {\"Unnamed: 0\": 132, \"Algorithm\": \"morgan_feat\", \"Training size\": 20000, \"N hits wanted\": 200000, \"N hits explored\": 5952736, \"gain\": 8.399498986684442, \"Days\": 68.89740740740741}, {\"Unnamed: 0\": 133, \"Algorithm\": \"morgan_feat\", \"Training size\": 40000, \"N hits wanted\": 200000, \"N hits explored\": 4072241, \"gain\": 12.278251704651076, \"Days\": 47.132418981481486}, {\"Unnamed: 0\": 134, \"Algorithm\": \"morgan_feat\", \"Training size\": 80000, \"N hits wanted\": 200000, \"N hits explored\": 3538869, \"gain\": 14.12880781967346, \"Days\": 40.959131944444444}, {\"Unnamed: 0\": 135, \"Algorithm\": \"morgan_feat\", \"Training size\": 160000, \"N hits wanted\": 200000, \"N hits explored\": 3057409, \"gain\": 16.353716496549858, \"Days\": 35.38667824074074}, {\"Unnamed: 0\": 136, \"Algorithm\": \"morgan_feat\", \"Training size\": 320000, \"N hits wanted\": 200000, \"N hits explored\": 2876473, \"gain\": 17.382398513735396, \"Days\": 33.29251157407408}, {\"Unnamed: 0\": 137, \"Algorithm\": \"morgan_feat\", \"Training size\": 640000, \"N hits wanted\": 200000, \"N hits explored\": 2891672, \"gain\": 17.291034391175764, \"Days\": 33.46842592592593}, {\"Unnamed: 0\": 138, \"Algorithm\": \"morgan_feat\", \"Training size\": 1280000, \"N hits wanted\": 200000, \"N hits explored\": 3243500, \"gain\": 15.415446277169725, \"Days\": 37.54050925925926}, {\"Unnamed: 0\": 139, \"Algorithm\": \"morgan_feat\", \"Training size\": 2560000, \"N hits wanted\": 200000, \"N hits explored\": 4279328, \"gain\": 11.684077500018695, \"Days\": 49.529259259259256}, {\"Unnamed: 0\": 140, \"Algorithm\": \"morgan_feat\", \"Training size\": 5000, \"N hits wanted\": 200000, \"N hits explored\": 7552575, \"gain\": 6.6202586535055925, \"Days\": 87.4140625}, {\"Unnamed: 0\": 141, \"Algorithm\": \"morgan_feat\", \"Training size\": 10000, \"N hits wanted\": 200000, \"N hits explored\": 6641630, \"gain\": 7.528272427099974, \"Days\": 76.87071759259258}, {\"Unnamed: 0\": 142, \"Algorithm\": \"morgan_feat\", \"Training size\": 20000, \"N hits wanted\": 200000, \"N hits explored\": 5146530, \"gain\": 9.715283890310559, \"Days\": 59.566319444444446}, {\"Unnamed: 0\": 143, \"Algorithm\": \"morgan_feat\", \"Training size\": 40000, \"N hits wanted\": 200000, \"N hits explored\": 4388767, \"gain\": 11.392721463682168, \"Days\": 50.79591435185185}, {\"Unnamed: 0\": 144, \"Algorithm\": \"morgan_feat\", \"Training size\": 80000, \"N hits wanted\": 200000, \"N hits explored\": 3863809, \"gain\": 12.940598254209771, \"Days\": 44.72001157407407}, {\"Unnamed: 0\": 145, \"Algorithm\": \"morgan_feat\", \"Training size\": 160000, \"N hits wanted\": 200000, \"N hits explored\": 3358419, \"gain\": 14.887957696761482, \"Days\": 38.87059027777778}, {\"Unnamed: 0\": 146, \"Algorithm\": \"morgan_feat\", \"Training size\": 320000, \"N hits wanted\": 200000, \"N hits explored\": 2985456, \"gain\": 16.74786029336892, \"Days\": 34.553888888888885}]}}, {\"mode\": \"vega-lite\"});\n",
       "</script>"
      ],
      "text/plain": [
       "alt.LayerChart(...)"
      ]
     },
     "execution_count": 387,
     "metadata": {},
     "output_type": "execute_result"
    }
   ],
   "source": [
    "line = alt.Chart(df).mark_line(color='black',size=2,opacity=0.5).encode(\n",
    "  x=alt.X('Training size:Q', scale=alt.Scale(type='log')),\n",
    "  y=alt.Y('gain',aggregate='mean',title='Enrichment'),\n",
    "    color=alt.Color('N hits wanted:N')\n",
    ")\n",
    "pts = alt.Chart(df).mark_point().encode(\n",
    "  x=alt.X('Training size:Q'),\n",
    "  y=alt.Y('gain',aggregate='mean',),\n",
    "    color=alt.Color('N hits wanted:N')\n",
    ")\n",
    "\n",
    "error_bars = alt.Chart(df).mark_errorbar(extent='stdev').encode(\n",
    "  x=alt.X('Training size:Q',),\n",
    "  y=alt.Y('gain', aggregate='mean'),\n",
    "    color=alt.Color('N hits wanted:N')\n",
    ")\n",
    "#pts\n",
    "line+pts+error_bars\n"
   ]
  },
  {
   "cell_type": "code",
   "execution_count": 319,
   "metadata": {},
   "outputs": [
    {
     "data": {
      "text/html": [
       "\n",
       "<div id=\"altair-viz-a02d94f89b88496c9c92340a91762692\"></div>\n",
       "<script type=\"text/javascript\">\n",
       "  (function(spec, embedOpt){\n",
       "    let outputDiv = document.currentScript.previousElementSibling;\n",
       "    if (outputDiv.id !== \"altair-viz-a02d94f89b88496c9c92340a91762692\") {\n",
       "      outputDiv = document.getElementById(\"altair-viz-a02d94f89b88496c9c92340a91762692\");\n",
       "    }\n",
       "    const paths = {\n",
       "      \"vega\": \"https://cdn.jsdelivr.net/npm//vega@5?noext\",\n",
       "      \"vega-lib\": \"https://cdn.jsdelivr.net/npm//vega-lib?noext\",\n",
       "      \"vega-lite\": \"https://cdn.jsdelivr.net/npm//vega-lite@4.8.1?noext\",\n",
       "      \"vega-embed\": \"https://cdn.jsdelivr.net/npm//vega-embed@6?noext\",\n",
       "    };\n",
       "\n",
       "    function loadScript(lib) {\n",
       "      return new Promise(function(resolve, reject) {\n",
       "        var s = document.createElement('script');\n",
       "        s.src = paths[lib];\n",
       "        s.async = true;\n",
       "        s.onload = () => resolve(paths[lib]);\n",
       "        s.onerror = () => reject(`Error loading script: ${paths[lib]}`);\n",
       "        document.getElementsByTagName(\"head\")[0].appendChild(s);\n",
       "      });\n",
       "    }\n",
       "\n",
       "    function showError(err) {\n",
       "      outputDiv.innerHTML = `<div class=\"error\" style=\"color:red;\">${err}</div>`;\n",
       "      throw err;\n",
       "    }\n",
       "\n",
       "    function displayChart(vegaEmbed) {\n",
       "      vegaEmbed(outputDiv, spec, embedOpt)\n",
       "        .catch(err => showError(`Javascript Error: ${err.message}<br>This usually means there's a typo in your chart specification. See the javascript console for the full traceback.`));\n",
       "    }\n",
       "\n",
       "    if(typeof define === \"function\" && define.amd) {\n",
       "      requirejs.config({paths});\n",
       "      require([\"vega-embed\"], displayChart, err => showError(`Error loading script: ${err.message}`));\n",
       "    } else if (typeof vegaEmbed === \"function\") {\n",
       "      displayChart(vegaEmbed);\n",
       "    } else {\n",
       "      loadScript(\"vega\")\n",
       "        .then(() => loadScript(\"vega-lite\"))\n",
       "        .then(() => loadScript(\"vega-embed\"))\n",
       "        .catch(showError)\n",
       "        .then(() => displayChart(vegaEmbed));\n",
       "    }\n",
       "  })({\"config\": {\"view\": {\"continuousWidth\": 400, \"continuousHeight\": 300}}, \"layer\": [{\"mark\": {\"type\": \"line\", \"color\": \"black\", \"opacity\": 0.5, \"size\": 2}, \"encoding\": {\"color\": {\"type\": \"nominal\", \"field\": \"N hits wanted\"}, \"x\": {\"type\": \"quantitative\", \"field\": \"Training size\", \"scale\": {\"type\": \"log\"}}, \"y\": {\"type\": \"quantitative\", \"aggregate\": \"mean\", \"field\": \"Days\", \"title\": \"Days\"}}}, {\"mark\": {\"type\": \"point\", \"filled\": false, \"size\": 65}, \"encoding\": {\"color\": {\"type\": \"nominal\", \"field\": \"N hits wanted\"}, \"x\": {\"type\": \"quantitative\", \"field\": \"Training size\"}, \"y\": {\"type\": \"quantitative\", \"aggregate\": \"mean\", \"field\": \"Days\"}}}, {\"mark\": {\"type\": \"errorbar\", \"extent\": \"ci\"}, \"encoding\": {\"color\": {\"type\": \"nominal\", \"field\": \"N hits wanted\"}, \"x\": {\"type\": \"quantitative\", \"field\": \"Training size\"}, \"y\": {\"type\": \"quantitative\", \"field\": \"Days\"}}}], \"data\": {\"name\": \"data-cc105c07098f86cabadbc707cfc40725\"}, \"$schema\": \"https://vega.github.io/schema/vega-lite/v4.8.1.json\", \"datasets\": {\"data-cc105c07098f86cabadbc707cfc40725\": [{\"Unnamed: 0\": 0, \"Algorithm\": \"morgan_feat\", \"Training size\": 5000, \"N hits wanted\": 10000, \"N hits explored\": 289976, \"gain\": 8.621403150605568, \"Days\": 3.356203703703704}, {\"Unnamed: 0\": 1, \"Algorithm\": \"morgan_feat\", \"Training size\": 10000, \"N hits wanted\": 10000, \"N hits explored\": 221687, \"gain\": 11.27716104237055, \"Days\": 2.565821759259259}, {\"Unnamed: 0\": 2, \"Algorithm\": \"morgan_feat\", \"Training size\": 20000, \"N hits wanted\": 10000, \"N hits explored\": 154451, \"gain\": 16.18636331263637, \"Days\": 1.7876273148148147}, {\"Unnamed: 0\": 3, \"Algorithm\": \"morgan_feat\", \"Training size\": 40000, \"N hits wanted\": 10000, \"N hits explored\": 150189, \"gain\": 16.645693093369022, \"Days\": 1.7382986111111112}, {\"Unnamed: 0\": 4, \"Algorithm\": \"morgan_feat\", \"Training size\": 80000, \"N hits wanted\": 10000, \"N hits explored\": 146393, \"gain\": 17.077319270730158, \"Days\": 1.6943634259259257}, {\"Unnamed: 0\": 5, \"Algorithm\": \"morgan_feat\", \"Training size\": 160000, \"N hits wanted\": 10000, \"N hits explored\": 206603, \"gain\": 12.100501928820007, \"Days\": 2.3912384259259256}, {\"Unnamed: 0\": 6, \"Algorithm\": \"morgan_feat\", \"Training size\": 320000, \"N hits wanted\": 10000, \"N hits explored\": 357871, \"gain\": 6.985757437735944, \"Days\": 4.142025462962963}, {\"Unnamed: 0\": 7, \"Algorithm\": \"morgan_feat\", \"Training size\": 640000, \"N hits wanted\": 10000, \"N hits explored\": 664730, \"gain\": 3.760925488544221, \"Days\": 7.69363425925926}, {\"Unnamed: 0\": 8, \"Algorithm\": \"morgan_feat\", \"Training size\": 5000, \"N hits wanted\": 30000, \"N hits explored\": 881190, \"gain\": 8.511217785040683, \"Days\": 10.198958333333334}, {\"Unnamed: 0\": 9, \"Algorithm\": \"morgan_feat\", \"Training size\": 10000, \"N hits wanted\": 30000, \"N hits explored\": 603481, \"gain\": 12.427897481445148, \"Days\": 6.984733796296296}, {\"Unnamed: 0\": 10, \"Algorithm\": \"morgan_feat\", \"Training size\": 20000, \"N hits wanted\": 30000, \"N hits explored\": 429493, \"gain\": 17.462449911872834, \"Days\": 4.970983796296296}, {\"Unnamed: 0\": 11, \"Algorithm\": \"morgan_feat\", \"Training size\": 40000, \"N hits wanted\": 30000, \"N hits explored\": 339125, \"gain\": 22.115739034279397, \"Days\": 3.9250578703703702}, {\"Unnamed: 0\": 12, \"Algorithm\": \"morgan_feat\", \"Training size\": 80000, \"N hits wanted\": 30000, \"N hits explored\": 336149, \"gain\": 22.311534468345883, \"Days\": 3.890613425925926}, {\"Unnamed: 0\": 13, \"Algorithm\": \"morgan_feat\", \"Training size\": 160000, \"N hits wanted\": 30000, \"N hits explored\": 360274, \"gain\": 20.817488911217573, \"Days\": 4.169837962962963}, {\"Unnamed: 0\": 14, \"Algorithm\": \"morgan_feat\", \"Training size\": 320000, \"N hits wanted\": 30000, \"N hits explored\": 478429, \"gain\": 15.676307247261349, \"Days\": 5.537372685185185}, {\"Unnamed: 0\": 15, \"Algorithm\": \"morgan_feat\", \"Training size\": 640000, \"N hits wanted\": 30000, \"N hits explored\": 763330, \"gain\": 9.8253704164647, \"Days\": 8.834837962962963}, {\"Unnamed: 0\": 16, \"Algorithm\": \"morgan_feat\", \"Training size\": 5000, \"N hits wanted\": 100000, \"N hits explored\": 2452342, \"gain\": 10.194336678978708, \"Days\": 28.383587962962963}, {\"Unnamed: 0\": 17, \"Algorithm\": \"morgan_feat\", \"Training size\": 10000, \"N hits wanted\": 100000, \"N hits explored\": 2221114, \"gain\": 11.25561317429002, \"Days\": 25.707337962962963}, {\"Unnamed: 0\": 18, \"Algorithm\": \"morgan_feat\", \"Training size\": 20000, \"N hits wanted\": 100000, \"N hits explored\": 1851224, \"gain\": 13.504578592325942, \"Days\": 21.426203703703706}, {\"Unnamed: 0\": 19, \"Algorithm\": \"morgan_feat\", \"Training size\": 40000, \"N hits wanted\": 100000, \"N hits explored\": 1425096, \"gain\": 17.542677826616593, \"Days\": 16.494166666666665}, {\"Unnamed: 0\": 20, \"Algorithm\": \"morgan_feat\", \"Training size\": 80000, \"N hits wanted\": 100000, \"N hits explored\": 1279256, \"gain\": 19.542609141563535, \"Days\": 14.806203703703703}, {\"Unnamed: 0\": 21, \"Algorithm\": \"morgan_feat\", \"Training size\": 160000, \"N hits wanted\": 100000, \"N hits explored\": 1139867, \"gain\": 21.93238333945978, \"Days\": 13.192905092592591}, {\"Unnamed: 0\": 22, \"Algorithm\": \"morgan_feat\", \"Training size\": 320000, \"N hits wanted\": 100000, \"N hits explored\": 1138506, \"gain\": 21.958601887034412, \"Days\": 13.177152777777778}, {\"Unnamed: 0\": 23, \"Algorithm\": \"morgan_feat\", \"Training size\": 640000, \"N hits wanted\": 100000, \"N hits explored\": 1317028, \"gain\": 18.98213249832198, \"Days\": 15.24337962962963}, {\"Unnamed: 0\": 24, \"Algorithm\": \"morgan_feat\", \"Training size\": 5000, \"N hits wanted\": 300000, \"N hits explored\": 13704864, \"gain\": 5.47250961410489, \"Days\": 158.6211111111111}, {\"Unnamed: 0\": 25, \"Algorithm\": \"morgan_feat\", \"Training size\": 10000, \"N hits wanted\": 300000, \"N hits explored\": 12733532, \"gain\": 5.889960460302766, \"Days\": 147.37884259259258}, {\"Unnamed: 0\": 26, \"Algorithm\": \"morgan_feat\", \"Training size\": 20000, \"N hits wanted\": 300000, \"N hits explored\": 11329150, \"gain\": 6.620090651107983, \"Days\": 131.12442129629628}, {\"Unnamed: 0\": 27, \"Algorithm\": \"morgan_feat\", \"Training size\": 40000, \"N hits wanted\": 300000, \"N hits explored\": 9695190, \"gain\": 7.735794760082062, \"Days\": 112.21284722222221}, {\"Unnamed: 0\": 28, \"Algorithm\": \"morgan_feat\", \"Training size\": 80000, \"N hits wanted\": 300000, \"N hits explored\": 8084362, \"gain\": 9.277169923860411, \"Days\": 93.56900462962962}, {\"Unnamed: 0\": 29, \"Algorithm\": \"morgan_feat\", \"Training size\": 160000, \"N hits wanted\": 300000, \"N hits explored\": 7072122, \"gain\": 10.605020671306292, \"Days\": 81.85326388888889}, {\"Unnamed: 0\": 30, \"Algorithm\": \"morgan_feat\", \"Training size\": 320000, \"N hits wanted\": 300000, \"N hits explored\": 6360367, \"gain\": 11.79177239300814, \"Days\": 73.61535879629629}, {\"Unnamed: 0\": 31, \"Algorithm\": \"morgan_feat\", \"Training size\": 640000, \"N hits wanted\": 300000, \"N hits explored\": 6054712, \"gain\": 12.38704665060865, \"Days\": 70.07768518518519}, {\"Unnamed: 0\": 32, \"Algorithm\": \"morgan_feat\", \"Training size\": 5000, \"N hits wanted\": 10000, \"N hits explored\": 147191, \"gain\": 16.98473412097207, \"Days\": 1.703599537037037}, {\"Unnamed: 0\": 33, \"Algorithm\": \"morgan_feat\", \"Training size\": 10000, \"N hits wanted\": 10000, \"N hits explored\": 110755, \"gain\": 22.572344363685612, \"Days\": 1.2818865740740741}, {\"Unnamed: 0\": 34, \"Algorithm\": \"morgan_feat\", \"Training size\": 20000, \"N hits wanted\": 10000, \"N hits explored\": 102886, \"gain\": 24.29873840950178, \"Days\": 1.190810185185185}, {\"Unnamed: 0\": 35, \"Algorithm\": \"morgan_feat\", \"Training size\": 40000, \"N hits wanted\": 10000, \"N hits explored\": 116242, \"gain\": 21.506856385815798, \"Days\": 1.3453935185185184}, {\"Unnamed: 0\": 36, \"Algorithm\": \"morgan_feat\", \"Training size\": 80000, \"N hits wanted\": 10000, \"N hits explored\": 160457, \"gain\": 15.580498202010508, \"Days\": 1.8571412037037038}, {\"Unnamed: 0\": 37, \"Algorithm\": \"morgan_feat\", \"Training size\": 160000, \"N hits wanted\": 10000, \"N hits explored\": 208480, \"gain\": 11.991557943207981, \"Days\": 2.412962962962963}, {\"Unnamed: 0\": 38, \"Algorithm\": \"morgan_feat\", \"Training size\": 320000, \"N hits wanted\": 10000, \"N hits explored\": 358206, \"gain\": 6.97922424526669, \"Days\": 4.145902777777779}, {\"Unnamed: 0\": 39, \"Algorithm\": \"morgan_feat\", \"Training size\": 640000, \"N hits wanted\": 10000, \"N hits explored\": 666034, \"gain\": 3.753562130461808, \"Days\": 7.708726851851853}, {\"Unnamed: 0\": 40, \"Algorithm\": \"morgan_feat\", \"Training size\": 5000, \"N hits wanted\": 30000, \"N hits explored\": 797579, \"gain\": 9.403457212388993, \"Days\": 9.231238425925925}, {\"Unnamed: 0\": 41, \"Algorithm\": \"morgan_feat\", \"Training size\": 10000, \"N hits wanted\": 30000, \"N hits explored\": 487954, \"gain\": 15.370301298892928, \"Days\": 5.647615740740741}, {\"Unnamed: 0\": 42, \"Algorithm\": \"morgan_feat\", \"Training size\": 20000, \"N hits wanted\": 30000, \"N hits explored\": 379762, \"gain\": 19.749211348160163, \"Days\": 4.395393518518518}, {\"Unnamed: 0\": 43, \"Algorithm\": \"morgan_feat\", \"Training size\": 40000, \"N hits wanted\": 30000, \"N hits explored\": 301000, \"gain\": 24.916943521594686, \"Days\": 3.4837962962962963}, {\"Unnamed: 0\": 44, \"Algorithm\": \"morgan_feat\", \"Training size\": 80000, \"N hits wanted\": 30000, \"N hits explored\": 299153, \"gain\": 25.070783177838766, \"Days\": 3.462418981481481}, {\"Unnamed: 0\": 45, \"Algorithm\": \"morgan_feat\", \"Training size\": 160000, \"N hits wanted\": 30000, \"N hits explored\": 351700, \"gain\": 21.324992891669037, \"Days\": 4.070601851851852}, {\"Unnamed: 0\": 46, \"Algorithm\": \"morgan_feat\", \"Training size\": 320000, \"N hits wanted\": 30000, \"N hits explored\": 467493, \"gain\": 16.043020965019796, \"Days\": 5.410798611111112}, {\"Unnamed: 0\": 47, \"Algorithm\": \"morgan_feat\", \"Training size\": 640000, \"N hits wanted\": 30000, \"N hits explored\": 762559, \"gain\": 9.83530454692686, \"Days\": 8.825914351851852}, {\"Unnamed: 0\": 48, \"Algorithm\": \"morgan_feat\", \"Training size\": 5000, \"N hits wanted\": 100000, \"N hits explored\": 2769598, \"gain\": 9.026580752874604, \"Days\": 32.055532407407405}, {\"Unnamed: 0\": 49, \"Algorithm\": \"morgan_feat\", \"Training size\": 10000, \"N hits wanted\": 100000, \"N hits explored\": 2112081, \"gain\": 11.836667249030695, \"Days\": 24.445381944444446}, {\"Unnamed: 0\": 50, \"Algorithm\": \"morgan_feat\", \"Training size\": 20000, \"N hits wanted\": 100000, \"N hits explored\": 1708605, \"gain\": 14.631819525285247, \"Days\": 19.775520833333335}, {\"Unnamed: 0\": 51, \"Algorithm\": \"morgan_feat\", \"Training size\": 40000, \"N hits wanted\": 100000, \"N hits explored\": 1344764, \"gain\": 18.590622592514375, \"Days\": 15.564398148148149}, {\"Unnamed: 0\": 52, \"Algorithm\": \"morgan_feat\", \"Training size\": 80000, \"N hits wanted\": 100000, \"N hits explored\": 1234545, \"gain\": 20.250375644468203, \"Days\": 14.288715277777778}, {\"Unnamed: 0\": 53, \"Algorithm\": \"morgan_feat\", \"Training size\": 160000, \"N hits wanted\": 100000, \"N hits explored\": 1125042, \"gain\": 22.221392623564277, \"Days\": 13.021319444444444}, {\"Unnamed: 0\": 54, \"Algorithm\": \"morgan_feat\", \"Training size\": 320000, \"N hits wanted\": 100000, \"N hits explored\": 1168286, \"gain\": 21.398869797292786, \"Days\": 13.521828703703704}, {\"Unnamed: 0\": 55, \"Algorithm\": \"morgan_feat\", \"Training size\": 640000, \"N hits wanted\": 100000, \"N hits explored\": 1346774, \"gain\": 18.562876919215846, \"Days\": 15.587662037037036}, {\"Unnamed: 0\": 56, \"Algorithm\": \"morgan_feat\", \"Training size\": 5000, \"N hits wanted\": 300000, \"N hits explored\": 17897451, \"gain\": 4.190540876463358, \"Days\": 207.1464236111111}, {\"Unnamed: 0\": 57, \"Algorithm\": \"morgan_feat\", \"Training size\": 10000, \"N hits wanted\": 300000, \"N hits explored\": 12332485, \"gain\": 6.081499389620178, \"Days\": 142.7370949074074}, {\"Unnamed: 0\": 58, \"Algorithm\": \"morgan_feat\", \"Training size\": 20000, \"N hits wanted\": 300000, \"N hits explored\": 10450688, \"gain\": 7.1765610072753105, \"Days\": 120.95703703703704}, {\"Unnamed: 0\": 59, \"Algorithm\": \"morgan_feat\", \"Training size\": 40000, \"N hits wanted\": 300000, \"N hits explored\": 9032976, \"gain\": 8.302911465722925, \"Days\": 104.54833333333335}, {\"Unnamed: 0\": 60, \"Algorithm\": \"morgan_feat\", \"Training size\": 80000, \"N hits wanted\": 300000, \"N hits explored\": 8033064, \"gain\": 9.336412606696523, \"Days\": 92.97527777777778}, {\"Unnamed: 0\": 61, \"Algorithm\": \"morgan_feat\", \"Training size\": 160000, \"N hits wanted\": 300000, \"N hits explored\": 7022275, \"gain\": 10.680299475597296, \"Days\": 81.27633101851852}, {\"Unnamed: 0\": 62, \"Algorithm\": \"morgan_feat\", \"Training size\": 320000, \"N hits wanted\": 300000, \"N hits explored\": 6473740, \"gain\": 11.585266013154683, \"Days\": 74.9275462962963}, {\"Unnamed: 0\": 63, \"Algorithm\": \"morgan_feat\", \"Training size\": 640000, \"N hits wanted\": 300000, \"N hits explored\": 6093706, \"gain\": 12.307781176184083, \"Days\": 70.52900462962963}, {\"Unnamed: 0\": 64, \"Algorithm\": \"morgan_feat\", \"Training size\": 5000, \"N hits wanted\": 10000, \"N hits explored\": 167563, \"gain\": 14.919761522531823, \"Days\": 1.939386574074074}, {\"Unnamed: 0\": 65, \"Algorithm\": \"morgan_feat\", \"Training size\": 10000, \"N hits wanted\": 10000, \"N hits explored\": 177291, \"gain\": 14.10111060347113, \"Days\": 2.0519791666666665}, {\"Unnamed: 0\": 66, \"Algorithm\": \"morgan_feat\", \"Training size\": 20000, \"N hits wanted\": 10000, \"N hits explored\": 136521, \"gain\": 18.312201053317803, \"Days\": 1.5801041666666666}, {\"Unnamed: 0\": 67, \"Algorithm\": \"morgan_feat\", \"Training size\": 40000, \"N hits wanted\": 10000, \"N hits explored\": 144359, \"gain\": 17.31793653322619, \"Days\": 1.6708217592592591}, {\"Unnamed: 0\": 68, \"Algorithm\": \"morgan_feat\", \"Training size\": 80000, \"N hits wanted\": 10000, \"N hits explored\": 150744, \"gain\": 16.584408002971927, \"Days\": 1.7447222222222223}, {\"Unnamed: 0\": 69, \"Algorithm\": \"morgan_feat\", \"Training size\": 160000, \"N hits wanted\": 10000, \"N hits explored\": 208765, \"gain\": 11.975187411682993, \"Days\": 2.416261574074074}, {\"Unnamed: 0\": 70, \"Algorithm\": \"morgan_feat\", \"Training size\": 320000, \"N hits wanted\": 10000, \"N hits explored\": 357755, \"gain\": 6.988022529384635, \"Days\": 4.14068287037037}, {\"Unnamed: 0\": 71, \"Algorithm\": \"morgan_feat\", \"Training size\": 640000, \"N hits wanted\": 10000, \"N hits explored\": 663916, \"gain\": 3.7655366040282203, \"Days\": 7.684212962962963}, {\"Unnamed: 0\": 72, \"Algorithm\": \"morgan_feat\", \"Training size\": 5000, \"N hits wanted\": 30000, \"N hits explored\": 530735, \"gain\": 14.131346152034443, \"Days\": 6.1427662037037045}, {\"Unnamed: 0\": 73, \"Algorithm\": \"morgan_feat\", \"Training size\": 10000, \"N hits wanted\": 30000, \"N hits explored\": 535530, \"gain\": 14.004817657274103, \"Days\": 6.198263888888889}, {\"Unnamed: 0\": 74, \"Algorithm\": \"morgan_feat\", \"Training size\": 20000, \"N hits wanted\": 30000, \"N hits explored\": 461139, \"gain\": 16.264076558261173, \"Days\": 5.337256944444444}, {\"Unnamed: 0\": 75, \"Algorithm\": \"morgan_feat\", \"Training size\": 40000, \"N hits wanted\": 30000, \"N hits explored\": 375039, \"gain\": 19.997920216297505, \"Days\": 4.340729166666667}, {\"Unnamed: 0\": 76, \"Algorithm\": \"morgan_feat\", \"Training size\": 80000, \"N hits wanted\": 30000, \"N hits explored\": 318970, \"gain\": 23.513183057967833, \"Days\": 3.6917824074074077}, {\"Unnamed: 0\": 77, \"Algorithm\": \"morgan_feat\", \"Training size\": 160000, \"N hits wanted\": 30000, \"N hits explored\": 348454, \"gain\": 21.523644440873113, \"Days\": 4.033032407407407}, {\"Unnamed: 0\": 78, \"Algorithm\": \"morgan_feat\", \"Training size\": 320000, \"N hits wanted\": 30000, \"N hits explored\": 470379, \"gain\": 15.944589363045544, \"Days\": 5.444201388888889}, {\"Unnamed: 0\": 79, \"Algorithm\": \"morgan_feat\", \"Training size\": 640000, \"N hits wanted\": 30000, \"N hits explored\": 755976, \"gain\": 9.92094987142449, \"Days\": 8.749722222222223}, {\"Unnamed: 0\": 80, \"Algorithm\": \"morgan_feat\", \"Training size\": 5000, \"N hits wanted\": 100000, \"N hits explored\": 4258304, \"gain\": 5.870881928580017, \"Days\": 49.28592592592593}, {\"Unnamed: 0\": 81, \"Algorithm\": \"morgan_feat\", \"Training size\": 10000, \"N hits wanted\": 100000, \"N hits explored\": 3146309, \"gain\": 7.94581841770786, \"Days\": 36.41561342592592}, {\"Unnamed: 0\": 82, \"Algorithm\": \"morgan_feat\", \"Training size\": 20000, \"N hits wanted\": 100000, \"N hits explored\": 2177513, \"gain\": 11.480987713965428, \"Days\": 25.202696759259258}, {\"Unnamed: 0\": 83, \"Algorithm\": \"morgan_feat\", \"Training size\": 40000, \"N hits wanted\": 100000, \"N hits explored\": 1657423, \"gain\": 15.083656978333233, \"Days\": 19.183136574074073}, {\"Unnamed: 0\": 84, \"Algorithm\": \"morgan_feat\", \"Training size\": 80000, \"N hits wanted\": 100000, \"N hits explored\": 1400456, \"gain\": 17.851328424456035, \"Days\": 16.208981481481484}, {\"Unnamed: 0\": 85, \"Algorithm\": \"morgan_feat\", \"Training size\": 160000, \"N hits wanted\": 100000, \"N hits explored\": 1240975, \"gain\": 20.145450150083605, \"Days\": 14.363136574074074}, {\"Unnamed: 0\": 86, \"Algorithm\": \"morgan_feat\", \"Training size\": 320000, \"N hits wanted\": 100000, \"N hits explored\": 1168389, \"gain\": 21.39698336769689, \"Days\": 13.523020833333334}, {\"Unnamed: 0\": 87, \"Algorithm\": \"morgan_feat\", \"Training size\": 640000, \"N hits wanted\": 100000, \"N hits explored\": 1348575, \"gain\": 18.538086498711603, \"Days\": 15.608506944444445}, {\"Unnamed: 0\": 88, \"Algorithm\": \"morgan_feat\", \"Training size\": 5000, \"N hits wanted\": 300000, \"N hits explored\": 16440133, \"gain\": 4.562006888873709, \"Days\": 190.27931712962962}, {\"Unnamed: 0\": 89, \"Algorithm\": \"morgan_feat\", \"Training size\": 10000, \"N hits wanted\": 300000, \"N hits explored\": 12478289, \"gain\": 6.010439412005925, \"Days\": 144.42464120370371}, {\"Unnamed: 0\": 90, \"Algorithm\": \"morgan_feat\", \"Training size\": 20000, \"N hits wanted\": 300000, \"N hits explored\": 10717990, \"gain\": 6.997580703098249, \"Days\": 124.05081018518518}, {\"Unnamed: 0\": 91, \"Algorithm\": \"morgan_feat\", \"Training size\": 40000, \"N hits wanted\": 300000, \"N hits explored\": 9290230, \"gain\": 8.07299711632543, \"Days\": 107.52581018518516}, {\"Unnamed: 0\": 92, \"Algorithm\": \"morgan_feat\", \"Training size\": 80000, \"N hits wanted\": 300000, \"N hits explored\": 7929215, \"gain\": 9.458691686377529, \"Days\": 91.77332175925926}, {\"Unnamed: 0\": 93, \"Algorithm\": \"morgan_feat\", \"Training size\": 160000, \"N hits wanted\": 300000, \"N hits explored\": 7052325, \"gain\": 10.634790654145974, \"Days\": 81.62413194444444}, {\"Unnamed: 0\": 94, \"Algorithm\": \"morgan_feat\", \"Training size\": 320000, \"N hits wanted\": 300000, \"N hits explored\": 6483590, \"gain\": 11.567665444607078, \"Days\": 75.04155092592592}, {\"Unnamed: 0\": 95, \"Algorithm\": \"morgan_feat\", \"Training size\": 640000, \"N hits wanted\": 300000, \"N hits explored\": 6078858, \"gain\": 12.337843719988195, \"Days\": 70.35715277777778}, {\"Unnamed: 0\": 96, \"Algorithm\": \"morgan_feat\", \"Training size\": 1280000, \"N hits wanted\": 10000, \"N hits explored\": 1293329, \"gain\": 1.9329961672551996, \"Days\": 14.96908564814815}, {\"Unnamed: 0\": 97, \"Algorithm\": \"morgan_feat\", \"Training size\": 2560000, \"N hits wanted\": 10000, \"N hits explored\": 2560000, \"gain\": 0.9765625, \"Days\": 29.62962962962963}, {\"Unnamed: 0\": 98, \"Algorithm\": \"morgan_feat\", \"Training size\": 1280000, \"N hits wanted\": 30000, \"N hits explored\": 1374967, \"gain\": 5.454676366778258, \"Days\": 15.913969907407406}, {\"Unnamed: 0\": 99, \"Algorithm\": \"morgan_feat\", \"Training size\": 2560000, \"N hits wanted\": 30000, \"N hits explored\": 2621720, \"gain\": 2.860717391636025, \"Days\": 30.34398148148148}, {\"Unnamed: 0\": 100, \"Algorithm\": \"morgan_feat\", \"Training size\": 1280000, \"N hits wanted\": 100000, \"N hits explored\": 1869492, \"gain\": 13.372616732245978, \"Days\": 21.63763888888889}, {\"Unnamed: 0\": 101, \"Algorithm\": \"morgan_feat\", \"Training size\": 2560000, \"N hits wanted\": 100000, \"N hits explored\": 3049659, \"gain\": 8.197637834262782, \"Days\": 35.29697916666667}, {\"Unnamed: 0\": 102, \"Algorithm\": \"morgan_feat\", \"Training size\": 1280000, \"N hits wanted\": 300000, \"N hits explored\": 6158540, \"gain\": 12.178211069506734, \"Days\": 71.27939814814815}, {\"Unnamed: 0\": 103, \"Algorithm\": \"morgan_feat\", \"Training size\": 2560000, \"N hits wanted\": 300000, \"N hits explored\": 6922230, \"gain\": 10.834658773256596, \"Days\": 80.11840277777777}, {\"Unnamed: 0\": 104, \"Algorithm\": \"morgan_feat\", \"Training size\": 1280000, \"N hits wanted\": 10000, \"N hits explored\": 1293968, \"gain\": 1.932041596082747, \"Days\": 14.976481481481484}, {\"Unnamed: 0\": 105, \"Algorithm\": \"morgan_feat\", \"Training size\": 2560000, \"N hits wanted\": 10000, \"N hits explored\": 2560000, \"gain\": 0.9765625, \"Days\": 29.62962962962963}, {\"Unnamed: 0\": 106, \"Algorithm\": \"morgan_feat\", \"Training size\": 1280000, \"N hits wanted\": 30000, \"N hits explored\": 1373203, \"gain\": 5.461683378204096, \"Days\": 15.893553240740742}, {\"Unnamed: 0\": 107, \"Algorithm\": \"morgan_feat\", \"Training size\": 2560000, \"N hits wanted\": 30000, \"N hits explored\": 2623061, \"gain\": 2.8592548934241333, \"Days\": 30.359502314814815}, {\"Unnamed: 0\": 108, \"Algorithm\": \"morgan_feat\", \"Training size\": 1280000, \"N hits wanted\": 100000, \"N hits explored\": 1876366, \"gain\": 13.32362662721452, \"Days\": 21.717199074074074}, {\"Unnamed: 0\": 109, \"Algorithm\": \"morgan_feat\", \"Training size\": 2560000, \"N hits wanted\": 100000, \"N hits explored\": 3056462, \"gain\": 8.179391728082992, \"Days\": 35.37571759259259}, {\"Unnamed: 0\": 110, \"Algorithm\": \"morgan_feat\", \"Training size\": 1280000, \"N hits wanted\": 300000, \"N hits explored\": 6177149, \"gain\": 12.141523541038106, \"Days\": 71.49478009259259}, {\"Unnamed: 0\": 111, \"Algorithm\": \"morgan_feat\", \"Training size\": 2560000, \"N hits wanted\": 300000, \"N hits explored\": 6930390, \"gain\": 10.821901797734327, \"Days\": 80.21284722222222}, {\"Unnamed: 0\": 112, \"Algorithm\": \"morgan_feat\", \"Training size\": 1280000, \"N hits wanted\": 10000, \"N hits explored\": 1294234, \"gain\": 1.9316445094163806, \"Days\": 14.979560185185186}, {\"Unnamed: 0\": 113, \"Algorithm\": \"morgan_feat\", \"Training size\": 2560000, \"N hits wanted\": 10000, \"N hits explored\": 2560000, \"gain\": 0.9765625, \"Days\": 29.62962962962963}, {\"Unnamed: 0\": 114, \"Algorithm\": \"morgan_feat\", \"Training size\": 1280000, \"N hits wanted\": 30000, \"N hits explored\": 1369256, \"gain\": 5.477427157522041, \"Days\": 15.847870370370371}, {\"Unnamed: 0\": 115, \"Algorithm\": \"morgan_feat\", \"Training size\": 2560000, \"N hits wanted\": 30000, \"N hits explored\": 2622759, \"gain\": 2.859584124961539, \"Days\": 30.356006944444445}, {\"Unnamed: 0\": 116, \"Algorithm\": \"morgan_feat\", \"Training size\": 1280000, \"N hits wanted\": 100000, \"N hits explored\": 1870932, \"gain\": 13.362324231987053, \"Days\": 21.654305555555556}, {\"Unnamed: 0\": 117, \"Algorithm\": \"morgan_feat\", \"Training size\": 2560000, \"N hits wanted\": 100000, \"N hits explored\": 3049948, \"gain\": 8.196861061237765, \"Days\": 35.30032407407408}, {\"Unnamed: 0\": 118, \"Algorithm\": \"morgan_feat\", \"Training size\": 1280000, \"N hits wanted\": 300000, \"N hits explored\": 6154434, \"gain\": 12.186335900263128, \"Days\": 71.23187499999999}, {\"Unnamed: 0\": 119, \"Algorithm\": \"morgan_feat\", \"Training size\": 2560000, \"N hits wanted\": 300000, \"N hits explored\": 6916133, \"gain\": 10.8442101966518, \"Days\": 80.04783564814815}, {\"Unnamed: 0\": 120, \"Algorithm\": \"morgan_feat\", \"Training size\": 5000, \"N hits wanted\": 200000, \"N hits explored\": 6888965, \"gain\": 7.257984327108644, \"Days\": 79.7333912037037}, {\"Unnamed: 0\": 121, \"Algorithm\": \"morgan_feat\", \"Training size\": 10000, \"N hits wanted\": 200000, \"N hits explored\": 6640293, \"gain\": 7.529788218682519, \"Days\": 76.85524305555556}, {\"Unnamed: 0\": 122, \"Algorithm\": \"morgan_feat\", \"Training size\": 20000, \"N hits wanted\": 200000, \"N hits explored\": 5452224, \"gain\": 9.170569661114436, \"Days\": 63.10444444444445}, {\"Unnamed: 0\": 123, \"Algorithm\": \"morgan_feat\", \"Training size\": 40000, \"N hits wanted\": 200000, \"N hits explored\": 4127726, \"gain\": 12.113207126635828, \"Days\": 47.77460648148148}, {\"Unnamed: 0\": 124, \"Algorithm\": \"morgan_feat\", \"Training size\": 80000, \"N hits wanted\": 200000, \"N hits explored\": 3606330, \"gain\": 13.864510458000238, \"Days\": 41.73993055555555}, {\"Unnamed: 0\": 125, \"Algorithm\": \"morgan_feat\", \"Training size\": 160000, \"N hits wanted\": 200000, \"N hits explored\": 3181967, \"gain\": 15.713550769068314, \"Days\": 36.82832175925926}, {\"Unnamed: 0\": 126, \"Algorithm\": \"morgan_feat\", \"Training size\": 320000, \"N hits wanted\": 200000, \"N hits explored\": 2902533, \"gain\": 17.226332999487, \"Days\": 33.59413194444445}, {\"Unnamed: 0\": 127, \"Algorithm\": \"morgan_feat\", \"Training size\": 640000, \"N hits wanted\": 200000, \"N hits explored\": 2878277, \"gain\": 17.37150385456299, \"Days\": 33.3133912037037}, {\"Unnamed: 0\": 128, \"Algorithm\": \"morgan_feat\", \"Training size\": 1280000, \"N hits wanted\": 200000, \"N hits explored\": 3240249, \"gain\": 15.430912871202182, \"Days\": 37.50288194444445}, {\"Unnamed: 0\": 129, \"Algorithm\": \"morgan_feat\", \"Training size\": 2560000, \"N hits wanted\": 200000, \"N hits explored\": 4293211, \"gain\": 11.646294579977551, \"Days\": 49.68994212962963}, {\"Unnamed: 0\": 130, \"Algorithm\": \"morgan_feat\", \"Training size\": 5000, \"N hits wanted\": 200000, \"N hits explored\": 8737472, \"gain\": 5.722478996213092, \"Days\": 101.12814814814816}, {\"Unnamed: 0\": 131, \"Algorithm\": \"morgan_feat\", \"Training size\": 10000, \"N hits wanted\": 200000, \"N hits explored\": 7584830, \"gain\": 6.59210555806788, \"Days\": 87.78738425925927}, {\"Unnamed: 0\": 132, \"Algorithm\": \"morgan_feat\", \"Training size\": 20000, \"N hits wanted\": 200000, \"N hits explored\": 5952736, \"gain\": 8.399498986684442, \"Days\": 68.89740740740741}, {\"Unnamed: 0\": 133, \"Algorithm\": \"morgan_feat\", \"Training size\": 40000, \"N hits wanted\": 200000, \"N hits explored\": 4072241, \"gain\": 12.278251704651076, \"Days\": 47.132418981481486}, {\"Unnamed: 0\": 134, \"Algorithm\": \"morgan_feat\", \"Training size\": 80000, \"N hits wanted\": 200000, \"N hits explored\": 3538869, \"gain\": 14.12880781967346, \"Days\": 40.959131944444444}, {\"Unnamed: 0\": 135, \"Algorithm\": \"morgan_feat\", \"Training size\": 160000, \"N hits wanted\": 200000, \"N hits explored\": 3057409, \"gain\": 16.353716496549858, \"Days\": 35.38667824074074}, {\"Unnamed: 0\": 136, \"Algorithm\": \"morgan_feat\", \"Training size\": 320000, \"N hits wanted\": 200000, \"N hits explored\": 2876473, \"gain\": 17.382398513735396, \"Days\": 33.29251157407408}, {\"Unnamed: 0\": 137, \"Algorithm\": \"morgan_feat\", \"Training size\": 640000, \"N hits wanted\": 200000, \"N hits explored\": 2891672, \"gain\": 17.291034391175764, \"Days\": 33.46842592592593}, {\"Unnamed: 0\": 138, \"Algorithm\": \"morgan_feat\", \"Training size\": 1280000, \"N hits wanted\": 200000, \"N hits explored\": 3243500, \"gain\": 15.415446277169725, \"Days\": 37.54050925925926}, {\"Unnamed: 0\": 139, \"Algorithm\": \"morgan_feat\", \"Training size\": 2560000, \"N hits wanted\": 200000, \"N hits explored\": 4279328, \"gain\": 11.684077500018695, \"Days\": 49.529259259259256}, {\"Unnamed: 0\": 140, \"Algorithm\": \"morgan_feat\", \"Training size\": 5000, \"N hits wanted\": 200000, \"N hits explored\": 7552575, \"gain\": 6.6202586535055925, \"Days\": 87.4140625}, {\"Unnamed: 0\": 141, \"Algorithm\": \"morgan_feat\", \"Training size\": 10000, \"N hits wanted\": 200000, \"N hits explored\": 6641630, \"gain\": 7.528272427099974, \"Days\": 76.87071759259258}, {\"Unnamed: 0\": 142, \"Algorithm\": \"morgan_feat\", \"Training size\": 20000, \"N hits wanted\": 200000, \"N hits explored\": 5146530, \"gain\": 9.715283890310559, \"Days\": 59.566319444444446}, {\"Unnamed: 0\": 143, \"Algorithm\": \"morgan_feat\", \"Training size\": 40000, \"N hits wanted\": 200000, \"N hits explored\": 4388767, \"gain\": 11.392721463682168, \"Days\": 50.79591435185185}, {\"Unnamed: 0\": 144, \"Algorithm\": \"morgan_feat\", \"Training size\": 80000, \"N hits wanted\": 200000, \"N hits explored\": 3863809, \"gain\": 12.940598254209771, \"Days\": 44.72001157407407}, {\"Unnamed: 0\": 145, \"Algorithm\": \"morgan_feat\", \"Training size\": 160000, \"N hits wanted\": 200000, \"N hits explored\": 3358419, \"gain\": 14.887957696761482, \"Days\": 38.87059027777778}, {\"Unnamed: 0\": 146, \"Algorithm\": \"morgan_feat\", \"Training size\": 320000, \"N hits wanted\": 200000, \"N hits explored\": 2985456, \"gain\": 16.74786029336892, \"Days\": 34.553888888888885}]}}, {\"mode\": \"vega-lite\"});\n",
       "</script>"
      ],
      "text/plain": [
       "alt.LayerChart(...)"
      ]
     },
     "execution_count": 319,
     "metadata": {},
     "output_type": "execute_result"
    }
   ],
   "source": [
    "line = alt.Chart(df).mark_line(color='black',size=2,opacity=0.5).encode(\n",
    "  x=alt.X('Training size:Q', scale=alt.Scale(type='log')),\n",
    "  y=alt.Y('Days',aggregate='mean',title='Days'),\n",
    "    color=alt.Color('N hits wanted:N')\n",
    ")\n",
    "pts = alt.Chart(df).mark_point(filled=False,size=65).encode(\n",
    "  x=alt.X('Training size:Q'),\n",
    "  y=alt.Y('Days',aggregate='mean',),\n",
    "    color=alt.Color('N hits wanted:N')\n",
    ")\n",
    "\n",
    "error_bars = alt.Chart(df).mark_errorbar(extent='ci').encode(\n",
    "  x=alt.X('Training size:Q',),\n",
    "  y=alt.Y('Days'),\n",
    "    color=alt.Color('N hits wanted:N')\n",
    ")\n",
    "#pts\n",
    "line+pts+error_bars\n"
   ]
  },
  {
   "cell_type": "code",
   "execution_count": null,
   "metadata": {},
   "outputs": [],
   "source": []
  },
  {
   "cell_type": "markdown",
   "metadata": {},
   "source": [
    "# 'Active learning\" approach plot"
   ]
  },
  {
   "cell_type": "code",
   "execution_count": 140,
   "metadata": {},
   "outputs": [
    {
     "name": "stdout",
     "output_type": "stream",
     "text": [
      "../processed_data/D4_reconstruction_0.125.csv\r\n",
      "../processed_data/D4_reconstruction_0.15.csv\r\n",
      "../processed_data/D4_reconstruction_0.175.csv\r\n",
      "../processed_data/D4_reconstruction_1.5.csv\r\n",
      "../processed_data/D4_reconstruction_1.75.csv\r\n"
     ]
    }
   ],
   "source": [
    "!ls ../processed_data/D4_recon*"
   ]
  },
  {
   "cell_type": "code",
   "execution_count": 204,
   "metadata": {
    "scrolled": true
   },
   "outputs": [],
   "source": [
    "df = pd.read_csv('../processed_data/ampc_reconstruction_0.125.csv')\n",
    "df['Algorithm'] = 'AmpC, LogReg (ours)'\n",
    "df_ = pd.read_csv('../processed_data/D4_reconstruction_0.15.csv')\n",
    "df_['Algorithm'] = 'D4: LogReg (ours)'"
   ]
  },
  {
   "cell_type": "code",
   "execution_count": 205,
   "metadata": {},
   "outputs": [],
   "source": [
    "df = pd.concat([df_, df])"
   ]
  },
  {
   "cell_type": "code",
   "execution_count": 206,
   "metadata": {},
   "outputs": [],
   "source": [
    "prev_results = [['AmpC:RF (Graff)', 400_000, 71.4, 2.1], ['AmpC:NN (Graff)', 400_000, 74.7, 1.4],\n",
    "                ['AmpC:MPN (Graff)',400_000, 87.9, 2.3],\n",
    "    ['AmpC:RF (Graff)', 200_000, 45.5, 1.8],\n",
    "['AmpC:NN (Graff)', 200_000, 52.8, 0.5],\n",
    "['AmpC:MPN (Graff)', 200_000, 67.1, 2.1],\n",
    "['AmpC:RF (Graff)', 100_000, 24.0, 2.2],\n",
    "['AmpC:NN (Graff)', 100_000 , 33.3,0.3],\n",
    "['AmpC:MPN (Graff)', 100_000, 52.0, 0.5]]\n"
   ]
  },
  {
   "cell_type": "code",
   "execution_count": 207,
   "metadata": {},
   "outputs": [],
   "source": [
    "\n",
    "\n",
    "coley = pd.DataFrame(columns=['Algorithm', 'Training size', 'N ligands explored', '% top-k found'])\n",
    "count = 0 \n",
    "for res in prev_results:\n",
    "    \n",
    "    desired_std_dev = res[3]\n",
    "    samples = np.array([-1,0,1]).astype(float)\n",
    "    samples *= (desired_std_dev/np.std(samples))\n",
    "    for s in samples:\n",
    "        coley.loc[count]= [res[0], res[1], res[1]*6, (s+res[2])/100]\n",
    "        count+=1"
   ]
  },
  {
   "cell_type": "code",
   "execution_count": 208,
   "metadata": {},
   "outputs": [],
   "source": [
    "concat = pd.concat([df, coley])"
   ]
  },
  {
   "cell_type": "code",
   "execution_count": 209,
   "metadata": {
    "scrolled": true
   },
   "outputs": [
    {
     "data": {
      "text/html": [
       "\n",
       "<div id=\"altair-viz-8e5ac81574e04f30a018c24dfdfeb26e\"></div>\n",
       "<script type=\"text/javascript\">\n",
       "  (function(spec, embedOpt){\n",
       "    let outputDiv = document.currentScript.previousElementSibling;\n",
       "    if (outputDiv.id !== \"altair-viz-8e5ac81574e04f30a018c24dfdfeb26e\") {\n",
       "      outputDiv = document.getElementById(\"altair-viz-8e5ac81574e04f30a018c24dfdfeb26e\");\n",
       "    }\n",
       "    const paths = {\n",
       "      \"vega\": \"https://cdn.jsdelivr.net/npm//vega@5?noext\",\n",
       "      \"vega-lib\": \"https://cdn.jsdelivr.net/npm//vega-lib?noext\",\n",
       "      \"vega-lite\": \"https://cdn.jsdelivr.net/npm//vega-lite@4.8.1?noext\",\n",
       "      \"vega-embed\": \"https://cdn.jsdelivr.net/npm//vega-embed@6?noext\",\n",
       "    };\n",
       "\n",
       "    function loadScript(lib) {\n",
       "      return new Promise(function(resolve, reject) {\n",
       "        var s = document.createElement('script');\n",
       "        s.src = paths[lib];\n",
       "        s.async = true;\n",
       "        s.onload = () => resolve(paths[lib]);\n",
       "        s.onerror = () => reject(`Error loading script: ${paths[lib]}`);\n",
       "        document.getElementsByTagName(\"head\")[0].appendChild(s);\n",
       "      });\n",
       "    }\n",
       "\n",
       "    function showError(err) {\n",
       "      outputDiv.innerHTML = `<div class=\"error\" style=\"color:red;\">${err}</div>`;\n",
       "      throw err;\n",
       "    }\n",
       "\n",
       "    function displayChart(vegaEmbed) {\n",
       "      vegaEmbed(outputDiv, spec, embedOpt)\n",
       "        .catch(err => showError(`Javascript Error: ${err.message}<br>This usually means there's a typo in your chart specification. See the javascript console for the full traceback.`));\n",
       "    }\n",
       "\n",
       "    if(typeof define === \"function\" && define.amd) {\n",
       "      requirejs.config({paths});\n",
       "      require([\"vega-embed\"], displayChart, err => showError(`Error loading script: ${err.message}`));\n",
       "    } else if (typeof vegaEmbed === \"function\") {\n",
       "      displayChart(vegaEmbed);\n",
       "    } else {\n",
       "      loadScript(\"vega\")\n",
       "        .then(() => loadScript(\"vega-lite\"))\n",
       "        .then(() => loadScript(\"vega-embed\"))\n",
       "        .catch(showError)\n",
       "        .then(() => displayChart(vegaEmbed));\n",
       "    }\n",
       "  })({\"config\": {\"view\": {\"continuousWidth\": 400, \"continuousHeight\": 300}}, \"data\": {\"name\": \"data-95b4492ef4dcc8dd01126f55b5ab9253\"}, \"facet\": {\"column\": {\"type\": \"nominal\", \"field\": \"Training size\", \"sort\": [0.004, 0.002, 0.001]}}, \"spec\": {\"layer\": [{\"mark\": {\"type\": \"errorbar\", \"extent\": \"ci\"}, \"encoding\": {\"color\": {\"type\": \"nominal\", \"field\": \"Algorithm\"}, \"x\": {\"type\": \"quantitative\", \"field\": \"N ligands explored\", \"title\": \"Number of ligands sampled\"}, \"y\": {\"type\": \"quantitative\", \"field\": \"% top-k found\", \"title\": \"% top 50,000 found\"}}}, {\"mark\": {\"type\": \"point\", \"color\": \"black\", \"filled\": true}, \"encoding\": {\"color\": {\"type\": \"nominal\", \"field\": \"Algorithm\"}, \"x\": {\"type\": \"quantitative\", \"field\": \"N ligands explored\"}, \"y\": {\"type\": \"quantitative\", \"aggregate\": \"mean\", \"field\": \"% top-k found\", \"title\": \"% top 50,000 found\"}}}, {\"mark\": {\"type\": \"line\", \"color\": \"black\", \"opacity\": 0.5, \"size\": 1}, \"encoding\": {\"color\": {\"type\": \"nominal\", \"field\": \"Algorithm\"}, \"x\": {\"type\": \"quantitative\", \"field\": \"N ligands explored\"}, \"y\": {\"type\": \"quantitative\", \"aggregate\": \"mean\", \"field\": \"% top-k found\", \"title\": \"% top 50,000 found\"}}}], \"height\": 400, \"width\": 200}, \"resolve\": {\"scale\": {\"x\": \"independent\"}}, \"$schema\": \"https://vega.github.io/schema/vega-lite/v4.8.1.json\", \"datasets\": {\"data-95b4492ef4dcc8dd01126f55b5ab9253\": [{\"Unnamed: 0\": 0.0, \"Algorithm\": \"D4: LogReg (ours)\", \"Training size\": 400000, \"N ligands explored\": 400000, \"% top-k found\": 0.0038884396345554963}, {\"Unnamed: 0\": 1.0, \"Algorithm\": \"D4: LogReg (ours)\", \"Training size\": 400000, \"N ligands explored\": 800000, \"% top-k found\": 0.22730166377041}, {\"Unnamed: 0\": 2.0, \"Algorithm\": \"D4: LogReg (ours)\", \"Training size\": 400000, \"N ligands explored\": 1200000, \"% top-k found\": 0.3957433629841193}, {\"Unnamed: 0\": 3.0, \"Algorithm\": \"D4: LogReg (ours)\", \"Training size\": 400000, \"N ligands explored\": 1600000, \"% top-k found\": 0.5207412122984808}, {\"Unnamed: 0\": 4.0, \"Algorithm\": \"D4: LogReg (ours)\", \"Training size\": 400000, \"N ligands explored\": 2000000, \"% top-k found\": 0.593640852703842}, {\"Unnamed: 0\": 5.0, \"Algorithm\": \"D4: LogReg (ours)\", \"Training size\": 400000, \"N ligands explored\": 2400000, \"% top-k found\": 0.6466853632938181}, {\"Unnamed: 0\": 6.0, \"Algorithm\": \"D4: LogReg (ours)\", \"Training size\": 200000, \"N ligands explored\": 200000, \"% top-k found\": 0.0018409869066258323}, {\"Unnamed: 0\": 7.0, \"Algorithm\": \"D4: LogReg (ours)\", \"Training size\": 200000, \"N ligands explored\": 400000, \"% top-k found\": 0.12687324719120455}, {\"Unnamed: 0\": 8.0, \"Algorithm\": \"D4: LogReg (ours)\", \"Training size\": 200000, \"N ligands explored\": 600000, \"% top-k found\": 0.2636052373496671}, {\"Unnamed: 0\": 9.0, \"Algorithm\": \"D4: LogReg (ours)\", \"Training size\": 200000, \"N ligands explored\": 800000, \"% top-k found\": 0.3771614390667745}, {\"Unnamed: 0\": 10.0, \"Algorithm\": \"D4: LogReg (ours)\", \"Training size\": 200000, \"N ligands explored\": 1000000, \"% top-k found\": 0.4536570258598441}, {\"Unnamed: 0\": 11.0, \"Algorithm\": \"D4: LogReg (ours)\", \"Training size\": 200000, \"N ligands explored\": 1200000, \"% top-k found\": 0.5078026874967739}, {\"Unnamed: 0\": 12.0, \"Algorithm\": \"D4: LogReg (ours)\", \"Training size\": 100000, \"N ligands explored\": 100000, \"% top-k found\": 0.0007914523149980214}, {\"Unnamed: 0\": 13.0, \"Algorithm\": \"D4: LogReg (ours)\", \"Training size\": 100000, \"N ligands explored\": 200000, \"% top-k found\": 0.061062266650608224}, {\"Unnamed: 0\": 14.0, \"Algorithm\": \"D4: LogReg (ours)\", \"Training size\": 100000, \"N ligands explored\": 300000, \"% top-k found\": 0.15925397016568882}, {\"Unnamed: 0\": 15.0, \"Algorithm\": \"D4: LogReg (ours)\", \"Training size\": 100000, \"N ligands explored\": 400000, \"% top-k found\": 0.24626210836014525}, {\"Unnamed: 0\": 16.0, \"Algorithm\": \"D4: LogReg (ours)\", \"Training size\": 100000, \"N ligands explored\": 500000, \"% top-k found\": 0.31095473236867915}, {\"Unnamed: 0\": 17.0, \"Algorithm\": \"D4: LogReg (ours)\", \"Training size\": 100000, \"N ligands explored\": 600000, \"% top-k found\": 0.3611431324306189}, {\"Unnamed: 0\": 18.0, \"Algorithm\": \"D4: LogReg (ours)\", \"Training size\": 400000, \"N ligands explored\": 400000, \"% top-k found\": 0.0036475628430343602}, {\"Unnamed: 0\": 19.0, \"Algorithm\": \"D4: LogReg (ours)\", \"Training size\": 400000, \"N ligands explored\": 800000, \"% top-k found\": 0.23266977512430964}, {\"Unnamed: 0\": 20.0, \"Algorithm\": \"D4: LogReg (ours)\", \"Training size\": 400000, \"N ligands explored\": 1200000, \"% top-k found\": 0.3933690060391253}, {\"Unnamed: 0\": 21.0, \"Algorithm\": \"D4: LogReg (ours)\", \"Training size\": 400000, \"N ligands explored\": 1600000, \"% top-k found\": 0.5173001152767502}, {\"Unnamed: 0\": 22.0, \"Algorithm\": \"D4: LogReg (ours)\", \"Training size\": 400000, \"N ligands explored\": 2000000, \"% top-k found\": 0.5884620016861375}, {\"Unnamed: 0\": 23.0, \"Algorithm\": \"D4: LogReg (ours)\", \"Training size\": 400000, \"N ligands explored\": 2400000, \"% top-k found\": 0.641437690335679}, {\"Unnamed: 0\": 24.0, \"Algorithm\": \"D4: LogReg (ours)\", \"Training size\": 200000, \"N ligands explored\": 200000, \"% top-k found\": 0.0017549594810825693}, {\"Unnamed: 0\": 25.0, \"Algorithm\": \"D4: LogReg (ours)\", \"Training size\": 200000, \"N ligands explored\": 400000, \"% top-k found\": 0.12697648010185647}, {\"Unnamed: 0\": 26.0, \"Algorithm\": \"D4: LogReg (ours)\", \"Training size\": 200000, \"N ligands explored\": 600000, \"% top-k found\": 0.2586328521532665}, {\"Unnamed: 0\": 27.0, \"Algorithm\": \"D4: LogReg (ours)\", \"Training size\": 200000, \"N ligands explored\": 800000, \"% top-k found\": 0.3690576555805991}, {\"Unnamed: 0\": 28.0, \"Algorithm\": \"D4: LogReg (ours)\", \"Training size\": 200000, \"N ligands explored\": 1000000, \"% top-k found\": 0.4464995440546447}, {\"Unnamed: 0\": 29.0, \"Algorithm\": \"D4: LogReg (ours)\", \"Training size\": 200000, \"N ligands explored\": 1200000, \"% top-k found\": 0.5042755630495002}, {\"Unnamed: 0\": 30.0, \"Algorithm\": \"D4: LogReg (ours)\", \"Training size\": 100000, \"N ligands explored\": 100000, \"% top-k found\": 0.0007570413447807161}, {\"Unnamed: 0\": 31.0, \"Algorithm\": \"D4: LogReg (ours)\", \"Training size\": 100000, \"N ligands explored\": 200000, \"% top-k found\": 0.07147158514134308}, {\"Unnamed: 0\": 32.0, \"Algorithm\": \"D4: LogReg (ours)\", \"Training size\": 100000, \"N ligands explored\": 300000, \"% top-k found\": 0.14915435040690972}, {\"Unnamed: 0\": 33.0, \"Algorithm\": \"D4: LogReg (ours)\", \"Training size\": 100000, \"N ligands explored\": 400000, \"% top-k found\": 0.22989969202181654}, {\"Unnamed: 0\": 34.0, \"Algorithm\": \"D4: LogReg (ours)\", \"Training size\": 100000, \"N ligands explored\": 500000, \"% top-k found\": 0.3000120438395761}, {\"Unnamed: 0\": 35.0, \"Algorithm\": \"D4: LogReg (ours)\", \"Training size\": 100000, \"N ligands explored\": 600000, \"% top-k found\": 0.3550695961872645}, {\"Unnamed: 0\": 36.0, \"Algorithm\": \"D4: LogReg (ours)\", \"Training size\": 400000, \"N ligands explored\": 400000, \"% top-k found\": 0.003200220230209391}, {\"Unnamed: 0\": 37.0, \"Algorithm\": \"D4: LogReg (ours)\", \"Training size\": 400000, \"N ligands explored\": 800000, \"% top-k found\": 0.2354398582268027}, {\"Unnamed: 0\": 38.0, \"Algorithm\": \"D4: LogReg (ours)\", \"Training size\": 400000, \"N ligands explored\": 1200000, \"% top-k found\": 0.3939539925328195}, {\"Unnamed: 0\": 39.0, \"Algorithm\": \"D4: LogReg (ours)\", \"Training size\": 400000, \"N ligands explored\": 1600000, \"% top-k found\": 0.5145816486295831}, {\"Unnamed: 0\": 40.0, \"Algorithm\": \"D4: LogReg (ours)\", \"Training size\": 400000, \"N ligands explored\": 2000000, \"% top-k found\": 0.5882727413499423}, {\"Unnamed: 0\": 41.0, \"Algorithm\": \"D4: LogReg (ours)\", \"Training size\": 400000, \"N ligands explored\": 2400000, \"% top-k found\": 0.6422119371655683}, {\"Unnamed: 0\": 42.0, \"Algorithm\": \"D4: LogReg (ours)\", \"Training size\": 200000, \"N ligands explored\": 200000, \"% top-k found\": 0.001479671719344127}, {\"Unnamed: 0\": 43.0, \"Algorithm\": \"D4: LogReg (ours)\", \"Training size\": 200000, \"N ligands explored\": 400000, \"% top-k found\": 0.11402074981504105}, {\"Unnamed: 0\": 44.0, \"Algorithm\": \"D4: LogReg (ours)\", \"Training size\": 200000, \"N ligands explored\": 600000, \"% top-k found\": 0.2425113126064589}, {\"Unnamed: 0\": 45.0, \"Algorithm\": \"D4: LogReg (ours)\", \"Training size\": 200000, \"N ligands explored\": 800000, \"% top-k found\": 0.35771924089399704}, {\"Unnamed: 0\": 46.0, \"Algorithm\": \"D4: LogReg (ours)\", \"Training size\": 200000, \"N ligands explored\": 1000000, \"% top-k found\": 0.4412518710965056}, {\"Unnamed: 0\": 47.0, \"Algorithm\": \"D4: LogReg (ours)\", \"Training size\": 200000, \"N ligands explored\": 1200000, \"% top-k found\": 0.4972557251251699}, {\"Unnamed: 0\": 48.0, \"Algorithm\": \"D4: LogReg (ours)\", \"Training size\": 100000, \"N ligands explored\": 100000, \"% top-k found\": 0.0008258632852153266}, {\"Unnamed: 0\": 49.0, \"Algorithm\": \"D4: LogReg (ours)\", \"Training size\": 100000, \"N ligands explored\": 200000, \"% top-k found\": 0.04979267390444073}, {\"Unnamed: 0\": 50.0, \"Algorithm\": \"D4: LogReg (ours)\", \"Training size\": 100000, \"N ligands explored\": 300000, \"% top-k found\": 0.14359697871681493}, {\"Unnamed: 0\": 51.0, \"Algorithm\": \"D4: LogReg (ours)\", \"Training size\": 100000, \"N ligands explored\": 400000, \"% top-k found\": 0.23604205020560556}, {\"Unnamed: 0\": 52.0, \"Algorithm\": \"D4: LogReg (ours)\", \"Training size\": 100000, \"N ligands explored\": 500000, \"% top-k found\": 0.30784053956401297}, {\"Unnamed: 0\": 53.0, \"Algorithm\": \"D4: LogReg (ours)\", \"Training size\": 100000, \"N ligands explored\": 600000, \"% top-k found\": 0.3635346948607216}, {\"Unnamed: 0\": 0.0, \"Algorithm\": \"AmpC, LogReg (ours)\", \"Training size\": 400000, \"N ligands explored\": 400000, \"% top-k found\": 0.00424}, {\"Unnamed: 0\": 1.0, \"Algorithm\": \"AmpC, LogReg (ours)\", \"Training size\": 400000, \"N ligands explored\": 800000, \"% top-k found\": 0.35218}, {\"Unnamed: 0\": 2.0, \"Algorithm\": \"AmpC, LogReg (ours)\", \"Training size\": 400000, \"N ligands explored\": 1200000, \"% top-k found\": 0.65792}, {\"Unnamed: 0\": 3.0, \"Algorithm\": \"AmpC, LogReg (ours)\", \"Training size\": 400000, \"N ligands explored\": 1600000, \"% top-k found\": 0.7907}, {\"Unnamed: 0\": 4.0, \"Algorithm\": \"AmpC, LogReg (ours)\", \"Training size\": 400000, \"N ligands explored\": 2000000, \"% top-k found\": 0.8626799999999999}, {\"Unnamed: 0\": 5.0, \"Algorithm\": \"AmpC, LogReg (ours)\", \"Training size\": 400000, \"N ligands explored\": 2400000, \"% top-k found\": 0.9003399999999999}, {\"Unnamed: 0\": 6.0, \"Algorithm\": \"AmpC, LogReg (ours)\", \"Training size\": 200000, \"N ligands explored\": 200000, \"% top-k found\": 0.00218}, {\"Unnamed: 0\": 7.0, \"Algorithm\": \"AmpC, LogReg (ours)\", \"Training size\": 200000, \"N ligands explored\": 400000, \"% top-k found\": 0.18236}, {\"Unnamed: 0\": 8.0, \"Algorithm\": \"AmpC, LogReg (ours)\", \"Training size\": 200000, \"N ligands explored\": 600000, \"% top-k found\": 0.41913999999999996}, {\"Unnamed: 0\": 9.0, \"Algorithm\": \"AmpC, LogReg (ours)\", \"Training size\": 200000, \"N ligands explored\": 800000, \"% top-k found\": 0.57312}, {\"Unnamed: 0\": 10.0, \"Algorithm\": \"AmpC, LogReg (ours)\", \"Training size\": 200000, \"N ligands explored\": 1000000, \"% top-k found\": 0.67264}, {\"Unnamed: 0\": 11.0, \"Algorithm\": \"AmpC, LogReg (ours)\", \"Training size\": 200000, \"N ligands explored\": 1200000, \"% top-k found\": 0.7456}, {\"Unnamed: 0\": 12.0, \"Algorithm\": \"AmpC, LogReg (ours)\", \"Training size\": 100000, \"N ligands explored\": 100000, \"% top-k found\": 0.00146}, {\"Unnamed: 0\": 13.0, \"Algorithm\": \"AmpC, LogReg (ours)\", \"Training size\": 100000, \"N ligands explored\": 200000, \"% top-k found\": 0.09404}, {\"Unnamed: 0\": 14.0, \"Algorithm\": \"AmpC, LogReg (ours)\", \"Training size\": 100000, \"N ligands explored\": 300000, \"% top-k found\": 0.25992}, {\"Unnamed: 0\": 15.0, \"Algorithm\": \"AmpC, LogReg (ours)\", \"Training size\": 100000, \"N ligands explored\": 400000, \"% top-k found\": 0.36041999999999996}, {\"Unnamed: 0\": 16.0, \"Algorithm\": \"AmpC, LogReg (ours)\", \"Training size\": 100000, \"N ligands explored\": 500000, \"% top-k found\": 0.42898000000000003}, {\"Unnamed: 0\": 17.0, \"Algorithm\": \"AmpC, LogReg (ours)\", \"Training size\": 100000, \"N ligands explored\": 600000, \"% top-k found\": 0.48248}, {\"Unnamed: 0\": 18.0, \"Algorithm\": \"AmpC, LogReg (ours)\", \"Training size\": 400000, \"N ligands explored\": 400000, \"% top-k found\": 0.004220000000000001}, {\"Unnamed: 0\": 19.0, \"Algorithm\": \"AmpC, LogReg (ours)\", \"Training size\": 400000, \"N ligands explored\": 800000, \"% top-k found\": 0.36391999999999997}, {\"Unnamed: 0\": 20.0, \"Algorithm\": \"AmpC, LogReg (ours)\", \"Training size\": 400000, \"N ligands explored\": 1200000, \"% top-k found\": 0.6663}, {\"Unnamed: 0\": 21.0, \"Algorithm\": \"AmpC, LogReg (ours)\", \"Training size\": 400000, \"N ligands explored\": 1600000, \"% top-k found\": 0.7892399999999999}, {\"Unnamed: 0\": 22.0, \"Algorithm\": \"AmpC, LogReg (ours)\", \"Training size\": 400000, \"N ligands explored\": 2000000, \"% top-k found\": 0.8526}, {\"Unnamed: 0\": 23.0, \"Algorithm\": \"AmpC, LogReg (ours)\", \"Training size\": 400000, \"N ligands explored\": 2400000, \"% top-k found\": 0.8891399999999999}, {\"Unnamed: 0\": 24.0, \"Algorithm\": \"AmpC, LogReg (ours)\", \"Training size\": 200000, \"N ligands explored\": 200000, \"% top-k found\": 0.0022}, {\"Unnamed: 0\": 25.0, \"Algorithm\": \"AmpC, LogReg (ours)\", \"Training size\": 200000, \"N ligands explored\": 400000, \"% top-k found\": 0.18922}, {\"Unnamed: 0\": 26.0, \"Algorithm\": \"AmpC, LogReg (ours)\", \"Training size\": 200000, \"N ligands explored\": 600000, \"% top-k found\": 0.4324}, {\"Unnamed: 0\": 27.0, \"Algorithm\": \"AmpC, LogReg (ours)\", \"Training size\": 200000, \"N ligands explored\": 800000, \"% top-k found\": 0.5691}, {\"Unnamed: 0\": 28.0, \"Algorithm\": \"AmpC, LogReg (ours)\", \"Training size\": 200000, \"N ligands explored\": 1000000, \"% top-k found\": 0.6630199999999999}, {\"Unnamed: 0\": 29.0, \"Algorithm\": \"AmpC, LogReg (ours)\", \"Training size\": 200000, \"N ligands explored\": 1200000, \"% top-k found\": 0.7327199999999999}, {\"Unnamed: 0\": 30.0, \"Algorithm\": \"AmpC, LogReg (ours)\", \"Training size\": 100000, \"N ligands explored\": 100000, \"% top-k found\": 0.00118}, {\"Unnamed: 0\": 31.0, \"Algorithm\": \"AmpC, LogReg (ours)\", \"Training size\": 100000, \"N ligands explored\": 200000, \"% top-k found\": 0.09392}, {\"Unnamed: 0\": 32.0, \"Algorithm\": \"AmpC, LogReg (ours)\", \"Training size\": 100000, \"N ligands explored\": 300000, \"% top-k found\": 0.2579}, {\"Unnamed: 0\": 33.0, \"Algorithm\": \"AmpC, LogReg (ours)\", \"Training size\": 100000, \"N ligands explored\": 400000, \"% top-k found\": 0.36564}, {\"Unnamed: 0\": 34.0, \"Algorithm\": \"AmpC, LogReg (ours)\", \"Training size\": 100000, \"N ligands explored\": 500000, \"% top-k found\": 0.43476000000000004}, {\"Unnamed: 0\": 35.0, \"Algorithm\": \"AmpC, LogReg (ours)\", \"Training size\": 100000, \"N ligands explored\": 600000, \"% top-k found\": 0.48818}, {\"Unnamed: 0\": 36.0, \"Algorithm\": \"AmpC, LogReg (ours)\", \"Training size\": 400000, \"N ligands explored\": 400000, \"% top-k found\": 0.0038799999999999998}, {\"Unnamed: 0\": 37.0, \"Algorithm\": \"AmpC, LogReg (ours)\", \"Training size\": 400000, \"N ligands explored\": 800000, \"% top-k found\": 0.35664}, {\"Unnamed: 0\": 38.0, \"Algorithm\": \"AmpC, LogReg (ours)\", \"Training size\": 400000, \"N ligands explored\": 1200000, \"% top-k found\": 0.67168}, {\"Unnamed: 0\": 39.0, \"Algorithm\": \"AmpC, LogReg (ours)\", \"Training size\": 400000, \"N ligands explored\": 1600000, \"% top-k found\": 0.8001}, {\"Unnamed: 0\": 40.0, \"Algorithm\": \"AmpC, LogReg (ours)\", \"Training size\": 400000, \"N ligands explored\": 2000000, \"% top-k found\": 0.86598}, {\"Unnamed: 0\": 41.0, \"Algorithm\": \"AmpC, LogReg (ours)\", \"Training size\": 400000, \"N ligands explored\": 2400000, \"% top-k found\": 0.90612}, {\"Unnamed: 0\": 42.0, \"Algorithm\": \"AmpC, LogReg (ours)\", \"Training size\": 200000, \"N ligands explored\": 200000, \"% top-k found\": 0.0023}, {\"Unnamed: 0\": 43.0, \"Algorithm\": \"AmpC, LogReg (ours)\", \"Training size\": 200000, \"N ligands explored\": 400000, \"% top-k found\": 0.18567999999999998}, {\"Unnamed: 0\": 44.0, \"Algorithm\": \"AmpC, LogReg (ours)\", \"Training size\": 200000, \"N ligands explored\": 600000, \"% top-k found\": 0.41491999999999996}, {\"Unnamed: 0\": 45.0, \"Algorithm\": \"AmpC, LogReg (ours)\", \"Training size\": 200000, \"N ligands explored\": 800000, \"% top-k found\": 0.55818}, {\"Unnamed: 0\": 46.0, \"Algorithm\": \"AmpC, LogReg (ours)\", \"Training size\": 200000, \"N ligands explored\": 1000000, \"% top-k found\": 0.6461600000000001}, {\"Unnamed: 0\": 47.0, \"Algorithm\": \"AmpC, LogReg (ours)\", \"Training size\": 200000, \"N ligands explored\": 1200000, \"% top-k found\": 0.71348}, {\"Unnamed: 0\": 48.0, \"Algorithm\": \"AmpC, LogReg (ours)\", \"Training size\": 100000, \"N ligands explored\": 100000, \"% top-k found\": 0.00114}, {\"Unnamed: 0\": 49.0, \"Algorithm\": \"AmpC, LogReg (ours)\", \"Training size\": 100000, \"N ligands explored\": 200000, \"% top-k found\": 0.0918}, {\"Unnamed: 0\": 50.0, \"Algorithm\": \"AmpC, LogReg (ours)\", \"Training size\": 100000, \"N ligands explored\": 300000, \"% top-k found\": 0.255}, {\"Unnamed: 0\": 51.0, \"Algorithm\": \"AmpC, LogReg (ours)\", \"Training size\": 100000, \"N ligands explored\": 400000, \"% top-k found\": 0.36546}, {\"Unnamed: 0\": 52.0, \"Algorithm\": \"AmpC, LogReg (ours)\", \"Training size\": 100000, \"N ligands explored\": 500000, \"% top-k found\": 0.43476000000000004}, {\"Unnamed: 0\": 53.0, \"Algorithm\": \"AmpC, LogReg (ours)\", \"Training size\": 100000, \"N ligands explored\": 600000, \"% top-k found\": 0.48788000000000004}, {\"Unnamed: 0\": null, \"Algorithm\": \"AmpC:RF (Graff)\", \"Training size\": 400000, \"N ligands explored\": 2400000, \"% top-k found\": 0.6882803577007767}, {\"Unnamed: 0\": null, \"Algorithm\": \"AmpC:RF (Graff)\", \"Training size\": 400000, \"N ligands explored\": 2400000, \"% top-k found\": 0.7140000000000001}, {\"Unnamed: 0\": null, \"Algorithm\": \"AmpC:RF (Graff)\", \"Training size\": 400000, \"N ligands explored\": 2400000, \"% top-k found\": 0.7397196422992235}, {\"Unnamed: 0\": null, \"Algorithm\": \"AmpC:NN (Graff)\", \"Training size\": 400000, \"N ligands explored\": 2400000, \"% top-k found\": 0.7298535718005178}, {\"Unnamed: 0\": null, \"Algorithm\": \"AmpC:NN (Graff)\", \"Training size\": 400000, \"N ligands explored\": 2400000, \"% top-k found\": 0.747}, {\"Unnamed: 0\": null, \"Algorithm\": \"AmpC:NN (Graff)\", \"Training size\": 400000, \"N ligands explored\": 2400000, \"% top-k found\": 0.7641464281994823}, {\"Unnamed: 0\": null, \"Algorithm\": \"AmpC:MPN (Graff)\", \"Training size\": 400000, \"N ligands explored\": 2400000, \"% top-k found\": 0.8508308679579935}, {\"Unnamed: 0\": null, \"Algorithm\": \"AmpC:MPN (Graff)\", \"Training size\": 400000, \"N ligands explored\": 2400000, \"% top-k found\": 0.879}, {\"Unnamed: 0\": null, \"Algorithm\": \"AmpC:MPN (Graff)\", \"Training size\": 400000, \"N ligands explored\": 2400000, \"% top-k found\": 0.9071691320420067}, {\"Unnamed: 0\": null, \"Algorithm\": \"AmpC:RF (Graff)\", \"Training size\": 200000, \"N ligands explored\": 1200000, \"% top-k found\": 0.43295459231495137}, {\"Unnamed: 0\": null, \"Algorithm\": \"AmpC:RF (Graff)\", \"Training size\": 200000, \"N ligands explored\": 1200000, \"% top-k found\": 0.455}, {\"Unnamed: 0\": null, \"Algorithm\": \"AmpC:RF (Graff)\", \"Training size\": 200000, \"N ligands explored\": 1200000, \"% top-k found\": 0.4770454076850486}, {\"Unnamed: 0\": null, \"Algorithm\": \"AmpC:NN (Graff)\", \"Training size\": 200000, \"N ligands explored\": 1200000, \"% top-k found\": 0.521876275643042}, {\"Unnamed: 0\": null, \"Algorithm\": \"AmpC:NN (Graff)\", \"Training size\": 200000, \"N ligands explored\": 1200000, \"% top-k found\": 0.528}, {\"Unnamed: 0\": null, \"Algorithm\": \"AmpC:NN (Graff)\", \"Training size\": 200000, \"N ligands explored\": 1200000, \"% top-k found\": 0.534123724356958}, {\"Unnamed: 0\": null, \"Algorithm\": \"AmpC:MPN (Graff)\", \"Training size\": 200000, \"N ligands explored\": 1200000, \"% top-k found\": 0.6452803577007765}, {\"Unnamed: 0\": null, \"Algorithm\": \"AmpC:MPN (Graff)\", \"Training size\": 200000, \"N ligands explored\": 1200000, \"% top-k found\": 0.6709999999999999}, {\"Unnamed: 0\": null, \"Algorithm\": \"AmpC:MPN (Graff)\", \"Training size\": 200000, \"N ligands explored\": 1200000, \"% top-k found\": 0.6967196422992233}, {\"Unnamed: 0\": null, \"Algorithm\": \"AmpC:RF (Graff)\", \"Training size\": 100000, \"N ligands explored\": 600000, \"% top-k found\": 0.21305561282938507}, {\"Unnamed: 0\": null, \"Algorithm\": \"AmpC:RF (Graff)\", \"Training size\": 100000, \"N ligands explored\": 600000, \"% top-k found\": 0.24}, {\"Unnamed: 0\": null, \"Algorithm\": \"AmpC:RF (Graff)\", \"Training size\": 100000, \"N ligands explored\": 600000, \"% top-k found\": 0.26694438717061497}, {\"Unnamed: 0\": null, \"Algorithm\": \"AmpC:NN (Graff)\", \"Training size\": 100000, \"N ligands explored\": 600000, \"% top-k found\": 0.32932576538582525}, {\"Unnamed: 0\": null, \"Algorithm\": \"AmpC:NN (Graff)\", \"Training size\": 100000, \"N ligands explored\": 600000, \"% top-k found\": 0.33299999999999996}, {\"Unnamed: 0\": null, \"Algorithm\": \"AmpC:NN (Graff)\", \"Training size\": 100000, \"N ligands explored\": 600000, \"% top-k found\": 0.3366742346141747}, {\"Unnamed: 0\": null, \"Algorithm\": \"AmpC:MPN (Graff)\", \"Training size\": 100000, \"N ligands explored\": 600000, \"% top-k found\": 0.5138762756430421}, {\"Unnamed: 0\": null, \"Algorithm\": \"AmpC:MPN (Graff)\", \"Training size\": 100000, \"N ligands explored\": 600000, \"% top-k found\": 0.52}, {\"Unnamed: 0\": null, \"Algorithm\": \"AmpC:MPN (Graff)\", \"Training size\": 100000, \"N ligands explored\": 600000, \"% top-k found\": 0.526123724356958}]}}, {\"mode\": \"vega-lite\"});\n",
       "</script>"
      ],
      "text/plain": [
       "alt.FacetChart(...)"
      ]
     },
     "execution_count": 209,
     "metadata": {},
     "output_type": "execute_result"
    }
   ],
   "source": [
    "error_bars = alt.Chart(concat).mark_errorbar(extent='ci').encode(\n",
    "  x=alt.X('N ligands explored:Q',title='Number of ligands sampled'),\n",
    "  y=alt.Y('% top-k found:Q', title='% top 50,000 found'),\n",
    "    color=alt.Color('Algorithm')\n",
    ")\n",
    "\n",
    "points = alt.Chart(concat).mark_point(filled=True, color='black').encode(\n",
    "  x=alt.X('N ligands explored:Q'),\n",
    "  y=alt.Y('% top-k found:Q',aggregate='mean',title='% top 50,000 found'),\n",
    "    color=alt.Color('Algorithm')\n",
    ")\n",
    "\n",
    "line = alt.Chart(concat).mark_line(color='black',size=1,opacity=0.5).encode(\n",
    "  x=alt.X('N ligands explored:Q'),\n",
    "  y=alt.Y('% top-k found:Q',aggregate='mean',title='% top 50,000 found'),\n",
    "    color=alt.Color('Algorithm')\n",
    ")\n",
    "\n",
    "ch = (error_bars+points+line).properties(height=400,width=200).facet(\n",
    "    column=alt.Column('Training size:N',sort=alt.Sort([0.004, 0.002, 0.001])),\n",
    ").resolve_scale(x='independent')\n",
    "ch"
   ]
  },
  {
   "cell_type": "code",
   "execution_count": 102,
   "metadata": {
    "scrolled": true
   },
   "outputs": [],
   "source": [
    "#df.to_csv('../processed_data/ampc_reconstruction.csv')"
   ]
  },
  {
   "cell_type": "code",
   "execution_count": 103,
   "metadata": {},
   "outputs": [],
   "source": [
    "chs = []\n",
    "for frac in [400000, 200000, 100000]:\n",
    "    \n",
    "    df_ = concat[concat['Training size']==frac].replace('morgan_feat', 'Morgan pharm. & Log.reg. (ours)')\n",
    "    error_bars = alt.Chart(df_).mark_errorbar(extent='ci').encode(\n",
    "          x=alt.X('N ligands explored:Q', \n",
    "                  title='Number of ligands sampled',\n",
    "                  scale=alt.Scale(domain=[0,max(df_['N ligands explored'])+10000])),\n",
    "          y=alt.Y('% top-k found:Q',scale=alt.Scale(domain=[0,0.95])),\n",
    "        color=alt.Color('Algorithm')\n",
    "        )\n",
    "\n",
    "    points = alt.Chart(df_).mark_point(filled=True, color='black').encode(\n",
    "          x=alt.X('N ligands explored:Q'),\n",
    "          y=alt.Y('% top-k found:Q',aggregate='mean',scale=alt.Scale(domain=[0,0.95])),\n",
    "        color=alt.Color('Algorithm')\n",
    "        )\n",
    "\n",
    "    line = alt.Chart(df_).mark_line(color='black',size=1,opacity=0.5).encode(\n",
    "          x=alt.X('N ligands explored:Q'),\n",
    "          y=alt.Y('% top-k found:Q',aggregate='mean',scale=alt.Scale(domain=[0,0.95])),\n",
    "        color=alt.Color('Algorithm')\n",
    "        )\n",
    "    ch = (error_bars+points+line).properties(width=200)\n",
    "    ch.title = str(frac / (100*1e6)*100)\n",
    "    chs.append(ch)\n"
   ]
  },
  {
   "cell_type": "code",
   "execution_count": 104,
   "metadata": {},
   "outputs": [
    {
     "data": {
      "text/html": [
       "\n",
       "<div id=\"altair-viz-34fac014626e4940a9e332406626b07e\"></div>\n",
       "<script type=\"text/javascript\">\n",
       "  (function(spec, embedOpt){\n",
       "    let outputDiv = document.currentScript.previousElementSibling;\n",
       "    if (outputDiv.id !== \"altair-viz-34fac014626e4940a9e332406626b07e\") {\n",
       "      outputDiv = document.getElementById(\"altair-viz-34fac014626e4940a9e332406626b07e\");\n",
       "    }\n",
       "    const paths = {\n",
       "      \"vega\": \"https://cdn.jsdelivr.net/npm//vega@5?noext\",\n",
       "      \"vega-lib\": \"https://cdn.jsdelivr.net/npm//vega-lib?noext\",\n",
       "      \"vega-lite\": \"https://cdn.jsdelivr.net/npm//vega-lite@4.8.1?noext\",\n",
       "      \"vega-embed\": \"https://cdn.jsdelivr.net/npm//vega-embed@6?noext\",\n",
       "    };\n",
       "\n",
       "    function loadScript(lib) {\n",
       "      return new Promise(function(resolve, reject) {\n",
       "        var s = document.createElement('script');\n",
       "        s.src = paths[lib];\n",
       "        s.async = true;\n",
       "        s.onload = () => resolve(paths[lib]);\n",
       "        s.onerror = () => reject(`Error loading script: ${paths[lib]}`);\n",
       "        document.getElementsByTagName(\"head\")[0].appendChild(s);\n",
       "      });\n",
       "    }\n",
       "\n",
       "    function showError(err) {\n",
       "      outputDiv.innerHTML = `<div class=\"error\" style=\"color:red;\">${err}</div>`;\n",
       "      throw err;\n",
       "    }\n",
       "\n",
       "    function displayChart(vegaEmbed) {\n",
       "      vegaEmbed(outputDiv, spec, embedOpt)\n",
       "        .catch(err => showError(`Javascript Error: ${err.message}<br>This usually means there's a typo in your chart specification. See the javascript console for the full traceback.`));\n",
       "    }\n",
       "\n",
       "    if(typeof define === \"function\" && define.amd) {\n",
       "      requirejs.config({paths});\n",
       "      require([\"vega-embed\"], displayChart, err => showError(`Error loading script: ${err.message}`));\n",
       "    } else if (typeof vegaEmbed === \"function\") {\n",
       "      displayChart(vegaEmbed);\n",
       "    } else {\n",
       "      loadScript(\"vega\")\n",
       "        .then(() => loadScript(\"vega-lite\"))\n",
       "        .then(() => loadScript(\"vega-embed\"))\n",
       "        .catch(showError)\n",
       "        .then(() => displayChart(vegaEmbed));\n",
       "    }\n",
       "  })({\"config\": {\"view\": {\"continuousWidth\": 400, \"continuousHeight\": 300}}, \"hconcat\": [{\"layer\": [{\"mark\": {\"type\": \"errorbar\", \"extent\": \"ci\"}, \"encoding\": {\"color\": {\"type\": \"nominal\", \"field\": \"Algorithm\"}, \"x\": {\"type\": \"quantitative\", \"field\": \"N ligands explored\", \"scale\": {\"domain\": [0, 2410000]}, \"title\": \"Number of ligands sampled\"}, \"y\": {\"type\": \"quantitative\", \"field\": \"% top-k found\", \"scale\": {\"domain\": [0, 0.95]}}}}, {\"mark\": {\"type\": \"point\", \"color\": \"black\", \"filled\": true}, \"encoding\": {\"color\": {\"type\": \"nominal\", \"field\": \"Algorithm\"}, \"x\": {\"type\": \"quantitative\", \"field\": \"N ligands explored\"}, \"y\": {\"type\": \"quantitative\", \"aggregate\": \"mean\", \"field\": \"% top-k found\", \"scale\": {\"domain\": [0, 0.95]}}}}, {\"mark\": {\"type\": \"line\", \"color\": \"black\", \"opacity\": 0.5, \"size\": 1}, \"encoding\": {\"color\": {\"type\": \"nominal\", \"field\": \"Algorithm\"}, \"x\": {\"type\": \"quantitative\", \"field\": \"N ligands explored\"}, \"y\": {\"type\": \"quantitative\", \"aggregate\": \"mean\", \"field\": \"% top-k found\", \"scale\": {\"domain\": [0, 0.95]}}}}], \"data\": {\"name\": \"data-69f5ad225702dcd6770ee3714b521b20\"}, \"title\": \"0.4\", \"width\": 200}, {\"layer\": [{\"mark\": {\"type\": \"errorbar\", \"extent\": \"ci\"}, \"encoding\": {\"color\": {\"type\": \"nominal\", \"field\": \"Algorithm\"}, \"x\": {\"type\": \"quantitative\", \"field\": \"N ligands explored\", \"scale\": {\"domain\": [0, 1210000]}, \"title\": \"Number of ligands sampled\"}, \"y\": {\"type\": \"quantitative\", \"field\": \"% top-k found\", \"scale\": {\"domain\": [0, 0.95]}}}}, {\"mark\": {\"type\": \"point\", \"color\": \"black\", \"filled\": true}, \"encoding\": {\"color\": {\"type\": \"nominal\", \"field\": \"Algorithm\"}, \"x\": {\"type\": \"quantitative\", \"field\": \"N ligands explored\"}, \"y\": {\"type\": \"quantitative\", \"aggregate\": \"mean\", \"field\": \"% top-k found\", \"scale\": {\"domain\": [0, 0.95]}}}}, {\"mark\": {\"type\": \"line\", \"color\": \"black\", \"opacity\": 0.5, \"size\": 1}, \"encoding\": {\"color\": {\"type\": \"nominal\", \"field\": \"Algorithm\"}, \"x\": {\"type\": \"quantitative\", \"field\": \"N ligands explored\"}, \"y\": {\"type\": \"quantitative\", \"aggregate\": \"mean\", \"field\": \"% top-k found\", \"scale\": {\"domain\": [0, 0.95]}}}}], \"data\": {\"name\": \"data-60dc1958aa1398fd67536a8f5be03131\"}, \"title\": \"0.2\", \"width\": 200}, {\"layer\": [{\"mark\": {\"type\": \"errorbar\", \"extent\": \"ci\"}, \"encoding\": {\"color\": {\"type\": \"nominal\", \"field\": \"Algorithm\"}, \"x\": {\"type\": \"quantitative\", \"field\": \"N ligands explored\", \"scale\": {\"domain\": [0, 610000]}, \"title\": \"Number of ligands sampled\"}, \"y\": {\"type\": \"quantitative\", \"field\": \"% top-k found\", \"scale\": {\"domain\": [0, 0.95]}}}}, {\"mark\": {\"type\": \"point\", \"color\": \"black\", \"filled\": true}, \"encoding\": {\"color\": {\"type\": \"nominal\", \"field\": \"Algorithm\"}, \"x\": {\"type\": \"quantitative\", \"field\": \"N ligands explored\"}, \"y\": {\"type\": \"quantitative\", \"aggregate\": \"mean\", \"field\": \"% top-k found\", \"scale\": {\"domain\": [0, 0.95]}}}}, {\"mark\": {\"type\": \"line\", \"color\": \"black\", \"opacity\": 0.5, \"size\": 1}, \"encoding\": {\"color\": {\"type\": \"nominal\", \"field\": \"Algorithm\"}, \"x\": {\"type\": \"quantitative\", \"field\": \"N ligands explored\"}, \"y\": {\"type\": \"quantitative\", \"aggregate\": \"mean\", \"field\": \"% top-k found\", \"scale\": {\"domain\": [0, 0.95]}}}}], \"data\": {\"name\": \"data-44213e103d04ec10e454faa0a8c2a25e\"}, \"title\": \"0.1\", \"width\": 200}], \"$schema\": \"https://vega.github.io/schema/vega-lite/v4.8.1.json\", \"datasets\": {\"data-69f5ad225702dcd6770ee3714b521b20\": [{\"Unnamed: 0\": 0.0, \"Algorithm\": \"Morgan pharm. & Log.reg. (ours)\", \"Training size\": 400000, \"N ligands explored\": 400000, \"% top-k found\": 0.0044}, {\"Unnamed: 0\": 1.0, \"Algorithm\": \"Morgan pharm. & Log.reg. (ours)\", \"Training size\": 400000, \"N ligands explored\": 800000, \"% top-k found\": 0.37154}, {\"Unnamed: 0\": 2.0, \"Algorithm\": \"Morgan pharm. & Log.reg. (ours)\", \"Training size\": 400000, \"N ligands explored\": 1200000, \"% top-k found\": 0.65858}, {\"Unnamed: 0\": 3.0, \"Algorithm\": \"Morgan pharm. & Log.reg. (ours)\", \"Training size\": 400000, \"N ligands explored\": 1600000, \"% top-k found\": 0.80448}, {\"Unnamed: 0\": 4.0, \"Algorithm\": \"Morgan pharm. & Log.reg. (ours)\", \"Training size\": 400000, \"N ligands explored\": 2000000, \"% top-k found\": 0.87084}, {\"Unnamed: 0\": 5.0, \"Algorithm\": \"Morgan pharm. & Log.reg. (ours)\", \"Training size\": 400000, \"N ligands explored\": 2400000, \"% top-k found\": 0.90886}, {\"Unnamed: 0\": 18.0, \"Algorithm\": \"Morgan pharm. & Log.reg. (ours)\", \"Training size\": 400000, \"N ligands explored\": 400000, \"% top-k found\": 0.00398}, {\"Unnamed: 0\": 19.0, \"Algorithm\": \"Morgan pharm. & Log.reg. (ours)\", \"Training size\": 400000, \"N ligands explored\": 800000, \"% top-k found\": 0.35081999999999997}, {\"Unnamed: 0\": 20.0, \"Algorithm\": \"Morgan pharm. & Log.reg. (ours)\", \"Training size\": 400000, \"N ligands explored\": 1200000, \"% top-k found\": 0.6291}, {\"Unnamed: 0\": 21.0, \"Algorithm\": \"Morgan pharm. & Log.reg. (ours)\", \"Training size\": 400000, \"N ligands explored\": 1600000, \"% top-k found\": 0.78164}, {\"Unnamed: 0\": 22.0, \"Algorithm\": \"Morgan pharm. & Log.reg. (ours)\", \"Training size\": 400000, \"N ligands explored\": 2000000, \"% top-k found\": 0.85062}, {\"Unnamed: 0\": 23.0, \"Algorithm\": \"Morgan pharm. & Log.reg. (ours)\", \"Training size\": 400000, \"N ligands explored\": 2400000, \"% top-k found\": 0.8857}, {\"Unnamed: 0\": 36.0, \"Algorithm\": \"Morgan pharm. & Log.reg. (ours)\", \"Training size\": 400000, \"N ligands explored\": 400000, \"% top-k found\": 0.0038}, {\"Unnamed: 0\": 37.0, \"Algorithm\": \"Morgan pharm. & Log.reg. (ours)\", \"Training size\": 400000, \"N ligands explored\": 800000, \"% top-k found\": 0.38676}, {\"Unnamed: 0\": 38.0, \"Algorithm\": \"Morgan pharm. & Log.reg. (ours)\", \"Training size\": 400000, \"N ligands explored\": 1200000, \"% top-k found\": 0.68816}, {\"Unnamed: 0\": 39.0, \"Algorithm\": \"Morgan pharm. & Log.reg. (ours)\", \"Training size\": 400000, \"N ligands explored\": 1600000, \"% top-k found\": 0.81562}, {\"Unnamed: 0\": 40.0, \"Algorithm\": \"Morgan pharm. & Log.reg. (ours)\", \"Training size\": 400000, \"N ligands explored\": 2000000, \"% top-k found\": 0.8777799999999999}, {\"Unnamed: 0\": 41.0, \"Algorithm\": \"Morgan pharm. & Log.reg. (ours)\", \"Training size\": 400000, \"N ligands explored\": 2400000, \"% top-k found\": 0.9102}, {\"Unnamed: 0\": null, \"Algorithm\": \"RF (Coley)\", \"Training size\": 400000, \"N ligands explored\": 2400000, \"% top-k found\": 0.6882803577007767}, {\"Unnamed: 0\": null, \"Algorithm\": \"RF (Coley)\", \"Training size\": 400000, \"N ligands explored\": 2400000, \"% top-k found\": 0.7140000000000001}, {\"Unnamed: 0\": null, \"Algorithm\": \"RF (Coley)\", \"Training size\": 400000, \"N ligands explored\": 2400000, \"% top-k found\": 0.7397196422992235}, {\"Unnamed: 0\": null, \"Algorithm\": \"NN (Coley)\", \"Training size\": 400000, \"N ligands explored\": 2400000, \"% top-k found\": 0.7298535718005178}, {\"Unnamed: 0\": null, \"Algorithm\": \"NN (Coley)\", \"Training size\": 400000, \"N ligands explored\": 2400000, \"% top-k found\": 0.747}, {\"Unnamed: 0\": null, \"Algorithm\": \"NN (Coley)\", \"Training size\": 400000, \"N ligands explored\": 2400000, \"% top-k found\": 0.7641464281994823}, {\"Unnamed: 0\": null, \"Algorithm\": \"MPN (Coley)\", \"Training size\": 400000, \"N ligands explored\": 2400000, \"% top-k found\": 0.8508308679579935}, {\"Unnamed: 0\": null, \"Algorithm\": \"MPN (Coley)\", \"Training size\": 400000, \"N ligands explored\": 2400000, \"% top-k found\": 0.879}, {\"Unnamed: 0\": null, \"Algorithm\": \"MPN (Coley)\", \"Training size\": 400000, \"N ligands explored\": 2400000, \"% top-k found\": 0.9071691320420067}], \"data-60dc1958aa1398fd67536a8f5be03131\": [{\"Unnamed: 0\": 6.0, \"Algorithm\": \"Morgan pharm. & Log.reg. (ours)\", \"Training size\": 200000, \"N ligands explored\": 200000, \"% top-k found\": 0.0019199999999999998}, {\"Unnamed: 0\": 7.0, \"Algorithm\": \"Morgan pharm. & Log.reg. (ours)\", \"Training size\": 200000, \"N ligands explored\": 400000, \"% top-k found\": 0.185}, {\"Unnamed: 0\": 8.0, \"Algorithm\": \"Morgan pharm. & Log.reg. (ours)\", \"Training size\": 200000, \"N ligands explored\": 600000, \"% top-k found\": 0.45053999999999994}, {\"Unnamed: 0\": 9.0, \"Algorithm\": \"Morgan pharm. & Log.reg. (ours)\", \"Training size\": 200000, \"N ligands explored\": 800000, \"% top-k found\": 0.59212}, {\"Unnamed: 0\": 10.0, \"Algorithm\": \"Morgan pharm. & Log.reg. (ours)\", \"Training size\": 200000, \"N ligands explored\": 1000000, \"% top-k found\": 0.68372}, {\"Unnamed: 0\": 11.0, \"Algorithm\": \"Morgan pharm. & Log.reg. (ours)\", \"Training size\": 200000, \"N ligands explored\": 1200000, \"% top-k found\": 0.73952}, {\"Unnamed: 0\": 24.0, \"Algorithm\": \"Morgan pharm. & Log.reg. (ours)\", \"Training size\": 200000, \"N ligands explored\": 200000, \"% top-k found\": 0.0022600000000000003}, {\"Unnamed: 0\": 25.0, \"Algorithm\": \"Morgan pharm. & Log.reg. (ours)\", \"Training size\": 200000, \"N ligands explored\": 400000, \"% top-k found\": 0.19744}, {\"Unnamed: 0\": 26.0, \"Algorithm\": \"Morgan pharm. & Log.reg. (ours)\", \"Training size\": 200000, \"N ligands explored\": 600000, \"% top-k found\": 0.42182}, {\"Unnamed: 0\": 27.0, \"Algorithm\": \"Morgan pharm. & Log.reg. (ours)\", \"Training size\": 200000, \"N ligands explored\": 800000, \"% top-k found\": 0.54576}, {\"Unnamed: 0\": 28.0, \"Algorithm\": \"Morgan pharm. & Log.reg. (ours)\", \"Training size\": 200000, \"N ligands explored\": 1000000, \"% top-k found\": 0.63648}, {\"Unnamed: 0\": 29.0, \"Algorithm\": \"Morgan pharm. & Log.reg. (ours)\", \"Training size\": 200000, \"N ligands explored\": 1200000, \"% top-k found\": 0.7105}, {\"Unnamed: 0\": 42.0, \"Algorithm\": \"Morgan pharm. & Log.reg. (ours)\", \"Training size\": 200000, \"N ligands explored\": 200000, \"% top-k found\": 0.00214}, {\"Unnamed: 0\": 43.0, \"Algorithm\": \"Morgan pharm. & Log.reg. (ours)\", \"Training size\": 200000, \"N ligands explored\": 400000, \"% top-k found\": 0.19208}, {\"Unnamed: 0\": 44.0, \"Algorithm\": \"Morgan pharm. & Log.reg. (ours)\", \"Training size\": 200000, \"N ligands explored\": 600000, \"% top-k found\": 0.44482}, {\"Unnamed: 0\": 45.0, \"Algorithm\": \"Morgan pharm. & Log.reg. (ours)\", \"Training size\": 200000, \"N ligands explored\": 800000, \"% top-k found\": 0.57398}, {\"Unnamed: 0\": 46.0, \"Algorithm\": \"Morgan pharm. & Log.reg. (ours)\", \"Training size\": 200000, \"N ligands explored\": 1000000, \"% top-k found\": 0.67108}, {\"Unnamed: 0\": 47.0, \"Algorithm\": \"Morgan pharm. & Log.reg. (ours)\", \"Training size\": 200000, \"N ligands explored\": 1200000, \"% top-k found\": 0.75022}, {\"Unnamed: 0\": null, \"Algorithm\": \"RF (Coley)\", \"Training size\": 200000, \"N ligands explored\": 1200000, \"% top-k found\": 0.43295459231495137}, {\"Unnamed: 0\": null, \"Algorithm\": \"RF (Coley)\", \"Training size\": 200000, \"N ligands explored\": 1200000, \"% top-k found\": 0.455}, {\"Unnamed: 0\": null, \"Algorithm\": \"RF (Coley)\", \"Training size\": 200000, \"N ligands explored\": 1200000, \"% top-k found\": 0.4770454076850486}, {\"Unnamed: 0\": null, \"Algorithm\": \"NN (Coley)\", \"Training size\": 200000, \"N ligands explored\": 1200000, \"% top-k found\": 0.521876275643042}, {\"Unnamed: 0\": null, \"Algorithm\": \"NN (Coley)\", \"Training size\": 200000, \"N ligands explored\": 1200000, \"% top-k found\": 0.528}, {\"Unnamed: 0\": null, \"Algorithm\": \"NN (Coley)\", \"Training size\": 200000, \"N ligands explored\": 1200000, \"% top-k found\": 0.534123724356958}, {\"Unnamed: 0\": null, \"Algorithm\": \"MPN (Coley)\", \"Training size\": 200000, \"N ligands explored\": 1200000, \"% top-k found\": 0.6452803577007765}, {\"Unnamed: 0\": null, \"Algorithm\": \"MPN (Coley)\", \"Training size\": 200000, \"N ligands explored\": 1200000, \"% top-k found\": 0.6709999999999999}, {\"Unnamed: 0\": null, \"Algorithm\": \"MPN (Coley)\", \"Training size\": 200000, \"N ligands explored\": 1200000, \"% top-k found\": 0.6967196422992233}], \"data-44213e103d04ec10e454faa0a8c2a25e\": [{\"Unnamed: 0\": 12.0, \"Algorithm\": \"Morgan pharm. & Log.reg. (ours)\", \"Training size\": 100000, \"N ligands explored\": 100000, \"% top-k found\": 0.00086}, {\"Unnamed: 0\": 13.0, \"Algorithm\": \"Morgan pharm. & Log.reg. (ours)\", \"Training size\": 100000, \"N ligands explored\": 200000, \"% top-k found\": 0.08843999999999999}, {\"Unnamed: 0\": 14.0, \"Algorithm\": \"Morgan pharm. & Log.reg. (ours)\", \"Training size\": 100000, \"N ligands explored\": 300000, \"% top-k found\": 0.2621}, {\"Unnamed: 0\": 15.0, \"Algorithm\": \"Morgan pharm. & Log.reg. (ours)\", \"Training size\": 100000, \"N ligands explored\": 400000, \"% top-k found\": 0.3681}, {\"Unnamed: 0\": 16.0, \"Algorithm\": \"Morgan pharm. & Log.reg. (ours)\", \"Training size\": 100000, \"N ligands explored\": 500000, \"% top-k found\": 0.44428}, {\"Unnamed: 0\": 17.0, \"Algorithm\": \"Morgan pharm. & Log.reg. (ours)\", \"Training size\": 100000, \"N ligands explored\": 600000, \"% top-k found\": 0.49728}, {\"Unnamed: 0\": 30.0, \"Algorithm\": \"Morgan pharm. & Log.reg. (ours)\", \"Training size\": 100000, \"N ligands explored\": 100000, \"% top-k found\": 0.00114}, {\"Unnamed: 0\": 31.0, \"Algorithm\": \"Morgan pharm. & Log.reg. (ours)\", \"Training size\": 100000, \"N ligands explored\": 200000, \"% top-k found\": 0.10184}, {\"Unnamed: 0\": 32.0, \"Algorithm\": \"Morgan pharm. & Log.reg. (ours)\", \"Training size\": 100000, \"N ligands explored\": 300000, \"% top-k found\": 0.2656}, {\"Unnamed: 0\": 33.0, \"Algorithm\": \"Morgan pharm. & Log.reg. (ours)\", \"Training size\": 100000, \"N ligands explored\": 400000, \"% top-k found\": 0.36354000000000003}, {\"Unnamed: 0\": 34.0, \"Algorithm\": \"Morgan pharm. & Log.reg. (ours)\", \"Training size\": 100000, \"N ligands explored\": 500000, \"% top-k found\": 0.4358}, {\"Unnamed: 0\": 35.0, \"Algorithm\": \"Morgan pharm. & Log.reg. (ours)\", \"Training size\": 100000, \"N ligands explored\": 600000, \"% top-k found\": 0.4898}, {\"Unnamed: 0\": 48.0, \"Algorithm\": \"Morgan pharm. & Log.reg. (ours)\", \"Training size\": 100000, \"N ligands explored\": 100000, \"% top-k found\": 0.00098}, {\"Unnamed: 0\": 49.0, \"Algorithm\": \"Morgan pharm. & Log.reg. (ours)\", \"Training size\": 100000, \"N ligands explored\": 200000, \"% top-k found\": 0.08158}, {\"Unnamed: 0\": 50.0, \"Algorithm\": \"Morgan pharm. & Log.reg. (ours)\", \"Training size\": 100000, \"N ligands explored\": 300000, \"% top-k found\": 0.25172}, {\"Unnamed: 0\": 51.0, \"Algorithm\": \"Morgan pharm. & Log.reg. (ours)\", \"Training size\": 100000, \"N ligands explored\": 400000, \"% top-k found\": 0.3588}, {\"Unnamed: 0\": 52.0, \"Algorithm\": \"Morgan pharm. & Log.reg. (ours)\", \"Training size\": 100000, \"N ligands explored\": 500000, \"% top-k found\": 0.42978}, {\"Unnamed: 0\": 53.0, \"Algorithm\": \"Morgan pharm. & Log.reg. (ours)\", \"Training size\": 100000, \"N ligands explored\": 600000, \"% top-k found\": 0.48398}, {\"Unnamed: 0\": null, \"Algorithm\": \"RF (Coley)\", \"Training size\": 100000, \"N ligands explored\": 600000, \"% top-k found\": 0.21305561282938507}, {\"Unnamed: 0\": null, \"Algorithm\": \"RF (Coley)\", \"Training size\": 100000, \"N ligands explored\": 600000, \"% top-k found\": 0.24}, {\"Unnamed: 0\": null, \"Algorithm\": \"RF (Coley)\", \"Training size\": 100000, \"N ligands explored\": 600000, \"% top-k found\": 0.26694438717061497}, {\"Unnamed: 0\": null, \"Algorithm\": \"NN (Coley)\", \"Training size\": 100000, \"N ligands explored\": 600000, \"% top-k found\": 0.32932576538582525}, {\"Unnamed: 0\": null, \"Algorithm\": \"NN (Coley)\", \"Training size\": 100000, \"N ligands explored\": 600000, \"% top-k found\": 0.33299999999999996}, {\"Unnamed: 0\": null, \"Algorithm\": \"NN (Coley)\", \"Training size\": 100000, \"N ligands explored\": 600000, \"% top-k found\": 0.3366742346141747}, {\"Unnamed: 0\": null, \"Algorithm\": \"MPN (Coley)\", \"Training size\": 100000, \"N ligands explored\": 600000, \"% top-k found\": 0.5138762756430421}, {\"Unnamed: 0\": null, \"Algorithm\": \"MPN (Coley)\", \"Training size\": 100000, \"N ligands explored\": 600000, \"% top-k found\": 0.52}, {\"Unnamed: 0\": null, \"Algorithm\": \"MPN (Coley)\", \"Training size\": 100000, \"N ligands explored\": 600000, \"% top-k found\": 0.526123724356958}]}}, {\"mode\": \"vega-lite\"});\n",
       "</script>"
      ],
      "text/plain": [
       "alt.HConcatChart(...)"
      ]
     },
     "execution_count": 104,
     "metadata": {},
     "output_type": "execute_result"
    }
   ],
   "source": [
    "chs[0]\n",
    "sup = chs[0] |  chs[1] | chs[2]\n",
    "sup\n",
    "#sup.save('../figures/ampC_reconstruction.html') #using 0.05"
   ]
  },
  {
   "cell_type": "code",
   "execution_count": 109,
   "metadata": {},
   "outputs": [
    {
     "data": {
      "text/html": [
       "\n",
       "<div id=\"altair-viz-c06589d518d546808370e0ac42e315b8\"></div>\n",
       "<script type=\"text/javascript\">\n",
       "  (function(spec, embedOpt){\n",
       "    let outputDiv = document.currentScript.previousElementSibling;\n",
       "    if (outputDiv.id !== \"altair-viz-c06589d518d546808370e0ac42e315b8\") {\n",
       "      outputDiv = document.getElementById(\"altair-viz-c06589d518d546808370e0ac42e315b8\");\n",
       "    }\n",
       "    const paths = {\n",
       "      \"vega\": \"https://cdn.jsdelivr.net/npm//vega@5?noext\",\n",
       "      \"vega-lib\": \"https://cdn.jsdelivr.net/npm//vega-lib?noext\",\n",
       "      \"vega-lite\": \"https://cdn.jsdelivr.net/npm//vega-lite@4.8.1?noext\",\n",
       "      \"vega-embed\": \"https://cdn.jsdelivr.net/npm//vega-embed@6?noext\",\n",
       "    };\n",
       "\n",
       "    function loadScript(lib) {\n",
       "      return new Promise(function(resolve, reject) {\n",
       "        var s = document.createElement('script');\n",
       "        s.src = paths[lib];\n",
       "        s.async = true;\n",
       "        s.onload = () => resolve(paths[lib]);\n",
       "        s.onerror = () => reject(`Error loading script: ${paths[lib]}`);\n",
       "        document.getElementsByTagName(\"head\")[0].appendChild(s);\n",
       "      });\n",
       "    }\n",
       "\n",
       "    function showError(err) {\n",
       "      outputDiv.innerHTML = `<div class=\"error\" style=\"color:red;\">${err}</div>`;\n",
       "      throw err;\n",
       "    }\n",
       "\n",
       "    function displayChart(vegaEmbed) {\n",
       "      vegaEmbed(outputDiv, spec, embedOpt)\n",
       "        .catch(err => showError(`Javascript Error: ${err.message}<br>This usually means there's a typo in your chart specification. See the javascript console for the full traceback.`));\n",
       "    }\n",
       "\n",
       "    if(typeof define === \"function\" && define.amd) {\n",
       "      requirejs.config({paths});\n",
       "      require([\"vega-embed\"], displayChart, err => showError(`Error loading script: ${err.message}`));\n",
       "    } else if (typeof vegaEmbed === \"function\") {\n",
       "      displayChart(vegaEmbed);\n",
       "    } else {\n",
       "      loadScript(\"vega\")\n",
       "        .then(() => loadScript(\"vega-lite\"))\n",
       "        .then(() => loadScript(\"vega-embed\"))\n",
       "        .catch(showError)\n",
       "        .then(() => displayChart(vegaEmbed));\n",
       "    }\n",
       "  })({\"config\": {\"view\": {\"continuousWidth\": 400, \"continuousHeight\": 300}}, \"layer\": [{\"mark\": {\"type\": \"errorbar\", \"extent\": \"ci\"}, \"encoding\": {\"color\": {\"type\": \"nominal\", \"field\": \"Algorithm\"}, \"x\": {\"type\": \"quantitative\", \"field\": \"N ligands explored\", \"scale\": {\"domain\": [0, 2410000]}, \"title\": \"Number of ligands sampled\"}, \"y\": {\"type\": \"quantitative\", \"field\": \"% top-k found\", \"scale\": {\"domain\": [0, 0.95]}}}}, {\"mark\": {\"type\": \"point\", \"color\": \"black\", \"filled\": true}, \"encoding\": {\"color\": {\"type\": \"nominal\", \"field\": \"Algorithm\"}, \"x\": {\"type\": \"quantitative\", \"field\": \"N ligands explored\"}, \"y\": {\"type\": \"quantitative\", \"aggregate\": \"mean\", \"field\": \"% top-k found\", \"scale\": {\"domain\": [0, 0.95]}}}}, {\"mark\": {\"type\": \"line\", \"color\": \"black\", \"opacity\": 0.5, \"size\": 1}, \"encoding\": {\"color\": {\"type\": \"nominal\", \"field\": \"Algorithm\"}, \"x\": {\"type\": \"quantitative\", \"field\": \"N ligands explored\"}, \"y\": {\"type\": \"quantitative\", \"aggregate\": \"mean\", \"field\": \"% top-k found\", \"scale\": {\"domain\": [0, 0.95]}}}}, {\"layer\": [{\"mark\": {\"type\": \"errorbar\", \"extent\": \"ci\"}, \"encoding\": {\"color\": {\"type\": \"nominal\", \"field\": \"Algorithm\"}, \"x\": {\"type\": \"quantitative\", \"field\": \"N ligands explored\", \"scale\": {\"domain\": [0, 1210000]}, \"title\": \"Number of ligands sampled\"}, \"y\": {\"type\": \"quantitative\", \"field\": \"% top-k found\", \"scale\": {\"domain\": [0, 0.95]}}}}, {\"mark\": {\"type\": \"point\", \"color\": \"black\", \"filled\": true}, \"encoding\": {\"color\": {\"type\": \"nominal\", \"field\": \"Algorithm\"}, \"x\": {\"type\": \"quantitative\", \"field\": \"N ligands explored\"}, \"y\": {\"type\": \"quantitative\", \"aggregate\": \"mean\", \"field\": \"% top-k found\", \"scale\": {\"domain\": [0, 0.95]}}}}, {\"mark\": {\"type\": \"line\", \"color\": \"black\", \"opacity\": 0.5, \"size\": 1}, \"encoding\": {\"color\": {\"type\": \"nominal\", \"field\": \"Algorithm\"}, \"x\": {\"type\": \"quantitative\", \"field\": \"N ligands explored\"}, \"y\": {\"type\": \"quantitative\", \"aggregate\": \"mean\", \"field\": \"% top-k found\", \"scale\": {\"domain\": [0, 0.95]}}}}], \"data\": {\"name\": \"data-7455ae1cdda928ca2d8cb4528a4807b2\"}, \"title\": \"0.2\", \"width\": 200}, {\"layer\": [{\"mark\": {\"type\": \"errorbar\", \"extent\": \"ci\"}, \"encoding\": {\"color\": {\"type\": \"nominal\", \"field\": \"Algorithm\"}, \"x\": {\"type\": \"quantitative\", \"field\": \"N ligands explored\", \"scale\": {\"domain\": [0, 610000]}, \"title\": \"Number of ligands sampled\"}, \"y\": {\"type\": \"quantitative\", \"field\": \"% top-k found\", \"scale\": {\"domain\": [0, 0.95]}}}}, {\"mark\": {\"type\": \"point\", \"color\": \"black\", \"filled\": true}, \"encoding\": {\"color\": {\"type\": \"nominal\", \"field\": \"Algorithm\"}, \"x\": {\"type\": \"quantitative\", \"field\": \"N ligands explored\"}, \"y\": {\"type\": \"quantitative\", \"aggregate\": \"mean\", \"field\": \"% top-k found\", \"scale\": {\"domain\": [0, 0.95]}}}}, {\"mark\": {\"type\": \"line\", \"color\": \"black\", \"opacity\": 0.5, \"size\": 1}, \"encoding\": {\"color\": {\"type\": \"nominal\", \"field\": \"Algorithm\"}, \"x\": {\"type\": \"quantitative\", \"field\": \"N ligands explored\"}, \"y\": {\"type\": \"quantitative\", \"aggregate\": \"mean\", \"field\": \"% top-k found\", \"scale\": {\"domain\": [0, 0.95]}}}}], \"data\": {\"name\": \"data-0c01a76e22be92105ddc77feeec60061\"}, \"title\": \"0.1\", \"width\": 200}], \"data\": {\"name\": \"data-088d808d9d564587e1089f10a2fd406a\"}, \"title\": \"0.4\", \"width\": 200, \"$schema\": \"https://vega.github.io/schema/vega-lite/v4.8.1.json\", \"datasets\": {\"data-088d808d9d564587e1089f10a2fd406a\": [{\"Unnamed: 0\": 0.0, \"Algorithm\": \"Morgan pharm. & Log.reg. (ours)\", \"Training size\": 400000, \"N ligands explored\": 400000, \"% top-k found\": 0.0037}, {\"Unnamed: 0\": 1.0, \"Algorithm\": \"Morgan pharm. & Log.reg. (ours)\", \"Training size\": 400000, \"N ligands explored\": 800000, \"% top-k found\": 0.30772}, {\"Unnamed: 0\": 2.0, \"Algorithm\": \"Morgan pharm. & Log.reg. (ours)\", \"Training size\": 400000, \"N ligands explored\": 1200000, \"% top-k found\": 0.60858}, {\"Unnamed: 0\": 3.0, \"Algorithm\": \"Morgan pharm. & Log.reg. (ours)\", \"Training size\": 400000, \"N ligands explored\": 1600000, \"% top-k found\": 0.7477600000000001}, {\"Unnamed: 0\": 4.0, \"Algorithm\": \"Morgan pharm. & Log.reg. (ours)\", \"Training size\": 400000, \"N ligands explored\": 2000000, \"% top-k found\": 0.8266600000000001}, {\"Unnamed: 0\": 5.0, \"Algorithm\": \"Morgan pharm. & Log.reg. (ours)\", \"Training size\": 400000, \"N ligands explored\": 2400000, \"% top-k found\": 0.89136}, {\"Unnamed: 0\": 18.0, \"Algorithm\": \"Morgan pharm. & Log.reg. (ours)\", \"Training size\": 400000, \"N ligands explored\": 400000, \"% top-k found\": 0.00448}, {\"Unnamed: 0\": 19.0, \"Algorithm\": \"Morgan pharm. & Log.reg. (ours)\", \"Training size\": 400000, \"N ligands explored\": 800000, \"% top-k found\": 0.3252}, {\"Unnamed: 0\": 20.0, \"Algorithm\": \"Morgan pharm. & Log.reg. (ours)\", \"Training size\": 400000, \"N ligands explored\": 1200000, \"% top-k found\": 0.61252}, {\"Unnamed: 0\": 21.0, \"Algorithm\": \"Morgan pharm. & Log.reg. (ours)\", \"Training size\": 400000, \"N ligands explored\": 1600000, \"% top-k found\": 0.72344}, {\"Unnamed: 0\": 22.0, \"Algorithm\": \"Morgan pharm. & Log.reg. (ours)\", \"Training size\": 400000, \"N ligands explored\": 2000000, \"% top-k found\": 0.79804}, {\"Unnamed: 0\": 23.0, \"Algorithm\": \"Morgan pharm. & Log.reg. (ours)\", \"Training size\": 400000, \"N ligands explored\": 2400000, \"% top-k found\": 0.8627}, {\"Unnamed: 0\": 36.0, \"Algorithm\": \"Morgan pharm. & Log.reg. (ours)\", \"Training size\": 400000, \"N ligands explored\": 400000, \"% top-k found\": 0.00448}, {\"Unnamed: 0\": 37.0, \"Algorithm\": \"Morgan pharm. & Log.reg. (ours)\", \"Training size\": 400000, \"N ligands explored\": 800000, \"% top-k found\": 0.34968}, {\"Unnamed: 0\": 38.0, \"Algorithm\": \"Morgan pharm. & Log.reg. (ours)\", \"Training size\": 400000, \"N ligands explored\": 1200000, \"% top-k found\": 0.647}, {\"Unnamed: 0\": 39.0, \"Algorithm\": \"Morgan pharm. & Log.reg. (ours)\", \"Training size\": 400000, \"N ligands explored\": 1600000, \"% top-k found\": 0.77712}, {\"Unnamed: 0\": 40.0, \"Algorithm\": \"Morgan pharm. & Log.reg. (ours)\", \"Training size\": 400000, \"N ligands explored\": 2000000, \"% top-k found\": 0.84564}, {\"Unnamed: 0\": 41.0, \"Algorithm\": \"Morgan pharm. & Log.reg. (ours)\", \"Training size\": 400000, \"N ligands explored\": 2400000, \"% top-k found\": 0.8835799999999999}, {\"Unnamed: 0\": null, \"Algorithm\": \"RF (Coley)\", \"Training size\": 400000, \"N ligands explored\": 2400000, \"% top-k found\": 0.6882803577007767}, {\"Unnamed: 0\": null, \"Algorithm\": \"RF (Coley)\", \"Training size\": 400000, \"N ligands explored\": 2400000, \"% top-k found\": 0.7140000000000001}, {\"Unnamed: 0\": null, \"Algorithm\": \"RF (Coley)\", \"Training size\": 400000, \"N ligands explored\": 2400000, \"% top-k found\": 0.7397196422992235}, {\"Unnamed: 0\": null, \"Algorithm\": \"NN (Coley)\", \"Training size\": 400000, \"N ligands explored\": 2400000, \"% top-k found\": 0.7298535718005178}, {\"Unnamed: 0\": null, \"Algorithm\": \"NN (Coley)\", \"Training size\": 400000, \"N ligands explored\": 2400000, \"% top-k found\": 0.747}, {\"Unnamed: 0\": null, \"Algorithm\": \"NN (Coley)\", \"Training size\": 400000, \"N ligands explored\": 2400000, \"% top-k found\": 0.7641464281994823}, {\"Unnamed: 0\": null, \"Algorithm\": \"MPN (Coley)\", \"Training size\": 400000, \"N ligands explored\": 2400000, \"% top-k found\": 0.8508308679579935}, {\"Unnamed: 0\": null, \"Algorithm\": \"MPN (Coley)\", \"Training size\": 400000, \"N ligands explored\": 2400000, \"% top-k found\": 0.879}, {\"Unnamed: 0\": null, \"Algorithm\": \"MPN (Coley)\", \"Training size\": 400000, \"N ligands explored\": 2400000, \"% top-k found\": 0.9071691320420067}], \"data-7455ae1cdda928ca2d8cb4528a4807b2\": [{\"Unnamed: 0\": 6.0, \"Algorithm\": \"Morgan pharm. & Log.reg. (ours)\", \"Training size\": 200000, \"N ligands explored\": 200000, \"% top-k found\": 0.0017800000000000001}, {\"Unnamed: 0\": 7.0, \"Algorithm\": \"Morgan pharm. & Log.reg. (ours)\", \"Training size\": 200000, \"N ligands explored\": 400000, \"% top-k found\": 0.15298}, {\"Unnamed: 0\": 8.0, \"Algorithm\": \"Morgan pharm. & Log.reg. (ours)\", \"Training size\": 200000, \"N ligands explored\": 600000, \"% top-k found\": 0.38156}, {\"Unnamed: 0\": 9.0, \"Algorithm\": \"Morgan pharm. & Log.reg. (ours)\", \"Training size\": 200000, \"N ligands explored\": 800000, \"% top-k found\": 0.5052399999999999}, {\"Unnamed: 0\": 10.0, \"Algorithm\": \"Morgan pharm. & Log.reg. (ours)\", \"Training size\": 200000, \"N ligands explored\": 1000000, \"% top-k found\": 0.5795399999999999}, {\"Unnamed: 0\": 11.0, \"Algorithm\": \"Morgan pharm. & Log.reg. (ours)\", \"Training size\": 200000, \"N ligands explored\": 1200000, \"% top-k found\": 0.64248}, {\"Unnamed: 0\": 24.0, \"Algorithm\": \"Morgan pharm. & Log.reg. (ours)\", \"Training size\": 200000, \"N ligands explored\": 200000, \"% top-k found\": 0.0022}, {\"Unnamed: 0\": 25.0, \"Algorithm\": \"Morgan pharm. & Log.reg. (ours)\", \"Training size\": 200000, \"N ligands explored\": 400000, \"% top-k found\": 0.17504}, {\"Unnamed: 0\": 26.0, \"Algorithm\": \"Morgan pharm. & Log.reg. (ours)\", \"Training size\": 200000, \"N ligands explored\": 600000, \"% top-k found\": 0.41576}, {\"Unnamed: 0\": 27.0, \"Algorithm\": \"Morgan pharm. & Log.reg. (ours)\", \"Training size\": 200000, \"N ligands explored\": 800000, \"% top-k found\": 0.555}, {\"Unnamed: 0\": 28.0, \"Algorithm\": \"Morgan pharm. & Log.reg. (ours)\", \"Training size\": 200000, \"N ligands explored\": 1000000, \"% top-k found\": 0.63354}, {\"Unnamed: 0\": 29.0, \"Algorithm\": \"Morgan pharm. & Log.reg. (ours)\", \"Training size\": 200000, \"N ligands explored\": 1200000, \"% top-k found\": 0.69568}, {\"Unnamed: 0\": 42.0, \"Algorithm\": \"Morgan pharm. & Log.reg. (ours)\", \"Training size\": 200000, \"N ligands explored\": 200000, \"% top-k found\": 0.0025399999999999997}, {\"Unnamed: 0\": 43.0, \"Algorithm\": \"Morgan pharm. & Log.reg. (ours)\", \"Training size\": 200000, \"N ligands explored\": 400000, \"% top-k found\": 0.18758}, {\"Unnamed: 0\": 44.0, \"Algorithm\": \"Morgan pharm. & Log.reg. (ours)\", \"Training size\": 200000, \"N ligands explored\": 600000, \"% top-k found\": 0.42516000000000004}, {\"Unnamed: 0\": 45.0, \"Algorithm\": \"Morgan pharm. & Log.reg. (ours)\", \"Training size\": 200000, \"N ligands explored\": 800000, \"% top-k found\": 0.58024}, {\"Unnamed: 0\": 46.0, \"Algorithm\": \"Morgan pharm. & Log.reg. (ours)\", \"Training size\": 200000, \"N ligands explored\": 1000000, \"% top-k found\": 0.6659}, {\"Unnamed: 0\": 47.0, \"Algorithm\": \"Morgan pharm. & Log.reg. (ours)\", \"Training size\": 200000, \"N ligands explored\": 1200000, \"% top-k found\": 0.73056}, {\"Unnamed: 0\": null, \"Algorithm\": \"RF (Coley)\", \"Training size\": 200000, \"N ligands explored\": 1200000, \"% top-k found\": 0.43295459231495137}, {\"Unnamed: 0\": null, \"Algorithm\": \"RF (Coley)\", \"Training size\": 200000, \"N ligands explored\": 1200000, \"% top-k found\": 0.455}, {\"Unnamed: 0\": null, \"Algorithm\": \"RF (Coley)\", \"Training size\": 200000, \"N ligands explored\": 1200000, \"% top-k found\": 0.4770454076850486}, {\"Unnamed: 0\": null, \"Algorithm\": \"NN (Coley)\", \"Training size\": 200000, \"N ligands explored\": 1200000, \"% top-k found\": 0.521876275643042}, {\"Unnamed: 0\": null, \"Algorithm\": \"NN (Coley)\", \"Training size\": 200000, \"N ligands explored\": 1200000, \"% top-k found\": 0.528}, {\"Unnamed: 0\": null, \"Algorithm\": \"NN (Coley)\", \"Training size\": 200000, \"N ligands explored\": 1200000, \"% top-k found\": 0.534123724356958}, {\"Unnamed: 0\": null, \"Algorithm\": \"MPN (Coley)\", \"Training size\": 200000, \"N ligands explored\": 1200000, \"% top-k found\": 0.6452803577007765}, {\"Unnamed: 0\": null, \"Algorithm\": \"MPN (Coley)\", \"Training size\": 200000, \"N ligands explored\": 1200000, \"% top-k found\": 0.6709999999999999}, {\"Unnamed: 0\": null, \"Algorithm\": \"MPN (Coley)\", \"Training size\": 200000, \"N ligands explored\": 1200000, \"% top-k found\": 0.6967196422992233}], \"data-0c01a76e22be92105ddc77feeec60061\": [{\"Unnamed: 0\": 12.0, \"Algorithm\": \"Morgan pharm. & Log.reg. (ours)\", \"Training size\": 100000, \"N ligands explored\": 100000, \"% top-k found\": 0.0009400000000000001}, {\"Unnamed: 0\": 13.0, \"Algorithm\": \"Morgan pharm. & Log.reg. (ours)\", \"Training size\": 100000, \"N ligands explored\": 200000, \"% top-k found\": 0.07122}, {\"Unnamed: 0\": 14.0, \"Algorithm\": \"Morgan pharm. & Log.reg. (ours)\", \"Training size\": 100000, \"N ligands explored\": 300000, \"% top-k found\": 0.22885999999999998}, {\"Unnamed: 0\": 15.0, \"Algorithm\": \"Morgan pharm. & Log.reg. (ours)\", \"Training size\": 100000, \"N ligands explored\": 400000, \"% top-k found\": 0.34031999999999996}, {\"Unnamed: 0\": 16.0, \"Algorithm\": \"Morgan pharm. & Log.reg. (ours)\", \"Training size\": 100000, \"N ligands explored\": 500000, \"% top-k found\": 0.41912}, {\"Unnamed: 0\": 17.0, \"Algorithm\": \"Morgan pharm. & Log.reg. (ours)\", \"Training size\": 100000, \"N ligands explored\": 600000, \"% top-k found\": 0.48218}, {\"Unnamed: 0\": 30.0, \"Algorithm\": \"Morgan pharm. & Log.reg. (ours)\", \"Training size\": 100000, \"N ligands explored\": 100000, \"% top-k found\": 0.00116}, {\"Unnamed: 0\": 31.0, \"Algorithm\": \"Morgan pharm. & Log.reg. (ours)\", \"Training size\": 100000, \"N ligands explored\": 200000, \"% top-k found\": 0.08806}, {\"Unnamed: 0\": 32.0, \"Algorithm\": \"Morgan pharm. & Log.reg. (ours)\", \"Training size\": 100000, \"N ligands explored\": 300000, \"% top-k found\": 0.25188}, {\"Unnamed: 0\": 33.0, \"Algorithm\": \"Morgan pharm. & Log.reg. (ours)\", \"Training size\": 100000, \"N ligands explored\": 400000, \"% top-k found\": 0.35324}, {\"Unnamed: 0\": 34.0, \"Algorithm\": \"Morgan pharm. & Log.reg. (ours)\", \"Training size\": 100000, \"N ligands explored\": 500000, \"% top-k found\": 0.42628}, {\"Unnamed: 0\": 35.0, \"Algorithm\": \"Morgan pharm. & Log.reg. (ours)\", \"Training size\": 100000, \"N ligands explored\": 600000, \"% top-k found\": 0.48294}, {\"Unnamed: 0\": 48.0, \"Algorithm\": \"Morgan pharm. & Log.reg. (ours)\", \"Training size\": 100000, \"N ligands explored\": 100000, \"% top-k found\": 0.00118}, {\"Unnamed: 0\": 49.0, \"Algorithm\": \"Morgan pharm. & Log.reg. (ours)\", \"Training size\": 100000, \"N ligands explored\": 200000, \"% top-k found\": 0.08394}, {\"Unnamed: 0\": 50.0, \"Algorithm\": \"Morgan pharm. & Log.reg. (ours)\", \"Training size\": 100000, \"N ligands explored\": 300000, \"% top-k found\": 0.24106}, {\"Unnamed: 0\": 51.0, \"Algorithm\": \"Morgan pharm. & Log.reg. (ours)\", \"Training size\": 100000, \"N ligands explored\": 400000, \"% top-k found\": 0.35702}, {\"Unnamed: 0\": 52.0, \"Algorithm\": \"Morgan pharm. & Log.reg. (ours)\", \"Training size\": 100000, \"N ligands explored\": 500000, \"% top-k found\": 0.44752}, {\"Unnamed: 0\": 53.0, \"Algorithm\": \"Morgan pharm. & Log.reg. (ours)\", \"Training size\": 100000, \"N ligands explored\": 600000, \"% top-k found\": 0.53092}, {\"Unnamed: 0\": null, \"Algorithm\": \"RF (Coley)\", \"Training size\": 100000, \"N ligands explored\": 600000, \"% top-k found\": 0.21305561282938507}, {\"Unnamed: 0\": null, \"Algorithm\": \"RF (Coley)\", \"Training size\": 100000, \"N ligands explored\": 600000, \"% top-k found\": 0.24}, {\"Unnamed: 0\": null, \"Algorithm\": \"RF (Coley)\", \"Training size\": 100000, \"N ligands explored\": 600000, \"% top-k found\": 0.26694438717061497}, {\"Unnamed: 0\": null, \"Algorithm\": \"NN (Coley)\", \"Training size\": 100000, \"N ligands explored\": 600000, \"% top-k found\": 0.32932576538582525}, {\"Unnamed: 0\": null, \"Algorithm\": \"NN (Coley)\", \"Training size\": 100000, \"N ligands explored\": 600000, \"% top-k found\": 0.33299999999999996}, {\"Unnamed: 0\": null, \"Algorithm\": \"NN (Coley)\", \"Training size\": 100000, \"N ligands explored\": 600000, \"% top-k found\": 0.3366742346141747}, {\"Unnamed: 0\": null, \"Algorithm\": \"MPN (Coley)\", \"Training size\": 100000, \"N ligands explored\": 600000, \"% top-k found\": 0.5138762756430421}, {\"Unnamed: 0\": null, \"Algorithm\": \"MPN (Coley)\", \"Training size\": 100000, \"N ligands explored\": 600000, \"% top-k found\": 0.52}, {\"Unnamed: 0\": null, \"Algorithm\": \"MPN (Coley)\", \"Training size\": 100000, \"N ligands explored\": 600000, \"% top-k found\": 0.526123724356958}]}}, {\"mode\": \"vega-lite\"});\n",
       "</script>"
      ],
      "text/plain": [
       "alt.LayerChart(...)"
      ]
     },
     "execution_count": 109,
     "metadata": {},
     "output_type": "execute_result"
    }
   ],
   "source": [
    "chs[0]+chs[1]+chs[2]"
   ]
  },
  {
   "cell_type": "code",
   "execution_count": 289,
   "metadata": {},
   "outputs": [],
   "source": [
    "#sup.save('../figures/ampC_reconstruction.html')"
   ]
  },
  {
   "cell_type": "code",
   "execution_count": 28,
   "metadata": {},
   "outputs": [
    {
     "name": "stdout",
     "output_type": "stream",
     "text": [
      "/home/lewis/Documents/projects/dockop/code\r\n"
     ]
    }
   ],
   "source": [
    "!pwd"
   ]
  },
  {
   "cell_type": "code",
   "execution_count": null,
   "metadata": {},
   "outputs": [],
   "source": []
  }
 ],
 "metadata": {
  "kernelspec": {
   "display_name": "Python 3",
   "language": "python",
   "name": "python3"
  },
  "language_info": {
   "codemirror_mode": {
    "name": "ipython",
    "version": 3
   },
   "file_extension": ".py",
   "mimetype": "text/x-python",
   "name": "python",
   "nbconvert_exporter": "python",
   "pygments_lexer": "ipython3",
   "version": "3.8.5"
  }
 },
 "nbformat": 4,
 "nbformat_minor": 4
}
