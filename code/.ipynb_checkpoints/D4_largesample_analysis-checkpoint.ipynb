{
 "cells": [
  {
   "cell_type": "code",
   "execution_count": 1,
   "metadata": {},
   "outputs": [],
   "source": [
    "import numpy as np\n",
    "import matplotlib.pyplot as plt\n",
    "import pandas as pd\n",
    "import tqdm"
   ]
  },
  {
   "cell_type": "code",
   "execution_count": 2,
   "metadata": {},
   "outputs": [],
   "source": [
    "scores = np.load('../processed_data/D4_largesample_short.npy')\n",
    "smiles = pd.read_csv('../processed_data/D4_largesample_short.smi')"
   ]
  },
  {
   "cell_type": "markdown",
   "metadata": {},
   "source": [
    "# Load the model from the small subsample"
   ]
  },
  {
   "cell_type": "code",
   "execution_count": 3,
   "metadata": {},
   "outputs": [
    {
     "data": {
      "text/plain": [
       "LogisticRegression(C=0.1, max_iter=10000)"
      ]
     },
     "execution_count": 3,
     "metadata": {},
     "output_type": "execute_result"
    }
   ],
   "source": [
    "from sklearn.linear_model import LogisticRegression\n",
    "from joblib import load\n",
    "model = load('../processed_data/d4_smallModel.joblib') \n",
    "model"
   ]
  },
  {
   "cell_type": "markdown",
   "metadata": {},
   "source": [
    "# Fingerprint molecules\n",
    "Only needs to be done once, then save it. "
   ]
  },
  {
   "cell_type": "code",
   "execution_count": 5,
   "metadata": {},
   "outputs": [
    {
     "name": "stderr",
     "output_type": "stream",
     "text": [
      "<ipython-input-5-6a036fa5af1b>:23: TqdmDeprecationWarning: This function will be removed in tqdm==5.0.0\n",
      "Please use `tqdm.notebook.tqdm` instead of `tqdm.tqdm_notebook`\n",
      "  for count, smi in tqdm.tqdm_notebook(enumerate(smiles['smiles']), total=10_000_000):\n"
     ]
    },
    {
     "data": {
      "application/vnd.jupyter.widget-view+json": {
       "model_id": "a065e80784b549609aae6576630513d6",
       "version_major": 2,
       "version_minor": 0
      },
      "text/plain": [
       "HBox(children=(FloatProgress(value=0.0, max=10000000.0), HTML(value='')))"
      ]
     },
     "metadata": {},
     "output_type": "display_data"
    },
    {
     "name": "stdout",
     "output_type": "stream",
     "text": [
      "\n"
     ]
    }
   ],
   "source": [
    "# from rdkit import Chem\n",
    "# from rdkit.Chem import rdMolDescriptors\n",
    "# from scipy import sparse\n",
    "\n",
    "# fingerprint_function = rdMolDescriptors.GetMorganFingerprintAsBitVect\n",
    "# pars = { \"radius\": 2,\n",
    "#                      \"nBits\": 32_768,\n",
    "#                      \"invariants\": [],\n",
    "#                      \"fromAtoms\": [],\n",
    "#                      \"useChirality\": False,\n",
    "#                      \"useBondTypes\": True,\n",
    "#                      \"useFeatures\": True,\n",
    "#             }\n",
    "\n",
    "\n",
    "\n",
    "\n",
    "# #store bit indices in these:\n",
    "# row_idx = list()\n",
    "# col_idx = list()\n",
    "        \n",
    "# #iterate through file, \n",
    "# for count, smi in tqdm.tqdm_notebook(enumerate(smiles['smiles']), total=10_000_000):\n",
    "#     mol = Chem.MolFromSmiles(smi)\n",
    "#     fp = fingerprint_function(mol, **pars)\n",
    "#     onbits = list(fp.GetOnBits())\n",
    "#     #these bits all have the same row:\n",
    "#     row_idx += [count]*len(onbits)\n",
    "#     #and the column indices of those bits:\n",
    "#     col_idx+=onbits\n",
    "            \n",
    "\n",
    "        \n",
    "# #generate a sparse matrix out of the row,col indices:\n",
    "# unfolded_size = 32_768\n",
    "# fingerprint_matrix = sparse.coo_matrix((np.ones(len(row_idx)).astype(bool), (row_idx, col_idx)), \n",
    "#                           shape=(max(row_idx)+1, unfolded_size))\n",
    "# #convert to csr matrix, it is better:\n",
    "# fingerprint_matrix =  sparse.csr_matrix(fingerprint_matrix)"
   ]
  },
  {
   "cell_type": "code",
   "execution_count": 7,
   "metadata": {},
   "outputs": [],
   "source": [
    "# #save it so we can reload:\n",
    "# sparse.save_npz('../processed_data/d4_morgan_feat_large.npz', fingerprint_matrix)"
   ]
  },
  {
   "cell_type": "markdown",
   "metadata": {},
   "source": [
    "# Predict using the previously fitted model"
   ]
  },
  {
   "cell_type": "code",
   "execution_count": 8,
   "metadata": {
    "scrolled": true
   },
   "outputs": [],
   "source": [
    "proba = model.predict_proba(fingerprint_matrix)[:,1]"
   ]
  },
  {
   "cell_type": "code",
   "execution_count": 14,
   "metadata": {},
   "outputs": [],
   "source": [
    "test = scores<-46"
   ]
  },
  {
   "cell_type": "code",
   "execution_count": null,
   "metadata": {},
   "outputs": [],
   "source": []
  },
  {
   "cell_type": "code",
   "execution_count": 20,
   "metadata": {},
   "outputs": [
    {
     "data": {
      "text/plain": [
       "[<matplotlib.lines.Line2D at 0x7feb63e07190>]"
      ]
     },
     "execution_count": 20,
     "metadata": {},
     "output_type": "execute_result"
    },
    {
     "data": {
      "image/png": "[encoded data removed]",
      "text/plain": [
       "<Figure size 432x288 with 1 Axes>"
      ]
     },
     "metadata": {
      "needs_background": "light"
     },
     "output_type": "display_data"
    }
   ],
   "source": [
    "plt.plot( test[(-proba).argsort()].cumsum() )"
   ]
  },
  {
   "cell_type": "code",
   "execution_count": 21,
   "metadata": {},
   "outputs": [
    {
     "data": {
      "text/plain": [
       "array([  304314,   304315,   304316, ..., 10000997, 10000998, 10000999])"
      ]
     },
     "execution_count": 21,
     "metadata": {},
     "output_type": "execute_result"
    }
   ],
   "source": [
    "(test[(-proba).argsort()].cumsum() > 100000).nonzero()[0]"
   ]
  },
  {
   "cell_type": "code",
   "execution_count": null,
   "metadata": {},
   "outputs": [],
   "source": []
  },
  {
   "cell_type": "code",
   "execution_count": null,
   "metadata": {},
   "outputs": [],
   "source": []
  },
  {
   "cell_type": "code",
   "execution_count": 13,
   "metadata": {},
   "outputs": [
    {
     "data": {
      "text/plain": [
       "(array([1.000e+00, 0.000e+00, 4.000e+00, 7.000e+00, 1.800e+01, 6.700e+01,\n",
       "        1.750e+02, 4.350e+02, 9.650e+02, 1.587e+03, 2.504e+03, 3.458e+03,\n",
       "        4.340e+03, 4.479e+03, 4.587e+03, 4.113e+03, 3.796e+03, 3.417e+03,\n",
       "        3.049e+03, 2.818e+03, 2.248e+03, 1.797e+03, 1.437e+03, 1.123e+03,\n",
       "        8.890e+02, 6.540e+02, 5.190e+02, 3.940e+02, 2.880e+02, 1.930e+02,\n",
       "        1.670e+02, 1.150e+02, 8.100e+01, 6.000e+01, 4.700e+01, 4.300e+01,\n",
       "        2.700e+01, 1.800e+01, 1.500e+01, 1.500e+01, 6.000e+00, 5.000e+00,\n",
       "        1.200e+01, 9.000e+00, 4.000e+00, 5.000e+00, 5.000e+00, 1.000e+00,\n",
       "        2.000e+00, 1.000e+00]),\n",
       " array([-75.5  , -73.4  , -71.2  , -69.06 , -66.94 , -64.75 , -62.62 ,\n",
       "        -60.47 , -58.34 , -56.2  , -54.03 , -51.9  , -49.75 , -47.6  ,\n",
       "        -45.47 , -43.3  , -41.16 , -39.03 , -36.88 , -34.72 , -32.6  ,\n",
       "        -30.44 , -28.3  , -26.16 , -24.   , -21.86 , -19.72 , -17.56 ,\n",
       "        -15.42 , -13.27 , -11.13 ,  -8.984,  -6.84 ,  -4.695,  -2.549,\n",
       "         -0.403,   1.742,   3.889,   6.035,   8.18 ,  10.33 ,  12.47 ,\n",
       "         14.62 ,  16.77 ,  18.9  ,  21.05 ,  23.2  ,  25.34 ,  27.48 ,\n",
       "         29.64 ,  31.78 ], dtype=float16),\n",
       " <BarContainer object of 50 artists>)"
      ]
     },
     "execution_count": 13,
     "metadata": {},
     "output_type": "execute_result"
    },
    {
     "data": {
      "image/png": "[encoded data removed]",
      "text/plain": [
       "<Figure size 432x288 with 1 Axes>"
      ]
     },
     "metadata": {
      "needs_background": "light"
     },
     "output_type": "display_data"
    }
   ],
   "source": [
    "plt.hist(scores[(-proba).argsort()][:50000],bins=50)"
   ]
  },
  {
   "cell_type": "code",
   "execution_count": null,
   "metadata": {},
   "outputs": [],
   "source": []
  },
  {
   "cell_type": "code",
   "execution_count": null,
   "metadata": {},
   "outputs": [],
   "source": []
  },
  {
   "cell_type": "code",
   "execution_count": null,
   "metadata": {},
   "outputs": [],
   "source": []
  },
  {
   "cell_type": "markdown",
   "metadata": {},
   "source": [
    "# Run some monte carlo cross validation to double check the cutoff gives  reasonably similar results as AmpC"
   ]
  },
  {
   "cell_type": "code",
   "execution_count": 82,
   "metadata": {
    "scrolled": true
   },
   "outputs": [
    {
     "name": "stdout",
     "output_type": "stream",
     "text": [
      "0.23005970241472906\n",
      "0.22838276784323344\n",
      "0.24377199545533457\n",
      "0.2438595221500688\n",
      "0.24770337510692148\n",
      "0.23930417654716402\n",
      "0.23839419718817684\n",
      "0.2237980829960702\n",
      "0.24600624932769033\n",
      "0.3187201009658738\n"
     ]
    }
   ],
   "source": [
    "from sklearn.linear_model import LogisticRegression\n",
    "from sklearn.metrics import average_precision_score as apscore\n",
    "\n",
    "y = (scores<cutoff).astype(int)\n",
    "\n",
    "for i in range(10):\n",
    "    idx = np.arange(len(y))\n",
    "    np.random.shuffle(idx)\n",
    "    \n",
    "    train = idx[:np.int(len(y)*0.9)]\n",
    "    test = idx[np.int(len(y)*0.9):]\n",
    "    \n",
    "    model = LogisticRegression(max_iter=10000,C=0.1)\n",
    "    model.fit(fingerprint_matrix[train], y[train])\n",
    "    \n",
    "    #print performance improvement above a random classifier. \n",
    "    ap = apscore(y[test],model.predict_proba(fingerprint_matrix[test])[:,1])\n",
    "    print(ap)\n"
   ]
  }
 ],
 "metadata": {
  "kernelspec": {
   "display_name": "Python 3",
   "language": "python",
   "name": "python3"
  },
  "language_info": {
   "codemirror_mode": {
    "name": "ipython",
    "version": 3
   },
   "file_extension": ".py",
   "mimetype": "text/x-python",
   "name": "python",
   "nbconvert_exporter": "python",
   "pygments_lexer": "ipython3",
   "version": "3.8.5"
  }
 },
 "nbformat": 4,
 "nbformat_minor": 4
}
