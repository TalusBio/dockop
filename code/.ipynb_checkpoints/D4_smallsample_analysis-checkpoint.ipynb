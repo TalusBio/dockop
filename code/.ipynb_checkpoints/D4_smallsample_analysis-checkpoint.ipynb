{
 "cells": [
  {
   "cell_type": "code",
   "execution_count": 1,
   "metadata": {},
   "outputs": [],
   "source": [
    "import numpy as np\n",
    "import matplotlib.pyplot as plt\n",
    "import pandas as pd"
   ]
  },
  {
   "cell_type": "code",
   "execution_count": 2,
   "metadata": {},
   "outputs": [],
   "source": [
    "scores = np.load('../processed_data/D4_smallsample_short.npy')\n",
    "smiles = pd.read_csv('../processed_data/D4_smallsample_short.smi')"
   ]
  },
  {
   "cell_type": "markdown",
   "metadata": {},
   "source": [
    "# Fingerprint molecules"
   ]
  },
  {
   "cell_type": "code",
   "execution_count": 3,
   "metadata": {},
   "outputs": [],
   "source": [
    "from rdkit import Chem\n",
    "from rdkit.Chem import rdMolDescriptors\n",
    "from scipy import sparse\n",
    "\n",
    "fingerprint_function = rdMolDescriptors.GetMorganFingerprintAsBitVect\n",
    "pars = { \"radius\": 2,\n",
    "                     \"nBits\": 32_768,\n",
    "                     \"invariants\": [],\n",
    "                     \"fromAtoms\": [],\n",
    "                     \"useChirality\": False,\n",
    "                     \"useBondTypes\": True,\n",
    "                     \"useFeatures\": True,\n",
    "            }\n",
    "\n",
    "\n",
    "\n",
    "\n",
    " #store bit indices in these:\n",
    "row_idx = list()\n",
    "col_idx = list()\n",
    "        \n",
    "#iterate through file, \n",
    "for count, smi in enumerate(smiles['smiles']):\n",
    "    mol = Chem.MolFromSmiles(smi)\n",
    "    fp = fingerprint_function(mol, **pars)\n",
    "    onbits = list(fp.GetOnBits())\n",
    "    #these bits all have the same row:\n",
    "    row_idx += [count]*len(onbits)\n",
    "    #and the column indices of those bits:\n",
    "    col_idx+=onbits\n",
    "            \n",
    "\n",
    "        \n",
    "#generate a sparse matrix out of the row,col indices:\n",
    "unfolded_size = 32_768\n",
    "fingerprint_matrix = sparse.coo_matrix((np.ones(len(row_idx)).astype(bool), (row_idx, col_idx)), \n",
    "                          shape=(max(row_idx)+1, unfolded_size))\n",
    "#convert to csr matrix, it is better:\n",
    "fingerprint_matrix =  sparse.csr_matrix(fingerprint_matrix)"
   ]
  },
  {
   "cell_type": "markdown",
   "metadata": {},
   "source": [
    "# Examine docking score distribution"
   ]
  },
  {
   "cell_type": "code",
   "execution_count": 4,
   "metadata": {
    "scrolled": true
   },
   "outputs": [
    {
     "name": "stdout",
     "output_type": "stream",
     "text": [
      "0.03713913392141139\n"
     ]
    },
    {
     "data": {
      "text/plain": [
       "<matplotlib.lines.Line2D at 0x7f015f22e6d0>"
      ]
     },
     "execution_count": 4,
     "metadata": {},
     "output_type": "execute_result"
    },
    {
     "data": {
      "image/png": "[encoded data removed]",
      "text/plain": [
       "<Figure size 432x288 with 1 Axes>"
      ]
     },
     "metadata": {
      "needs_background": "light"
     },
     "output_type": "display_data"
    }
   ],
   "source": [
    "plt.hist(scores,bins=40)\n",
    "\n",
    "cutoff = -46\n",
    "\n",
    "print((scores<cutoff).sum() / len(scores))\n",
    "plt.axvline(cutoff)"
   ]
  },
  {
   "cell_type": "code",
   "execution_count": null,
   "metadata": {},
   "outputs": [],
   "source": []
  },
  {
   "cell_type": "markdown",
   "metadata": {},
   "source": [
    "# Run some monte carlo cross validation to double check the cutoff gives  reasonably similar results as AmpC"
   ]
  },
  {
   "cell_type": "code",
   "execution_count": 5,
   "metadata": {
    "scrolled": true
   },
   "outputs": [
    {
     "name": "stdout",
     "output_type": "stream",
     "text": [
      "0.3134952005031156\n",
      "0.2713191527266075\n",
      "0.29038019736941606\n",
      "0.3108450386962512\n",
      "0.27061174122684234\n",
      "0.2898362301036329\n",
      "0.23809492657324074\n",
      "0.28072502453017395\n",
      "0.24193470659683236\n",
      "0.2861881299857376\n"
     ]
    }
   ],
   "source": [
    "from sklearn.linear_model import LogisticRegression\n",
    "from sklearn.metrics import average_precision_score as apscore\n",
    "\n",
    "y = (scores<cutoff).astype(int)\n",
    "\n",
    "for i in range(10):\n",
    "    idx = np.arange(len(y))\n",
    "    np.random.shuffle(idx)\n",
    "    \n",
    "    train = idx[:np.int(len(y)*0.9)]\n",
    "    test = idx[np.int(len(y)*0.9):]\n",
    "    \n",
    "    model = LogisticRegression(max_iter=10000,C=0.1)\n",
    "    model.fit(fingerprint_matrix[train], y[train])\n",
    "    \n",
    "    #print performance improvement above a random classifier. \n",
    "    ap = apscore(y[test],model.predict_proba(fingerprint_matrix[test])[:,1])\n",
    "    print(ap)\n"
   ]
  },
  {
   "cell_type": "markdown",
   "metadata": {},
   "source": [
    "# Pickle a trained model to pass over to the large sample analysis:"
   ]
  },
  {
   "cell_type": "code",
   "execution_count": 6,
   "metadata": {},
   "outputs": [
    {
     "data": {
      "text/plain": [
       "LogisticRegression(C=0.1, max_iter=10000)"
      ]
     },
     "execution_count": 6,
     "metadata": {},
     "output_type": "execute_result"
    }
   ],
   "source": [
    "model = LogisticRegression(max_iter=10000,C=0.1)\n",
    "model.fit(fingerprint_matrix, y)"
   ]
  },
  {
   "cell_type": "code",
   "execution_count": 7,
   "metadata": {},
   "outputs": [
    {
     "data": {
      "text/plain": [
       "['../processed_data/d4_smallModel.joblib']"
      ]
     },
     "execution_count": 7,
     "metadata": {},
     "output_type": "execute_result"
    }
   ],
   "source": [
    "from joblib import dump\n",
    "dump(model, '../processed_data/d4_smallModel.joblib') "
   ]
  },
  {
   "cell_type": "code",
   "execution_count": null,
   "metadata": {},
   "outputs": [],
   "source": []
  }
 ],
 "metadata": {
  "kernelspec": {
   "display_name": "Python 3",
   "language": "python",
   "name": "python3"
  },
  "language_info": {
   "codemirror_mode": {
    "name": "ipython",
    "version": 3
   },
   "file_extension": ".py",
   "mimetype": "text/x-python",
   "name": "python",
   "nbconvert_exporter": "python",
   "pygments_lexer": "ipython3",
   "version": "3.8.5"
  }
 },
 "nbformat": 4,
 "nbformat_minor": 4
}
