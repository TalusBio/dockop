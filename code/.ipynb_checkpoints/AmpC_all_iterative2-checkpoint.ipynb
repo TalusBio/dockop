{
 "cells": [
  {
   "cell_type": "code",
   "execution_count": 1,
   "metadata": {},
   "outputs": [],
   "source": [
    "import numpy as np\n",
    "import matplotlib.pyplot as plt\n",
    "import pandas as pd\n",
    "import altair as alt\n",
    "import tqdm\n",
    "from scipy import sparse\n",
    "from sklearn.linear_model import LogisticRegression\n",
    "from functools import lru_cache"
   ]
  },
  {
   "cell_type": "code",
   "execution_count": 2,
   "metadata": {},
   "outputs": [
    {
     "data": {
      "text/plain": [
       "RendererRegistry.enable('default')"
      ]
     },
     "execution_count": 2,
     "metadata": {},
     "output_type": "execute_result"
    }
   ],
   "source": [
    "alt.renderers.enable('default')"
   ]
  },
  {
   "cell_type": "code",
   "execution_count": 3,
   "metadata": {
    "scrolled": true
   },
   "outputs": [],
   "source": [
    "NUM_CHUNKS = 10"
   ]
  },
  {
   "cell_type": "markdown",
   "metadata": {},
   "source": [
    "# Generate some indices\n",
    "Even the sparse matrices won't fit in memory. So we will have to loop through them when making predictions or sampling random items."
   ]
  },
  {
   "cell_type": "code",
   "execution_count": 4,
   "metadata": {},
   "outputs": [],
   "source": [
    "USE_EMBEDDINGS = False\n",
    "TOP_K_THRESHOLD = 50_000"
   ]
  },
  {
   "cell_type": "code",
   "execution_count": 5,
   "metadata": {},
   "outputs": [],
   "source": [
    "RECEPTOR = \"AmpC\"\n",
    "DATA_DIR = \"/mnt/efs/AmpC_data\"\n",
    "\n",
    "MODEL_PATH = \"/mnt/efs/mol2vec/examples/models/model_300dim.pkl\"\n",
    "UNCOMMON = \"UNK\"\n",
    "\n",
    "if USE_EMBEDDINGS:\n",
    "    OUTPUT_RESULTS_FILE = f\"{RECEPTOR}_embedding_results.csv\"\n",
    "else:\n",
    "    OUTPUT_RESULTS_FILE = f\"{RECEPTOR}_results.csv\""
   ]
  },
  {
   "cell_type": "code",
   "execution_count": 6,
   "metadata": {},
   "outputs": [],
   "source": [
    "# count number of items:\n",
    "indptr = [0]\n",
    "scores_lst = []\n",
    "\n",
    "# if USE_EMBEDDINGS:\n",
    "    # scores = np.load(f\"{INPUT_DATA_DIR}/{RECEPTOR}_embedding_scores.npy\")\n",
    "    # vectors = np.load(f\"{INPUT_DATA_DIR}/{RECEPTOR}_embeddings.npy\")\n",
    "# else:\n",
    "    # scores = np.load(f\"{INPUT_DATA_DIR}/{RECEPTOR}_scores.npy\")\n",
    "    # vectors = sparse.load_npz(f\"{INPUT_DATA_DIR}/{RECEPTOR}_fingerprints.npz\")\n",
    "\n",
    "for chunk_id in range(NUM_CHUNKS):\n",
    "    if USE_EMBEDDINGS:\n",
    "        scores = np.load(f\"{DATA_DIR}/{RECEPTOR}_embedding_scores_{chunk_id}.npy\")\n",
    "    else:\n",
    "        scores = np.load(f\"{DATA_DIR}/{RECEPTOR}_scores_{chunk_id}.npy\")\n",
    "    indptr.append(indptr[-1] + scores.shape[0])\n",
    "    scores_lst.append(scores)\n",
    "    \n",
    "scores = np.concatenate(scores_lst)"
   ]
  },
  {
   "cell_type": "code",
   "execution_count": 7,
   "metadata": {},
   "outputs": [
    {
     "data": {
      "text/plain": [
       "(96214206,)"
      ]
     },
     "execution_count": 7,
     "metadata": {},
     "output_type": "execute_result"
    }
   ],
   "source": [
    "scores.shape"
   ]
  },
  {
   "cell_type": "code",
   "execution_count": 8,
   "metadata": {},
   "outputs": [],
   "source": [
    "@lru_cache(maxsize=4)\n",
    "def load_vectors(chunk_id):\n",
    "    print(\"Loading vectors\", end=\"; \", flush=True)\n",
    "    if USE_EMBEDDINGS:\n",
    "        vectors = np.load(f\"{DATA_DIR}/{RECEPTOR}_embeddings_{chunk_id}.npy\")\n",
    "    else:\n",
    "        vectors = sparse.load_npz(f\"{DATA_DIR}/{RECEPTOR}_fingerprints_{chunk_id}.npz\")\n",
    "    return vectors"
   ]
  },
  {
   "cell_type": "code",
   "execution_count": 9,
   "metadata": {},
   "outputs": [],
   "source": [
    "def extract_vectors(chunk_id, indptr, is_train):\n",
    "    print(f\"Extracting vectors: {chunk_id}\", end=\"; \", flush=True)\n",
    "    vectors = load_vectors(chunk_id)\n",
    "    mask = is_train[indptr[chunk_id]:indptr[chunk_id+1]]\n",
    "    return vectors[mask]\n",
    "\n",
    "def build_train(indptr, is_train):\n",
    "    print(\"Building training set\", end=\"; \", flush=True)\n",
    "    if USE_EMBEDDINGS:\n",
    "        vectors = np.vstack([extract_vectors(i, tuple(indptr), is_train) for i in range(NUM_CHUNKS)])\n",
    "    else:\n",
    "        vectors = sparse.vstack([extract_vectors(i, tuple(indptr), is_train) for i in range(NUM_CHUNKS)])  \n",
    "    return vectors\n",
    "\n",
    "def chunk_predict_proba(model, indptr, is_train):\n",
    "    print(\"Predicting proba\", end=\"; \", flush=True)\n",
    "    probas = []\n",
    "    for chunk_id in range(NUM_CHUNKS):\n",
    "        vectors = extract_vectors(chunk_id, indptr, ~is_train)\n",
    "        proba = model.predict_proba(vectors)[:,1]\n",
    "        probas.append(proba)\n",
    "    return np.concatenate(probas)\n",
    "\n",
    "def chunk_predict(model, indptr, is_train):\n",
    "    print(\"Predicting scores\", end=\"; \", flush=True)\n",
    "    preds = []\n",
    "    for chunk_id in range(NUM_CHUNKS):\n",
    "        vectors = extract_vectors(chunk_id, indptr, ~is_train)\n",
    "        pred = -1*model.predict(vectors) # best scoring will now be on top (like the proba)\n",
    "        preds.append(pred)\n",
    "    return np.concatenate(preds)"
   ]
  },
  {
   "cell_type": "markdown",
   "metadata": {},
   "source": [
    "# Train a Logistic Regression models"
   ]
  },
  {
   "cell_type": "code",
   "execution_count": 10,
   "metadata": {
    "scrolled": true
   },
   "outputs": [],
   "source": [
    "model = LogisticRegression(max_iter=10000, C=1)"
   ]
  },
  {
   "cell_type": "code",
   "execution_count": 11,
   "metadata": {},
   "outputs": [],
   "source": [
    "top_k = (scores.argsort().argsort() < TOP_K_THRESHOLD)\n",
    "total = top_k.sum() "
   ]
  },
  {
   "cell_type": "code",
   "execution_count": null,
   "metadata": {
    "scrolled": false
   },
   "outputs": [
    {
     "name": "stdout",
     "output_type": "stream",
     "text": [
      "Iteration: 1, Found 205 top k ligands\n",
      "Building training set; Extracting vectors: 0; Loading vectors; Extracting vectors: 1; Loading vectors; Extracting vectors: 2; Loading vectors; Extracting vectors: 3; Loading vectors; Extracting vectors: 4; Loading vectors; Extracting vectors: 5; Loading vectors; Extracting vectors: 6; Loading vectors; Extracting vectors: 7; Loading vectors; Extracting vectors: 8; Loading vectors; Extracting vectors: 9; Loading vectors; Fitting model; Predicting proba; Extracting vectors: 0; Loading vectors; Extracting vectors: 1; Loading vectors; Extracting vectors: 2; Loading vectors; Extracting vectors: 3; Loading vectors; Extracting vectors: 4; Loading vectors; Extracting vectors: 5; Loading vectors; Extracting vectors: 6; Loading vectors; Extracting vectors: 7; Loading vectors; Extracting vectors: 8; Loading vectors; Extracting vectors: 9; Loading vectors; \n",
      "Iteration: 2, Found 20112 top k ligands\n",
      "Building training set; Extracting vectors: 0; Loading vectors; Extracting vectors: 1; Loading vectors; Extracting vectors: 2; Loading vectors; Extracting vectors: 3; Loading vectors; Extracting vectors: 4; Loading vectors; Extracting vectors: 5; Loading vectors; Extracting vectors: 6; Loading vectors; Extracting vectors: 7; Loading vectors; Extracting vectors: 8; Loading vectors; Extracting vectors: 9; Loading vectors; Fitting model; Predicting proba; Extracting vectors: 0; Loading vectors; Extracting vectors: 1; Loading vectors; Extracting vectors: 2; Loading vectors; Extracting vectors: 3; Loading vectors; Extracting vectors: 4; Loading vectors; Extracting vectors: 5; Loading vectors; Extracting vectors: 6; Loading vectors; Extracting vectors: 7; Loading vectors; Extracting vectors: 8; Loading vectors; Extracting vectors: 9; Loading vectors; \n",
      "Iteration: 3, Found 33987 top k ligands\n",
      "Building training set; Extracting vectors: 0; Loading vectors; Extracting vectors: 1; Loading vectors; Extracting vectors: 2; Loading vectors; Extracting vectors: 3; Loading vectors; Extracting vectors: 4; Loading vectors; Extracting vectors: 5; Loading vectors; Extracting vectors: 6; Loading vectors; Extracting vectors: 7; Loading vectors; Extracting vectors: 8; Loading vectors; Extracting vectors: 9; Loading vectors; Fitting model; Predicting proba; Extracting vectors: 0; Loading vectors; Extracting vectors: 1; Loading vectors; Extracting vectors: 2; Loading vectors; Extracting vectors: 3; Loading vectors; Extracting vectors: 4; Loading vectors; Extracting vectors: 5; Loading vectors; Extracting vectors: 6; Loading vectors; Extracting vectors: 7; Loading vectors; "
     ]
    }
   ],
   "source": [
    "training_set_fractions = [0.004, 0.002, 0.001]\n",
    "\n",
    "percentile = 0.3\n",
    "\n",
    "df = pd.DataFrame(columns=['Algorithm', 'Training size', 'N ligands explored', '% top-k found'])\n",
    "count = 0\n",
    "\n",
    "for i in range(3):\n",
    "    idx = np.arange(scores.shape[0])\n",
    "    np.random.shuffle(idx)\n",
    "\n",
    "    for fraction in training_set_fractions:\n",
    "        size = int(len(scores) * fraction)\n",
    "        \n",
    "        # split indices into train and test:\n",
    "        train_indices = idx[:size].copy()\n",
    "        test_indices = idx[size:].copy()\n",
    "        train_indices.sort()\n",
    "        test_indices.sort()\n",
    "\n",
    "        # generate a 'is a training instance' mask. \n",
    "        is_train = np.zeros(scores.shape[0]).astype(bool)\n",
    "        is_train[train_indices] = True\n",
    "\n",
    "        # top_k molecules already found in the training set:\n",
    "        num_found = top_k[train_indices].sum()\n",
    "\n",
    "        df.loc[count] = [\"morgan_feat\", size, train_indices.shape[0], num_found/total]\n",
    "        count += 1\n",
    "        print(f\"Iteration: {count}, Found {num_found} top k ligands\")\n",
    "\n",
    "        # estimate the cutoff once, from the initial random sample:\n",
    "        cutoff = np.percentile(scores[train_indices], percentile)\n",
    "\n",
    "        for i in range(5):\n",
    "            # fit logreg model:\n",
    "            x_train = build_train(indptr, is_train)\n",
    "            y_train = scores[is_train] < cutoff\n",
    "\n",
    "            print(\"Fitting model\", end=\"; \", flush=True)\n",
    "            model.fit(x_train, y_train)\n",
    "\n",
    "            # predict (slowest step) for logreg:\n",
    "            proba = chunk_predict_proba(model, indptr, is_train)\n",
    "\n",
    "            # rank the probabilities\n",
    "            proba_sorted = (-proba).argsort()\n",
    "\n",
    "            # rank the unseen instances:\n",
    "            test_indices = test_indices[proba_sorted]\n",
    "\n",
    "            # now append the next N instances from the rank ordered unseen instances onto the training set:\n",
    "            train_indices = np.concatenate([train_indices, test_indices[:size]])\n",
    "\n",
    "            # update the isTrain mask and remove those training instances from the test set\n",
    "            is_train[train_indices] = True\n",
    "            test_indices = test_indices[size:]\n",
    "\n",
    "            # keep the train and test idx arrays sorted so they agree with the chunked* methods:\n",
    "            test_indices.sort()\n",
    "            train_indices.sort()\n",
    "\n",
    "            # topK molecules already found in the training set:\n",
    "            num_found = top_k[train_indices].sum()\n",
    "\n",
    "            df.loc[count] = ['morgan_feat', size, train_indices.shape[0], num_found/total]\n",
    "            count += 1\n",
    "            \n",
    "            print(f\"\\nIteration: {count}, Found {num_found} top k ligands\")\n",
    "            \n",
    "            df.to_csv(f\"{DATA_DIR}/{OUTPUT_RESULTS_FILE}\")\n",
    "\n",
    "df.to_csv(f\"{DATA_DIR}/{OUTPUT_RESULTS_FILE}\")"
   ]
  },
  {
   "cell_type": "markdown",
   "metadata": {},
   "source": [
    "# Results look like this:\n",
    "And they can be plotted using `./plot_scripts/plot_wholedataset.py`"
   ]
  },
  {
   "cell_type": "code",
   "execution_count": null,
   "metadata": {},
   "outputs": [],
   "source": [
    "df0 = pd.read_csv('../processed_data/ampc_reconstruction_0.3_1_.csv', index_col=0)\n",
    "df0['Algorithm'] = 'AmpC:LogReg (lewis)'"
   ]
  },
  {
   "cell_type": "code",
   "execution_count": 54,
   "metadata": {},
   "outputs": [],
   "source": [
    "df1 = pd.read_csv(f\"{DATA_DIR}/{RECEPTOR}_embedding_results.csv\", index_col=0)\n",
    "df1['Algorithm'] = 'AmpC:LogReg (embeddings)'"
   ]
  },
  {
   "cell_type": "code",
   "execution_count": 55,
   "metadata": {},
   "outputs": [],
   "source": [
    "df2 = pd.read_csv(f\"{DATA_DIR}/{RECEPTOR}_results.csv\", index_col=0)\n",
    "df2['Algorithm'] = 'AmpC:LogReg (fps)'"
   ]
  },
  {
   "cell_type": "code",
   "execution_count": 56,
   "metadata": {},
   "outputs": [],
   "source": [
    "df = pd.concat([df0, df1, df2])"
   ]
  },
  {
   "cell_type": "code",
   "execution_count": 57,
   "metadata": {},
   "outputs": [],
   "source": [
    "prev_results = [['AmpC:RF (Graff)', 400_000, 71.4, 2.1], \n",
    "                ['AmpC:NN (Graff)', 400_000, 74.7, 1.4],\n",
    "                ['AmpC:MPN (Graff)',400_000, 87.9, 2.3],\n",
    "                ['AmpC:RF (Graff)', 200_000, 45.5, 1.8],\n",
    "                ['AmpC:NN (Graff)', 200_000, 52.8, 0.5],\n",
    "                ['AmpC:MPN (Graff)', 200_000, 67.1, 2.1],\n",
    "                ['AmpC:RF (Graff)', 100_000, 24.0, 2.2],\n",
    "                ['AmpC:NN (Graff)', 100_000 , 33.3,0.3],\n",
    "                ['AmpC:MPN (Graff)', 100_000, 52.0, 0.5]]\n",
    "\n",
    "coley = pd.DataFrame(columns=['Algorithm', 'Training size', 'N ligands explored', '% top-k found'])\n",
    "count = 0 \n",
    "for res in prev_results:\n",
    "    desired_std_dev = res[3]\n",
    "    samples = np.array([-1,0,1]).astype(float)\n",
    "    samples *= (desired_std_dev/np.std(samples))\n",
    "    for s in samples:\n",
    "        coley.loc[count] = [res[0], res[1], res[1]*6, (s+res[2])/100]\n",
    "        count += 1"
   ]
  },
  {
   "cell_type": "code",
   "execution_count": 58,
   "metadata": {},
   "outputs": [],
   "source": [
    "concat = pd.concat([df, coley])\n",
    "concat['% top-k found'] *= 100\n",
    "concat.columns = ['Algorithm', 'Training set size', 'N ligands explored', '% top-k found']\n",
    "concat['Training set size'] = concat['Training set size'].apply(lambda num: f\"{num:,d}\",)\n",
    "concat['Computation days (single CPU)'] = concat['N ligands explored'] / 60 / 60 /24"
   ]
  },
  {
   "cell_type": "code",
   "execution_count": 59,
   "metadata": {},
   "outputs": [],
   "source": [
    "error_bars = alt.Chart(concat).mark_errorbar(extent='ci').encode(\n",
    "  x=alt.X('N ligands explored:Q',title='Number of ligands sampled'),\n",
    "  y=alt.Y('% top-k found:Q', title='% top 50,000 found'),\n",
    "    color=alt.Color('Algorithm')\n",
    ")\n",
    "\n",
    "points = alt.Chart(concat).mark_point(filled=False, size=40, color='black').encode(\n",
    "  x=alt.X('N ligands explored:Q'),\n",
    "  y=alt.Y('% top-k found:Q',aggregate='mean',title='% top 50,000 found'),\n",
    "    color=alt.Color('Algorithm'),\n",
    "    tooltip=alt.Tooltip('% top-k found:Q',aggregate='mean',title='% top 50,000 found')\n",
    ")\n",
    "\n",
    "line = alt.Chart(concat).mark_line(color='black',size=2,opacity=0.5).encode(\n",
    "  x=alt.X('N ligands explored:Q'),\n",
    "  y=alt.Y('% top-k found:Q',aggregate='mean',title='% top 50,000 found'),\n",
    "    color=alt.Color('Algorithm')\n",
    ")\n",
    "\n",
    "ch = (error_bars+points+line).properties(height=300,width=150).facet(\n",
    "    column=alt.Column('Training set size:N',sort=alt.Sort([0.004, 0.002, 0.001])),\n",
    ").resolve_scale(x='independent')\n",
    "# ch.save('../../figures/active_learning_percentage.html')"
   ]
  },
  {
   "cell_type": "code",
   "execution_count": 60,
   "metadata": {},
   "outputs": [
    {
     "data": {
      "text/html": [
       "\n",
       "<div id=\"altair-viz-39f961cb6af64d9c8ba1d3055c41502c\"></div>\n",
       "<script type=\"text/javascript\">\n",
       "  (function(spec, embedOpt){\n",
       "    let outputDiv = document.currentScript.previousElementSibling;\n",
       "    if (outputDiv.id !== \"altair-viz-39f961cb6af64d9c8ba1d3055c41502c\") {\n",
       "      outputDiv = document.getElementById(\"altair-viz-39f961cb6af64d9c8ba1d3055c41502c\");\n",
       "    }\n",
       "    const paths = {\n",
       "      \"vega\": \"https://cdn.jsdelivr.net/npm//vega@5?noext\",\n",
       "      \"vega-lib\": \"https://cdn.jsdelivr.net/npm//vega-lib?noext\",\n",
       "      \"vega-lite\": \"https://cdn.jsdelivr.net/npm//vega-lite@4.8.1?noext\",\n",
       "      \"vega-embed\": \"https://cdn.jsdelivr.net/npm//vega-embed@6?noext\",\n",
       "    };\n",
       "\n",
       "    function loadScript(lib) {\n",
       "      return new Promise(function(resolve, reject) {\n",
       "        var s = document.createElement('script');\n",
       "        s.src = paths[lib];\n",
       "        s.async = true;\n",
       "        s.onload = () => resolve(paths[lib]);\n",
       "        s.onerror = () => reject(`Error loading script: ${paths[lib]}`);\n",
       "        document.getElementsByTagName(\"head\")[0].appendChild(s);\n",
       "      });\n",
       "    }\n",
       "\n",
       "    function showError(err) {\n",
       "      outputDiv.innerHTML = `<div class=\"error\" style=\"color:red;\">${err}</div>`;\n",
       "      throw err;\n",
       "    }\n",
       "\n",
       "    function displayChart(vegaEmbed) {\n",
       "      vegaEmbed(outputDiv, spec, embedOpt)\n",
       "        .catch(err => showError(`Javascript Error: ${err.message}<br>This usually means there's a typo in your chart specification. See the javascript console for the full traceback.`));\n",
       "    }\n",
       "\n",
       "    if(typeof define === \"function\" && define.amd) {\n",
       "      requirejs.config({paths});\n",
       "      require([\"vega-embed\"], displayChart, err => showError(`Error loading script: ${err.message}`));\n",
       "    } else if (typeof vegaEmbed === \"function\") {\n",
       "      displayChart(vegaEmbed);\n",
       "    } else {\n",
       "      loadScript(\"vega\")\n",
       "        .then(() => loadScript(\"vega-lite\"))\n",
       "        .then(() => loadScript(\"vega-embed\"))\n",
       "        .catch(showError)\n",
       "        .then(() => displayChart(vegaEmbed));\n",
       "    }\n",
       "  })({\"config\": {\"view\": {\"continuousWidth\": 400, \"continuousHeight\": 300}}, \"data\": {\"name\": \"data-4fc051475e8a9aa69c53053336fb11c8\"}, \"facet\": {\"column\": {\"type\": \"nominal\", \"field\": \"Training set size\", \"sort\": [0.004, 0.002, 0.001]}}, \"spec\": {\"layer\": [{\"mark\": {\"type\": \"errorbar\", \"extent\": \"ci\"}, \"encoding\": {\"color\": {\"type\": \"nominal\", \"field\": \"Algorithm\"}, \"x\": {\"type\": \"quantitative\", \"field\": \"N ligands explored\", \"title\": \"Number of ligands sampled\"}, \"y\": {\"type\": \"quantitative\", \"field\": \"% top-k found\", \"title\": \"% top 1,000 found\"}}}, {\"mark\": {\"type\": \"point\", \"color\": \"black\", \"filled\": false, \"size\": 40}, \"encoding\": {\"color\": {\"type\": \"nominal\", \"field\": \"Algorithm\"}, \"tooltip\": {\"type\": \"quantitative\", \"aggregate\": \"mean\", \"field\": \"% top-k found\", \"title\": \"% top 1,000 found\"}, \"x\": {\"type\": \"quantitative\", \"field\": \"N ligands explored\"}, \"y\": {\"type\": \"quantitative\", \"aggregate\": \"mean\", \"field\": \"% top-k found\", \"title\": \"% top 1,000 found\"}}}, {\"mark\": {\"type\": \"line\", \"color\": \"black\", \"opacity\": 0.5, \"size\": 2}, \"encoding\": {\"color\": {\"type\": \"nominal\", \"field\": \"Algorithm\"}, \"x\": {\"type\": \"quantitative\", \"field\": \"N ligands explored\"}, \"y\": {\"type\": \"quantitative\", \"aggregate\": \"mean\", \"field\": \"% top-k found\", \"title\": \"% top 1,000 found\"}}}], \"height\": 300, \"width\": 150}, \"resolve\": {\"scale\": {\"x\": \"independent\"}}, \"$schema\": \"https://vega.github.io/schema/vega-lite/v4.8.1.json\", \"datasets\": {\"data-4fc051475e8a9aa69c53053336fb11c8\": [{\"Algorithm\": \"LogReg (embeddings)\", \"Training set size\": \"8,417\", \"N ligands explored\": 8417, \"% top-k found\": 0.3}, {\"Algorithm\": \"LogReg (embeddings)\", \"Training set size\": \"8,417\", \"N ligands explored\": 16834, \"% top-k found\": 36.0}, {\"Algorithm\": \"LogReg (embeddings)\", \"Training set size\": \"8,417\", \"N ligands explored\": 25251, \"% top-k found\": 76.9}, {\"Algorithm\": \"LogReg (embeddings)\", \"Training set size\": \"8,417\", \"N ligands explored\": 33668, \"% top-k found\": 86.8}, {\"Algorithm\": \"LogReg (embeddings)\", \"Training set size\": \"8,417\", \"N ligands explored\": 42085, \"% top-k found\": 89.9}, {\"Algorithm\": \"LogReg (embeddings)\", \"Training set size\": \"8,417\", \"N ligands explored\": 50502, \"% top-k found\": 92.30000000000001}, {\"Algorithm\": \"LogReg (embeddings)\", \"Training set size\": \"4,208\", \"N ligands explored\": 4208, \"% top-k found\": 0.1}, {\"Algorithm\": \"LogReg (embeddings)\", \"Training set size\": \"4,208\", \"N ligands explored\": 8416, \"% top-k found\": 23.599999999999998}, {\"Algorithm\": \"LogReg (embeddings)\", \"Training set size\": \"4,208\", \"N ligands explored\": 12624, \"% top-k found\": 57.3}, {\"Algorithm\": \"LogReg (embeddings)\", \"Training set size\": \"4,208\", \"N ligands explored\": 16832, \"% top-k found\": 72.8}, {\"Algorithm\": \"LogReg (embeddings)\", \"Training set size\": \"4,208\", \"N ligands explored\": 21040, \"% top-k found\": 81.6}, {\"Algorithm\": \"LogReg (embeddings)\", \"Training set size\": \"4,208\", \"N ligands explored\": 25248, \"% top-k found\": 86.9}, {\"Algorithm\": \"LogReg (embeddings)\", \"Training set size\": \"2,104\", \"N ligands explored\": 2104, \"% top-k found\": 0.0}, {\"Algorithm\": \"LogReg (embeddings)\", \"Training set size\": \"2,104\", \"N ligands explored\": 4208, \"% top-k found\": 22.900000000000002}, {\"Algorithm\": \"LogReg (embeddings)\", \"Training set size\": \"2,104\", \"N ligands explored\": 6312, \"% top-k found\": 43.8}, {\"Algorithm\": \"LogReg (embeddings)\", \"Training set size\": \"2,104\", \"N ligands explored\": 8416, \"% top-k found\": 60.3}, {\"Algorithm\": \"LogReg (embeddings)\", \"Training set size\": \"2,104\", \"N ligands explored\": 10520, \"% top-k found\": 71.39999999999999}, {\"Algorithm\": \"LogReg (embeddings)\", \"Training set size\": \"2,104\", \"N ligands explored\": 12624, \"% top-k found\": 76.3}, {\"Algorithm\": \"LogReg (embeddings)\", \"Training set size\": \"8,417\", \"N ligands explored\": 8417, \"% top-k found\": 0.3}, {\"Algorithm\": \"LogReg (embeddings)\", \"Training set size\": \"8,417\", \"N ligands explored\": 16834, \"% top-k found\": 40.699999999999996}, {\"Algorithm\": \"LogReg (embeddings)\", \"Training set size\": \"8,417\", \"N ligands explored\": 25251, \"% top-k found\": 77.4}, {\"Algorithm\": \"LogReg (embeddings)\", \"Training set size\": \"8,417\", \"N ligands explored\": 33668, \"% top-k found\": 88.3}, {\"Algorithm\": \"LogReg (embeddings)\", \"Training set size\": \"8,417\", \"N ligands explored\": 42085, \"% top-k found\": 91.7}, {\"Algorithm\": \"LogReg (embeddings)\", \"Training set size\": \"8,417\", \"N ligands explored\": 50502, \"% top-k found\": 93.5}, {\"Algorithm\": \"LogReg (embeddings)\", \"Training set size\": \"4,208\", \"N ligands explored\": 4208, \"% top-k found\": 0.2}, {\"Algorithm\": \"LogReg (embeddings)\", \"Training set size\": \"4,208\", \"N ligands explored\": 8416, \"% top-k found\": 28.799999999999997}, {\"Algorithm\": \"LogReg (embeddings)\", \"Training set size\": \"4,208\", \"N ligands explored\": 12624, \"% top-k found\": 49.6}, {\"Algorithm\": \"LogReg (embeddings)\", \"Training set size\": \"4,208\", \"N ligands explored\": 16832, \"% top-k found\": 69.1}, {\"Algorithm\": \"LogReg (embeddings)\", \"Training set size\": \"4,208\", \"N ligands explored\": 21040, \"% top-k found\": 81.8}, {\"Algorithm\": \"LogReg (embeddings)\", \"Training set size\": \"4,208\", \"N ligands explored\": 25248, \"% top-k found\": 86.8}, {\"Algorithm\": \"LogReg (embeddings)\", \"Training set size\": \"2,104\", \"N ligands explored\": 2104, \"% top-k found\": 0.1}, {\"Algorithm\": \"LogReg (embeddings)\", \"Training set size\": \"2,104\", \"N ligands explored\": 4208, \"% top-k found\": 16.1}, {\"Algorithm\": \"LogReg (embeddings)\", \"Training set size\": \"2,104\", \"N ligands explored\": 6312, \"% top-k found\": 32.6}, {\"Algorithm\": \"LogReg (embeddings)\", \"Training set size\": \"2,104\", \"N ligands explored\": 8416, \"% top-k found\": 52.400000000000006}, {\"Algorithm\": \"LogReg (embeddings)\", \"Training set size\": \"2,104\", \"N ligands explored\": 10520, \"% top-k found\": 65.8}, {\"Algorithm\": \"LogReg (embeddings)\", \"Training set size\": \"2,104\", \"N ligands explored\": 12624, \"% top-k found\": 73.1}, {\"Algorithm\": \"LogReg (embeddings)\", \"Training set size\": \"8,417\", \"N ligands explored\": 8417, \"% top-k found\": 0.3}, {\"Algorithm\": \"LogReg (embeddings)\", \"Training set size\": \"8,417\", \"N ligands explored\": 16834, \"% top-k found\": 40.6}, {\"Algorithm\": \"LogReg (embeddings)\", \"Training set size\": \"8,417\", \"N ligands explored\": 25251, \"% top-k found\": 77.4}, {\"Algorithm\": \"LogReg (embeddings)\", \"Training set size\": \"8,417\", \"N ligands explored\": 33668, \"% top-k found\": 88.5}, {\"Algorithm\": \"LogReg (embeddings)\", \"Training set size\": \"8,417\", \"N ligands explored\": 42085, \"% top-k found\": 91.7}, {\"Algorithm\": \"LogReg (embeddings)\", \"Training set size\": \"8,417\", \"N ligands explored\": 50502, \"% top-k found\": 94.0}, {\"Algorithm\": \"LogReg (embeddings)\", \"Training set size\": \"4,208\", \"N ligands explored\": 4208, \"% top-k found\": 0.1}, {\"Algorithm\": \"LogReg (embeddings)\", \"Training set size\": \"4,208\", \"N ligands explored\": 8416, \"% top-k found\": 26.5}, {\"Algorithm\": \"LogReg (embeddings)\", \"Training set size\": \"4,208\", \"N ligands explored\": 12624, \"% top-k found\": 51.2}, {\"Algorithm\": \"LogReg (embeddings)\", \"Training set size\": \"4,208\", \"N ligands explored\": 16832, \"% top-k found\": 71.8}, {\"Algorithm\": \"LogReg (embeddings)\", \"Training set size\": \"4,208\", \"N ligands explored\": 21040, \"% top-k found\": 81.39999999999999}, {\"Algorithm\": \"LogReg (embeddings)\", \"Training set size\": \"4,208\", \"N ligands explored\": 25248, \"% top-k found\": 87.5}, {\"Algorithm\": \"LogReg (embeddings)\", \"Training set size\": \"2,104\", \"N ligands explored\": 2104, \"% top-k found\": 0.0}, {\"Algorithm\": \"LogReg (embeddings)\", \"Training set size\": \"2,104\", \"N ligands explored\": 4208, \"% top-k found\": 24.5}, {\"Algorithm\": \"LogReg (embeddings)\", \"Training set size\": \"2,104\", \"N ligands explored\": 6312, \"% top-k found\": 44.0}, {\"Algorithm\": \"LogReg (embeddings)\", \"Training set size\": \"2,104\", \"N ligands explored\": 8416, \"% top-k found\": 59.599999999999994}, {\"Algorithm\": \"LogReg (embeddings)\", \"Training set size\": \"2,104\", \"N ligands explored\": 10520, \"% top-k found\": 69.5}, {\"Algorithm\": \"LogReg (embeddings)\", \"Training set size\": \"2,104\", \"N ligands explored\": 12624, \"% top-k found\": 74.9}, {\"Algorithm\": \"LogReg (fps)\", \"Training set size\": \"8,417\", \"N ligands explored\": 8417, \"% top-k found\": 0.3}, {\"Algorithm\": \"LogReg (fps)\", \"Training set size\": \"8,417\", \"N ligands explored\": 16834, \"% top-k found\": 26.0}, {\"Algorithm\": \"LogReg (fps)\", \"Training set size\": \"8,417\", \"N ligands explored\": 25251, \"% top-k found\": 54.2}, {\"Algorithm\": \"LogReg (fps)\", \"Training set size\": \"8,417\", \"N ligands explored\": 33668, \"% top-k found\": 75.0}, {\"Algorithm\": \"LogReg (fps)\", \"Training set size\": \"8,417\", \"N ligands explored\": 42085, \"% top-k found\": 84.2}, {\"Algorithm\": \"LogReg (fps)\", \"Training set size\": \"8,417\", \"N ligands explored\": 50502, \"% top-k found\": 89.1}, {\"Algorithm\": \"LogReg (fps)\", \"Training set size\": \"4,208\", \"N ligands explored\": 4208, \"% top-k found\": 0.3}, {\"Algorithm\": \"LogReg (fps)\", \"Training set size\": \"4,208\", \"N ligands explored\": 8416, \"% top-k found\": 10.100000000000001}, {\"Algorithm\": \"LogReg (fps)\", \"Training set size\": \"4,208\", \"N ligands explored\": 12624, \"% top-k found\": 35.4}, {\"Algorithm\": \"LogReg (fps)\", \"Training set size\": \"4,208\", \"N ligands explored\": 16832, \"% top-k found\": 54.0}, {\"Algorithm\": \"LogReg (fps)\", \"Training set size\": \"4,208\", \"N ligands explored\": 21040, \"% top-k found\": 68.10000000000001}, {\"Algorithm\": \"LogReg (fps)\", \"Training set size\": \"4,208\", \"N ligands explored\": 25248, \"% top-k found\": 75.2}, {\"Algorithm\": \"LogReg (fps)\", \"Training set size\": \"2,104\", \"N ligands explored\": 2104, \"% top-k found\": 0.0}, {\"Algorithm\": \"LogReg (fps)\", \"Training set size\": \"2,104\", \"N ligands explored\": 4208, \"% top-k found\": 4.3999999999999995}, {\"Algorithm\": \"LogReg (fps)\", \"Training set size\": \"2,104\", \"N ligands explored\": 6312, \"% top-k found\": 17.4}, {\"Algorithm\": \"LogReg (fps)\", \"Training set size\": \"2,104\", \"N ligands explored\": 8416, \"% top-k found\": 32.9}, {\"Algorithm\": \"LogReg (fps)\", \"Training set size\": \"2,104\", \"N ligands explored\": 10520, \"% top-k found\": 44.6}, {\"Algorithm\": \"LogReg (fps)\", \"Training set size\": \"2,104\", \"N ligands explored\": 12624, \"% top-k found\": 57.599999999999994}, {\"Algorithm\": \"LogReg (fps)\", \"Training set size\": \"8,417\", \"N ligands explored\": 8417, \"% top-k found\": 0.4}, {\"Algorithm\": \"LogReg (fps)\", \"Training set size\": \"8,417\", \"N ligands explored\": 16834, \"% top-k found\": 25.6}, {\"Algorithm\": \"LogReg (fps)\", \"Training set size\": \"8,417\", \"N ligands explored\": 25251, \"% top-k found\": 60.199999999999996}, {\"Algorithm\": \"LogReg (fps)\", \"Training set size\": \"8,417\", \"N ligands explored\": 33668, \"% top-k found\": 79.5}, {\"Algorithm\": \"LogReg (fps)\", \"Training set size\": \"8,417\", \"N ligands explored\": 42085, \"% top-k found\": 86.3}, {\"Algorithm\": \"LogReg (fps)\", \"Training set size\": \"8,417\", \"N ligands explored\": 50502, \"% top-k found\": 90.7}, {\"Algorithm\": \"LogReg (fps)\", \"Training set size\": \"4,208\", \"N ligands explored\": 4208, \"% top-k found\": 0.4}, {\"Algorithm\": \"LogReg (fps)\", \"Training set size\": \"4,208\", \"N ligands explored\": 8416, \"% top-k found\": 14.399999999999999}, {\"Algorithm\": \"LogReg (fps)\", \"Training set size\": \"4,208\", \"N ligands explored\": 12624, \"% top-k found\": 40.2}, {\"Algorithm\": \"LogReg (fps)\", \"Training set size\": \"4,208\", \"N ligands explored\": 16832, \"% top-k found\": 55.800000000000004}, {\"Algorithm\": \"LogReg (fps)\", \"Training set size\": \"4,208\", \"N ligands explored\": 21040, \"% top-k found\": 68.10000000000001}, {\"Algorithm\": \"LogReg (fps)\", \"Training set size\": \"4,208\", \"N ligands explored\": 25248, \"% top-k found\": 76.0}, {\"Algorithm\": \"LogReg (fps)\", \"Training set size\": \"2,104\", \"N ligands explored\": 2104, \"% top-k found\": 0.1}, {\"Algorithm\": \"LogReg (fps)\", \"Training set size\": \"2,104\", \"N ligands explored\": 4208, \"% top-k found\": 3.8}, {\"Algorithm\": \"LogReg (fps)\", \"Training set size\": \"2,104\", \"N ligands explored\": 6312, \"% top-k found\": 13.100000000000001}, {\"Algorithm\": \"LogReg (fps)\", \"Training set size\": \"2,104\", \"N ligands explored\": 8416, \"% top-k found\": 26.3}, {\"Algorithm\": \"LogReg (fps)\", \"Training set size\": \"2,104\", \"N ligands explored\": 10520, \"% top-k found\": 37.0}, {\"Algorithm\": \"LogReg (fps)\", \"Training set size\": \"2,104\", \"N ligands explored\": 12624, \"% top-k found\": 45.7}, {\"Algorithm\": \"LogReg (fps)\", \"Training set size\": \"8,417\", \"N ligands explored\": 8417, \"% top-k found\": 0.3}, {\"Algorithm\": \"LogReg (fps)\", \"Training set size\": \"8,417\", \"N ligands explored\": 16834, \"% top-k found\": 20.0}, {\"Algorithm\": \"LogReg (fps)\", \"Training set size\": \"8,417\", \"N ligands explored\": 25251, \"% top-k found\": 60.699999999999996}, {\"Algorithm\": \"LogReg (fps)\", \"Training set size\": \"8,417\", \"N ligands explored\": 33668, \"% top-k found\": 78.8}, {\"Algorithm\": \"LogReg (fps)\", \"Training set size\": \"8,417\", \"N ligands explored\": 42085, \"% top-k found\": 84.0}, {\"Algorithm\": \"LogReg (fps)\", \"Training set size\": \"8,417\", \"N ligands explored\": 50502, \"% top-k found\": 88.1}, {\"Algorithm\": \"LogReg (fps)\", \"Training set size\": \"4,208\", \"N ligands explored\": 4208, \"% top-k found\": 0.0}, {\"Algorithm\": \"LogReg (fps)\", \"Training set size\": \"4,208\", \"N ligands explored\": 8416, \"% top-k found\": 4.3}, {\"Algorithm\": \"LogReg (fps)\", \"Training set size\": \"4,208\", \"N ligands explored\": 12624, \"% top-k found\": 26.700000000000003}, {\"Algorithm\": \"LogReg (fps)\", \"Training set size\": \"4,208\", \"N ligands explored\": 16832, \"% top-k found\": 54.1}, {\"Algorithm\": \"LogReg (fps)\", \"Training set size\": \"4,208\", \"N ligands explored\": 21040, \"% top-k found\": 69.6}, {\"Algorithm\": \"LogReg (fps)\", \"Training set size\": \"4,208\", \"N ligands explored\": 25248, \"% top-k found\": 76.1}, {\"Algorithm\": \"LogReg (fps)\", \"Training set size\": \"2,104\", \"N ligands explored\": 2104, \"% top-k found\": 0.0}, {\"Algorithm\": \"LogReg (fps)\", \"Training set size\": \"2,104\", \"N ligands explored\": 4208, \"% top-k found\": 3.4000000000000004}, {\"Algorithm\": \"LogReg (fps)\", \"Training set size\": \"2,104\", \"N ligands explored\": 6312, \"% top-k found\": 15.0}, {\"Algorithm\": \"LogReg (fps)\", \"Training set size\": \"2,104\", \"N ligands explored\": 8416, \"% top-k found\": 28.000000000000004}, {\"Algorithm\": \"LogReg (fps)\", \"Training set size\": \"2,104\", \"N ligands explored\": 10520, \"% top-k found\": 39.900000000000006}, {\"Algorithm\": \"LogReg (fps)\", \"Training set size\": \"2,104\", \"N ligands explored\": 12624, \"% top-k found\": 49.3}, {\"Algorithm\": \"RF (Graff)\", \"Training set size\": \"8,417\", \"N ligands explored\": 50502, \"% top-k found\": 82.95278064146925}, {\"Algorithm\": \"RF (Graff)\", \"Training set size\": \"8,417\", \"N ligands explored\": 50502, \"% top-k found\": 84.3}, {\"Algorithm\": \"RF (Graff)\", \"Training set size\": \"8,417\", \"N ligands explored\": 50502, \"% top-k found\": 85.64721935853075}, {\"Algorithm\": \"NN (Graff)\", \"Training set size\": \"8,417\", \"N ligands explored\": 50502, \"% top-k found\": 95.57752551286084}, {\"Algorithm\": \"NN (Graff)\", \"Training set size\": \"8,417\", \"N ligands explored\": 50502, \"% top-k found\": 95.7}, {\"Algorithm\": \"NN (Graff)\", \"Training set size\": \"8,417\", \"N ligands explored\": 50502, \"% top-k found\": 95.82247448713916}, {\"Algorithm\": \"MPN (Graff)\", \"Training set size\": \"8,417\", \"N ligands explored\": 50502, \"% top-k found\": 97.23257653858252}, {\"Algorithm\": \"MPN (Graff)\", \"Training set size\": \"8,417\", \"N ligands explored\": 50502, \"% top-k found\": 97.6}, {\"Algorithm\": \"MPN (Graff)\", \"Training set size\": \"8,417\", \"N ligands explored\": 50502, \"% top-k found\": 97.96742346141747}, {\"Algorithm\": \"random\", \"Training set size\": \"8,417\", \"N ligands explored\": 50502, \"% top-k found\": 2.4775255128608413}, {\"Algorithm\": \"random\", \"Training set size\": \"8,417\", \"N ligands explored\": 50502, \"% top-k found\": 2.6}, {\"Algorithm\": \"random\", \"Training set size\": \"8,417\", \"N ligands explored\": 50502, \"% top-k found\": 2.722474487139159}, {\"Algorithm\": \"RF (Graff)\", \"Training set size\": \"4,208\", \"N ligands explored\": 25248, \"% top-k found\": 69.97298474435598}, {\"Algorithm\": \"RF (Graff)\", \"Training set size\": \"4,208\", \"N ligands explored\": 25248, \"% top-k found\": 72.3}, {\"Algorithm\": \"RF (Graff)\", \"Training set size\": \"4,208\", \"N ligands explored\": 25248, \"% top-k found\": 74.62701525564401}, {\"Algorithm\": \"NN (Graff)\", \"Training set size\": \"4,208\", \"N ligands explored\": 25248, \"% top-k found\": 87.82020410288672}, {\"Algorithm\": \"NN (Graff)\", \"Training set size\": \"4,208\", \"N ligands explored\": 25248, \"% top-k found\": 88.8}, {\"Algorithm\": \"NN (Graff)\", \"Training set size\": \"4,208\", \"N ligands explored\": 25248, \"% top-k found\": 89.77979589711327}, {\"Algorithm\": \"MPN (Graff)\", \"Training set size\": \"4,208\", \"N ligands explored\": 25248, \"% top-k found\": 92.19772961574756}, {\"Algorithm\": \"MPN (Graff)\", \"Training set size\": \"4,208\", \"N ligands explored\": 25248, \"% top-k found\": 93.3}, {\"Algorithm\": \"MPN (Graff)\", \"Training set size\": \"4,208\", \"N ligands explored\": 25248, \"% top-k found\": 94.40227038425243}, {\"Algorithm\": \"random\", \"Training set size\": \"4,208\", \"N ligands explored\": 25248, \"% top-k found\": 0.8101020514433643}, {\"Algorithm\": \"random\", \"Training set size\": \"4,208\", \"N ligands explored\": 25248, \"% top-k found\": 1.3}, {\"Algorithm\": \"random\", \"Training set size\": \"4,208\", \"N ligands explored\": 25248, \"% top-k found\": 1.7898979485566358}, {\"Algorithm\": \"RF (Graff)\", \"Training set size\": \"2,104\", \"N ligands explored\": 12624, \"% top-k found\": 49.79875013018121}, {\"Algorithm\": \"RF (Graff)\", \"Training set size\": \"2,104\", \"N ligands explored\": 12624, \"% top-k found\": 55.8}, {\"Algorithm\": \"RF (Graff)\", \"Training set size\": \"2,104\", \"N ligands explored\": 12624, \"% top-k found\": 61.80124986981879}, {\"Algorithm\": \"NN (Graff)\", \"Training set size\": \"2,104\", \"N ligands explored\": 12624, \"% top-k found\": 68.29545923149514}, {\"Algorithm\": \"NN (Graff)\", \"Training set size\": \"2,104\", \"N ligands explored\": 12624, \"% top-k found\": 70.5}, {\"Algorithm\": \"NN (Graff)\", \"Training set size\": \"2,104\", \"N ligands explored\": 12624, \"% top-k found\": 72.70454076850486}, {\"Algorithm\": \"MPN (Graff)\", \"Training set size\": \"2,104\", \"N ligands explored\": 12624, \"% top-k found\": 75.8055612829385}, {\"Algorithm\": \"MPN (Graff)\", \"Training set size\": \"2,104\", \"N ligands explored\": 12624, \"% top-k found\": 78.5}, {\"Algorithm\": \"MPN (Graff)\", \"Training set size\": \"2,104\", \"N ligands explored\": 12624, \"% top-k found\": 81.1944387170615}, {\"Algorithm\": \"random\", \"Training set size\": \"2,104\", \"N ligands explored\": 12624, \"% top-k found\": 0.3550510257216821}, {\"Algorithm\": \"random\", \"Training set size\": \"2,104\", \"N ligands explored\": 12624, \"% top-k found\": 0.6}, {\"Algorithm\": \"random\", \"Training set size\": \"2,104\", \"N ligands explored\": 12624, \"% top-k found\": 0.8449489742783178}]}}, {\"mode\": \"vega-lite\"});\n",
       "</script>"
      ],
      "text/plain": [
       "alt.FacetChart(...)"
      ]
     },
     "execution_count": 60,
     "metadata": {},
     "output_type": "execute_result"
    }
   ],
   "source": [
    "ch"
   ]
  },
  {
   "cell_type": "code",
   "execution_count": null,
   "metadata": {},
   "outputs": [],
   "source": []
  }
 ],
 "metadata": {
  "kernelspec": {
   "display_name": "dockop",
   "language": "python",
   "name": "dockop"
  },
  "language_info": {
   "codemirror_mode": {
    "name": "ipython",
    "version": 3
   },
   "file_extension": ".py",
   "mimetype": "text/x-python",
   "name": "python",
   "nbconvert_exporter": "python",
   "pygments_lexer": "ipython3",
   "version": "3.8.10"
  }
 },
 "nbformat": 4,
 "nbformat_minor": 4
}
