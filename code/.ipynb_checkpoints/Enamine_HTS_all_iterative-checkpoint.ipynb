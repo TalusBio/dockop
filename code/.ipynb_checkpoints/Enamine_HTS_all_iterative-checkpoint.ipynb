{
 "cells": [
  {
   "cell_type": "code",
   "execution_count": 1,
   "metadata": {},
   "outputs": [],
   "source": [
    "import numpy as np\n",
    "import matplotlib.pyplot as plt\n",
    "import pandas as pd\n",
    "import altair as alt\n",
    "import tqdm\n",
    "from scipy import sparse\n",
    "from sklearn.linear_model import LogisticRegression"
   ]
  },
  {
   "cell_type": "code",
   "execution_count": 2,
   "metadata": {},
   "outputs": [
    {
     "data": {
      "text/plain": [
       "RendererRegistry.enable('default')"
      ]
     },
     "execution_count": 2,
     "metadata": {},
     "output_type": "execute_result"
    }
   ],
   "source": [
    "alt.renderers.enable('default')"
   ]
  },
  {
   "cell_type": "markdown",
   "metadata": {},
   "source": [
    "# Generate some indices\n",
    "Even the sparse matrices won't fit in memory. So we will have to loop through them when making predictions or sampling random items."
   ]
  },
  {
   "cell_type": "code",
   "execution_count": 7,
   "metadata": {},
   "outputs": [],
   "source": [
    "RECEPTOR = \"EnamineHTS\"\n",
    "INPUT_DATA_DIR = \"/mnt/efs/enamine\"\n",
    "OUTPUT_DATA_DIR = \"../processed_data\"\n",
    "# OUTPUT_RESULTS_FILE = f\"{RECEPTOR}_results.csv\"\n",
    "OUTPUT_RESULTS_FILE = f\"{RECEPTOR}_embedding_results.csv\""
   ]
  },
  {
   "cell_type": "markdown",
   "metadata": {},
   "source": [
    "## Fingerprints"
   ]
  },
  {
   "cell_type": "code",
   "execution_count": 8,
   "metadata": {},
   "outputs": [],
   "source": [
    "scores = np.load(f\"{INPUT_DATA_DIR}/{RECEPTOR}_scores.npy\")\n",
    "vectors = sparse.load_npz(f\"{INPUT_DATA_DIR}/{RECEPTOR}_fingerprints.npz\")"
   ]
  },
  {
   "cell_type": "markdown",
   "metadata": {},
   "source": [
    "## Mol2Vec (pre-trained) embeddings"
   ]
  },
  {
   "cell_type": "code",
   "execution_count": 9,
   "metadata": {},
   "outputs": [],
   "source": [
    "# scores = np.load(f\"{INPUT_DATA_DIR}/{RECEPTOR}_embedding_scores.npy\")\n",
    "# vectors = np.load(f\"{INPUT_DATA_DIR}/{RECEPTOR}_embeddings.npy\")"
   ]
  },
  {
   "cell_type": "code",
   "execution_count": 10,
   "metadata": {},
   "outputs": [
    {
     "data": {
      "text/plain": [
       "((2104318,), (2104318, 8192))"
      ]
     },
     "execution_count": 10,
     "metadata": {},
     "output_type": "execute_result"
    }
   ],
   "source": [
    "scores.shape, vectors.shape"
   ]
  },
  {
   "cell_type": "markdown",
   "metadata": {},
   "source": [
    "# Train a Logistic Regression models"
   ]
  },
  {
   "cell_type": "code",
   "execution_count": 15,
   "metadata": {
    "scrolled": true
   },
   "outputs": [],
   "source": [
    "model = LogisticRegression(max_iter=10000, C=1)"
   ]
  },
  {
   "cell_type": "code",
   "execution_count": 16,
   "metadata": {},
   "outputs": [],
   "source": [
    "top_k = (scores.argsort().argsort() < 1_000)\n",
    "total = top_k.sum() "
   ]
  },
  {
   "cell_type": "code",
   "execution_count": 17,
   "metadata": {
    "scrolled": false
   },
   "outputs": [
    {
     "name": "stdout",
     "output_type": "stream",
     "text": [
      "Iteration: 1, Found 2 top k ligands\n",
      "Iteration: 2, Found 362 top k ligands\n",
      "Iteration: 3, Found 747 top k ligands\n",
      "Iteration: 4, Found 852 top k ligands\n",
      "Iteration: 5, Found 903 top k ligands\n",
      "Iteration: 6, Found 921 top k ligands\n",
      "Iteration: 7, Found 1 top k ligands\n",
      "Iteration: 8, Found 207 top k ligands\n",
      "Iteration: 9, Found 493 top k ligands\n",
      "Iteration: 10, Found 709 top k ligands\n",
      "Iteration: 11, Found 793 top k ligands\n",
      "Iteration: 12, Found 850 top k ligands\n",
      "Iteration: 13, Found 0 top k ligands\n",
      "Iteration: 14, Found 167 top k ligands\n",
      "Iteration: 15, Found 324 top k ligands\n",
      "Iteration: 16, Found 535 top k ligands\n",
      "Iteration: 17, Found 637 top k ligands\n",
      "Iteration: 18, Found 714 top k ligands\n",
      "Iteration: 19, Found 4 top k ligands\n",
      "Iteration: 20, Found 527 top k ligands\n",
      "Iteration: 21, Found 815 top k ligands\n",
      "Iteration: 22, Found 889 top k ligands\n",
      "Iteration: 23, Found 910 top k ligands\n",
      "Iteration: 24, Found 938 top k ligands\n",
      "Iteration: 25, Found 2 top k ligands\n",
      "Iteration: 26, Found 261 top k ligands\n",
      "Iteration: 27, Found 576 top k ligands\n",
      "Iteration: 28, Found 735 top k ligands\n",
      "Iteration: 29, Found 813 top k ligands\n",
      "Iteration: 30, Found 851 top k ligands\n",
      "Iteration: 31, Found 2 top k ligands\n",
      "Iteration: 32, Found 71 top k ligands\n",
      "Iteration: 33, Found 266 top k ligands\n",
      "Iteration: 34, Found 514 top k ligands\n",
      "Iteration: 35, Found 646 top k ligands\n",
      "Iteration: 36, Found 722 top k ligands\n",
      "Iteration: 37, Found 4 top k ligands\n",
      "Iteration: 38, Found 493 top k ligands\n",
      "Iteration: 39, Found 787 top k ligands\n",
      "Iteration: 40, Found 887 top k ligands\n",
      "Iteration: 41, Found 925 top k ligands\n",
      "Iteration: 42, Found 949 top k ligands\n",
      "Iteration: 43, Found 2 top k ligands\n",
      "Iteration: 44, Found 350 top k ligands\n",
      "Iteration: 45, Found 652 top k ligands\n",
      "Iteration: 46, Found 777 top k ligands\n",
      "Iteration: 47, Found 839 top k ligands\n",
      "Iteration: 48, Found 872 top k ligands\n",
      "Iteration: 49, Found 2 top k ligands\n",
      "Iteration: 50, Found 281 top k ligands\n",
      "Iteration: 51, Found 382 top k ligands\n",
      "Iteration: 52, Found 603 top k ligands\n",
      "Iteration: 53, Found 705 top k ligands\n",
      "Iteration: 54, Found 757 top k ligands\n"
     ]
    }
   ],
   "source": [
    "training_set_fractions = [0.004, 0.002, 0.001]\n",
    "\n",
    "percentile = 0.3\n",
    "\n",
    "df = pd.DataFrame(columns=['Algorithm', 'Training size', 'N ligands explored', '% top-k found'])\n",
    "count = 0\n",
    "\n",
    "for i in range(3):\n",
    "    idx = np.arange(scores.shape[0])\n",
    "    np.random.shuffle(idx)\n",
    "\n",
    "    for fraction in training_set_fractions:\n",
    "        size = int(len(scores) * fraction)\n",
    "        \n",
    "        # split indices into train and test:\n",
    "        train_indices = idx[:size].copy()\n",
    "        test_indices = idx[size:].copy()\n",
    "        train_indices.sort()\n",
    "        test_indices.sort()\n",
    "\n",
    "        # generate a 'is a training instance' mask. \n",
    "        is_train = np.zeros(scores.shape[0]).astype(bool)\n",
    "        is_train[train_indices] = True\n",
    "\n",
    "        # top_k molecules already found in the training set:\n",
    "        num_found = top_k[train_indices].sum()\n",
    "\n",
    "        df.loc[count] = [\"morgan_feat\", size, train_indices.shape[0], num_found/total]\n",
    "        count += 1\n",
    "        print(f\"Iteration: {count}, Found {num_found} top k ligands\")\n",
    "\n",
    "        # estimate the cutoff once, from the initial random sample:\n",
    "        cutoff = np.percentile(scores[train_indices], percentile)\n",
    "\n",
    "        for i in range(5):\n",
    "            # fit logreg model:\n",
    "            x_train = vectors[is_train]\n",
    "            y_train = scores[is_train] < cutoff\n",
    "            x_test = vectors[~is_train]\n",
    "            # y_val = scores[~is_train]\n",
    "            \n",
    "            model.fit(x_train, y_train)\n",
    "\n",
    "            # predict (slowest step) for logreg:\n",
    "            proba = model.predict_proba(x_test)[:, 1]\n",
    "\n",
    "            # rank the probabilities\n",
    "            proba_sorted = (-proba).argsort()\n",
    "\n",
    "            # rank the unseen instances:\n",
    "            test_indices = test_indices[proba_sorted]\n",
    "\n",
    "            # now append the next N instances from the rank ordered unseen instances onto the training set:\n",
    "            train_indices = np.concatenate([train_indices, test_indices[:size]])\n",
    "\n",
    "            # update the isTrain mask and remove those training instances from the test set\n",
    "            is_train[train_indices] = True\n",
    "            test_indices = test_indices[size:]\n",
    "\n",
    "            # keep the train and test idx arrays sorted so they agree with the chunked* methods:\n",
    "            test_indices.sort()\n",
    "            train_indices.sort()\n",
    "\n",
    "            # topK molecules already found in the training set:\n",
    "            num_found = top_k[train_indices].sum()\n",
    "\n",
    "            df.loc[count] = ['morgan_feat', size, train_indices.shape[0], num_found/total]\n",
    "            count += 1\n",
    "            \n",
    "            print(f\"Iteration: {count}, Found {num_found} top k ligands\")\n",
    "            \n",
    "            df.to_csv(f\"{OUTPUT_DATA_DIR}/{OUTPUT_RESULTS_FILE}\")\n",
    "\n",
    "df.to_csv(f\"{OUTPUT_DATA_DIR}/{OUTPUT_RESULTS_FILE}\")"
   ]
  },
  {
   "cell_type": "markdown",
   "metadata": {},
   "source": [
    "# Results look like this:\n",
    "And they can be plotted using `./plot_scripts/plot_wholedataset.py`"
   ]
  },
  {
   "cell_type": "code",
   "execution_count": 18,
   "metadata": {},
   "outputs": [],
   "source": [
    "df1 = pd.read_csv(f\"{OUTPUT_DATA_DIR}/{RECEPTOR}_embedding_results.csv\", index_col=0)\n",
    "df1['Algorithm'] = 'LogReg (embeddings)'"
   ]
  },
  {
   "cell_type": "code",
   "execution_count": 19,
   "metadata": {},
   "outputs": [],
   "source": [
    "df2 = pd.read_csv(f\"{OUTPUT_DATA_DIR}/{RECEPTOR}_results.csv\", index_col=0)\n",
    "df2['Algorithm'] = 'LogReg (fps)'"
   ]
  },
  {
   "cell_type": "code",
   "execution_count": 20,
   "metadata": {},
   "outputs": [],
   "source": [
    "df = pd.concat([df1, df2])"
   ]
  },
  {
   "cell_type": "code",
   "execution_count": 21,
   "metadata": {},
   "outputs": [],
   "source": [
    "prev_results = [['RF (Graff)', 8_417, 84.3, 1.1], \n",
    "                ['NN (Graff)', 8_417, 95.7, 0.1],\n",
    "                ['MPN (Graff)',8_417, 97.6, 0.3],\n",
    "                ['random',8_417, 2.6, 0.1],\n",
    "                ['RF (Graff)', 4_208, 72.3, 1.9],\n",
    "                ['NN (Graff)', 4_208, 88.8, 0.8],\n",
    "                ['MPN (Graff)', 4_208, 93.3, 0.9],\n",
    "                ['random', 4_208, 1.3, 0.4],\n",
    "                ['RF (Graff)', 2_104, 55.8, 4.9],\n",
    "                ['NN (Graff)', 2_104 , 70.5, 1.8],\n",
    "                ['MPN (Graff)', 2_104, 78.5, 2.2],\n",
    "                ['random', 2_104, 0.6, 0.2]]\n",
    "\n",
    "coley = pd.DataFrame(columns=['Algorithm', 'Training size', 'N ligands explored', '% top-k found'])\n",
    "count = 0 \n",
    "for res in prev_results:\n",
    "    desired_std_dev = res[3]\n",
    "    samples = np.array([-1,0,1]).astype(float)\n",
    "    samples *= (desired_std_dev/np.std(samples))\n",
    "    for s in samples:\n",
    "        coley.loc[count]= [res[0], res[1], res[1]*6, (s+res[2])/100]\n",
    "        count += 1"
   ]
  },
  {
   "cell_type": "code",
   "execution_count": 22,
   "metadata": {},
   "outputs": [],
   "source": [
    "concat = pd.concat([df, coley])\n",
    "concat['% top-k found'] *= 100\n",
    "concat.columns = ['Algorithm', 'Training set size', 'N ligands explored', '% top-k found']\n",
    "concat['Training set size'] = concat['Training set size'].apply(lambda num: f\"{num:,d}\",)"
   ]
  },
  {
   "cell_type": "code",
   "execution_count": 23,
   "metadata": {},
   "outputs": [],
   "source": [
    "error_bars = alt.Chart(concat).mark_errorbar(extent='ci').encode(\n",
    "  x=alt.X('N ligands explored:Q',title='Number of ligands sampled'),\n",
    "  y=alt.Y('% top-k found:Q', title='% top 1,000 found'),\n",
    "    color=alt.Color('Algorithm')\n",
    ")\n",
    "\n",
    "points = alt.Chart(concat).mark_point(filled=False, size=40, color='black').encode(\n",
    "  x=alt.X('N ligands explored:Q'),\n",
    "  y=alt.Y('% top-k found:Q',aggregate='mean',title='% top 1,000 found'),\n",
    "    color=alt.Color('Algorithm'),\n",
    "    tooltip=alt.Tooltip('% top-k found:Q',aggregate='mean',title='% top 1,000 found')\n",
    ")\n",
    "\n",
    "line = alt.Chart(concat).mark_line(color='black',size=2,opacity=0.5).encode(\n",
    "  x=alt.X('N ligands explored:Q'),\n",
    "  y=alt.Y('% top-k found:Q',aggregate='mean',title='% top 1,000 found'),\n",
    "    color=alt.Color('Algorithm')\n",
    ")\n",
    "\n",
    "ch = (error_bars+points+line).properties(height=300,width=150).facet(\n",
    "    column=alt.Column('Training set size:N',sort=alt.Sort([0.004, 0.002, 0.001])),\n",
    ").resolve_scale(x='independent')\n",
    "# ch.save('../../figures/active_learning_percentage.html')"
   ]
  },
  {
   "cell_type": "code",
   "execution_count": 24,
   "metadata": {},
   "outputs": [
    {
     "data": {
      "text/html": [
       "\n",
       "<div id=\"altair-viz-4db9ff41ab754638a3c78bd5b553ee45\"></div>\n",
       "<script type=\"text/javascript\">\n",
       "  (function(spec, embedOpt){\n",
       "    let outputDiv = document.currentScript.previousElementSibling;\n",
       "    if (outputDiv.id !== \"altair-viz-4db9ff41ab754638a3c78bd5b553ee45\") {\n",
       "      outputDiv = document.getElementById(\"altair-viz-4db9ff41ab754638a3c78bd5b553ee45\");\n",
       "    }\n",
       "    const paths = {\n",
       "      \"vega\": \"https://cdn.jsdelivr.net/npm//vega@5?noext\",\n",
       "      \"vega-lib\": \"https://cdn.jsdelivr.net/npm//vega-lib?noext\",\n",
       "      \"vega-lite\": \"https://cdn.jsdelivr.net/npm//vega-lite@4.8.1?noext\",\n",
       "      \"vega-embed\": \"https://cdn.jsdelivr.net/npm//vega-embed@6?noext\",\n",
       "    };\n",
       "\n",
       "    function loadScript(lib) {\n",
       "      return new Promise(function(resolve, reject) {\n",
       "        var s = document.createElement('script');\n",
       "        s.src = paths[lib];\n",
       "        s.async = true;\n",
       "        s.onload = () => resolve(paths[lib]);\n",
       "        s.onerror = () => reject(`Error loading script: ${paths[lib]}`);\n",
       "        document.getElementsByTagName(\"head\")[0].appendChild(s);\n",
       "      });\n",
       "    }\n",
       "\n",
       "    function showError(err) {\n",
       "      outputDiv.innerHTML = `<div class=\"error\" style=\"color:red;\">${err}</div>`;\n",
       "      throw err;\n",
       "    }\n",
       "\n",
       "    function displayChart(vegaEmbed) {\n",
       "      vegaEmbed(outputDiv, spec, embedOpt)\n",
       "        .catch(err => showError(`Javascript Error: ${err.message}<br>This usually means there's a typo in your chart specification. See the javascript console for the full traceback.`));\n",
       "    }\n",
       "\n",
       "    if(typeof define === \"function\" && define.amd) {\n",
       "      requirejs.config({paths});\n",
       "      require([\"vega-embed\"], displayChart, err => showError(`Error loading script: ${err.message}`));\n",
       "    } else if (typeof vegaEmbed === \"function\") {\n",
       "      displayChart(vegaEmbed);\n",
       "    } else {\n",
       "      loadScript(\"vega\")\n",
       "        .then(() => loadScript(\"vega-lite\"))\n",
       "        .then(() => loadScript(\"vega-embed\"))\n",
       "        .catch(showError)\n",
       "        .then(() => displayChart(vegaEmbed));\n",
       "    }\n",
       "  })({\"config\": {\"view\": {\"continuousWidth\": 400, \"continuousHeight\": 300}}, \"data\": {\"name\": \"data-0263303302b787fe1395bc22d62cb8b4\"}, \"facet\": {\"column\": {\"type\": \"nominal\", \"field\": \"Training set size\", \"sort\": [0.004, 0.002, 0.001]}}, \"spec\": {\"layer\": [{\"mark\": {\"type\": \"errorbar\", \"extent\": \"ci\"}, \"encoding\": {\"color\": {\"type\": \"nominal\", \"field\": \"Algorithm\"}, \"x\": {\"type\": \"quantitative\", \"field\": \"N ligands explored\", \"title\": \"Number of ligands sampled\"}, \"y\": {\"type\": \"quantitative\", \"field\": \"% top-k found\", \"title\": \"% top 1,000 found\"}}}, {\"mark\": {\"type\": \"point\", \"color\": \"black\", \"filled\": false, \"size\": 40}, \"encoding\": {\"color\": {\"type\": \"nominal\", \"field\": \"Algorithm\"}, \"tooltip\": {\"type\": \"quantitative\", \"aggregate\": \"mean\", \"field\": \"% top-k found\", \"title\": \"% top 1,000 found\"}, \"x\": {\"type\": \"quantitative\", \"field\": \"N ligands explored\"}, \"y\": {\"type\": \"quantitative\", \"aggregate\": \"mean\", \"field\": \"% top-k found\", \"title\": \"% top 1,000 found\"}}}, {\"mark\": {\"type\": \"line\", \"color\": \"black\", \"opacity\": 0.5, \"size\": 2}, \"encoding\": {\"color\": {\"type\": \"nominal\", \"field\": \"Algorithm\"}, \"x\": {\"type\": \"quantitative\", \"field\": \"N ligands explored\"}, \"y\": {\"type\": \"quantitative\", \"aggregate\": \"mean\", \"field\": \"% top-k found\", \"title\": \"% top 1,000 found\"}}}], \"height\": 300, \"width\": 150}, \"resolve\": {\"scale\": {\"x\": \"independent\"}}, \"$schema\": \"https://vega.github.io/schema/vega-lite/v4.8.1.json\", \"datasets\": {\"data-0263303302b787fe1395bc22d62cb8b4\": [{\"Algorithm\": \"LogReg (embeddings)\", \"Training set size\": \"8,417\", \"N ligands explored\": 8417, \"% top-k found\": 0.2}, {\"Algorithm\": \"LogReg (embeddings)\", \"Training set size\": \"8,417\", \"N ligands explored\": 16834, \"% top-k found\": 36.199999999999996}, {\"Algorithm\": \"LogReg (embeddings)\", \"Training set size\": \"8,417\", \"N ligands explored\": 25251, \"% top-k found\": 74.7}, {\"Algorithm\": \"LogReg (embeddings)\", \"Training set size\": \"8,417\", \"N ligands explored\": 33668, \"% top-k found\": 85.2}, {\"Algorithm\": \"LogReg (embeddings)\", \"Training set size\": \"8,417\", \"N ligands explored\": 42085, \"% top-k found\": 90.3}, {\"Algorithm\": \"LogReg (embeddings)\", \"Training set size\": \"8,417\", \"N ligands explored\": 50502, \"% top-k found\": 92.10000000000001}, {\"Algorithm\": \"LogReg (embeddings)\", \"Training set size\": \"4,208\", \"N ligands explored\": 4208, \"% top-k found\": 0.1}, {\"Algorithm\": \"LogReg (embeddings)\", \"Training set size\": \"4,208\", \"N ligands explored\": 8416, \"% top-k found\": 20.7}, {\"Algorithm\": \"LogReg (embeddings)\", \"Training set size\": \"4,208\", \"N ligands explored\": 12624, \"% top-k found\": 49.3}, {\"Algorithm\": \"LogReg (embeddings)\", \"Training set size\": \"4,208\", \"N ligands explored\": 16832, \"% top-k found\": 70.89999999999999}, {\"Algorithm\": \"LogReg (embeddings)\", \"Training set size\": \"4,208\", \"N ligands explored\": 21040, \"% top-k found\": 79.3}, {\"Algorithm\": \"LogReg (embeddings)\", \"Training set size\": \"4,208\", \"N ligands explored\": 25248, \"% top-k found\": 85.0}, {\"Algorithm\": \"LogReg (embeddings)\", \"Training set size\": \"2,104\", \"N ligands explored\": 2104, \"% top-k found\": 0.0}, {\"Algorithm\": \"LogReg (embeddings)\", \"Training set size\": \"2,104\", \"N ligands explored\": 4208, \"% top-k found\": 16.7}, {\"Algorithm\": \"LogReg (embeddings)\", \"Training set size\": \"2,104\", \"N ligands explored\": 6312, \"% top-k found\": 32.4}, {\"Algorithm\": \"LogReg (embeddings)\", \"Training set size\": \"2,104\", \"N ligands explored\": 8416, \"% top-k found\": 53.5}, {\"Algorithm\": \"LogReg (embeddings)\", \"Training set size\": \"2,104\", \"N ligands explored\": 10520, \"% top-k found\": 63.7}, {\"Algorithm\": \"LogReg (embeddings)\", \"Training set size\": \"2,104\", \"N ligands explored\": 12624, \"% top-k found\": 71.39999999999999}, {\"Algorithm\": \"LogReg (embeddings)\", \"Training set size\": \"8,417\", \"N ligands explored\": 8417, \"% top-k found\": 0.4}, {\"Algorithm\": \"LogReg (embeddings)\", \"Training set size\": \"8,417\", \"N ligands explored\": 16834, \"% top-k found\": 52.7}, {\"Algorithm\": \"LogReg (embeddings)\", \"Training set size\": \"8,417\", \"N ligands explored\": 25251, \"% top-k found\": 81.5}, {\"Algorithm\": \"LogReg (embeddings)\", \"Training set size\": \"8,417\", \"N ligands explored\": 33668, \"% top-k found\": 88.9}, {\"Algorithm\": \"LogReg (embeddings)\", \"Training set size\": \"8,417\", \"N ligands explored\": 42085, \"% top-k found\": 91.0}, {\"Algorithm\": \"LogReg (embeddings)\", \"Training set size\": \"8,417\", \"N ligands explored\": 50502, \"% top-k found\": 93.8}, {\"Algorithm\": \"LogReg (embeddings)\", \"Training set size\": \"4,208\", \"N ligands explored\": 4208, \"% top-k found\": 0.2}, {\"Algorithm\": \"LogReg (embeddings)\", \"Training set size\": \"4,208\", \"N ligands explored\": 8416, \"% top-k found\": 26.1}, {\"Algorithm\": \"LogReg (embeddings)\", \"Training set size\": \"4,208\", \"N ligands explored\": 12624, \"% top-k found\": 57.599999999999994}, {\"Algorithm\": \"LogReg (embeddings)\", \"Training set size\": \"4,208\", \"N ligands explored\": 16832, \"% top-k found\": 73.5}, {\"Algorithm\": \"LogReg (embeddings)\", \"Training set size\": \"4,208\", \"N ligands explored\": 21040, \"% top-k found\": 81.3}, {\"Algorithm\": \"LogReg (embeddings)\", \"Training set size\": \"4,208\", \"N ligands explored\": 25248, \"% top-k found\": 85.1}, {\"Algorithm\": \"LogReg (embeddings)\", \"Training set size\": \"2,104\", \"N ligands explored\": 2104, \"% top-k found\": 0.2}, {\"Algorithm\": \"LogReg (embeddings)\", \"Training set size\": \"2,104\", \"N ligands explored\": 4208, \"% top-k found\": 7.1}, {\"Algorithm\": \"LogReg (embeddings)\", \"Training set size\": \"2,104\", \"N ligands explored\": 6312, \"% top-k found\": 26.6}, {\"Algorithm\": \"LogReg (embeddings)\", \"Training set size\": \"2,104\", \"N ligands explored\": 8416, \"% top-k found\": 51.4}, {\"Algorithm\": \"LogReg (embeddings)\", \"Training set size\": \"2,104\", \"N ligands explored\": 10520, \"% top-k found\": 64.60000000000001}, {\"Algorithm\": \"LogReg (embeddings)\", \"Training set size\": \"2,104\", \"N ligands explored\": 12624, \"% top-k found\": 72.2}, {\"Algorithm\": \"LogReg (embeddings)\", \"Training set size\": \"8,417\", \"N ligands explored\": 8417, \"% top-k found\": 0.4}, {\"Algorithm\": \"LogReg (embeddings)\", \"Training set size\": \"8,417\", \"N ligands explored\": 16834, \"% top-k found\": 49.3}, {\"Algorithm\": \"LogReg (embeddings)\", \"Training set size\": \"8,417\", \"N ligands explored\": 25251, \"% top-k found\": 78.7}, {\"Algorithm\": \"LogReg (embeddings)\", \"Training set size\": \"8,417\", \"N ligands explored\": 33668, \"% top-k found\": 88.7}, {\"Algorithm\": \"LogReg (embeddings)\", \"Training set size\": \"8,417\", \"N ligands explored\": 42085, \"% top-k found\": 92.5}, {\"Algorithm\": \"LogReg (embeddings)\", \"Training set size\": \"8,417\", \"N ligands explored\": 50502, \"% top-k found\": 94.89999999999999}, {\"Algorithm\": \"LogReg (embeddings)\", \"Training set size\": \"4,208\", \"N ligands explored\": 4208, \"% top-k found\": 0.2}, {\"Algorithm\": \"LogReg (embeddings)\", \"Training set size\": \"4,208\", \"N ligands explored\": 8416, \"% top-k found\": 35.0}, {\"Algorithm\": \"LogReg (embeddings)\", \"Training set size\": \"4,208\", \"N ligands explored\": 12624, \"% top-k found\": 65.2}, {\"Algorithm\": \"LogReg (embeddings)\", \"Training set size\": \"4,208\", \"N ligands explored\": 16832, \"% top-k found\": 77.7}, {\"Algorithm\": \"LogReg (embeddings)\", \"Training set size\": \"4,208\", \"N ligands explored\": 21040, \"% top-k found\": 83.89999999999999}, {\"Algorithm\": \"LogReg (embeddings)\", \"Training set size\": \"4,208\", \"N ligands explored\": 25248, \"% top-k found\": 87.2}, {\"Algorithm\": \"LogReg (embeddings)\", \"Training set size\": \"2,104\", \"N ligands explored\": 2104, \"% top-k found\": 0.2}, {\"Algorithm\": \"LogReg (embeddings)\", \"Training set size\": \"2,104\", \"N ligands explored\": 4208, \"% top-k found\": 28.1}, {\"Algorithm\": \"LogReg (embeddings)\", \"Training set size\": \"2,104\", \"N ligands explored\": 6312, \"% top-k found\": 38.2}, {\"Algorithm\": \"LogReg (embeddings)\", \"Training set size\": \"2,104\", \"N ligands explored\": 8416, \"% top-k found\": 60.3}, {\"Algorithm\": \"LogReg (embeddings)\", \"Training set size\": \"2,104\", \"N ligands explored\": 10520, \"% top-k found\": 70.5}, {\"Algorithm\": \"LogReg (embeddings)\", \"Training set size\": \"2,104\", \"N ligands explored\": 12624, \"% top-k found\": 75.7}, {\"Algorithm\": \"LogReg (fps)\", \"Training set size\": \"8,417\", \"N ligands explored\": 8417, \"% top-k found\": 0.5}, {\"Algorithm\": \"LogReg (fps)\", \"Training set size\": \"8,417\", \"N ligands explored\": 16834, \"% top-k found\": 29.9}, {\"Algorithm\": \"LogReg (fps)\", \"Training set size\": \"8,417\", \"N ligands explored\": 25251, \"% top-k found\": 61.1}, {\"Algorithm\": \"LogReg (fps)\", \"Training set size\": \"8,417\", \"N ligands explored\": 33668, \"% top-k found\": 78.4}, {\"Algorithm\": \"LogReg (fps)\", \"Training set size\": \"8,417\", \"N ligands explored\": 42085, \"% top-k found\": 85.39999999999999}, {\"Algorithm\": \"LogReg (fps)\", \"Training set size\": \"8,417\", \"N ligands explored\": 50502, \"% top-k found\": 89.8}, {\"Algorithm\": \"LogReg (fps)\", \"Training set size\": \"4,208\", \"N ligands explored\": 4208, \"% top-k found\": 0.4}, {\"Algorithm\": \"LogReg (fps)\", \"Training set size\": \"4,208\", \"N ligands explored\": 8416, \"% top-k found\": 19.6}, {\"Algorithm\": \"LogReg (fps)\", \"Training set size\": \"4,208\", \"N ligands explored\": 12624, \"% top-k found\": 42.699999999999996}, {\"Algorithm\": \"LogReg (fps)\", \"Training set size\": \"4,208\", \"N ligands explored\": 16832, \"% top-k found\": 59.099999999999994}, {\"Algorithm\": \"LogReg (fps)\", \"Training set size\": \"4,208\", \"N ligands explored\": 21040, \"% top-k found\": 71.0}, {\"Algorithm\": \"LogReg (fps)\", \"Training set size\": \"4,208\", \"N ligands explored\": 25248, \"% top-k found\": 77.9}, {\"Algorithm\": \"LogReg (fps)\", \"Training set size\": \"2,104\", \"N ligands explored\": 2104, \"% top-k found\": 0.0}, {\"Algorithm\": \"LogReg (fps)\", \"Training set size\": \"2,104\", \"N ligands explored\": 4208, \"% top-k found\": 4.9}, {\"Algorithm\": \"LogReg (fps)\", \"Training set size\": \"2,104\", \"N ligands explored\": 6312, \"% top-k found\": 18.2}, {\"Algorithm\": \"LogReg (fps)\", \"Training set size\": \"2,104\", \"N ligands explored\": 8416, \"% top-k found\": 32.2}, {\"Algorithm\": \"LogReg (fps)\", \"Training set size\": \"2,104\", \"N ligands explored\": 10520, \"% top-k found\": 43.4}, {\"Algorithm\": \"LogReg (fps)\", \"Training set size\": \"2,104\", \"N ligands explored\": 12624, \"% top-k found\": 50.5}, {\"Algorithm\": \"LogReg (fps)\", \"Training set size\": \"8,417\", \"N ligands explored\": 8417, \"% top-k found\": 0.0}, {\"Algorithm\": \"LogReg (fps)\", \"Training set size\": \"8,417\", \"N ligands explored\": 16834, \"% top-k found\": 17.9}, {\"Algorithm\": \"LogReg (fps)\", \"Training set size\": \"8,417\", \"N ligands explored\": 25251, \"% top-k found\": 59.099999999999994}, {\"Algorithm\": \"LogReg (fps)\", \"Training set size\": \"8,417\", \"N ligands explored\": 33668, \"% top-k found\": 78.4}, {\"Algorithm\": \"LogReg (fps)\", \"Training set size\": \"8,417\", \"N ligands explored\": 42085, \"% top-k found\": 85.0}, {\"Algorithm\": \"LogReg (fps)\", \"Training set size\": \"8,417\", \"N ligands explored\": 50502, \"% top-k found\": 89.0}, {\"Algorithm\": \"LogReg (fps)\", \"Training set size\": \"4,208\", \"N ligands explored\": 4208, \"% top-k found\": 0.0}, {\"Algorithm\": \"LogReg (fps)\", \"Training set size\": \"4,208\", \"N ligands explored\": 8416, \"% top-k found\": 8.0}, {\"Algorithm\": \"LogReg (fps)\", \"Training set size\": \"4,208\", \"N ligands explored\": 12624, \"% top-k found\": 24.5}, {\"Algorithm\": \"LogReg (fps)\", \"Training set size\": \"4,208\", \"N ligands explored\": 16832, \"% top-k found\": 43.5}, {\"Algorithm\": \"LogReg (fps)\", \"Training set size\": \"4,208\", \"N ligands explored\": 21040, \"% top-k found\": 59.0}, {\"Algorithm\": \"LogReg (fps)\", \"Training set size\": \"4,208\", \"N ligands explored\": 25248, \"% top-k found\": 64.7}, {\"Algorithm\": \"LogReg (fps)\", \"Training set size\": \"2,104\", \"N ligands explored\": 2104, \"% top-k found\": 0.0}, {\"Algorithm\": \"LogReg (fps)\", \"Training set size\": \"2,104\", \"N ligands explored\": 4208, \"% top-k found\": 1.0}, {\"Algorithm\": \"LogReg (fps)\", \"Training set size\": \"2,104\", \"N ligands explored\": 6312, \"% top-k found\": 8.4}, {\"Algorithm\": \"LogReg (fps)\", \"Training set size\": \"2,104\", \"N ligands explored\": 8416, \"% top-k found\": 22.7}, {\"Algorithm\": \"LogReg (fps)\", \"Training set size\": \"2,104\", \"N ligands explored\": 10520, \"% top-k found\": 33.900000000000006}, {\"Algorithm\": \"LogReg (fps)\", \"Training set size\": \"2,104\", \"N ligands explored\": 12624, \"% top-k found\": 42.3}, {\"Algorithm\": \"LogReg (fps)\", \"Training set size\": \"8,417\", \"N ligands explored\": 8417, \"% top-k found\": 0.6}, {\"Algorithm\": \"LogReg (fps)\", \"Training set size\": \"8,417\", \"N ligands explored\": 16834, \"% top-k found\": 25.900000000000002}, {\"Algorithm\": \"LogReg (fps)\", \"Training set size\": \"8,417\", \"N ligands explored\": 25251, \"% top-k found\": 55.300000000000004}, {\"Algorithm\": \"LogReg (fps)\", \"Training set size\": \"8,417\", \"N ligands explored\": 33668, \"% top-k found\": 67.4}, {\"Algorithm\": \"LogReg (fps)\", \"Training set size\": \"8,417\", \"N ligands explored\": 42085, \"% top-k found\": 74.0}, {\"Algorithm\": \"LogReg (fps)\", \"Training set size\": \"8,417\", \"N ligands explored\": 50502, \"% top-k found\": 78.4}, {\"Algorithm\": \"LogReg (fps)\", \"Training set size\": \"4,208\", \"N ligands explored\": 4208, \"% top-k found\": 0.2}, {\"Algorithm\": \"LogReg (fps)\", \"Training set size\": \"4,208\", \"N ligands explored\": 8416, \"% top-k found\": 14.099999999999998}, {\"Algorithm\": \"LogReg (fps)\", \"Training set size\": \"4,208\", \"N ligands explored\": 12624, \"% top-k found\": 35.699999999999996}, {\"Algorithm\": \"LogReg (fps)\", \"Training set size\": \"4,208\", \"N ligands explored\": 16832, \"% top-k found\": 52.2}, {\"Algorithm\": \"LogReg (fps)\", \"Training set size\": \"4,208\", \"N ligands explored\": 21040, \"% top-k found\": 60.0}, {\"Algorithm\": \"LogReg (fps)\", \"Training set size\": \"4,208\", \"N ligands explored\": 25248, \"% top-k found\": 67.10000000000001}, {\"Algorithm\": \"LogReg (fps)\", \"Training set size\": \"2,104\", \"N ligands explored\": 2104, \"% top-k found\": 0.0}, {\"Algorithm\": \"LogReg (fps)\", \"Training set size\": \"2,104\", \"N ligands explored\": 4208, \"% top-k found\": 4.5}, {\"Algorithm\": \"LogReg (fps)\", \"Training set size\": \"2,104\", \"N ligands explored\": 6312, \"% top-k found\": 19.400000000000002}, {\"Algorithm\": \"LogReg (fps)\", \"Training set size\": \"2,104\", \"N ligands explored\": 8416, \"% top-k found\": 32.800000000000004}, {\"Algorithm\": \"LogReg (fps)\", \"Training set size\": \"2,104\", \"N ligands explored\": 10520, \"% top-k found\": 43.0}, {\"Algorithm\": \"LogReg (fps)\", \"Training set size\": \"2,104\", \"N ligands explored\": 12624, \"% top-k found\": 50.4}, {\"Algorithm\": \"RF (Graff)\", \"Training set size\": \"8,417\", \"N ligands explored\": 50502, \"% top-k found\": 82.95278064146925}, {\"Algorithm\": \"RF (Graff)\", \"Training set size\": \"8,417\", \"N ligands explored\": 50502, \"% top-k found\": 84.3}, {\"Algorithm\": \"RF (Graff)\", \"Training set size\": \"8,417\", \"N ligands explored\": 50502, \"% top-k found\": 85.64721935853075}, {\"Algorithm\": \"NN (Graff)\", \"Training set size\": \"8,417\", \"N ligands explored\": 50502, \"% top-k found\": 95.57752551286084}, {\"Algorithm\": \"NN (Graff)\", \"Training set size\": \"8,417\", \"N ligands explored\": 50502, \"% top-k found\": 95.7}, {\"Algorithm\": \"NN (Graff)\", \"Training set size\": \"8,417\", \"N ligands explored\": 50502, \"% top-k found\": 95.82247448713916}, {\"Algorithm\": \"MPN (Graff)\", \"Training set size\": \"8,417\", \"N ligands explored\": 50502, \"% top-k found\": 97.23257653858252}, {\"Algorithm\": \"MPN (Graff)\", \"Training set size\": \"8,417\", \"N ligands explored\": 50502, \"% top-k found\": 97.6}, {\"Algorithm\": \"MPN (Graff)\", \"Training set size\": \"8,417\", \"N ligands explored\": 50502, \"% top-k found\": 97.96742346141747}, {\"Algorithm\": \"random\", \"Training set size\": \"8,417\", \"N ligands explored\": 50502, \"% top-k found\": 2.4775255128608413}, {\"Algorithm\": \"random\", \"Training set size\": \"8,417\", \"N ligands explored\": 50502, \"% top-k found\": 2.6}, {\"Algorithm\": \"random\", \"Training set size\": \"8,417\", \"N ligands explored\": 50502, \"% top-k found\": 2.722474487139159}, {\"Algorithm\": \"RF (Graff)\", \"Training set size\": \"4,208\", \"N ligands explored\": 25248, \"% top-k found\": 69.97298474435598}, {\"Algorithm\": \"RF (Graff)\", \"Training set size\": \"4,208\", \"N ligands explored\": 25248, \"% top-k found\": 72.3}, {\"Algorithm\": \"RF (Graff)\", \"Training set size\": \"4,208\", \"N ligands explored\": 25248, \"% top-k found\": 74.62701525564401}, {\"Algorithm\": \"NN (Graff)\", \"Training set size\": \"4,208\", \"N ligands explored\": 25248, \"% top-k found\": 87.82020410288672}, {\"Algorithm\": \"NN (Graff)\", \"Training set size\": \"4,208\", \"N ligands explored\": 25248, \"% top-k found\": 88.8}, {\"Algorithm\": \"NN (Graff)\", \"Training set size\": \"4,208\", \"N ligands explored\": 25248, \"% top-k found\": 89.77979589711327}, {\"Algorithm\": \"MPN (Graff)\", \"Training set size\": \"4,208\", \"N ligands explored\": 25248, \"% top-k found\": 92.19772961574756}, {\"Algorithm\": \"MPN (Graff)\", \"Training set size\": \"4,208\", \"N ligands explored\": 25248, \"% top-k found\": 93.3}, {\"Algorithm\": \"MPN (Graff)\", \"Training set size\": \"4,208\", \"N ligands explored\": 25248, \"% top-k found\": 94.40227038425243}, {\"Algorithm\": \"random\", \"Training set size\": \"4,208\", \"N ligands explored\": 25248, \"% top-k found\": 0.8101020514433643}, {\"Algorithm\": \"random\", \"Training set size\": \"4,208\", \"N ligands explored\": 25248, \"% top-k found\": 1.3}, {\"Algorithm\": \"random\", \"Training set size\": \"4,208\", \"N ligands explored\": 25248, \"% top-k found\": 1.7898979485566358}, {\"Algorithm\": \"RF (Graff)\", \"Training set size\": \"2,104\", \"N ligands explored\": 12624, \"% top-k found\": 49.79875013018121}, {\"Algorithm\": \"RF (Graff)\", \"Training set size\": \"2,104\", \"N ligands explored\": 12624, \"% top-k found\": 55.8}, {\"Algorithm\": \"RF (Graff)\", \"Training set size\": \"2,104\", \"N ligands explored\": 12624, \"% top-k found\": 61.80124986981879}, {\"Algorithm\": \"NN (Graff)\", \"Training set size\": \"2,104\", \"N ligands explored\": 12624, \"% top-k found\": 68.29545923149514}, {\"Algorithm\": \"NN (Graff)\", \"Training set size\": \"2,104\", \"N ligands explored\": 12624, \"% top-k found\": 70.5}, {\"Algorithm\": \"NN (Graff)\", \"Training set size\": \"2,104\", \"N ligands explored\": 12624, \"% top-k found\": 72.70454076850486}, {\"Algorithm\": \"MPN (Graff)\", \"Training set size\": \"2,104\", \"N ligands explored\": 12624, \"% top-k found\": 75.8055612829385}, {\"Algorithm\": \"MPN (Graff)\", \"Training set size\": \"2,104\", \"N ligands explored\": 12624, \"% top-k found\": 78.5}, {\"Algorithm\": \"MPN (Graff)\", \"Training set size\": \"2,104\", \"N ligands explored\": 12624, \"% top-k found\": 81.1944387170615}, {\"Algorithm\": \"random\", \"Training set size\": \"2,104\", \"N ligands explored\": 12624, \"% top-k found\": 0.3550510257216821}, {\"Algorithm\": \"random\", \"Training set size\": \"2,104\", \"N ligands explored\": 12624, \"% top-k found\": 0.6}, {\"Algorithm\": \"random\", \"Training set size\": \"2,104\", \"N ligands explored\": 12624, \"% top-k found\": 0.8449489742783178}]}}, {\"mode\": \"vega-lite\"});\n",
       "</script>"
      ],
      "text/plain": [
       "alt.FacetChart(...)"
      ]
     },
     "execution_count": 24,
     "metadata": {},
     "output_type": "execute_result"
    }
   ],
   "source": [
    "ch"
   ]
  },
  {
   "cell_type": "code",
   "execution_count": null,
   "metadata": {},
   "outputs": [],
   "source": []
  }
 ],
 "metadata": {
  "kernelspec": {
   "display_name": "dockop",
   "language": "python",
   "name": "dockop"
  },
  "language_info": {
   "codemirror_mode": {
    "name": "ipython",
    "version": 3
   },
   "file_extension": ".py",
   "mimetype": "text/x-python",
   "name": "python",
   "nbconvert_exporter": "python",
   "pygments_lexer": "ipython3",
   "version": "3.8.10"
  }
 },
 "nbformat": 4,
 "nbformat_minor": 4
}
