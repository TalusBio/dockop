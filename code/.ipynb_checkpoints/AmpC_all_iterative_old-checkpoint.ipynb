{
 "cells": [
  {
   "cell_type": "code",
   "execution_count": 1,
   "metadata": {},
   "outputs": [],
   "source": [
    "import numpy as np\n",
    "import matplotlib.pyplot as plt\n",
    "import pandas as pd\n",
    "import tqdm\n",
    "from scipy import sparse\n",
    "import altair as alt"
   ]
  },
  {
   "cell_type": "code",
   "execution_count": 2,
   "metadata": {},
   "outputs": [
    {
     "data": {
      "text/plain": [
       "RendererRegistry.enable('default')"
      ]
     },
     "execution_count": 2,
     "metadata": {},
     "output_type": "execute_result"
    }
   ],
   "source": [
    "alt.renderers.enable('default')"
   ]
  },
  {
   "cell_type": "markdown",
   "metadata": {},
   "source": [
    "# Generate some indices\n",
    "Even the sparse matrices won't fit in memory. So we will have to loop through them when making predictions or sampling random items."
   ]
  },
  {
   "cell_type": "code",
   "execution_count": null,
   "metadata": {},
   "outputs": [],
   "source": [
    "#count number of items:\n",
    "indptr = [0]\n",
    "\n",
    "for chunkID in range(10):\n",
    "    scores = np.load(f'../processed_data/AmpC_all{chunkID}.npy')\n",
    "    indptr.append(indptr[-1] + scores.shape[0])\n"
   ]
  },
  {
   "cell_type": "code",
   "execution_count": null,
   "metadata": {},
   "outputs": [],
   "source": [
    "scores = np.concatenate([np.load(f'../processed_data/AmpC_all{i}.npy') for i in range(10)])"
   ]
  },
  {
   "cell_type": "markdown",
   "metadata": {},
   "source": [
    "# functions to handle the slabs\n",
    "\n",
    "For training, these loop through the chunks and extract the indices that have been selected either at random or suggested by the surrogate model. \n",
    "\n",
    "For predicting, these loop through the chunks and perform the `predict_proba` method on each chunk (after removing the training indices), outputting a concatenated numpy array of predicted values."
   ]
  },
  {
   "cell_type": "code",
   "execution_count": null,
   "metadata": {},
   "outputs": [],
   "source": [
    "def extractFPs(chunkID, indptr, isTrain):\n",
    "    fp = sparse.load_npz(f'../processed_data/AmpC_all{chunkID}.npz')\n",
    "    mask = isTrain[indptr[chunkID]:indptr[chunkID+1]]\n",
    "    return fp[mask]\n",
    "\n",
    "def buildTrain(indptr, isTrain, verbose=0):\n",
    "    if verbose:\n",
    "        print('building training matrix')\n",
    "    fps = sparse.vstack([extractFPs(i, indptr, isTrain) for i in range(10)])\n",
    "    return fps\n",
    "\n",
    "def chunkPredictProba(model, indptr, isTrain, verbose=0):\n",
    "    if verbose:\n",
    "        print('predicting probabilities')\n",
    "    probas = []\n",
    "    for chunkID in range(10):\n",
    "        fps = extractFPs(chunkID, indptr, ~isTrain)\n",
    "        proba = model.predict_proba(fps)[:,1]\n",
    "        probas.append(proba)\n",
    "    return np.concatenate(probas)\n",
    "\n",
    "def chunkPredict(model, indptr, isTrain, verbose=0):\n",
    "    if verbose:\n",
    "        print('predicting probabilities')\n",
    "    preds = []\n",
    "    for chunkID in range(10):\n",
    "        fps = extractFPs(chunkID, indptr, ~isTrain)\n",
    "        pred = -1*model.predict(fps) #best scoring will now be on top (like the proba)\n",
    "        preds.append(pred)\n",
    "    return np.concatenate(preds)"
   ]
  },
  {
   "cell_type": "markdown",
   "metadata": {},
   "source": [
    "# Train a Logistic Regression models"
   ]
  },
  {
   "cell_type": "code",
   "execution_count": null,
   "metadata": {
    "scrolled": true
   },
   "outputs": [],
   "source": [
    "from sklearn.linear_model import LogisticRegression\n",
    "\n",
    "model = LogisticRegression(max_iter=10000, C=1)\n"
   ]
  },
  {
   "cell_type": "code",
   "execution_count": null,
   "metadata": {},
   "outputs": [],
   "source": [
    "\n",
    "topK = (scores.argsort().argsort() < 50_000) #~0.05th percentile.\n",
    "tot = topK.sum() "
   ]
  },
  {
   "cell_type": "markdown",
   "metadata": {},
   "source": [
    "# With Altair, using three repeats:"
   ]
  },
  {
   "cell_type": "code",
   "execution_count": null,
   "metadata": {
    "scrolled": false
   },
   "outputs": [],
   "source": [
    "\n",
    "trainingSetSizes=[400_000, 200_000, 100_000]\n",
    "\n",
    "\n",
    "for percentile in [0.3 ]:    \n",
    "    df = pd.DataFrame(columns=['Algorithm', 'Training size', 'N ligands explored', '% top-k found'])\n",
    "    count=0\n",
    "    \n",
    "    for i in range(3):\n",
    "        idx = np.arange(scores.shape[0])\n",
    "        np.random.shuffle(idx)\n",
    "\n",
    "        for size in trainingSetSizes:\n",
    "            #split indices into train and test:\n",
    "            train = idx[:size].copy()\n",
    "            test = idx[size:].copy()\n",
    "            train.sort()\n",
    "            test.sort()\n",
    "    \n",
    "            #generate a 'is a training instance' mask. \n",
    "            isTrain = np.zeros(scores.shape[0]).astype(bool)\n",
    "            isTrain[train]=True\n",
    "    \n",
    "            #topK molecules already found in the training set:\n",
    "            numFound = topK[train].sum()\n",
    "        \n",
    "            df.loc[count] = ['morgan_feat', size, train.shape[0], numFound/tot]\n",
    "            count+=1\n",
    "            print(count, numFound)\n",
    "    \n",
    "            #estimate the cutoff once, from the initial random sample:\n",
    "            cutoff = np.percentile(scores[train], percentile)\n",
    "            \n",
    "            for i in range(5):\n",
    "\n",
    "                #fit logreg model:\n",
    "                model.fit(buildTrain(indptr, isTrain, 1), scores[isTrain]<cutoff)\n",
    "                #fit ridge:\n",
    "                #model.fit(buildTrain(indptr, isTrain, 1), scores[isTrain])\n",
    "    \n",
    "                #predict (slowest step) for logreg:\n",
    "                proba = chunkPredictProba(model, indptr, isTrain, 1)\n",
    "                #predict (slowest step) for ridge:\n",
    "                #proba = chunkPredict(model, indptr, isTrain, 1)\n",
    "    \n",
    "                #rank the probabilities\n",
    "                proba_sorted = (-proba).argsort()\n",
    "        \n",
    "                #rank the unseen instances:\n",
    "                test = test[proba_sorted]\n",
    "\n",
    "                #now append the next N instances from the rank ordered unseen instances onto the training set:\n",
    "                train = np.concatenate([train, test[:size]])\n",
    "        \n",
    "                #update the isTrain mask:\n",
    "                isTrain[train]=True\n",
    "        \n",
    "                #now remove those training instances from the test set:\n",
    "                test = test[size:]\n",
    "\n",
    "                #keep the train and test idx arrays sorted so they agree with the chunked* methods:\n",
    "                test.sort()\n",
    "                train.sort()\n",
    "        \n",
    "                #topK molecules already found in the training set:\n",
    "                numFound = topK[train].sum()\n",
    "            \n",
    "                df.loc[count] = ['morgan_feat', size, train.shape[0], numFound/tot]\n",
    "                count+=1\n",
    "                print(count, numFound)\n",
    "                df.to_csv('../processed_data/ampc_reconstruction_'+str(percentile)+'_1_.csv')\n",
    "                \n",
    "    df.to_csv('../processed_data/ampc_reconstruction_'+str(percentile)+'_1_.csv')\n",
    "\n",
    "    "
   ]
  },
  {
   "cell_type": "markdown",
   "metadata": {},
   "source": [
    "# Results look like this:\n",
    "And they can be plotted using `./plot_scripts/plot_wholedataset.py`"
   ]
  },
  {
   "cell_type": "code",
   "execution_count": 10,
   "metadata": {},
   "outputs": [],
   "source": [
    "df = pd.read_csv('../processed_data/ampc_reconstruction_0.3_1_.csv', index_col=0)\n",
    "df['Algorithm'] = 'AmpC:LogReg (lewis)'"
   ]
  },
  {
   "cell_type": "code",
   "execution_count": 11,
   "metadata": {},
   "outputs": [],
   "source": [
    "prev_results = [['AmpC:RF (Graff)', 400_000, 71.4, 2.1], \n",
    "                ['AmpC:NN (Graff)', 400_000, 74.7, 1.4],\n",
    "                ['AmpC:MPN (Graff)',400_000, 87.9, 2.3],\n",
    "                ['AmpC:RF (Graff)', 200_000, 45.5, 1.8],\n",
    "                ['AmpC:NN (Graff)', 200_000, 52.8, 0.5],\n",
    "                ['AmpC:MPN (Graff)', 200_000, 67.1, 2.1],\n",
    "                ['AmpC:RF (Graff)', 100_000, 24.0, 2.2],\n",
    "                ['AmpC:NN (Graff)', 100_000 , 33.3,0.3],\n",
    "                ['AmpC:MPN (Graff)', 100_000, 52.0, 0.5]]\n",
    "\n",
    "coley = pd.DataFrame(columns=['Algorithm', 'Training size', 'N ligands explored', '% top-k found'])\n",
    "count = 0 \n",
    "for res in prev_results:\n",
    "    desired_std_dev = res[3]\n",
    "    samples = np.array([-1,0,1]).astype(float)\n",
    "    samples *= (desired_std_dev/np.std(samples))\n",
    "    for s in samples:\n",
    "        coley.loc[count] = [res[0], res[1], res[1]*6, (s+res[2])/100]\n",
    "        count += 1"
   ]
  },
  {
   "cell_type": "code",
   "execution_count": 12,
   "metadata": {},
   "outputs": [],
   "source": [
    "concat = pd.concat([df, coley])\n",
    "concat['% top-k found']*=100\n",
    "concat.columns = ['Algorithm', 'Training set size', 'N ligands explored', '% top-k found']\n",
    "concat['Training set size'] = concat['Training set size'].apply(lambda num: f\"{num:,d}\",)\n",
    "concat['Computation days (single CPU)'] = concat['N ligands explored'] / 60 / 60 /24"
   ]
  },
  {
   "cell_type": "code",
   "execution_count": 13,
   "metadata": {},
   "outputs": [],
   "source": [
    "error_bars = alt.Chart(concat).mark_errorbar(extent='ci').encode(\n",
    "  x=alt.X('N ligands explored:Q',title='Number of ligands sampled'),\n",
    "  y=alt.Y('% top-k found:Q', title='% top 50,000 found'),\n",
    "    color=alt.Color('Algorithm')\n",
    ")\n",
    "\n",
    "points = alt.Chart(concat).mark_point(filled=False, size=40, color='black').encode(\n",
    "  x=alt.X('N ligands explored:Q'),\n",
    "  y=alt.Y('% top-k found:Q',aggregate='mean',title='% top 50,000 found'),\n",
    "    color=alt.Color('Algorithm'),\n",
    "    tooltip=alt.Tooltip('% top-k found:Q',aggregate='mean',title='% top 50,000 found')\n",
    ")\n",
    "\n",
    "line = alt.Chart(concat).mark_line(color='black',size=2,opacity=0.5).encode(\n",
    "  x=alt.X('N ligands explored:Q'),\n",
    "  y=alt.Y('% top-k found:Q',aggregate='mean',title='% top 50,000 found'),\n",
    "    color=alt.Color('Algorithm')\n",
    ")\n",
    "\n",
    "ch = (error_bars+points+line).properties(height=300,width=150).facet(\n",
    "    column=alt.Column('Training set size:N',sort=alt.Sort([0.004, 0.002, 0.001])),\n",
    ").resolve_scale(x='independent')\n",
    "# ch.save('../../figures/active_learning_percentage.html')"
   ]
  },
  {
   "cell_type": "code",
   "execution_count": 14,
   "metadata": {},
   "outputs": [
    {
     "data": {
      "text/html": [
       "\n",
       "<div id=\"altair-viz-518e7706350943f597a797966e5f21a6\"></div>\n",
       "<script type=\"text/javascript\">\n",
       "  (function(spec, embedOpt){\n",
       "    let outputDiv = document.currentScript.previousElementSibling;\n",
       "    if (outputDiv.id !== \"altair-viz-518e7706350943f597a797966e5f21a6\") {\n",
       "      outputDiv = document.getElementById(\"altair-viz-518e7706350943f597a797966e5f21a6\");\n",
       "    }\n",
       "    const paths = {\n",
       "      \"vega\": \"https://cdn.jsdelivr.net/npm//vega@5?noext\",\n",
       "      \"vega-lib\": \"https://cdn.jsdelivr.net/npm//vega-lib?noext\",\n",
       "      \"vega-lite\": \"https://cdn.jsdelivr.net/npm//vega-lite@4.8.1?noext\",\n",
       "      \"vega-embed\": \"https://cdn.jsdelivr.net/npm//vega-embed@6?noext\",\n",
       "    };\n",
       "\n",
       "    function loadScript(lib) {\n",
       "      return new Promise(function(resolve, reject) {\n",
       "        var s = document.createElement('script');\n",
       "        s.src = paths[lib];\n",
       "        s.async = true;\n",
       "        s.onload = () => resolve(paths[lib]);\n",
       "        s.onerror = () => reject(`Error loading script: ${paths[lib]}`);\n",
       "        document.getElementsByTagName(\"head\")[0].appendChild(s);\n",
       "      });\n",
       "    }\n",
       "\n",
       "    function showError(err) {\n",
       "      outputDiv.innerHTML = `<div class=\"error\" style=\"color:red;\">${err}</div>`;\n",
       "      throw err;\n",
       "    }\n",
       "\n",
       "    function displayChart(vegaEmbed) {\n",
       "      vegaEmbed(outputDiv, spec, embedOpt)\n",
       "        .catch(err => showError(`Javascript Error: ${err.message}<br>This usually means there's a typo in your chart specification. See the javascript console for the full traceback.`));\n",
       "    }\n",
       "\n",
       "    if(typeof define === \"function\" && define.amd) {\n",
       "      requirejs.config({paths});\n",
       "      require([\"vega-embed\"], displayChart, err => showError(`Error loading script: ${err.message}`));\n",
       "    } else if (typeof vegaEmbed === \"function\") {\n",
       "      displayChart(vegaEmbed);\n",
       "    } else {\n",
       "      loadScript(\"vega\")\n",
       "        .then(() => loadScript(\"vega-lite\"))\n",
       "        .then(() => loadScript(\"vega-embed\"))\n",
       "        .catch(showError)\n",
       "        .then(() => displayChart(vegaEmbed));\n",
       "    }\n",
       "  })({\"config\": {\"view\": {\"continuousWidth\": 400, \"continuousHeight\": 300}}, \"data\": {\"name\": \"data-38265ef5d2fefcd46e365dc4fe9e10b0\"}, \"facet\": {\"column\": {\"type\": \"nominal\", \"field\": \"Training set size\", \"sort\": [0.004, 0.002, 0.001]}}, \"spec\": {\"layer\": [{\"mark\": {\"type\": \"errorbar\", \"extent\": \"ci\"}, \"encoding\": {\"color\": {\"type\": \"nominal\", \"field\": \"Algorithm\"}, \"x\": {\"type\": \"quantitative\", \"field\": \"N ligands explored\", \"title\": \"Number of ligands sampled\"}, \"y\": {\"type\": \"quantitative\", \"field\": \"% top-k found\", \"title\": \"% top 50,000 found\"}}}, {\"mark\": {\"type\": \"point\", \"color\": \"black\", \"filled\": false, \"size\": 40}, \"encoding\": {\"color\": {\"type\": \"nominal\", \"field\": \"Algorithm\"}, \"tooltip\": {\"type\": \"quantitative\", \"aggregate\": \"mean\", \"field\": \"% top-k found\", \"title\": \"% top 50,000 found\"}, \"x\": {\"type\": \"quantitative\", \"field\": \"N ligands explored\"}, \"y\": {\"type\": \"quantitative\", \"aggregate\": \"mean\", \"field\": \"% top-k found\", \"title\": \"% top 50,000 found\"}}}, {\"mark\": {\"type\": \"line\", \"color\": \"black\", \"opacity\": 0.5, \"size\": 2}, \"encoding\": {\"color\": {\"type\": \"nominal\", \"field\": \"Algorithm\"}, \"x\": {\"type\": \"quantitative\", \"field\": \"N ligands explored\"}, \"y\": {\"type\": \"quantitative\", \"aggregate\": \"mean\", \"field\": \"% top-k found\", \"title\": \"% top 50,000 found\"}}}], \"height\": 300, \"width\": 150}, \"resolve\": {\"scale\": {\"x\": \"independent\"}}, \"$schema\": \"https://vega.github.io/schema/vega-lite/v4.8.1.json\", \"datasets\": {\"data-38265ef5d2fefcd46e365dc4fe9e10b0\": [{\"Algorithm\": \"AmpC:LogReg (fps)\", \"Training set size\": \"400,000\", \"N ligands explored\": 400000, \"% top-k found\": 0.406, \"Computation days (single CPU)\": 4.62962962962963}, {\"Algorithm\": \"AmpC:LogReg (fps)\", \"Training set size\": \"400,000\", \"N ligands explored\": 800000, \"% top-k found\": 41.796, \"Computation days (single CPU)\": 9.25925925925926}, {\"Algorithm\": \"AmpC:LogReg (fps)\", \"Training set size\": \"400,000\", \"N ligands explored\": 1200000, \"% top-k found\": 69.072, \"Computation days (single CPU)\": 13.888888888888888}, {\"Algorithm\": \"AmpC:LogReg (fps)\", \"Training set size\": \"400,000\", \"N ligands explored\": 1600000, \"% top-k found\": 81.326, \"Computation days (single CPU)\": 18.51851851851852}, {\"Algorithm\": \"AmpC:LogReg (fps)\", \"Training set size\": \"400,000\", \"N ligands explored\": 2000000, \"% top-k found\": 87.818, \"Computation days (single CPU)\": 23.14814814814815}, {\"Algorithm\": \"AmpC:LogReg (fps)\", \"Training set size\": \"400,000\", \"N ligands explored\": 2400000, \"% top-k found\": 91.494, \"Computation days (single CPU)\": 27.777777777777775}, {\"Algorithm\": \"AmpC:LogReg (fps)\", \"Training set size\": \"200,000\", \"N ligands explored\": 200000, \"% top-k found\": 0.2, \"Computation days (single CPU)\": 2.314814814814815}, {\"Algorithm\": \"AmpC:LogReg (fps)\", \"Training set size\": \"200,000\", \"N ligands explored\": 400000, \"% top-k found\": 22.608, \"Computation days (single CPU)\": 4.62962962962963}, {\"Algorithm\": \"AmpC:LogReg (fps)\", \"Training set size\": \"200,000\", \"N ligands explored\": 600000, \"% top-k found\": 47.548, \"Computation days (single CPU)\": 6.944444444444444}, {\"Algorithm\": \"AmpC:LogReg (fps)\", \"Training set size\": \"200,000\", \"N ligands explored\": 800000, \"% top-k found\": 60.672000000000004, \"Computation days (single CPU)\": 9.25925925925926}, {\"Algorithm\": \"AmpC:LogReg (fps)\", \"Training set size\": \"200,000\", \"N ligands explored\": 1000000, \"% top-k found\": 68.996, \"Computation days (single CPU)\": 11.574074074074074}, {\"Algorithm\": \"AmpC:LogReg (fps)\", \"Training set size\": \"200,000\", \"N ligands explored\": 1200000, \"% top-k found\": 74.872, \"Computation days (single CPU)\": 13.888888888888888}, {\"Algorithm\": \"AmpC:LogReg (fps)\", \"Training set size\": \"100,000\", \"N ligands explored\": 100000, \"% top-k found\": 0.098, \"Computation days (single CPU)\": 1.1574074074074074}, {\"Algorithm\": \"AmpC:LogReg (fps)\", \"Training set size\": \"100,000\", \"N ligands explored\": 200000, \"% top-k found\": 11.544, \"Computation days (single CPU)\": 2.314814814814815}, {\"Algorithm\": \"AmpC:LogReg (fps)\", \"Training set size\": \"100,000\", \"N ligands explored\": 300000, \"% top-k found\": 27.122, \"Computation days (single CPU)\": 3.472222222222222}, {\"Algorithm\": \"AmpC:LogReg (fps)\", \"Training set size\": \"100,000\", \"N ligands explored\": 400000, \"% top-k found\": 41.099999999999994, \"Computation days (single CPU)\": 4.62962962962963}, {\"Algorithm\": \"AmpC:LogReg (fps)\", \"Training set size\": \"100,000\", \"N ligands explored\": 500000, \"% top-k found\": 50.292, \"Computation days (single CPU)\": 5.787037037037037}, {\"Algorithm\": \"AmpC:LogReg (fps)\", \"Training set size\": \"100,000\", \"N ligands explored\": 600000, \"% top-k found\": 57.05, \"Computation days (single CPU)\": 6.944444444444444}, {\"Algorithm\": \"AmpC:LogReg (fps)\", \"Training set size\": \"400,000\", \"N ligands explored\": 400000, \"% top-k found\": 0.466, \"Computation days (single CPU)\": 4.62962962962963}, {\"Algorithm\": \"AmpC:LogReg (fps)\", \"Training set size\": \"400,000\", \"N ligands explored\": 800000, \"% top-k found\": 41.448, \"Computation days (single CPU)\": 9.25925925925926}, {\"Algorithm\": \"AmpC:LogReg (fps)\", \"Training set size\": \"400,000\", \"N ligands explored\": 1200000, \"% top-k found\": 68.768, \"Computation days (single CPU)\": 13.888888888888888}, {\"Algorithm\": \"AmpC:LogReg (fps)\", \"Training set size\": \"400,000\", \"N ligands explored\": 1600000, \"% top-k found\": 81.378, \"Computation days (single CPU)\": 18.51851851851852}, {\"Algorithm\": \"AmpC:LogReg (fps)\", \"Training set size\": \"400,000\", \"N ligands explored\": 2000000, \"% top-k found\": 88.02, \"Computation days (single CPU)\": 23.14814814814815}, {\"Algorithm\": \"AmpC:LogReg (fps)\", \"Training set size\": \"400,000\", \"N ligands explored\": 2400000, \"% top-k found\": 91.574, \"Computation days (single CPU)\": 27.777777777777775}, {\"Algorithm\": \"AmpC:LogReg (fps)\", \"Training set size\": \"200,000\", \"N ligands explored\": 200000, \"% top-k found\": 0.246, \"Computation days (single CPU)\": 2.314814814814815}, {\"Algorithm\": \"AmpC:LogReg (fps)\", \"Training set size\": \"200,000\", \"N ligands explored\": 400000, \"% top-k found\": 22.98, \"Computation days (single CPU)\": 4.62962962962963}, {\"Algorithm\": \"AmpC:LogReg (fps)\", \"Training set size\": \"200,000\", \"N ligands explored\": 600000, \"% top-k found\": 47.332, \"Computation days (single CPU)\": 6.944444444444444}, {\"Algorithm\": \"AmpC:LogReg (fps)\", \"Training set size\": \"200,000\", \"N ligands explored\": 800000, \"% top-k found\": 61.464, \"Computation days (single CPU)\": 9.25925925925926}, {\"Algorithm\": \"AmpC:LogReg (fps)\", \"Training set size\": \"200,000\", \"N ligands explored\": 1000000, \"% top-k found\": 70.18799999999999, \"Computation days (single CPU)\": 11.574074074074074}, {\"Algorithm\": \"AmpC:LogReg (fps)\", \"Training set size\": \"200,000\", \"N ligands explored\": 1200000, \"% top-k found\": 76.632, \"Computation days (single CPU)\": 13.888888888888888}, {\"Algorithm\": \"AmpC:LogReg (fps)\", \"Training set size\": \"100,000\", \"N ligands explored\": 100000, \"% top-k found\": 0.13999999999999999, \"Computation days (single CPU)\": 1.1574074074074074}, {\"Algorithm\": \"AmpC:LogReg (fps)\", \"Training set size\": \"100,000\", \"N ligands explored\": 200000, \"% top-k found\": 11.382, \"Computation days (single CPU)\": 2.314814814814815}, {\"Algorithm\": \"AmpC:LogReg (fps)\", \"Training set size\": \"100,000\", \"N ligands explored\": 300000, \"% top-k found\": 28.164, \"Computation days (single CPU)\": 3.472222222222222}, {\"Algorithm\": \"AmpC:LogReg (fps)\", \"Training set size\": \"100,000\", \"N ligands explored\": 400000, \"% top-k found\": 41.388000000000005, \"Computation days (single CPU)\": 4.62962962962963}, {\"Algorithm\": \"AmpC:LogReg (fps)\", \"Training set size\": \"100,000\", \"N ligands explored\": 500000, \"% top-k found\": 50.205999999999996, \"Computation days (single CPU)\": 5.787037037037037}, {\"Algorithm\": \"AmpC:LogReg (fps)\", \"Training set size\": \"100,000\", \"N ligands explored\": 600000, \"% top-k found\": 56.448, \"Computation days (single CPU)\": 6.944444444444444}, {\"Algorithm\": \"AmpC:LogReg (fps)\", \"Training set size\": \"400,000\", \"N ligands explored\": 400000, \"% top-k found\": 0.41000000000000003, \"Computation days (single CPU)\": 4.62962962962963}, {\"Algorithm\": \"AmpC:LogReg (fps)\", \"Training set size\": \"400,000\", \"N ligands explored\": 800000, \"% top-k found\": 39.648, \"Computation days (single CPU)\": 9.25925925925926}, {\"Algorithm\": \"AmpC:LogReg (fps)\", \"Training set size\": \"400,000\", \"N ligands explored\": 1200000, \"% top-k found\": 68.978, \"Computation days (single CPU)\": 13.888888888888888}, {\"Algorithm\": \"AmpC:LogReg (fps)\", \"Training set size\": \"400,000\", \"N ligands explored\": 1600000, \"% top-k found\": 81.364, \"Computation days (single CPU)\": 18.51851851851852}, {\"Algorithm\": \"AmpC:LogReg (fps)\", \"Training set size\": \"400,000\", \"N ligands explored\": 2000000, \"% top-k found\": 87.888, \"Computation days (single CPU)\": 23.14814814814815}, {\"Algorithm\": \"AmpC:LogReg (fps)\", \"Training set size\": \"400,000\", \"N ligands explored\": 2400000, \"% top-k found\": 91.678, \"Computation days (single CPU)\": 27.777777777777775}, {\"Algorithm\": \"AmpC:LogReg (fps)\", \"Training set size\": \"200,000\", \"N ligands explored\": 200000, \"% top-k found\": 0.186, \"Computation days (single CPU)\": 2.314814814814815}, {\"Algorithm\": \"AmpC:LogReg (fps)\", \"Training set size\": \"200,000\", \"N ligands explored\": 400000, \"% top-k found\": 22.182, \"Computation days (single CPU)\": 4.62962962962963}, {\"Algorithm\": \"AmpC:LogReg (fps)\", \"Training set size\": \"200,000\", \"N ligands explored\": 600000, \"% top-k found\": 47.355999999999995, \"Computation days (single CPU)\": 6.944444444444444}, {\"Algorithm\": \"AmpC:LogReg (fps)\", \"Training set size\": \"200,000\", \"N ligands explored\": 800000, \"% top-k found\": 61.224000000000004, \"Computation days (single CPU)\": 9.25925925925926}, {\"Algorithm\": \"AmpC:LogReg (fps)\", \"Training set size\": \"200,000\", \"N ligands explored\": 1000000, \"% top-k found\": 69.56, \"Computation days (single CPU)\": 11.574074074074074}, {\"Algorithm\": \"AmpC:LogReg (fps)\", \"Training set size\": \"200,000\", \"N ligands explored\": 1200000, \"% top-k found\": 75.78, \"Computation days (single CPU)\": 13.888888888888888}, {\"Algorithm\": \"AmpC:LogReg (fps)\", \"Training set size\": \"100,000\", \"N ligands explored\": 100000, \"% top-k found\": 0.092, \"Computation days (single CPU)\": 1.1574074074074074}, {\"Algorithm\": \"AmpC:LogReg (fps)\", \"Training set size\": \"100,000\", \"N ligands explored\": 200000, \"% top-k found\": 10.498000000000001, \"Computation days (single CPU)\": 2.314814814814815}, {\"Algorithm\": \"AmpC:LogReg (fps)\", \"Training set size\": \"100,000\", \"N ligands explored\": 300000, \"% top-k found\": 26.669999999999998, \"Computation days (single CPU)\": 3.472222222222222}, {\"Algorithm\": \"AmpC:LogReg (fps)\", \"Training set size\": \"100,000\", \"N ligands explored\": 400000, \"% top-k found\": 37.897999999999996, \"Computation days (single CPU)\": 4.62962962962963}, {\"Algorithm\": \"AmpC:LogReg (fps)\", \"Training set size\": \"100,000\", \"N ligands explored\": 500000, \"% top-k found\": 46.760000000000005, \"Computation days (single CPU)\": 5.787037037037037}, {\"Algorithm\": \"AmpC:LogReg (fps)\", \"Training set size\": \"100,000\", \"N ligands explored\": 600000, \"% top-k found\": 53.776, \"Computation days (single CPU)\": 6.944444444444444}, {\"Algorithm\": \"AmpC:RF (Graff)\", \"Training set size\": \"400,000\", \"N ligands explored\": 2400000, \"% top-k found\": 68.82803577007766, \"Computation days (single CPU)\": 27.777777777777775}, {\"Algorithm\": \"AmpC:RF (Graff)\", \"Training set size\": \"400,000\", \"N ligands explored\": 2400000, \"% top-k found\": 71.4, \"Computation days (single CPU)\": 27.777777777777775}, {\"Algorithm\": \"AmpC:RF (Graff)\", \"Training set size\": \"400,000\", \"N ligands explored\": 2400000, \"% top-k found\": 73.97196422992235, \"Computation days (single CPU)\": 27.777777777777775}, {\"Algorithm\": \"AmpC:NN (Graff)\", \"Training set size\": \"400,000\", \"N ligands explored\": 2400000, \"% top-k found\": 72.98535718005178, \"Computation days (single CPU)\": 27.777777777777775}, {\"Algorithm\": \"AmpC:NN (Graff)\", \"Training set size\": \"400,000\", \"N ligands explored\": 2400000, \"% top-k found\": 74.7, \"Computation days (single CPU)\": 27.777777777777775}, {\"Algorithm\": \"AmpC:NN (Graff)\", \"Training set size\": \"400,000\", \"N ligands explored\": 2400000, \"% top-k found\": 76.41464281994823, \"Computation days (single CPU)\": 27.777777777777775}, {\"Algorithm\": \"AmpC:MPN (Graff)\", \"Training set size\": \"400,000\", \"N ligands explored\": 2400000, \"% top-k found\": 85.08308679579935, \"Computation days (single CPU)\": 27.777777777777775}, {\"Algorithm\": \"AmpC:MPN (Graff)\", \"Training set size\": \"400,000\", \"N ligands explored\": 2400000, \"% top-k found\": 87.9, \"Computation days (single CPU)\": 27.777777777777775}, {\"Algorithm\": \"AmpC:MPN (Graff)\", \"Training set size\": \"400,000\", \"N ligands explored\": 2400000, \"% top-k found\": 90.71691320420067, \"Computation days (single CPU)\": 27.777777777777775}, {\"Algorithm\": \"AmpC:RF (Graff)\", \"Training set size\": \"200,000\", \"N ligands explored\": 1200000, \"% top-k found\": 43.29545923149514, \"Computation days (single CPU)\": 13.888888888888888}, {\"Algorithm\": \"AmpC:RF (Graff)\", \"Training set size\": \"200,000\", \"N ligands explored\": 1200000, \"% top-k found\": 45.5, \"Computation days (single CPU)\": 13.888888888888888}, {\"Algorithm\": \"AmpC:RF (Graff)\", \"Training set size\": \"200,000\", \"N ligands explored\": 1200000, \"% top-k found\": 47.70454076850486, \"Computation days (single CPU)\": 13.888888888888888}, {\"Algorithm\": \"AmpC:NN (Graff)\", \"Training set size\": \"200,000\", \"N ligands explored\": 1200000, \"% top-k found\": 52.187627564304194, \"Computation days (single CPU)\": 13.888888888888888}, {\"Algorithm\": \"AmpC:NN (Graff)\", \"Training set size\": \"200,000\", \"N ligands explored\": 1200000, \"% top-k found\": 52.800000000000004, \"Computation days (single CPU)\": 13.888888888888888}, {\"Algorithm\": \"AmpC:NN (Graff)\", \"Training set size\": \"200,000\", \"N ligands explored\": 1200000, \"% top-k found\": 53.4123724356958, \"Computation days (single CPU)\": 13.888888888888888}, {\"Algorithm\": \"AmpC:MPN (Graff)\", \"Training set size\": \"200,000\", \"N ligands explored\": 1200000, \"% top-k found\": 64.52803577007765, \"Computation days (single CPU)\": 13.888888888888888}, {\"Algorithm\": \"AmpC:MPN (Graff)\", \"Training set size\": \"200,000\", \"N ligands explored\": 1200000, \"% top-k found\": 67.1, \"Computation days (single CPU)\": 13.888888888888888}, {\"Algorithm\": \"AmpC:MPN (Graff)\", \"Training set size\": \"200,000\", \"N ligands explored\": 1200000, \"% top-k found\": 69.67196422992234, \"Computation days (single CPU)\": 13.888888888888888}, {\"Algorithm\": \"AmpC:RF (Graff)\", \"Training set size\": \"100,000\", \"N ligands explored\": 600000, \"% top-k found\": 21.305561282938505, \"Computation days (single CPU)\": 6.944444444444444}, {\"Algorithm\": \"AmpC:RF (Graff)\", \"Training set size\": \"100,000\", \"N ligands explored\": 600000, \"% top-k found\": 24.0, \"Computation days (single CPU)\": 6.944444444444444}, {\"Algorithm\": \"AmpC:RF (Graff)\", \"Training set size\": \"100,000\", \"N ligands explored\": 600000, \"% top-k found\": 26.694438717061498, \"Computation days (single CPU)\": 6.944444444444444}, {\"Algorithm\": \"AmpC:NN (Graff)\", \"Training set size\": \"100,000\", \"N ligands explored\": 600000, \"% top-k found\": 32.93257653858252, \"Computation days (single CPU)\": 6.944444444444444}, {\"Algorithm\": \"AmpC:NN (Graff)\", \"Training set size\": \"100,000\", \"N ligands explored\": 600000, \"% top-k found\": 33.3, \"Computation days (single CPU)\": 6.944444444444444}, {\"Algorithm\": \"AmpC:NN (Graff)\", \"Training set size\": \"100,000\", \"N ligands explored\": 600000, \"% top-k found\": 33.66742346141747, \"Computation days (single CPU)\": 6.944444444444444}, {\"Algorithm\": \"AmpC:MPN (Graff)\", \"Training set size\": \"100,000\", \"N ligands explored\": 600000, \"% top-k found\": 51.3876275643042, \"Computation days (single CPU)\": 6.944444444444444}, {\"Algorithm\": \"AmpC:MPN (Graff)\", \"Training set size\": \"100,000\", \"N ligands explored\": 600000, \"% top-k found\": 52.0, \"Computation days (single CPU)\": 6.944444444444444}, {\"Algorithm\": \"AmpC:MPN (Graff)\", \"Training set size\": \"100,000\", \"N ligands explored\": 600000, \"% top-k found\": 52.6123724356958, \"Computation days (single CPU)\": 6.944444444444444}]}}, {\"mode\": \"vega-lite\"});\n",
       "</script>"
      ],
      "text/plain": [
       "alt.FacetChart(...)"
      ]
     },
     "execution_count": 14,
     "metadata": {},
     "output_type": "execute_result"
    }
   ],
   "source": [
    "ch"
   ]
  },
  {
   "cell_type": "code",
   "execution_count": null,
   "metadata": {},
   "outputs": [],
   "source": []
  }
 ],
 "metadata": {
  "kernelspec": {
   "display_name": "dockop",
   "language": "python",
   "name": "dockop"
  },
  "language_info": {
   "codemirror_mode": {
    "name": "ipython",
    "version": 3
   },
   "file_extension": ".py",
   "mimetype": "text/x-python",
   "name": "python",
   "nbconvert_exporter": "python",
   "pygments_lexer": "ipython3",
   "version": "3.8.10"
  }
 },
 "nbformat": 4,
 "nbformat_minor": 4
}
