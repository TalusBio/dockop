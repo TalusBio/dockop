{
 "cells": [
  {
   "cell_type": "code",
   "execution_count": 1,
   "metadata": {},
   "outputs": [],
   "source": [
    "import numpy as np\n",
    "import matplotlib.pyplot as plt\n",
    "import pandas as pd\n",
    "import altair as alt\n",
    "import tqdm\n",
    "from scipy import sparse\n",
    "from sklearn.linear_model import LogisticRegression\n",
    "from functools import lru_cache\n",
    "from sklearn.decomposition import PCA, TruncatedSVD\n",
    "from sklearn.metrics import recall_score\n",
    "from xgboost import XGBClassifier, XGBRegressor\n",
    "from apricot import FeatureBasedSelection"
   ]
  },
  {
   "cell_type": "code",
   "execution_count": 2,
   "metadata": {},
   "outputs": [
    {
     "data": {
      "text/plain": [
       "RendererRegistry.enable('default')"
      ]
     },
     "execution_count": 2,
     "metadata": {},
     "output_type": "execute_result"
    }
   ],
   "source": [
    "alt.renderers.enable('default')"
   ]
  },
  {
   "cell_type": "code",
   "execution_count": 3,
   "metadata": {
    "scrolled": true
   },
   "outputs": [],
   "source": [
    "NUM_CHUNKS = 1"
   ]
  },
  {
   "cell_type": "markdown",
   "metadata": {},
   "source": [
    "# Generate some indices\n",
    "Even the sparse matrices won't fit in memory. So we will have to loop through them when making predictions or sampling random items."
   ]
  },
  {
   "cell_type": "code",
   "execution_count": 4,
   "metadata": {},
   "outputs": [],
   "source": [
    "USE_EMBEDDINGS = False"
   ]
  },
  {
   "cell_type": "code",
   "execution_count": 5,
   "metadata": {},
   "outputs": [],
   "source": [
    "RECEPTOR = \"EnamineHTS\"\n",
    "DATA_DIR = \"/mnt/efs/enamine\"\n",
    "\n",
    "if USE_EMBEDDINGS:\n",
    "    OUTPUT_RESULTS_FILE = f\"{RECEPTOR}_embedding_results.csv\"\n",
    "else:\n",
    "    OUTPUT_RESULTS_FILE = f\"{RECEPTOR}_results.csv\""
   ]
  },
  {
   "cell_type": "code",
   "execution_count": 6,
   "metadata": {},
   "outputs": [],
   "source": [
    "# count number of items:\n",
    "indptr = [0]\n",
    "scores_lst = []\n",
    "\n",
    "for chunk_id in range(NUM_CHUNKS):\n",
    "    scores = np.load(f\"{DATA_DIR}/{RECEPTOR}_scores_{chunk_id}.npy\")\n",
    "    indptr.append(indptr[-1] + scores.shape[0])\n",
    "    scores_lst.append(scores)\n",
    "    \n",
    "scores = np.concatenate(scores_lst)"
   ]
  },
  {
   "cell_type": "code",
   "execution_count": 7,
   "metadata": {},
   "outputs": [
    {
     "data": {
      "text/plain": [
       "(2104318,)"
      ]
     },
     "execution_count": 7,
     "metadata": {},
     "output_type": "execute_result"
    }
   ],
   "source": [
    "scores.shape"
   ]
  },
  {
   "cell_type": "code",
   "execution_count": 13,
   "metadata": {},
   "outputs": [],
   "source": [
    "def load_vectors(chunk_id, use_embeddings=True):\n",
    "    print(\"Loading vectors\", end=\"; \", flush=True)\n",
    "    if use_embeddings:\n",
    "        vectors = np.load(f\"{DATA_DIR}/{RECEPTOR}_embeddings_{chunk_id}.npy\")\n",
    "    else:\n",
    "        vectors = sparse.load_npz(f\"{DATA_DIR}/{RECEPTOR}_fingerprints_{chunk_id}.npz\")\n",
    "    return vectors\n",
    "\n",
    "def extract_vectors(chunk_id, indptr, is_train):\n",
    "    print(f\"Extracting vectors: {chunk_id}\", end=\"; \", flush=True)\n",
    "    vectors = load_vectors(chunk_id, use_embeddings=USE_EMBEDDINGS)\n",
    "    mask = is_train[indptr[chunk_id]:indptr[chunk_id+1]]\n",
    "    return vectors[mask].astype(int)\n",
    "\n",
    "def build_train(indptr, is_train):\n",
    "    print(\"Building training set\", end=\"; \", flush=True)\n",
    "    if USE_EMBEDDINGS:\n",
    "        vectors = np.vstack([extract_vectors(i, tuple(indptr), is_train) for i in range(NUM_CHUNKS)])\n",
    "    else:\n",
    "        vectors = sparse.vstack([extract_vectors(i, tuple(indptr), is_train) for i in range(NUM_CHUNKS)])  \n",
    "    return vectors\n",
    "\n",
    "def chunk_predict_proba(model, indptr, is_train):\n",
    "    print(\"Predicting proba\", end=\"; \", flush=True)\n",
    "    probas = []\n",
    "    for chunk_id in range(NUM_CHUNKS):\n",
    "        vectors = extract_vectors(chunk_id, indptr, ~is_train)\n",
    "        proba = model.predict_proba(vectors)[:,1]\n",
    "        probas.append(proba)\n",
    "    return np.concatenate(probas)\n",
    "\n",
    "def chunk_predict(model, indptr, is_train):\n",
    "    print(\"Predicting scores\", end=\"; \", flush=True)\n",
    "    preds = []\n",
    "    for chunk_id in range(NUM_CHUNKS):\n",
    "        vectors = extract_vectors(chunk_id, indptr, ~is_train)\n",
    "        pred = model.predict(vectors)\n",
    "        preds.append(pred)\n",
    "    return np.concatenate(preds)\n",
    "\n",
    "def select_train_indices(n_samples, total_samples, method=\"random\"):\n",
    "    print(f\"Selecting train indices with method: {method}\", end=\"; \", flush=True)\n",
    "    if method == \"random\":\n",
    "        train_indices = np.random.randint(low=0, high=total_samples+1, size=n_samples)\n",
    "    else:\n",
    "        if USE_EMBEDDINGS:\n",
    "            vectors = np.vstack([load_vectors(chunk_id=i, use_embeddings=USE_EMBEDDINGS).astype(int) for i in range(NUM_CHUNKS)])\n",
    "        else:\n",
    "            vectors = sparse.vstack([load_vectors(chunk_id=i, use_embeddings=USE_EMBEDDINGS).astype(int) for i in range(NUM_CHUNKS)])\n",
    "        vectors = vectors.astype(int)\n",
    "        selector = FeatureBasedSelection(n_samples, concave_func=method, verbose=True)\n",
    "        selector.fit(vectors)\n",
    "        train_indices = selector.ranking\n",
    "    return train_indices"
   ]
  },
  {
   "cell_type": "markdown",
   "metadata": {},
   "source": [
    "# Train a Logistic Regression models"
   ]
  },
  {
   "cell_type": "code",
   "execution_count": null,
   "metadata": {
    "scrolled": true
   },
   "outputs": [],
   "source": [
    "# model = LogisticRegression(max_iter=10000, C=1)"
   ]
  },
  {
   "cell_type": "code",
   "execution_count": null,
   "metadata": {},
   "outputs": [],
   "source": [
    "model = XGBRegressor(\n",
    "#     objective=\"reg:squaredlogerror\"\n",
    "    use_label_encoder=False\n",
    ")"
   ]
  },
  {
   "cell_type": "code",
   "execution_count": null,
   "metadata": {},
   "outputs": [],
   "source": [
    "TOP_K_THRESHOLD = 1_000\n",
    "N_QUERIES = 6\n",
    "N_FOLDS = 4\n",
    "CONC_METHODS = [\"log\", \"sigmoid\", \"sqrt\", \"random\"]"
   ]
  },
  {
   "cell_type": "code",
   "execution_count": null,
   "metadata": {
    "scrolled": false
   },
   "outputs": [],
   "source": [
    "# training_set_fractions = [0.004, 0.002, 0.001]\n",
    "training_set_fractions = [0.004]\n",
    "\n",
    "# percentile = 0.3\n",
    "\n",
    "cols = ['Algorithm', 'Training size', 'N ligands explored', '% top-k found']\n",
    "# df = pd.DataFrame(columns=cols)\n",
    "\n",
    "n_labeled_examples = scores.shape[0]\n",
    "\n",
    "y_test = (scores.argsort().argsort() < TOP_K_THRESHOLD)\n",
    "\n",
    "for i_fold in range(N_FOLDS):\n",
    "    for fraction in training_set_fractions:\n",
    "        size = int(len(scores) * fraction)\n",
    "        \n",
    "        # split indices into train and pool\n",
    "        all_indices = np.arange(scores.shape[0])\n",
    "        \n",
    "        conc_method = \"sqrt\"\n",
    "        train_indices = select_train_indices(n_samples=size, total_samples=n_labeled_examples, method=conc_method)\n",
    "        \n",
    "        pool_indices = np.delete(all_indices, train_indices, axis=0)\n",
    "        train_indices.sort()\n",
    "        pool_indices.sort()\n",
    "\n",
    "        # generate a 'is a training instance' mask\n",
    "        is_train = np.zeros(scores.shape[0]).astype(bool)\n",
    "        is_train[train_indices] = True\n",
    "\n",
    "        # Calculate recall\n",
    "        y_pred = np.zeros(n_labeled_examples)\n",
    "        y_pred[train_indices] = 1\n",
    "        recall = recall_score(y_true=y_test, y_pred=y_pred)\n",
    "\n",
    "#         df = df.append(pd.DataFrame([[\"morgan_feat\", size, train_indices.shape[0], recall]],\n",
    "#                                     columns=cols),\n",
    "#                       ignore_index=True)\n",
    "        df = df.append(pd.DataFrame([[conc_method, size, train_indices.shape[0], recall]],\n",
    "                                    columns=cols),\n",
    "                      ignore_index=True)\n",
    "        print(f\"Iteration: -1, Recall: {recall}\")\n",
    "\n",
    "        # estimate the cutoff once, from the initial random sample:\n",
    "        # cutoff = np.percentile(scores[train_indices], percentile)\n",
    "\n",
    "        for i_query in range(N_QUERIES):\n",
    "            # fit logreg model\n",
    "            x_train = build_train(indptr, is_train)\n",
    "            y_train = scores[is_train]\n",
    "\n",
    "            print(\"Fitting model\", end=\"; \", flush=True)\n",
    "            model.fit(\n",
    "                x_train,\n",
    "                y_train, \n",
    "#                 eval_metric=\"rmsle\"\n",
    "                eval_metric=\"rmse\"\n",
    "            )\n",
    "\n",
    "            # predict (slowest step) for logreg\n",
    "            preds = chunk_predict(model, indptr, is_train)\n",
    "\n",
    "            # rank the probabilities (negative is better, otherwise we'd have to do (-preds).argsort())\n",
    "            preds_sorted = preds.argsort()\n",
    "\n",
    "            # rank the unseen instances\n",
    "            pool_indices = pool_indices[preds_sorted]\n",
    "\n",
    "            # now append the next N instances from the rank ordered unseen instances onto the training set\n",
    "            train_indices = np.concatenate([train_indices, pool_indices[:size]])\n",
    "\n",
    "            # update the isTrain mask and remove those training instances from the test set\n",
    "            is_train[train_indices] = True\n",
    "            pool_indices = pool_indices[size:]\n",
    "\n",
    "            # keep the train and test idx arrays sorted so they agree with the chunked* methods\n",
    "            pool_indices.sort()\n",
    "            train_indices.sort()\n",
    "\n",
    "            # Calculate recall\n",
    "            y_pred[train_indices] = 1\n",
    "            recall = recall_score(y_true=y_test, y_pred=y_pred)\n",
    "            \n",
    "#             df = df.append(pd.DataFrame([[\"morgan_feat\", size, train_indices.shape[0], recall]],\n",
    "#                                         columns=cols),\n",
    "#                           ignore_index=True)\n",
    "            df = df.append(pd.DataFrame([[conc_method, size, train_indices.shape[0], recall]],\n",
    "                                        columns=cols),\n",
    "                          ignore_index=True)\n",
    "            \n",
    "            print(f\"\\nIteration: {i_query+1}, Recall: {recall}\")\n",
    "            \n",
    "            df.to_csv(f\"{DATA_DIR}/{OUTPUT_RESULTS_FILE}\")\n",
    "\n",
    "df.to_csv(f\"{DATA_DIR}/{OUTPUT_RESULTS_FILE}\")"
   ]
  },
  {
   "cell_type": "markdown",
   "metadata": {},
   "source": [
    "# Results look like this:\n",
    "And they can be plotted using `./plot_scripts/plot_wholedataset.py`"
   ]
  },
  {
   "cell_type": "code",
   "execution_count": null,
   "metadata": {},
   "outputs": [],
   "source": [
    "df1 = pd.read_csv(f\"{DATA_DIR}/{RECEPTOR}_embedding_results.csv\", index_col=0)\n",
    "df1['Algorithm'] = 'LogReg (embeddings)'"
   ]
  },
  {
   "cell_type": "code",
   "execution_count": null,
   "metadata": {},
   "outputs": [],
   "source": [
    "df2 = pd.read_csv(f\"{DATA_DIR}/{RECEPTOR}_results.csv\", index_col=0)\n",
    "# df2['Algorithm'] = 'LogReg (fps)'"
   ]
  },
  {
   "cell_type": "code",
   "execution_count": null,
   "metadata": {},
   "outputs": [],
   "source": [
    "df = pd.concat([df1, df2])"
   ]
  },
  {
   "cell_type": "code",
   "execution_count": null,
   "metadata": {},
   "outputs": [],
   "source": [
    "prev_results = [['RF (Graff)', 8_417, 84.3, 1.1], \n",
    "                ['NN (Graff)', 8_417, 95.7, 0.1],\n",
    "                ['MPN (Graff)',8_417, 97.6, 0.3],\n",
    "                ['random', 8_417, 2.6, 0.1],\n",
    "                ['RF (Graff)', 4_208, 72.3, 1.9],\n",
    "                ['NN (Graff)', 4_208, 88.8, 0.8],\n",
    "                ['MPN (Graff)', 4_208, 93.3, 0.9],\n",
    "                ['random', 4_208, 1.3, 0.4],\n",
    "                ['RF (Graff)', 2_104, 55.8, 4.9],\n",
    "                ['NN (Graff)', 2_104 , 70.5, 1.8],\n",
    "                ['MPN (Graff)', 2_104, 78.5, 2.2],\n",
    "                ['random', 2_104, 0.6, 0.2]]\n",
    "\n",
    "coley = pd.DataFrame(columns=['Algorithm', 'Training size', 'N ligands explored', '% top-k found'])\n",
    "count = 0 \n",
    "for res in prev_results:\n",
    "    desired_std_dev = res[3]\n",
    "    samples = np.array([-1,0,1]).astype(float)\n",
    "    samples *= (desired_std_dev/np.std(samples))\n",
    "    for s in samples:\n",
    "        coley.loc[count]= [res[0], res[1], res[1]*6, (s+res[2])/100]\n",
    "        count += 1"
   ]
  },
  {
   "cell_type": "code",
   "execution_count": null,
   "metadata": {},
   "outputs": [],
   "source": [
    "concat = pd.concat([df, coley])\n",
    "concat['% top-k found'] *= 100\n",
    "concat.columns = ['Algorithm', 'Training set size', 'N ligands explored', '% top-k found']\n",
    "concat['Training set size'] = concat['Training set size'].apply(lambda num: f\"{num:,d}\",)"
   ]
  },
  {
   "cell_type": "code",
   "execution_count": null,
   "metadata": {},
   "outputs": [],
   "source": [
    "error_bars = alt.Chart(concat).mark_errorbar(extent='ci').encode(\n",
    "  x=alt.X('N ligands explored:Q',title='Number of ligands sampled'),\n",
    "  y=alt.Y('% top-k found:Q', title='% top 1,000 found'),\n",
    "    color=alt.Color('Algorithm')\n",
    ")\n",
    "\n",
    "points = alt.Chart(concat).mark_point(filled=False, size=40, color='black').encode(\n",
    "  x=alt.X('N ligands explored:Q'),\n",
    "  y=alt.Y('% top-k found:Q',aggregate='mean',title='% top 1,000 found'),\n",
    "    color=alt.Color('Algorithm'),\n",
    "    tooltip=alt.Tooltip('% top-k found:Q',aggregate='mean',title='% top 1,000 found')\n",
    ")\n",
    "\n",
    "line = alt.Chart(concat).mark_line(color='black',size=2,opacity=0.5).encode(\n",
    "  x=alt.X('N ligands explored:Q'),\n",
    "  y=alt.Y('% top-k found:Q',aggregate='mean',title='% top 1,000 found'),\n",
    "    color=alt.Color('Algorithm')\n",
    ")\n",
    "\n",
    "ch = (error_bars+points+line).properties(height=300,width=150).facet(\n",
    "    column=alt.Column('Training set size:N',sort=alt.Sort([0.004, 0.002, 0.001])),\n",
    ").resolve_scale(x='independent')\n",
    "# ch.save('../../figures/active_learning_percentage.html')"
   ]
  },
  {
   "cell_type": "code",
   "execution_count": null,
   "metadata": {},
   "outputs": [],
   "source": [
    "ch"
   ]
  },
  {
   "cell_type": "markdown",
   "metadata": {},
   "source": [
    "# PCA"
   ]
  },
  {
   "cell_type": "code",
   "execution_count": null,
   "metadata": {},
   "outputs": [],
   "source": [
    "vectors = load_vectors(chunk_id=0, use_embeddings=False)"
   ]
  },
  {
   "cell_type": "code",
   "execution_count": null,
   "metadata": {},
   "outputs": [],
   "source": [
    "classes = scores < cutoff"
   ]
  },
  {
   "cell_type": "code",
   "execution_count": null,
   "metadata": {},
   "outputs": [],
   "source": [
    "# pca = PCA(n_components=2, random_state=42)\n",
    "pca = TruncatedSVD(n_components=2, random_state=42)\n",
    "transformed_vectors = pca.fit_transform(X=vectors)\n",
    "\n",
    "# Isolate the data we'll need for plotting.\n",
    "x_component, y_component = transformed_vectors[:, 0], transformed_vectors[:, 1]"
   ]
  },
  {
   "cell_type": "code",
   "execution_count": null,
   "metadata": {},
   "outputs": [],
   "source": [
    "def plot_pca(x_component, y_component, classes):\n",
    "    # Plot our dimensionality-reduced (via PCA) dataset.\n",
    "    plt.figure(figsize=(8.5, 6), dpi=130)\n",
    "    plt.scatter(x=x_component, y=y_component, c=classes, s=5, alpha=0.5)\n",
    "    plt.title('Ligands after PCA transformation')\n",
    "    plt.show()"
   ]
  },
  {
   "cell_type": "code",
   "execution_count": null,
   "metadata": {},
   "outputs": [],
   "source": [
    "plot_pca(x_component=x_component, y_component=y_component, classes=classes)"
   ]
  },
  {
   "cell_type": "code",
   "execution_count": null,
   "metadata": {},
   "outputs": [],
   "source": []
  }
 ],
 "metadata": {
  "kernelspec": {
   "display_name": "dockop",
   "language": "python",
   "name": "dockop"
  },
  "language_info": {
   "codemirror_mode": {
    "name": "ipython",
    "version": 3
   },
   "file_extension": ".py",
   "mimetype": "text/x-python",
   "name": "python",
   "nbconvert_exporter": "python",
   "pygments_lexer": "ipython3",
   "version": "3.8.10"
  }
 },
 "nbformat": 4,
 "nbformat_minor": 4
}
