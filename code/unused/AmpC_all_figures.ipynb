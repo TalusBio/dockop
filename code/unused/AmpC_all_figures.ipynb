{
 "cells": [
  {
   "cell_type": "code",
   "execution_count": 1,
   "metadata": {},
   "outputs": [],
   "source": [
    "import numpy as np\n",
    "import matplotlib.pyplot as plt\n",
    "import pandas as pd\n",
    "import tqdm\n",
    "from scipy import sparse"
   ]
  },
  {
   "cell_type": "markdown",
   "metadata": {},
   "source": [
    "# Generate some indices\n",
    "Even the sparse matrices won't fit in memory. So we will have to loop through them when making predictions or sampling random items."
   ]
  },
  {
   "cell_type": "code",
   "execution_count": 13,
   "metadata": {},
   "outputs": [],
   "source": [
    "#count number of items:\n",
    "indptr = [0]\n",
    "\n",
    "for chunkID in range(10):\n",
    "    scores = np.load(f'../processed_data/AmpC_all{chunkID}.npy')\n",
    "    indptr.append(indptr[-1] + scores.shape[0])\n",
    "\n",
    "scores = np.concatenate([np.load(f'../processed_data/AmpC_all{i}.npy') for i in range(10)])"
   ]
  },
  {
   "cell_type": "code",
   "execution_count": 110,
   "metadata": {},
   "outputs": [
    {
     "data": {
      "text/plain": [
       "1.2983332346819265"
      ]
     },
     "execution_count": 110,
     "metadata": {},
     "output_type": "execute_result"
    }
   ],
   "source": [
    "(scores<-60).sum() / scores.shape[0] * 100"
   ]
  },
  {
   "cell_type": "code",
   "execution_count": 38,
   "metadata": {},
   "outputs": [
    {
     "data": {
      "text/plain": [
       "0.18737357960812545"
      ]
     },
     "execution_count": 38,
     "metadata": {},
     "output_type": "execute_result"
    }
   ],
   "source": [
    "180280 / scores.shape[0] * 100"
   ]
  },
  {
   "cell_type": "markdown",
   "metadata": {},
   "source": [
    "# Plot"
   ]
  },
  {
   "cell_type": "code",
   "execution_count": 2,
   "metadata": {},
   "outputs": [],
   "source": [
    "import altair as alt"
   ]
  },
  {
   "cell_type": "code",
   "execution_count": 3,
   "metadata": {},
   "outputs": [
    {
     "name": "stdout",
     "output_type": "stream",
     "text": [
      "../processed_data/ampc_reconstruction_0.03.csv\r\n",
      "../processed_data/ampc_reconstruction_0.05.csv\r\n",
      "../processed_data/ampc_reconstruction_0.125.0.8.csv\r\n",
      "../processed_data/ampc_reconstruction_0.125.csv\r\n",
      "../processed_data/ampc_reconstruction_0.15.csv\r\n",
      "../processed_data/ampc_reconstruction_0.175.csv\r\n",
      "../processed_data/ampc_reconstruction_0.1.csv\r\n",
      "../processed_data/ampc_reconstruction_0.25.csv\r\n",
      "../processed_data/ampc_reconstruction_0.5.csv\r\n",
      "../processed_data/ampc_reconstruction_0.75.csv\r\n",
      "../processed_data/ampc_reconstruction_1.csv\r\n",
      "../processed_data/ampc_reconstruction.csv\r\n"
     ]
    }
   ],
   "source": [
    "!ls ../processed_data/ampc_recon*"
   ]
  },
  {
   "cell_type": "code",
   "execution_count": 4,
   "metadata": {},
   "outputs": [],
   "source": [
    "#df = pd.read_csv('../processed_data/ampc_reconstruction_0.03.csv')\n",
    "#df = pd.read_csv('../processed_data/ampc_reconstruction_0.04.csv')\n",
    "#df = pd.read_csv('../processed_data/ampc_reconstruction_0.05.csv')\n",
    "#df = pd.read_csv('../processed_data/ampc_reconstruction_0.06.csv')\n",
    "df = pd.read_csv('../processed_data/ampc_reconstruction_0.15.csv')\n",
    "#df = pd.read_csv('../processed_data/ampc_reconstruction_0.15.csv')\n",
    "#df = pd.read_csv('../processed_data/ampc_reconstruction_0.175.csv')\n",
    "#df = pd.read_csv('../processed_data/ampc_reconstruction_0.25.csv')\n",
    "#df = pd.read_csv('../processed_data/ampc_reconstruction_0.5.csv')\n",
    "#df = pd.read_csv('../processed_data/ampc_reconstruction_0.75.csv')\n",
    "#df = pd.read_csv('../processed_data/ampc_reconstruction_1.csv')"
   ]
  },
  {
   "cell_type": "code",
   "execution_count": null,
   "metadata": {},
   "outputs": [],
   "source": []
  },
  {
   "cell_type": "code",
   "execution_count": 5,
   "metadata": {},
   "outputs": [],
   "source": [
    "prev_results = [['RF (Coley)', 400_000, 71.4, 2.1], ['NN (Coley)', 400_000, 74.7, 1.4],\n",
    "                ['MPN (Coley)',400_000, 87.9, 2.3],\n",
    "    ['RF (Coley)', 200_000, 45.5, 1.8],\n",
    "['NN (Coley)', 200_000, 52.8, 0.5],\n",
    "['MPN (Coley)', 200_000, 67.1, 2.1],\n",
    "['RF (Coley)', 100_000, 24.0, 2.2],\n",
    "['NN (Coley)', 100_000 , 33.3,0.3],\n",
    "['MPN (Coley)', 100_000, 52.0, 0.5]]\n"
   ]
  },
  {
   "cell_type": "code",
   "execution_count": 6,
   "metadata": {},
   "outputs": [],
   "source": [
    "\n",
    "\n",
    "coley = pd.DataFrame(columns=['Algorithm', 'Training size', 'N ligands explored', '% top-k found'])\n",
    "count = 0 \n",
    "for res in prev_results:\n",
    "    \n",
    "    desired_std_dev = res[3]\n",
    "    samples = np.array([-1,0,1]).astype(float)\n",
    "    samples *= (desired_std_dev/np.std(samples))\n",
    "    for s in samples:\n",
    "        coley.loc[count]= [res[0], res[1], res[1]*6, (s+res[2])/100]\n",
    "        count+=1"
   ]
  },
  {
   "cell_type": "code",
   "execution_count": 7,
   "metadata": {},
   "outputs": [],
   "source": [
    "concat = pd.concat([df, coley])"
   ]
  },
  {
   "cell_type": "code",
   "execution_count": 8,
   "metadata": {
    "scrolled": true
   },
   "outputs": [
    {
     "data": {
      "text/html": [
       "\n",
       "<div id=\"altair-viz-63b3e45cd2f840c2b6a531c52e8035f7\"></div>\n",
       "<script type=\"text/javascript\">\n",
       "  (function(spec, embedOpt){\n",
       "    let outputDiv = document.currentScript.previousElementSibling;\n",
       "    if (outputDiv.id !== \"altair-viz-63b3e45cd2f840c2b6a531c52e8035f7\") {\n",
       "      outputDiv = document.getElementById(\"altair-viz-63b3e45cd2f840c2b6a531c52e8035f7\");\n",
       "    }\n",
       "    const paths = {\n",
       "      \"vega\": \"https://cdn.jsdelivr.net/npm//vega@5?noext\",\n",
       "      \"vega-lib\": \"https://cdn.jsdelivr.net/npm//vega-lib?noext\",\n",
       "      \"vega-lite\": \"https://cdn.jsdelivr.net/npm//vega-lite@4.8.1?noext\",\n",
       "      \"vega-embed\": \"https://cdn.jsdelivr.net/npm//vega-embed@6?noext\",\n",
       "    };\n",
       "\n",
       "    function loadScript(lib) {\n",
       "      return new Promise(function(resolve, reject) {\n",
       "        var s = document.createElement('script');\n",
       "        s.src = paths[lib];\n",
       "        s.async = true;\n",
       "        s.onload = () => resolve(paths[lib]);\n",
       "        s.onerror = () => reject(`Error loading script: ${paths[lib]}`);\n",
       "        document.getElementsByTagName(\"head\")[0].appendChild(s);\n",
       "      });\n",
       "    }\n",
       "\n",
       "    function showError(err) {\n",
       "      outputDiv.innerHTML = `<div class=\"error\" style=\"color:red;\">${err}</div>`;\n",
       "      throw err;\n",
       "    }\n",
       "\n",
       "    function displayChart(vegaEmbed) {\n",
       "      vegaEmbed(outputDiv, spec, embedOpt)\n",
       "        .catch(err => showError(`Javascript Error: ${err.message}<br>This usually means there's a typo in your chart specification. See the javascript console for the full traceback.`));\n",
       "    }\n",
       "\n",
       "    if(typeof define === \"function\" && define.amd) {\n",
       "      requirejs.config({paths});\n",
       "      require([\"vega-embed\"], displayChart, err => showError(`Error loading script: ${err.message}`));\n",
       "    } else if (typeof vegaEmbed === \"function\") {\n",
       "      displayChart(vegaEmbed);\n",
       "    } else {\n",
       "      loadScript(\"vega\")\n",
       "        .then(() => loadScript(\"vega-lite\"))\n",
       "        .then(() => loadScript(\"vega-embed\"))\n",
       "        .catch(showError)\n",
       "        .then(() => displayChart(vegaEmbed));\n",
       "    }\n",
       "  })({\"config\": {\"view\": {\"continuousWidth\": 400, \"continuousHeight\": 300}}, \"data\": {\"name\": \"data-be29bc29e3847cbb8484045f00e8993f\"}, \"facet\": {\"column\": {\"type\": \"nominal\", \"field\": \"Training size\", \"sort\": [0.004, 0.002, 0.001]}}, \"spec\": {\"layer\": [{\"mark\": {\"type\": \"errorbar\", \"extent\": \"ci\"}, \"encoding\": {\"color\": {\"type\": \"nominal\", \"field\": \"Algorithm\"}, \"x\": {\"type\": \"quantitative\", \"field\": \"N ligands explored\", \"title\": \"Number of ligands sampled\"}, \"y\": {\"type\": \"quantitative\", \"field\": \"% top-k found\", \"title\": \"% top 50,000 found\"}}}, {\"mark\": {\"type\": \"point\", \"color\": \"black\", \"filled\": true}, \"encoding\": {\"color\": {\"type\": \"nominal\", \"field\": \"Algorithm\"}, \"x\": {\"type\": \"quantitative\", \"field\": \"N ligands explored\"}, \"y\": {\"type\": \"quantitative\", \"aggregate\": \"mean\", \"field\": \"% top-k found\", \"title\": \"% top 50,000 found\"}}}, {\"mark\": {\"type\": \"line\", \"color\": \"black\", \"opacity\": 0.5, \"size\": 1}, \"encoding\": {\"color\": {\"type\": \"nominal\", \"field\": \"Algorithm\"}, \"x\": {\"type\": \"quantitative\", \"field\": \"N ligands explored\"}, \"y\": {\"type\": \"quantitative\", \"aggregate\": \"mean\", \"field\": \"% top-k found\", \"title\": \"% top 50,000 found\"}}}], \"height\": 400, \"width\": 200}, \"resolve\": {\"scale\": {\"x\": \"independent\"}}, \"$schema\": \"https://vega.github.io/schema/vega-lite/v4.8.1.json\", \"datasets\": {\"data-be29bc29e3847cbb8484045f00e8993f\": [{\"Unnamed: 0\": 0.0, \"Algorithm\": \"morgan_feat\", \"Training size\": 400000, \"N ligands explored\": 400000, \"% top-k found\": 0.00428}, {\"Unnamed: 0\": 1.0, \"Algorithm\": \"morgan_feat\", \"Training size\": 400000, \"N ligands explored\": 800000, \"% top-k found\": 0.37858}, {\"Unnamed: 0\": 2.0, \"Algorithm\": \"morgan_feat\", \"Training size\": 400000, \"N ligands explored\": 1200000, \"% top-k found\": 0.67542}, {\"Unnamed: 0\": 3.0, \"Algorithm\": \"morgan_feat\", \"Training size\": 400000, \"N ligands explored\": 1600000, \"% top-k found\": 0.8032600000000001}, {\"Unnamed: 0\": 4.0, \"Algorithm\": \"morgan_feat\", \"Training size\": 400000, \"N ligands explored\": 2000000, \"% top-k found\": 0.8755200000000001}, {\"Unnamed: 0\": 5.0, \"Algorithm\": \"morgan_feat\", \"Training size\": 400000, \"N ligands explored\": 2400000, \"% top-k found\": 0.91186}, {\"Unnamed: 0\": 6.0, \"Algorithm\": \"morgan_feat\", \"Training size\": 200000, \"N ligands explored\": 200000, \"% top-k found\": 0.0022}, {\"Unnamed: 0\": 7.0, \"Algorithm\": \"morgan_feat\", \"Training size\": 200000, \"N ligands explored\": 400000, \"% top-k found\": 0.19212}, {\"Unnamed: 0\": 8.0, \"Algorithm\": \"morgan_feat\", \"Training size\": 200000, \"N ligands explored\": 600000, \"% top-k found\": 0.43718}, {\"Unnamed: 0\": 9.0, \"Algorithm\": \"morgan_feat\", \"Training size\": 200000, \"N ligands explored\": 800000, \"% top-k found\": 0.57908}, {\"Unnamed: 0\": 10.0, \"Algorithm\": \"morgan_feat\", \"Training size\": 200000, \"N ligands explored\": 1000000, \"% top-k found\": 0.6825}, {\"Unnamed: 0\": 11.0, \"Algorithm\": \"morgan_feat\", \"Training size\": 200000, \"N ligands explored\": 1200000, \"% top-k found\": 0.74802}, {\"Unnamed: 0\": 12.0, \"Algorithm\": \"morgan_feat\", \"Training size\": 100000, \"N ligands explored\": 100000, \"% top-k found\": 0.00108}, {\"Unnamed: 0\": 13.0, \"Algorithm\": \"morgan_feat\", \"Training size\": 100000, \"N ligands explored\": 200000, \"% top-k found\": 0.0831}, {\"Unnamed: 0\": 14.0, \"Algorithm\": \"morgan_feat\", \"Training size\": 100000, \"N ligands explored\": 300000, \"% top-k found\": 0.2516}, {\"Unnamed: 0\": 15.0, \"Algorithm\": \"morgan_feat\", \"Training size\": 100000, \"N ligands explored\": 400000, \"% top-k found\": 0.37566}, {\"Unnamed: 0\": 16.0, \"Algorithm\": \"morgan_feat\", \"Training size\": 100000, \"N ligands explored\": 500000, \"% top-k found\": 0.46276000000000006}, {\"Unnamed: 0\": 17.0, \"Algorithm\": \"morgan_feat\", \"Training size\": 100000, \"N ligands explored\": 600000, \"% top-k found\": 0.52894}, {\"Unnamed: 0\": 18.0, \"Algorithm\": \"morgan_feat\", \"Training size\": 400000, \"N ligands explored\": 400000, \"% top-k found\": 0.00448}, {\"Unnamed: 0\": 19.0, \"Algorithm\": \"morgan_feat\", \"Training size\": 400000, \"N ligands explored\": 800000, \"% top-k found\": 0.3595}, {\"Unnamed: 0\": 20.0, \"Algorithm\": \"morgan_feat\", \"Training size\": 400000, \"N ligands explored\": 1200000, \"% top-k found\": 0.67294}, {\"Unnamed: 0\": 21.0, \"Algorithm\": \"morgan_feat\", \"Training size\": 400000, \"N ligands explored\": 1600000, \"% top-k found\": 0.80584}, {\"Unnamed: 0\": 22.0, \"Algorithm\": \"morgan_feat\", \"Training size\": 400000, \"N ligands explored\": 2000000, \"% top-k found\": 0.8758}, {\"Unnamed: 0\": 23.0, \"Algorithm\": \"morgan_feat\", \"Training size\": 400000, \"N ligands explored\": 2400000, \"% top-k found\": 0.9124}, {\"Unnamed: 0\": 24.0, \"Algorithm\": \"morgan_feat\", \"Training size\": 200000, \"N ligands explored\": 200000, \"% top-k found\": 0.0023}, {\"Unnamed: 0\": 25.0, \"Algorithm\": \"morgan_feat\", \"Training size\": 200000, \"N ligands explored\": 400000, \"% top-k found\": 0.19488}, {\"Unnamed: 0\": 26.0, \"Algorithm\": \"morgan_feat\", \"Training size\": 200000, \"N ligands explored\": 600000, \"% top-k found\": 0.4365}, {\"Unnamed: 0\": 27.0, \"Algorithm\": \"morgan_feat\", \"Training size\": 200000, \"N ligands explored\": 800000, \"% top-k found\": 0.55952}, {\"Unnamed: 0\": 28.0, \"Algorithm\": \"morgan_feat\", \"Training size\": 200000, \"N ligands explored\": 1000000, \"% top-k found\": 0.63046}, {\"Unnamed: 0\": 29.0, \"Algorithm\": \"morgan_feat\", \"Training size\": 200000, \"N ligands explored\": 1200000, \"% top-k found\": 0.6825600000000001}, {\"Unnamed: 0\": 30.0, \"Algorithm\": \"morgan_feat\", \"Training size\": 100000, \"N ligands explored\": 100000, \"% top-k found\": 0.00134}, {\"Unnamed: 0\": 31.0, \"Algorithm\": \"morgan_feat\", \"Training size\": 100000, \"N ligands explored\": 200000, \"% top-k found\": 0.0952}, {\"Unnamed: 0\": 32.0, \"Algorithm\": \"morgan_feat\", \"Training size\": 100000, \"N ligands explored\": 300000, \"% top-k found\": 0.26992}, {\"Unnamed: 0\": 33.0, \"Algorithm\": \"morgan_feat\", \"Training size\": 100000, \"N ligands explored\": 400000, \"% top-k found\": 0.37442}, {\"Unnamed: 0\": 34.0, \"Algorithm\": \"morgan_feat\", \"Training size\": 100000, \"N ligands explored\": 500000, \"% top-k found\": 0.44}, {\"Unnamed: 0\": 35.0, \"Algorithm\": \"morgan_feat\", \"Training size\": 100000, \"N ligands explored\": 600000, \"% top-k found\": 0.49106000000000005}, {\"Unnamed: 0\": 36.0, \"Algorithm\": \"morgan_feat\", \"Training size\": 400000, \"N ligands explored\": 400000, \"% top-k found\": 0.004079999999999999}, {\"Unnamed: 0\": 37.0, \"Algorithm\": \"morgan_feat\", \"Training size\": 400000, \"N ligands explored\": 800000, \"% top-k found\": 0.3604}, {\"Unnamed: 0\": 38.0, \"Algorithm\": \"morgan_feat\", \"Training size\": 400000, \"N ligands explored\": 1200000, \"% top-k found\": 0.6814600000000001}, {\"Unnamed: 0\": 39.0, \"Algorithm\": \"morgan_feat\", \"Training size\": 400000, \"N ligands explored\": 1600000, \"% top-k found\": 0.8025800000000001}, {\"Unnamed: 0\": 40.0, \"Algorithm\": \"morgan_feat\", \"Training size\": 400000, \"N ligands explored\": 2000000, \"% top-k found\": 0.87598}, {\"Unnamed: 0\": 41.0, \"Algorithm\": \"morgan_feat\", \"Training size\": 400000, \"N ligands explored\": 2400000, \"% top-k found\": 0.9107}, {\"Unnamed: 0\": 42.0, \"Algorithm\": \"morgan_feat\", \"Training size\": 200000, \"N ligands explored\": 200000, \"% top-k found\": 0.00212}, {\"Unnamed: 0\": 43.0, \"Algorithm\": \"morgan_feat\", \"Training size\": 200000, \"N ligands explored\": 400000, \"% top-k found\": 0.21054}, {\"Unnamed: 0\": 44.0, \"Algorithm\": \"morgan_feat\", \"Training size\": 200000, \"N ligands explored\": 600000, \"% top-k found\": 0.43183999999999995}, {\"Unnamed: 0\": 45.0, \"Algorithm\": \"morgan_feat\", \"Training size\": 200000, \"N ligands explored\": 800000, \"% top-k found\": 0.5393600000000001}, {\"Unnamed: 0\": 46.0, \"Algorithm\": \"morgan_feat\", \"Training size\": 200000, \"N ligands explored\": 1000000, \"% top-k found\": 0.6187199999999999}, {\"Unnamed: 0\": 47.0, \"Algorithm\": \"morgan_feat\", \"Training size\": 200000, \"N ligands explored\": 1200000, \"% top-k found\": 0.6819}, {\"Unnamed: 0\": 48.0, \"Algorithm\": \"morgan_feat\", \"Training size\": 100000, \"N ligands explored\": 100000, \"% top-k found\": 0.00122}, {\"Unnamed: 0\": 49.0, \"Algorithm\": \"morgan_feat\", \"Training size\": 100000, \"N ligands explored\": 200000, \"% top-k found\": 0.10438}, {\"Unnamed: 0\": 50.0, \"Algorithm\": \"morgan_feat\", \"Training size\": 100000, \"N ligands explored\": 300000, \"% top-k found\": 0.2723}, {\"Unnamed: 0\": 51.0, \"Algorithm\": \"morgan_feat\", \"Training size\": 100000, \"N ligands explored\": 400000, \"% top-k found\": 0.37532}, {\"Unnamed: 0\": 52.0, \"Algorithm\": \"morgan_feat\", \"Training size\": 100000, \"N ligands explored\": 500000, \"% top-k found\": 0.45311999999999997}, {\"Unnamed: 0\": 53.0, \"Algorithm\": \"morgan_feat\", \"Training size\": 100000, \"N ligands explored\": 600000, \"% top-k found\": 0.5058}, {\"Unnamed: 0\": null, \"Algorithm\": \"RF (Coley)\", \"Training size\": 400000, \"N ligands explored\": 2400000, \"% top-k found\": 0.6882803577007767}, {\"Unnamed: 0\": null, \"Algorithm\": \"RF (Coley)\", \"Training size\": 400000, \"N ligands explored\": 2400000, \"% top-k found\": 0.7140000000000001}, {\"Unnamed: 0\": null, \"Algorithm\": \"RF (Coley)\", \"Training size\": 400000, \"N ligands explored\": 2400000, \"% top-k found\": 0.7397196422992235}, {\"Unnamed: 0\": null, \"Algorithm\": \"NN (Coley)\", \"Training size\": 400000, \"N ligands explored\": 2400000, \"% top-k found\": 0.7298535718005178}, {\"Unnamed: 0\": null, \"Algorithm\": \"NN (Coley)\", \"Training size\": 400000, \"N ligands explored\": 2400000, \"% top-k found\": 0.747}, {\"Unnamed: 0\": null, \"Algorithm\": \"NN (Coley)\", \"Training size\": 400000, \"N ligands explored\": 2400000, \"% top-k found\": 0.7641464281994823}, {\"Unnamed: 0\": null, \"Algorithm\": \"MPN (Coley)\", \"Training size\": 400000, \"N ligands explored\": 2400000, \"% top-k found\": 0.8508308679579935}, {\"Unnamed: 0\": null, \"Algorithm\": \"MPN (Coley)\", \"Training size\": 400000, \"N ligands explored\": 2400000, \"% top-k found\": 0.879}, {\"Unnamed: 0\": null, \"Algorithm\": \"MPN (Coley)\", \"Training size\": 400000, \"N ligands explored\": 2400000, \"% top-k found\": 0.9071691320420067}, {\"Unnamed: 0\": null, \"Algorithm\": \"RF (Coley)\", \"Training size\": 200000, \"N ligands explored\": 1200000, \"% top-k found\": 0.43295459231495137}, {\"Unnamed: 0\": null, \"Algorithm\": \"RF (Coley)\", \"Training size\": 200000, \"N ligands explored\": 1200000, \"% top-k found\": 0.455}, {\"Unnamed: 0\": null, \"Algorithm\": \"RF (Coley)\", \"Training size\": 200000, \"N ligands explored\": 1200000, \"% top-k found\": 0.4770454076850486}, {\"Unnamed: 0\": null, \"Algorithm\": \"NN (Coley)\", \"Training size\": 200000, \"N ligands explored\": 1200000, \"% top-k found\": 0.521876275643042}, {\"Unnamed: 0\": null, \"Algorithm\": \"NN (Coley)\", \"Training size\": 200000, \"N ligands explored\": 1200000, \"% top-k found\": 0.528}, {\"Unnamed: 0\": null, \"Algorithm\": \"NN (Coley)\", \"Training size\": 200000, \"N ligands explored\": 1200000, \"% top-k found\": 0.534123724356958}, {\"Unnamed: 0\": null, \"Algorithm\": \"MPN (Coley)\", \"Training size\": 200000, \"N ligands explored\": 1200000, \"% top-k found\": 0.6452803577007765}, {\"Unnamed: 0\": null, \"Algorithm\": \"MPN (Coley)\", \"Training size\": 200000, \"N ligands explored\": 1200000, \"% top-k found\": 0.6709999999999999}, {\"Unnamed: 0\": null, \"Algorithm\": \"MPN (Coley)\", \"Training size\": 200000, \"N ligands explored\": 1200000, \"% top-k found\": 0.6967196422992233}, {\"Unnamed: 0\": null, \"Algorithm\": \"RF (Coley)\", \"Training size\": 100000, \"N ligands explored\": 600000, \"% top-k found\": 0.21305561282938507}, {\"Unnamed: 0\": null, \"Algorithm\": \"RF (Coley)\", \"Training size\": 100000, \"N ligands explored\": 600000, \"% top-k found\": 0.24}, {\"Unnamed: 0\": null, \"Algorithm\": \"RF (Coley)\", \"Training size\": 100000, \"N ligands explored\": 600000, \"% top-k found\": 0.26694438717061497}, {\"Unnamed: 0\": null, \"Algorithm\": \"NN (Coley)\", \"Training size\": 100000, \"N ligands explored\": 600000, \"% top-k found\": 0.32932576538582525}, {\"Unnamed: 0\": null, \"Algorithm\": \"NN (Coley)\", \"Training size\": 100000, \"N ligands explored\": 600000, \"% top-k found\": 0.33299999999999996}, {\"Unnamed: 0\": null, \"Algorithm\": \"NN (Coley)\", \"Training size\": 100000, \"N ligands explored\": 600000, \"% top-k found\": 0.3366742346141747}, {\"Unnamed: 0\": null, \"Algorithm\": \"MPN (Coley)\", \"Training size\": 100000, \"N ligands explored\": 600000, \"% top-k found\": 0.5138762756430421}, {\"Unnamed: 0\": null, \"Algorithm\": \"MPN (Coley)\", \"Training size\": 100000, \"N ligands explored\": 600000, \"% top-k found\": 0.52}, {\"Unnamed: 0\": null, \"Algorithm\": \"MPN (Coley)\", \"Training size\": 100000, \"N ligands explored\": 600000, \"% top-k found\": 0.526123724356958}]}}, {\"mode\": \"vega-lite\"});\n",
       "</script>"
      ],
      "text/plain": [
       "alt.FacetChart(...)"
      ]
     },
     "execution_count": 8,
     "metadata": {},
     "output_type": "execute_result"
    }
   ],
   "source": [
    "error_bars = alt.Chart(concat).mark_errorbar(extent='ci').encode(\n",
    "  x=alt.X('N ligands explored:Q',title='Number of ligands sampled'),\n",
    "  y=alt.Y('% top-k found:Q', title='% top 50,000 found'),\n",
    "    color=alt.Color('Algorithm')\n",
    ")\n",
    "\n",
    "points = alt.Chart(concat).mark_point(filled=True, color='black').encode(\n",
    "  x=alt.X('N ligands explored:Q'),\n",
    "  y=alt.Y('% top-k found:Q',aggregate='mean',title='% top 50,000 found'),\n",
    "    color=alt.Color('Algorithm')\n",
    ")\n",
    "\n",
    "line = alt.Chart(concat).mark_line(color='black',size=1,opacity=0.5).encode(\n",
    "  x=alt.X('N ligands explored:Q'),\n",
    "  y=alt.Y('% top-k found:Q',aggregate='mean',title='% top 50,000 found'),\n",
    "    color=alt.Color('Algorithm')\n",
    ")\n",
    "\n",
    "ch = (error_bars+points+line).properties(height=400,width=200).facet(\n",
    "    column=alt.Column('Training size:N',sort=alt.Sort([0.004, 0.002, 0.001])),\n",
    ").resolve_scale(x='independent')\n",
    "ch"
   ]
  },
  {
   "cell_type": "code",
   "execution_count": 102,
   "metadata": {
    "scrolled": true
   },
   "outputs": [],
   "source": [
    "#df.to_csv('../processed_data/ampc_reconstruction.csv')"
   ]
  },
  {
   "cell_type": "code",
   "execution_count": 103,
   "metadata": {},
   "outputs": [],
   "source": [
    "chs = []\n",
    "for frac in [400000, 200000, 100000]:\n",
    "    \n",
    "    df_ = concat[concat['Training size']==frac].replace('morgan_feat', 'Morgan pharm. & Log.reg. (ours)')\n",
    "    error_bars = alt.Chart(df_).mark_errorbar(extent='ci').encode(\n",
    "          x=alt.X('N ligands explored:Q', \n",
    "                  title='Number of ligands sampled',\n",
    "                  scale=alt.Scale(domain=[0,max(df_['N ligands explored'])+10000])),\n",
    "          y=alt.Y('% top-k found:Q',scale=alt.Scale(domain=[0,0.95])),\n",
    "        color=alt.Color('Algorithm')\n",
    "        )\n",
    "\n",
    "    points = alt.Chart(df_).mark_point(filled=True, color='black').encode(\n",
    "          x=alt.X('N ligands explored:Q'),\n",
    "          y=alt.Y('% top-k found:Q',aggregate='mean',scale=alt.Scale(domain=[0,0.95])),\n",
    "        color=alt.Color('Algorithm')\n",
    "        )\n",
    "\n",
    "    line = alt.Chart(df_).mark_line(color='black',size=1,opacity=0.5).encode(\n",
    "          x=alt.X('N ligands explored:Q'),\n",
    "          y=alt.Y('% top-k found:Q',aggregate='mean',scale=alt.Scale(domain=[0,0.95])),\n",
    "        color=alt.Color('Algorithm')\n",
    "        )\n",
    "    ch = (error_bars+points+line).properties(width=200)\n",
    "    ch.title = str(frac / (100*1e6)*100)\n",
    "    chs.append(ch)\n"
   ]
  },
  {
   "cell_type": "code",
   "execution_count": 104,
   "metadata": {},
   "outputs": [
    {
     "data": {
      "text/html": [
       "\n",
       "<div id=\"altair-viz-34fac014626e4940a9e332406626b07e\"></div>\n",
       "<script type=\"text/javascript\">\n",
       "  (function(spec, embedOpt){\n",
       "    let outputDiv = document.currentScript.previousElementSibling;\n",
       "    if (outputDiv.id !== \"altair-viz-34fac014626e4940a9e332406626b07e\") {\n",
       "      outputDiv = document.getElementById(\"altair-viz-34fac014626e4940a9e332406626b07e\");\n",
       "    }\n",
       "    const paths = {\n",
       "      \"vega\": \"https://cdn.jsdelivr.net/npm//vega@5?noext\",\n",
       "      \"vega-lib\": \"https://cdn.jsdelivr.net/npm//vega-lib?noext\",\n",
       "      \"vega-lite\": \"https://cdn.jsdelivr.net/npm//vega-lite@4.8.1?noext\",\n",
       "      \"vega-embed\": \"https://cdn.jsdelivr.net/npm//vega-embed@6?noext\",\n",
       "    };\n",
       "\n",
       "    function loadScript(lib) {\n",
       "      return new Promise(function(resolve, reject) {\n",
       "        var s = document.createElement('script');\n",
       "        s.src = paths[lib];\n",
       "        s.async = true;\n",
       "        s.onload = () => resolve(paths[lib]);\n",
       "        s.onerror = () => reject(`Error loading script: ${paths[lib]}`);\n",
       "        document.getElementsByTagName(\"head\")[0].appendChild(s);\n",
       "      });\n",
       "    }\n",
       "\n",
       "    function showError(err) {\n",
       "      outputDiv.innerHTML = `<div class=\"error\" style=\"color:red;\">${err}</div>`;\n",
       "      throw err;\n",
       "    }\n",
       "\n",
       "    function displayChart(vegaEmbed) {\n",
       "      vegaEmbed(outputDiv, spec, embedOpt)\n",
       "        .catch(err => showError(`Javascript Error: ${err.message}<br>This usually means there's a typo in your chart specification. See the javascript console for the full traceback.`));\n",
       "    }\n",
       "\n",
       "    if(typeof define === \"function\" && define.amd) {\n",
       "      requirejs.config({paths});\n",
       "      require([\"vega-embed\"], displayChart, err => showError(`Error loading script: ${err.message}`));\n",
       "    } else if (typeof vegaEmbed === \"function\") {\n",
       "      displayChart(vegaEmbed);\n",
       "    } else {\n",
       "      loadScript(\"vega\")\n",
       "        .then(() => loadScript(\"vega-lite\"))\n",
       "        .then(() => loadScript(\"vega-embed\"))\n",
       "        .catch(showError)\n",
       "        .then(() => displayChart(vegaEmbed));\n",
       "    }\n",
       "  })({\"config\": {\"view\": {\"continuousWidth\": 400, \"continuousHeight\": 300}}, \"hconcat\": [{\"layer\": [{\"mark\": {\"type\": \"errorbar\", \"extent\": \"ci\"}, \"encoding\": {\"color\": {\"type\": \"nominal\", \"field\": \"Algorithm\"}, \"x\": {\"type\": \"quantitative\", \"field\": \"N ligands explored\", \"scale\": {\"domain\": [0, 2410000]}, \"title\": \"Number of ligands sampled\"}, \"y\": {\"type\": \"quantitative\", \"field\": \"% top-k found\", \"scale\": {\"domain\": [0, 0.95]}}}}, {\"mark\": {\"type\": \"point\", \"color\": \"black\", \"filled\": true}, \"encoding\": {\"color\": {\"type\": \"nominal\", \"field\": \"Algorithm\"}, \"x\": {\"type\": \"quantitative\", \"field\": \"N ligands explored\"}, \"y\": {\"type\": \"quantitative\", \"aggregate\": \"mean\", \"field\": \"% top-k found\", \"scale\": {\"domain\": [0, 0.95]}}}}, {\"mark\": {\"type\": \"line\", \"color\": \"black\", \"opacity\": 0.5, \"size\": 1}, \"encoding\": {\"color\": {\"type\": \"nominal\", \"field\": \"Algorithm\"}, \"x\": {\"type\": \"quantitative\", \"field\": \"N ligands explored\"}, \"y\": {\"type\": \"quantitative\", \"aggregate\": \"mean\", \"field\": \"% top-k found\", \"scale\": {\"domain\": [0, 0.95]}}}}], \"data\": {\"name\": \"data-69f5ad225702dcd6770ee3714b521b20\"}, \"title\": \"0.4\", \"width\": 200}, {\"layer\": [{\"mark\": {\"type\": \"errorbar\", \"extent\": \"ci\"}, \"encoding\": {\"color\": {\"type\": \"nominal\", \"field\": \"Algorithm\"}, \"x\": {\"type\": \"quantitative\", \"field\": \"N ligands explored\", \"scale\": {\"domain\": [0, 1210000]}, \"title\": \"Number of ligands sampled\"}, \"y\": {\"type\": \"quantitative\", \"field\": \"% top-k found\", \"scale\": {\"domain\": [0, 0.95]}}}}, {\"mark\": {\"type\": \"point\", \"color\": \"black\", \"filled\": true}, \"encoding\": {\"color\": {\"type\": \"nominal\", \"field\": \"Algorithm\"}, \"x\": {\"type\": \"quantitative\", \"field\": \"N ligands explored\"}, \"y\": {\"type\": \"quantitative\", \"aggregate\": \"mean\", \"field\": \"% top-k found\", \"scale\": {\"domain\": [0, 0.95]}}}}, {\"mark\": {\"type\": \"line\", \"color\": \"black\", \"opacity\": 0.5, \"size\": 1}, \"encoding\": {\"color\": {\"type\": \"nominal\", \"field\": \"Algorithm\"}, \"x\": {\"type\": \"quantitative\", \"field\": \"N ligands explored\"}, \"y\": {\"type\": \"quantitative\", \"aggregate\": \"mean\", \"field\": \"% top-k found\", \"scale\": {\"domain\": [0, 0.95]}}}}], \"data\": {\"name\": \"data-60dc1958aa1398fd67536a8f5be03131\"}, \"title\": \"0.2\", \"width\": 200}, {\"layer\": [{\"mark\": {\"type\": \"errorbar\", \"extent\": \"ci\"}, \"encoding\": {\"color\": {\"type\": \"nominal\", \"field\": \"Algorithm\"}, \"x\": {\"type\": \"quantitative\", \"field\": \"N ligands explored\", \"scale\": {\"domain\": [0, 610000]}, \"title\": \"Number of ligands sampled\"}, \"y\": {\"type\": \"quantitative\", \"field\": \"% top-k found\", \"scale\": {\"domain\": [0, 0.95]}}}}, {\"mark\": {\"type\": \"point\", \"color\": \"black\", \"filled\": true}, \"encoding\": {\"color\": {\"type\": \"nominal\", \"field\": \"Algorithm\"}, \"x\": {\"type\": \"quantitative\", \"field\": \"N ligands explored\"}, \"y\": {\"type\": \"quantitative\", \"aggregate\": \"mean\", \"field\": \"% top-k found\", \"scale\": {\"domain\": [0, 0.95]}}}}, {\"mark\": {\"type\": \"line\", \"color\": \"black\", \"opacity\": 0.5, \"size\": 1}, \"encoding\": {\"color\": {\"type\": \"nominal\", \"field\": \"Algorithm\"}, \"x\": {\"type\": \"quantitative\", \"field\": \"N ligands explored\"}, \"y\": {\"type\": \"quantitative\", \"aggregate\": \"mean\", \"field\": \"% top-k found\", \"scale\": {\"domain\": [0, 0.95]}}}}], \"data\": {\"name\": \"data-44213e103d04ec10e454faa0a8c2a25e\"}, \"title\": \"0.1\", \"width\": 200}], \"$schema\": \"https://vega.github.io/schema/vega-lite/v4.8.1.json\", \"datasets\": {\"data-69f5ad225702dcd6770ee3714b521b20\": [{\"Unnamed: 0\": 0.0, \"Algorithm\": \"Morgan pharm. & Log.reg. (ours)\", \"Training size\": 400000, \"N ligands explored\": 400000, \"% top-k found\": 0.0044}, {\"Unnamed: 0\": 1.0, \"Algorithm\": \"Morgan pharm. & Log.reg. (ours)\", \"Training size\": 400000, \"N ligands explored\": 800000, \"% top-k found\": 0.37154}, {\"Unnamed: 0\": 2.0, \"Algorithm\": \"Morgan pharm. & Log.reg. (ours)\", \"Training size\": 400000, \"N ligands explored\": 1200000, \"% top-k found\": 0.65858}, {\"Unnamed: 0\": 3.0, \"Algorithm\": \"Morgan pharm. & Log.reg. (ours)\", \"Training size\": 400000, \"N ligands explored\": 1600000, \"% top-k found\": 0.80448}, {\"Unnamed: 0\": 4.0, \"Algorithm\": \"Morgan pharm. & Log.reg. (ours)\", \"Training size\": 400000, \"N ligands explored\": 2000000, \"% top-k found\": 0.87084}, {\"Unnamed: 0\": 5.0, \"Algorithm\": \"Morgan pharm. & Log.reg. (ours)\", \"Training size\": 400000, \"N ligands explored\": 2400000, \"% top-k found\": 0.90886}, {\"Unnamed: 0\": 18.0, \"Algorithm\": \"Morgan pharm. & Log.reg. (ours)\", \"Training size\": 400000, \"N ligands explored\": 400000, \"% top-k found\": 0.00398}, {\"Unnamed: 0\": 19.0, \"Algorithm\": \"Morgan pharm. & Log.reg. (ours)\", \"Training size\": 400000, \"N ligands explored\": 800000, \"% top-k found\": 0.35081999999999997}, {\"Unnamed: 0\": 20.0, \"Algorithm\": \"Morgan pharm. & Log.reg. (ours)\", \"Training size\": 400000, \"N ligands explored\": 1200000, \"% top-k found\": 0.6291}, {\"Unnamed: 0\": 21.0, \"Algorithm\": \"Morgan pharm. & Log.reg. (ours)\", \"Training size\": 400000, \"N ligands explored\": 1600000, \"% top-k found\": 0.78164}, {\"Unnamed: 0\": 22.0, \"Algorithm\": \"Morgan pharm. & Log.reg. (ours)\", \"Training size\": 400000, \"N ligands explored\": 2000000, \"% top-k found\": 0.85062}, {\"Unnamed: 0\": 23.0, \"Algorithm\": \"Morgan pharm. & Log.reg. (ours)\", \"Training size\": 400000, \"N ligands explored\": 2400000, \"% top-k found\": 0.8857}, {\"Unnamed: 0\": 36.0, \"Algorithm\": \"Morgan pharm. & Log.reg. (ours)\", \"Training size\": 400000, \"N ligands explored\": 400000, \"% top-k found\": 0.0038}, {\"Unnamed: 0\": 37.0, \"Algorithm\": \"Morgan pharm. & Log.reg. (ours)\", \"Training size\": 400000, \"N ligands explored\": 800000, \"% top-k found\": 0.38676}, {\"Unnamed: 0\": 38.0, \"Algorithm\": \"Morgan pharm. & Log.reg. (ours)\", \"Training size\": 400000, \"N ligands explored\": 1200000, \"% top-k found\": 0.68816}, {\"Unnamed: 0\": 39.0, \"Algorithm\": \"Morgan pharm. & Log.reg. (ours)\", \"Training size\": 400000, \"N ligands explored\": 1600000, \"% top-k found\": 0.81562}, {\"Unnamed: 0\": 40.0, \"Algorithm\": \"Morgan pharm. & Log.reg. (ours)\", \"Training size\": 400000, \"N ligands explored\": 2000000, \"% top-k found\": 0.8777799999999999}, {\"Unnamed: 0\": 41.0, \"Algorithm\": \"Morgan pharm. & Log.reg. (ours)\", \"Training size\": 400000, \"N ligands explored\": 2400000, \"% top-k found\": 0.9102}, {\"Unnamed: 0\": null, \"Algorithm\": \"RF (Coley)\", \"Training size\": 400000, \"N ligands explored\": 2400000, \"% top-k found\": 0.6882803577007767}, {\"Unnamed: 0\": null, \"Algorithm\": \"RF (Coley)\", \"Training size\": 400000, \"N ligands explored\": 2400000, \"% top-k found\": 0.7140000000000001}, {\"Unnamed: 0\": null, \"Algorithm\": \"RF (Coley)\", \"Training size\": 400000, \"N ligands explored\": 2400000, \"% top-k found\": 0.7397196422992235}, {\"Unnamed: 0\": null, \"Algorithm\": \"NN (Coley)\", \"Training size\": 400000, \"N ligands explored\": 2400000, \"% top-k found\": 0.7298535718005178}, {\"Unnamed: 0\": null, \"Algorithm\": \"NN (Coley)\", \"Training size\": 400000, \"N ligands explored\": 2400000, \"% top-k found\": 0.747}, {\"Unnamed: 0\": null, \"Algorithm\": \"NN (Coley)\", \"Training size\": 400000, \"N ligands explored\": 2400000, \"% top-k found\": 0.7641464281994823}, {\"Unnamed: 0\": null, \"Algorithm\": \"MPN (Coley)\", \"Training size\": 400000, \"N ligands explored\": 2400000, \"% top-k found\": 0.8508308679579935}, {\"Unnamed: 0\": null, \"Algorithm\": \"MPN (Coley)\", \"Training size\": 400000, \"N ligands explored\": 2400000, \"% top-k found\": 0.879}, {\"Unnamed: 0\": null, \"Algorithm\": \"MPN (Coley)\", \"Training size\": 400000, \"N ligands explored\": 2400000, \"% top-k found\": 0.9071691320420067}], \"data-60dc1958aa1398fd67536a8f5be03131\": [{\"Unnamed: 0\": 6.0, \"Algorithm\": \"Morgan pharm. & Log.reg. (ours)\", \"Training size\": 200000, \"N ligands explored\": 200000, \"% top-k found\": 0.0019199999999999998}, {\"Unnamed: 0\": 7.0, \"Algorithm\": \"Morgan pharm. & Log.reg. (ours)\", \"Training size\": 200000, \"N ligands explored\": 400000, \"% top-k found\": 0.185}, {\"Unnamed: 0\": 8.0, \"Algorithm\": \"Morgan pharm. & Log.reg. (ours)\", \"Training size\": 200000, \"N ligands explored\": 600000, \"% top-k found\": 0.45053999999999994}, {\"Unnamed: 0\": 9.0, \"Algorithm\": \"Morgan pharm. & Log.reg. (ours)\", \"Training size\": 200000, \"N ligands explored\": 800000, \"% top-k found\": 0.59212}, {\"Unnamed: 0\": 10.0, \"Algorithm\": \"Morgan pharm. & Log.reg. (ours)\", \"Training size\": 200000, \"N ligands explored\": 1000000, \"% top-k found\": 0.68372}, {\"Unnamed: 0\": 11.0, \"Algorithm\": \"Morgan pharm. & Log.reg. (ours)\", \"Training size\": 200000, \"N ligands explored\": 1200000, \"% top-k found\": 0.73952}, {\"Unnamed: 0\": 24.0, \"Algorithm\": \"Morgan pharm. & Log.reg. (ours)\", \"Training size\": 200000, \"N ligands explored\": 200000, \"% top-k found\": 0.0022600000000000003}, {\"Unnamed: 0\": 25.0, \"Algorithm\": \"Morgan pharm. & Log.reg. (ours)\", \"Training size\": 200000, \"N ligands explored\": 400000, \"% top-k found\": 0.19744}, {\"Unnamed: 0\": 26.0, \"Algorithm\": \"Morgan pharm. & Log.reg. (ours)\", \"Training size\": 200000, \"N ligands explored\": 600000, \"% top-k found\": 0.42182}, {\"Unnamed: 0\": 27.0, \"Algorithm\": \"Morgan pharm. & Log.reg. (ours)\", \"Training size\": 200000, \"N ligands explored\": 800000, \"% top-k found\": 0.54576}, {\"Unnamed: 0\": 28.0, \"Algorithm\": \"Morgan pharm. & Log.reg. (ours)\", \"Training size\": 200000, \"N ligands explored\": 1000000, \"% top-k found\": 0.63648}, {\"Unnamed: 0\": 29.0, \"Algorithm\": \"Morgan pharm. & Log.reg. (ours)\", \"Training size\": 200000, \"N ligands explored\": 1200000, \"% top-k found\": 0.7105}, {\"Unnamed: 0\": 42.0, \"Algorithm\": \"Morgan pharm. & Log.reg. (ours)\", \"Training size\": 200000, \"N ligands explored\": 200000, \"% top-k found\": 0.00214}, {\"Unnamed: 0\": 43.0, \"Algorithm\": \"Morgan pharm. & Log.reg. (ours)\", \"Training size\": 200000, \"N ligands explored\": 400000, \"% top-k found\": 0.19208}, {\"Unnamed: 0\": 44.0, \"Algorithm\": \"Morgan pharm. & Log.reg. (ours)\", \"Training size\": 200000, \"N ligands explored\": 600000, \"% top-k found\": 0.44482}, {\"Unnamed: 0\": 45.0, \"Algorithm\": \"Morgan pharm. & Log.reg. (ours)\", \"Training size\": 200000, \"N ligands explored\": 800000, \"% top-k found\": 0.57398}, {\"Unnamed: 0\": 46.0, \"Algorithm\": \"Morgan pharm. & Log.reg. (ours)\", \"Training size\": 200000, \"N ligands explored\": 1000000, \"% top-k found\": 0.67108}, {\"Unnamed: 0\": 47.0, \"Algorithm\": \"Morgan pharm. & Log.reg. (ours)\", \"Training size\": 200000, \"N ligands explored\": 1200000, \"% top-k found\": 0.75022}, {\"Unnamed: 0\": null, \"Algorithm\": \"RF (Coley)\", \"Training size\": 200000, \"N ligands explored\": 1200000, \"% top-k found\": 0.43295459231495137}, {\"Unnamed: 0\": null, \"Algorithm\": \"RF (Coley)\", \"Training size\": 200000, \"N ligands explored\": 1200000, \"% top-k found\": 0.455}, {\"Unnamed: 0\": null, \"Algorithm\": \"RF (Coley)\", \"Training size\": 200000, \"N ligands explored\": 1200000, \"% top-k found\": 0.4770454076850486}, {\"Unnamed: 0\": null, \"Algorithm\": \"NN (Coley)\", \"Training size\": 200000, \"N ligands explored\": 1200000, \"% top-k found\": 0.521876275643042}, {\"Unnamed: 0\": null, \"Algorithm\": \"NN (Coley)\", \"Training size\": 200000, \"N ligands explored\": 1200000, \"% top-k found\": 0.528}, {\"Unnamed: 0\": null, \"Algorithm\": \"NN (Coley)\", \"Training size\": 200000, \"N ligands explored\": 1200000, \"% top-k found\": 0.534123724356958}, {\"Unnamed: 0\": null, \"Algorithm\": \"MPN (Coley)\", \"Training size\": 200000, \"N ligands explored\": 1200000, \"% top-k found\": 0.6452803577007765}, {\"Unnamed: 0\": null, \"Algorithm\": \"MPN (Coley)\", \"Training size\": 200000, \"N ligands explored\": 1200000, \"% top-k found\": 0.6709999999999999}, {\"Unnamed: 0\": null, \"Algorithm\": \"MPN (Coley)\", \"Training size\": 200000, \"N ligands explored\": 1200000, \"% top-k found\": 0.6967196422992233}], \"data-44213e103d04ec10e454faa0a8c2a25e\": [{\"Unnamed: 0\": 12.0, \"Algorithm\": \"Morgan pharm. & Log.reg. (ours)\", \"Training size\": 100000, \"N ligands explored\": 100000, \"% top-k found\": 0.00086}, {\"Unnamed: 0\": 13.0, \"Algorithm\": \"Morgan pharm. & Log.reg. (ours)\", \"Training size\": 100000, \"N ligands explored\": 200000, \"% top-k found\": 0.08843999999999999}, {\"Unnamed: 0\": 14.0, \"Algorithm\": \"Morgan pharm. & Log.reg. (ours)\", \"Training size\": 100000, \"N ligands explored\": 300000, \"% top-k found\": 0.2621}, {\"Unnamed: 0\": 15.0, \"Algorithm\": \"Morgan pharm. & Log.reg. (ours)\", \"Training size\": 100000, \"N ligands explored\": 400000, \"% top-k found\": 0.3681}, {\"Unnamed: 0\": 16.0, \"Algorithm\": \"Morgan pharm. & Log.reg. (ours)\", \"Training size\": 100000, \"N ligands explored\": 500000, \"% top-k found\": 0.44428}, {\"Unnamed: 0\": 17.0, \"Algorithm\": \"Morgan pharm. & Log.reg. (ours)\", \"Training size\": 100000, \"N ligands explored\": 600000, \"% top-k found\": 0.49728}, {\"Unnamed: 0\": 30.0, \"Algorithm\": \"Morgan pharm. & Log.reg. (ours)\", \"Training size\": 100000, \"N ligands explored\": 100000, \"% top-k found\": 0.00114}, {\"Unnamed: 0\": 31.0, \"Algorithm\": \"Morgan pharm. & Log.reg. (ours)\", \"Training size\": 100000, \"N ligands explored\": 200000, \"% top-k found\": 0.10184}, {\"Unnamed: 0\": 32.0, \"Algorithm\": \"Morgan pharm. & Log.reg. (ours)\", \"Training size\": 100000, \"N ligands explored\": 300000, \"% top-k found\": 0.2656}, {\"Unnamed: 0\": 33.0, \"Algorithm\": \"Morgan pharm. & Log.reg. (ours)\", \"Training size\": 100000, \"N ligands explored\": 400000, \"% top-k found\": 0.36354000000000003}, {\"Unnamed: 0\": 34.0, \"Algorithm\": \"Morgan pharm. & Log.reg. (ours)\", \"Training size\": 100000, \"N ligands explored\": 500000, \"% top-k found\": 0.4358}, {\"Unnamed: 0\": 35.0, \"Algorithm\": \"Morgan pharm. & Log.reg. (ours)\", \"Training size\": 100000, \"N ligands explored\": 600000, \"% top-k found\": 0.4898}, {\"Unnamed: 0\": 48.0, \"Algorithm\": \"Morgan pharm. & Log.reg. (ours)\", \"Training size\": 100000, \"N ligands explored\": 100000, \"% top-k found\": 0.00098}, {\"Unnamed: 0\": 49.0, \"Algorithm\": \"Morgan pharm. & Log.reg. (ours)\", \"Training size\": 100000, \"N ligands explored\": 200000, \"% top-k found\": 0.08158}, {\"Unnamed: 0\": 50.0, \"Algorithm\": \"Morgan pharm. & Log.reg. (ours)\", \"Training size\": 100000, \"N ligands explored\": 300000, \"% top-k found\": 0.25172}, {\"Unnamed: 0\": 51.0, \"Algorithm\": \"Morgan pharm. & Log.reg. (ours)\", \"Training size\": 100000, \"N ligands explored\": 400000, \"% top-k found\": 0.3588}, {\"Unnamed: 0\": 52.0, \"Algorithm\": \"Morgan pharm. & Log.reg. (ours)\", \"Training size\": 100000, \"N ligands explored\": 500000, \"% top-k found\": 0.42978}, {\"Unnamed: 0\": 53.0, \"Algorithm\": \"Morgan pharm. & Log.reg. (ours)\", \"Training size\": 100000, \"N ligands explored\": 600000, \"% top-k found\": 0.48398}, {\"Unnamed: 0\": null, \"Algorithm\": \"RF (Coley)\", \"Training size\": 100000, \"N ligands explored\": 600000, \"% top-k found\": 0.21305561282938507}, {\"Unnamed: 0\": null, \"Algorithm\": \"RF (Coley)\", \"Training size\": 100000, \"N ligands explored\": 600000, \"% top-k found\": 0.24}, {\"Unnamed: 0\": null, \"Algorithm\": \"RF (Coley)\", \"Training size\": 100000, \"N ligands explored\": 600000, \"% top-k found\": 0.26694438717061497}, {\"Unnamed: 0\": null, \"Algorithm\": \"NN (Coley)\", \"Training size\": 100000, \"N ligands explored\": 600000, \"% top-k found\": 0.32932576538582525}, {\"Unnamed: 0\": null, \"Algorithm\": \"NN (Coley)\", \"Training size\": 100000, \"N ligands explored\": 600000, \"% top-k found\": 0.33299999999999996}, {\"Unnamed: 0\": null, \"Algorithm\": \"NN (Coley)\", \"Training size\": 100000, \"N ligands explored\": 600000, \"% top-k found\": 0.3366742346141747}, {\"Unnamed: 0\": null, \"Algorithm\": \"MPN (Coley)\", \"Training size\": 100000, \"N ligands explored\": 600000, \"% top-k found\": 0.5138762756430421}, {\"Unnamed: 0\": null, \"Algorithm\": \"MPN (Coley)\", \"Training size\": 100000, \"N ligands explored\": 600000, \"% top-k found\": 0.52}, {\"Unnamed: 0\": null, \"Algorithm\": \"MPN (Coley)\", \"Training size\": 100000, \"N ligands explored\": 600000, \"% top-k found\": 0.526123724356958}]}}, {\"mode\": \"vega-lite\"});\n",
       "</script>"
      ],
      "text/plain": [
       "alt.HConcatChart(...)"
      ]
     },
     "execution_count": 104,
     "metadata": {},
     "output_type": "execute_result"
    }
   ],
   "source": [
    "chs[0]\n",
    "sup = chs[0] |  chs[1] | chs[2]\n",
    "sup\n",
    "#sup.save('../figures/ampC_reconstruction.html') #using 0.05"
   ]
  },
  {
   "cell_type": "code",
   "execution_count": 109,
   "metadata": {},
   "outputs": [
    {
     "data": {
      "text/html": [
       "\n",
       "<div id=\"altair-viz-c06589d518d546808370e0ac42e315b8\"></div>\n",
       "<script type=\"text/javascript\">\n",
       "  (function(spec, embedOpt){\n",
       "    let outputDiv = document.currentScript.previousElementSibling;\n",
       "    if (outputDiv.id !== \"altair-viz-c06589d518d546808370e0ac42e315b8\") {\n",
       "      outputDiv = document.getElementById(\"altair-viz-c06589d518d546808370e0ac42e315b8\");\n",
       "    }\n",
       "    const paths = {\n",
       "      \"vega\": \"https://cdn.jsdelivr.net/npm//vega@5?noext\",\n",
       "      \"vega-lib\": \"https://cdn.jsdelivr.net/npm//vega-lib?noext\",\n",
       "      \"vega-lite\": \"https://cdn.jsdelivr.net/npm//vega-lite@4.8.1?noext\",\n",
       "      \"vega-embed\": \"https://cdn.jsdelivr.net/npm//vega-embed@6?noext\",\n",
       "    };\n",
       "\n",
       "    function loadScript(lib) {\n",
       "      return new Promise(function(resolve, reject) {\n",
       "        var s = document.createElement('script');\n",
       "        s.src = paths[lib];\n",
       "        s.async = true;\n",
       "        s.onload = () => resolve(paths[lib]);\n",
       "        s.onerror = () => reject(`Error loading script: ${paths[lib]}`);\n",
       "        document.getElementsByTagName(\"head\")[0].appendChild(s);\n",
       "      });\n",
       "    }\n",
       "\n",
       "    function showError(err) {\n",
       "      outputDiv.innerHTML = `<div class=\"error\" style=\"color:red;\">${err}</div>`;\n",
       "      throw err;\n",
       "    }\n",
       "\n",
       "    function displayChart(vegaEmbed) {\n",
       "      vegaEmbed(outputDiv, spec, embedOpt)\n",
       "        .catch(err => showError(`Javascript Error: ${err.message}<br>This usually means there's a typo in your chart specification. See the javascript console for the full traceback.`));\n",
       "    }\n",
       "\n",
       "    if(typeof define === \"function\" && define.amd) {\n",
       "      requirejs.config({paths});\n",
       "      require([\"vega-embed\"], displayChart, err => showError(`Error loading script: ${err.message}`));\n",
       "    } else if (typeof vegaEmbed === \"function\") {\n",
       "      displayChart(vegaEmbed);\n",
       "    } else {\n",
       "      loadScript(\"vega\")\n",
       "        .then(() => loadScript(\"vega-lite\"))\n",
       "        .then(() => loadScript(\"vega-embed\"))\n",
       "        .catch(showError)\n",
       "        .then(() => displayChart(vegaEmbed));\n",
       "    }\n",
       "  })({\"config\": {\"view\": {\"continuousWidth\": 400, \"continuousHeight\": 300}}, \"layer\": [{\"mark\": {\"type\": \"errorbar\", \"extent\": \"ci\"}, \"encoding\": {\"color\": {\"type\": \"nominal\", \"field\": \"Algorithm\"}, \"x\": {\"type\": \"quantitative\", \"field\": \"N ligands explored\", \"scale\": {\"domain\": [0, 2410000]}, \"title\": \"Number of ligands sampled\"}, \"y\": {\"type\": \"quantitative\", \"field\": \"% top-k found\", \"scale\": {\"domain\": [0, 0.95]}}}}, {\"mark\": {\"type\": \"point\", \"color\": \"black\", \"filled\": true}, \"encoding\": {\"color\": {\"type\": \"nominal\", \"field\": \"Algorithm\"}, \"x\": {\"type\": \"quantitative\", \"field\": \"N ligands explored\"}, \"y\": {\"type\": \"quantitative\", \"aggregate\": \"mean\", \"field\": \"% top-k found\", \"scale\": {\"domain\": [0, 0.95]}}}}, {\"mark\": {\"type\": \"line\", \"color\": \"black\", \"opacity\": 0.5, \"size\": 1}, \"encoding\": {\"color\": {\"type\": \"nominal\", \"field\": \"Algorithm\"}, \"x\": {\"type\": \"quantitative\", \"field\": \"N ligands explored\"}, \"y\": {\"type\": \"quantitative\", \"aggregate\": \"mean\", \"field\": \"% top-k found\", \"scale\": {\"domain\": [0, 0.95]}}}}, {\"layer\": [{\"mark\": {\"type\": \"errorbar\", \"extent\": \"ci\"}, \"encoding\": {\"color\": {\"type\": \"nominal\", \"field\": \"Algorithm\"}, \"x\": {\"type\": \"quantitative\", \"field\": \"N ligands explored\", \"scale\": {\"domain\": [0, 1210000]}, \"title\": \"Number of ligands sampled\"}, \"y\": {\"type\": \"quantitative\", \"field\": \"% top-k found\", \"scale\": {\"domain\": [0, 0.95]}}}}, {\"mark\": {\"type\": \"point\", \"color\": \"black\", \"filled\": true}, \"encoding\": {\"color\": {\"type\": \"nominal\", \"field\": \"Algorithm\"}, \"x\": {\"type\": \"quantitative\", \"field\": \"N ligands explored\"}, \"y\": {\"type\": \"quantitative\", \"aggregate\": \"mean\", \"field\": \"% top-k found\", \"scale\": {\"domain\": [0, 0.95]}}}}, {\"mark\": {\"type\": \"line\", \"color\": \"black\", \"opacity\": 0.5, \"size\": 1}, \"encoding\": {\"color\": {\"type\": \"nominal\", \"field\": \"Algorithm\"}, \"x\": {\"type\": \"quantitative\", \"field\": \"N ligands explored\"}, \"y\": {\"type\": \"quantitative\", \"aggregate\": \"mean\", \"field\": \"% top-k found\", \"scale\": {\"domain\": [0, 0.95]}}}}], \"data\": {\"name\": \"data-7455ae1cdda928ca2d8cb4528a4807b2\"}, \"title\": \"0.2\", \"width\": 200}, {\"layer\": [{\"mark\": {\"type\": \"errorbar\", \"extent\": \"ci\"}, \"encoding\": {\"color\": {\"type\": \"nominal\", \"field\": \"Algorithm\"}, \"x\": {\"type\": \"quantitative\", \"field\": \"N ligands explored\", \"scale\": {\"domain\": [0, 610000]}, \"title\": \"Number of ligands sampled\"}, \"y\": {\"type\": \"quantitative\", \"field\": \"% top-k found\", \"scale\": {\"domain\": [0, 0.95]}}}}, {\"mark\": {\"type\": \"point\", \"color\": \"black\", \"filled\": true}, \"encoding\": {\"color\": {\"type\": \"nominal\", \"field\": \"Algorithm\"}, \"x\": {\"type\": \"quantitative\", \"field\": \"N ligands explored\"}, \"y\": {\"type\": \"quantitative\", \"aggregate\": \"mean\", \"field\": \"% top-k found\", \"scale\": {\"domain\": [0, 0.95]}}}}, {\"mark\": {\"type\": \"line\", \"color\": \"black\", \"opacity\": 0.5, \"size\": 1}, \"encoding\": {\"color\": {\"type\": \"nominal\", \"field\": \"Algorithm\"}, \"x\": {\"type\": \"quantitative\", \"field\": \"N ligands explored\"}, \"y\": {\"type\": \"quantitative\", \"aggregate\": \"mean\", \"field\": \"% top-k found\", \"scale\": {\"domain\": [0, 0.95]}}}}], \"data\": {\"name\": \"data-0c01a76e22be92105ddc77feeec60061\"}, \"title\": \"0.1\", \"width\": 200}], \"data\": {\"name\": \"data-088d808d9d564587e1089f10a2fd406a\"}, \"title\": \"0.4\", \"width\": 200, \"$schema\": \"https://vega.github.io/schema/vega-lite/v4.8.1.json\", \"datasets\": {\"data-088d808d9d564587e1089f10a2fd406a\": [{\"Unnamed: 0\": 0.0, \"Algorithm\": \"Morgan pharm. & Log.reg. (ours)\", \"Training size\": 400000, \"N ligands explored\": 400000, \"% top-k found\": 0.0037}, {\"Unnamed: 0\": 1.0, \"Algorithm\": \"Morgan pharm. & Log.reg. (ours)\", \"Training size\": 400000, \"N ligands explored\": 800000, \"% top-k found\": 0.30772}, {\"Unnamed: 0\": 2.0, \"Algorithm\": \"Morgan pharm. & Log.reg. (ours)\", \"Training size\": 400000, \"N ligands explored\": 1200000, \"% top-k found\": 0.60858}, {\"Unnamed: 0\": 3.0, \"Algorithm\": \"Morgan pharm. & Log.reg. (ours)\", \"Training size\": 400000, \"N ligands explored\": 1600000, \"% top-k found\": 0.7477600000000001}, {\"Unnamed: 0\": 4.0, \"Algorithm\": \"Morgan pharm. & Log.reg. (ours)\", \"Training size\": 400000, \"N ligands explored\": 2000000, \"% top-k found\": 0.8266600000000001}, {\"Unnamed: 0\": 5.0, \"Algorithm\": \"Morgan pharm. & Log.reg. (ours)\", \"Training size\": 400000, \"N ligands explored\": 2400000, \"% top-k found\": 0.89136}, {\"Unnamed: 0\": 18.0, \"Algorithm\": \"Morgan pharm. & Log.reg. (ours)\", \"Training size\": 400000, \"N ligands explored\": 400000, \"% top-k found\": 0.00448}, {\"Unnamed: 0\": 19.0, \"Algorithm\": \"Morgan pharm. & Log.reg. (ours)\", \"Training size\": 400000, \"N ligands explored\": 800000, \"% top-k found\": 0.3252}, {\"Unnamed: 0\": 20.0, \"Algorithm\": \"Morgan pharm. & Log.reg. (ours)\", \"Training size\": 400000, \"N ligands explored\": 1200000, \"% top-k found\": 0.61252}, {\"Unnamed: 0\": 21.0, \"Algorithm\": \"Morgan pharm. & Log.reg. (ours)\", \"Training size\": 400000, \"N ligands explored\": 1600000, \"% top-k found\": 0.72344}, {\"Unnamed: 0\": 22.0, \"Algorithm\": \"Morgan pharm. & Log.reg. (ours)\", \"Training size\": 400000, \"N ligands explored\": 2000000, \"% top-k found\": 0.79804}, {\"Unnamed: 0\": 23.0, \"Algorithm\": \"Morgan pharm. & Log.reg. (ours)\", \"Training size\": 400000, \"N ligands explored\": 2400000, \"% top-k found\": 0.8627}, {\"Unnamed: 0\": 36.0, \"Algorithm\": \"Morgan pharm. & Log.reg. (ours)\", \"Training size\": 400000, \"N ligands explored\": 400000, \"% top-k found\": 0.00448}, {\"Unnamed: 0\": 37.0, \"Algorithm\": \"Morgan pharm. & Log.reg. (ours)\", \"Training size\": 400000, \"N ligands explored\": 800000, \"% top-k found\": 0.34968}, {\"Unnamed: 0\": 38.0, \"Algorithm\": \"Morgan pharm. & Log.reg. (ours)\", \"Training size\": 400000, \"N ligands explored\": 1200000, \"% top-k found\": 0.647}, {\"Unnamed: 0\": 39.0, \"Algorithm\": \"Morgan pharm. & Log.reg. (ours)\", \"Training size\": 400000, \"N ligands explored\": 1600000, \"% top-k found\": 0.77712}, {\"Unnamed: 0\": 40.0, \"Algorithm\": \"Morgan pharm. & Log.reg. (ours)\", \"Training size\": 400000, \"N ligands explored\": 2000000, \"% top-k found\": 0.84564}, {\"Unnamed: 0\": 41.0, \"Algorithm\": \"Morgan pharm. & Log.reg. (ours)\", \"Training size\": 400000, \"N ligands explored\": 2400000, \"% top-k found\": 0.8835799999999999}, {\"Unnamed: 0\": null, \"Algorithm\": \"RF (Coley)\", \"Training size\": 400000, \"N ligands explored\": 2400000, \"% top-k found\": 0.6882803577007767}, {\"Unnamed: 0\": null, \"Algorithm\": \"RF (Coley)\", \"Training size\": 400000, \"N ligands explored\": 2400000, \"% top-k found\": 0.7140000000000001}, {\"Unnamed: 0\": null, \"Algorithm\": \"RF (Coley)\", \"Training size\": 400000, \"N ligands explored\": 2400000, \"% top-k found\": 0.7397196422992235}, {\"Unnamed: 0\": null, \"Algorithm\": \"NN (Coley)\", \"Training size\": 400000, \"N ligands explored\": 2400000, \"% top-k found\": 0.7298535718005178}, {\"Unnamed: 0\": null, \"Algorithm\": \"NN (Coley)\", \"Training size\": 400000, \"N ligands explored\": 2400000, \"% top-k found\": 0.747}, {\"Unnamed: 0\": null, \"Algorithm\": \"NN (Coley)\", \"Training size\": 400000, \"N ligands explored\": 2400000, \"% top-k found\": 0.7641464281994823}, {\"Unnamed: 0\": null, \"Algorithm\": \"MPN (Coley)\", \"Training size\": 400000, \"N ligands explored\": 2400000, \"% top-k found\": 0.8508308679579935}, {\"Unnamed: 0\": null, \"Algorithm\": \"MPN (Coley)\", \"Training size\": 400000, \"N ligands explored\": 2400000, \"% top-k found\": 0.879}, {\"Unnamed: 0\": null, \"Algorithm\": \"MPN (Coley)\", \"Training size\": 400000, \"N ligands explored\": 2400000, \"% top-k found\": 0.9071691320420067}], \"data-7455ae1cdda928ca2d8cb4528a4807b2\": [{\"Unnamed: 0\": 6.0, \"Algorithm\": \"Morgan pharm. & Log.reg. (ours)\", \"Training size\": 200000, \"N ligands explored\": 200000, \"% top-k found\": 0.0017800000000000001}, {\"Unnamed: 0\": 7.0, \"Algorithm\": \"Morgan pharm. & Log.reg. (ours)\", \"Training size\": 200000, \"N ligands explored\": 400000, \"% top-k found\": 0.15298}, {\"Unnamed: 0\": 8.0, \"Algorithm\": \"Morgan pharm. & Log.reg. (ours)\", \"Training size\": 200000, \"N ligands explored\": 600000, \"% top-k found\": 0.38156}, {\"Unnamed: 0\": 9.0, \"Algorithm\": \"Morgan pharm. & Log.reg. (ours)\", \"Training size\": 200000, \"N ligands explored\": 800000, \"% top-k found\": 0.5052399999999999}, {\"Unnamed: 0\": 10.0, \"Algorithm\": \"Morgan pharm. & Log.reg. (ours)\", \"Training size\": 200000, \"N ligands explored\": 1000000, \"% top-k found\": 0.5795399999999999}, {\"Unnamed: 0\": 11.0, \"Algorithm\": \"Morgan pharm. & Log.reg. (ours)\", \"Training size\": 200000, \"N ligands explored\": 1200000, \"% top-k found\": 0.64248}, {\"Unnamed: 0\": 24.0, \"Algorithm\": \"Morgan pharm. & Log.reg. (ours)\", \"Training size\": 200000, \"N ligands explored\": 200000, \"% top-k found\": 0.0022}, {\"Unnamed: 0\": 25.0, \"Algorithm\": \"Morgan pharm. & Log.reg. (ours)\", \"Training size\": 200000, \"N ligands explored\": 400000, \"% top-k found\": 0.17504}, {\"Unnamed: 0\": 26.0, \"Algorithm\": \"Morgan pharm. & Log.reg. (ours)\", \"Training size\": 200000, \"N ligands explored\": 600000, \"% top-k found\": 0.41576}, {\"Unnamed: 0\": 27.0, \"Algorithm\": \"Morgan pharm. & Log.reg. (ours)\", \"Training size\": 200000, \"N ligands explored\": 800000, \"% top-k found\": 0.555}, {\"Unnamed: 0\": 28.0, \"Algorithm\": \"Morgan pharm. & Log.reg. (ours)\", \"Training size\": 200000, \"N ligands explored\": 1000000, \"% top-k found\": 0.63354}, {\"Unnamed: 0\": 29.0, \"Algorithm\": \"Morgan pharm. & Log.reg. (ours)\", \"Training size\": 200000, \"N ligands explored\": 1200000, \"% top-k found\": 0.69568}, {\"Unnamed: 0\": 42.0, \"Algorithm\": \"Morgan pharm. & Log.reg. (ours)\", \"Training size\": 200000, \"N ligands explored\": 200000, \"% top-k found\": 0.0025399999999999997}, {\"Unnamed: 0\": 43.0, \"Algorithm\": \"Morgan pharm. & Log.reg. (ours)\", \"Training size\": 200000, \"N ligands explored\": 400000, \"% top-k found\": 0.18758}, {\"Unnamed: 0\": 44.0, \"Algorithm\": \"Morgan pharm. & Log.reg. (ours)\", \"Training size\": 200000, \"N ligands explored\": 600000, \"% top-k found\": 0.42516000000000004}, {\"Unnamed: 0\": 45.0, \"Algorithm\": \"Morgan pharm. & Log.reg. (ours)\", \"Training size\": 200000, \"N ligands explored\": 800000, \"% top-k found\": 0.58024}, {\"Unnamed: 0\": 46.0, \"Algorithm\": \"Morgan pharm. & Log.reg. (ours)\", \"Training size\": 200000, \"N ligands explored\": 1000000, \"% top-k found\": 0.6659}, {\"Unnamed: 0\": 47.0, \"Algorithm\": \"Morgan pharm. & Log.reg. (ours)\", \"Training size\": 200000, \"N ligands explored\": 1200000, \"% top-k found\": 0.73056}, {\"Unnamed: 0\": null, \"Algorithm\": \"RF (Coley)\", \"Training size\": 200000, \"N ligands explored\": 1200000, \"% top-k found\": 0.43295459231495137}, {\"Unnamed: 0\": null, \"Algorithm\": \"RF (Coley)\", \"Training size\": 200000, \"N ligands explored\": 1200000, \"% top-k found\": 0.455}, {\"Unnamed: 0\": null, \"Algorithm\": \"RF (Coley)\", \"Training size\": 200000, \"N ligands explored\": 1200000, \"% top-k found\": 0.4770454076850486}, {\"Unnamed: 0\": null, \"Algorithm\": \"NN (Coley)\", \"Training size\": 200000, \"N ligands explored\": 1200000, \"% top-k found\": 0.521876275643042}, {\"Unnamed: 0\": null, \"Algorithm\": \"NN (Coley)\", \"Training size\": 200000, \"N ligands explored\": 1200000, \"% top-k found\": 0.528}, {\"Unnamed: 0\": null, \"Algorithm\": \"NN (Coley)\", \"Training size\": 200000, \"N ligands explored\": 1200000, \"% top-k found\": 0.534123724356958}, {\"Unnamed: 0\": null, \"Algorithm\": \"MPN (Coley)\", \"Training size\": 200000, \"N ligands explored\": 1200000, \"% top-k found\": 0.6452803577007765}, {\"Unnamed: 0\": null, \"Algorithm\": \"MPN (Coley)\", \"Training size\": 200000, \"N ligands explored\": 1200000, \"% top-k found\": 0.6709999999999999}, {\"Unnamed: 0\": null, \"Algorithm\": \"MPN (Coley)\", \"Training size\": 200000, \"N ligands explored\": 1200000, \"% top-k found\": 0.6967196422992233}], \"data-0c01a76e22be92105ddc77feeec60061\": [{\"Unnamed: 0\": 12.0, \"Algorithm\": \"Morgan pharm. & Log.reg. (ours)\", \"Training size\": 100000, \"N ligands explored\": 100000, \"% top-k found\": 0.0009400000000000001}, {\"Unnamed: 0\": 13.0, \"Algorithm\": \"Morgan pharm. & Log.reg. (ours)\", \"Training size\": 100000, \"N ligands explored\": 200000, \"% top-k found\": 0.07122}, {\"Unnamed: 0\": 14.0, \"Algorithm\": \"Morgan pharm. & Log.reg. (ours)\", \"Training size\": 100000, \"N ligands explored\": 300000, \"% top-k found\": 0.22885999999999998}, {\"Unnamed: 0\": 15.0, \"Algorithm\": \"Morgan pharm. & Log.reg. (ours)\", \"Training size\": 100000, \"N ligands explored\": 400000, \"% top-k found\": 0.34031999999999996}, {\"Unnamed: 0\": 16.0, \"Algorithm\": \"Morgan pharm. & Log.reg. (ours)\", \"Training size\": 100000, \"N ligands explored\": 500000, \"% top-k found\": 0.41912}, {\"Unnamed: 0\": 17.0, \"Algorithm\": \"Morgan pharm. & Log.reg. (ours)\", \"Training size\": 100000, \"N ligands explored\": 600000, \"% top-k found\": 0.48218}, {\"Unnamed: 0\": 30.0, \"Algorithm\": \"Morgan pharm. & Log.reg. (ours)\", \"Training size\": 100000, \"N ligands explored\": 100000, \"% top-k found\": 0.00116}, {\"Unnamed: 0\": 31.0, \"Algorithm\": \"Morgan pharm. & Log.reg. (ours)\", \"Training size\": 100000, \"N ligands explored\": 200000, \"% top-k found\": 0.08806}, {\"Unnamed: 0\": 32.0, \"Algorithm\": \"Morgan pharm. & Log.reg. (ours)\", \"Training size\": 100000, \"N ligands explored\": 300000, \"% top-k found\": 0.25188}, {\"Unnamed: 0\": 33.0, \"Algorithm\": \"Morgan pharm. & Log.reg. (ours)\", \"Training size\": 100000, \"N ligands explored\": 400000, \"% top-k found\": 0.35324}, {\"Unnamed: 0\": 34.0, \"Algorithm\": \"Morgan pharm. & Log.reg. (ours)\", \"Training size\": 100000, \"N ligands explored\": 500000, \"% top-k found\": 0.42628}, {\"Unnamed: 0\": 35.0, \"Algorithm\": \"Morgan pharm. & Log.reg. (ours)\", \"Training size\": 100000, \"N ligands explored\": 600000, \"% top-k found\": 0.48294}, {\"Unnamed: 0\": 48.0, \"Algorithm\": \"Morgan pharm. & Log.reg. (ours)\", \"Training size\": 100000, \"N ligands explored\": 100000, \"% top-k found\": 0.00118}, {\"Unnamed: 0\": 49.0, \"Algorithm\": \"Morgan pharm. & Log.reg. (ours)\", \"Training size\": 100000, \"N ligands explored\": 200000, \"% top-k found\": 0.08394}, {\"Unnamed: 0\": 50.0, \"Algorithm\": \"Morgan pharm. & Log.reg. (ours)\", \"Training size\": 100000, \"N ligands explored\": 300000, \"% top-k found\": 0.24106}, {\"Unnamed: 0\": 51.0, \"Algorithm\": \"Morgan pharm. & Log.reg. (ours)\", \"Training size\": 100000, \"N ligands explored\": 400000, \"% top-k found\": 0.35702}, {\"Unnamed: 0\": 52.0, \"Algorithm\": \"Morgan pharm. & Log.reg. (ours)\", \"Training size\": 100000, \"N ligands explored\": 500000, \"% top-k found\": 0.44752}, {\"Unnamed: 0\": 53.0, \"Algorithm\": \"Morgan pharm. & Log.reg. (ours)\", \"Training size\": 100000, \"N ligands explored\": 600000, \"% top-k found\": 0.53092}, {\"Unnamed: 0\": null, \"Algorithm\": \"RF (Coley)\", \"Training size\": 100000, \"N ligands explored\": 600000, \"% top-k found\": 0.21305561282938507}, {\"Unnamed: 0\": null, \"Algorithm\": \"RF (Coley)\", \"Training size\": 100000, \"N ligands explored\": 600000, \"% top-k found\": 0.24}, {\"Unnamed: 0\": null, \"Algorithm\": \"RF (Coley)\", \"Training size\": 100000, \"N ligands explored\": 600000, \"% top-k found\": 0.26694438717061497}, {\"Unnamed: 0\": null, \"Algorithm\": \"NN (Coley)\", \"Training size\": 100000, \"N ligands explored\": 600000, \"% top-k found\": 0.32932576538582525}, {\"Unnamed: 0\": null, \"Algorithm\": \"NN (Coley)\", \"Training size\": 100000, \"N ligands explored\": 600000, \"% top-k found\": 0.33299999999999996}, {\"Unnamed: 0\": null, \"Algorithm\": \"NN (Coley)\", \"Training size\": 100000, \"N ligands explored\": 600000, \"% top-k found\": 0.3366742346141747}, {\"Unnamed: 0\": null, \"Algorithm\": \"MPN (Coley)\", \"Training size\": 100000, \"N ligands explored\": 600000, \"% top-k found\": 0.5138762756430421}, {\"Unnamed: 0\": null, \"Algorithm\": \"MPN (Coley)\", \"Training size\": 100000, \"N ligands explored\": 600000, \"% top-k found\": 0.52}, {\"Unnamed: 0\": null, \"Algorithm\": \"MPN (Coley)\", \"Training size\": 100000, \"N ligands explored\": 600000, \"% top-k found\": 0.526123724356958}]}}, {\"mode\": \"vega-lite\"});\n",
       "</script>"
      ],
      "text/plain": [
       "alt.LayerChart(...)"
      ]
     },
     "execution_count": 109,
     "metadata": {},
     "output_type": "execute_result"
    }
   ],
   "source": [
    "chs[0]+chs[1]+chs[2]"
   ]
  },
  {
   "cell_type": "code",
   "execution_count": 289,
   "metadata": {},
   "outputs": [],
   "source": [
    "sup.save('../figures/ampC_reconstruction.html')"
   ]
  },
  {
   "cell_type": "code",
   "execution_count": null,
   "metadata": {},
   "outputs": [],
   "source": []
  }
 ],
 "metadata": {
  "kernelspec": {
   "display_name": "Python 3",
   "language": "python",
   "name": "python3"
  },
  "language_info": {
   "codemirror_mode": {
    "name": "ipython",
    "version": 3
   },
   "file_extension": ".py",
   "mimetype": "text/x-python",
   "name": "python",
   "nbconvert_exporter": "python",
   "pygments_lexer": "ipython3",
   "version": "3.8.5"
  }
 },
 "nbformat": 4,
 "nbformat_minor": 4
}
