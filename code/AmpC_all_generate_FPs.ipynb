{
 "cells": [
  {
   "cell_type": "code",
   "execution_count": 1,
   "metadata": {},
   "outputs": [],
   "source": [
    "import numpy as np\n",
    "import matplotlib.pyplot as plt\n",
    "import pandas as pd\n",
    "import tqdm"
   ]
  },
  {
   "cell_type": "markdown",
   "metadata": {},
   "source": [
    "# Fingerprint molecules\n",
    "The whole set of fingerprints won't fit in memory (even sparse) so we have to save them as chunks. This iterates over the SMILES codes, generating fingerprint_matrices and score arrays, saving them as chunks of 10,000,000"
   ]
  },
  {
   "cell_type": "code",
   "execution_count": 2,
   "metadata": {},
   "outputs": [],
   "source": [
    "from rdkit import Chem\n",
    "from rdkit.Chem import rdMolDescriptors\n",
    "from scipy import sparse\n",
    "\n",
    "def makeChunk(fileobj, chunkSize, outFileName, fingerprint_function, fpSize=8192):    \n",
    "    #store bit indices in these:\n",
    "    row_idx = list()\n",
    "    col_idx = list()\n",
    "    count=0\n",
    "    \n",
    "    scores = list()\n",
    "    \n",
    "    #iterate through file, \n",
    "    for line in tqdm.tqdm_notebook(fileobj, total=chunkSize-1, smoothing=0):\n",
    "        if line=='': #end of file\n",
    "            break\n",
    "        \n",
    "        words = line[17:-1].split(',') #removes the zinc ID and trailing newline   \n",
    "        if len(words[1])<1:\n",
    "            continue\n",
    "        if words[1]=='no_score':\n",
    "            break\n",
    "        else:\n",
    "            try:\n",
    "                mol = Chem.MolFromSmiles(words[0])\n",
    "                fp = fingerprint_function(mol, **pars)\n",
    "                onbits = list(fp.GetOnBits())\n",
    "                #these bits all have the same row:\n",
    "                row_idx += [count]*len(onbits)\n",
    "                count+=1\n",
    "                #and the column indices of those bits:\n",
    "                col_idx+=onbits\n",
    "            \n",
    "                scores.append(float(words[1]))\n",
    "\n",
    "            except KeyboardInterrupt:\n",
    "                raise\n",
    "            except:\n",
    "                print('failed molecule')\n",
    "                \n",
    "        if count>chunkSize:\n",
    "            break\n",
    "                \n",
    "    #if we reach the chunkSize:\n",
    "    #generate a sparse matrix out of the row,col indices:\n",
    "    unfolded_size = 8192\n",
    "    fingerprint_matrix = sparse.coo_matrix((np.ones(len(row_idx)).astype(bool), (row_idx, col_idx)), \n",
    "                          shape=(max(row_idx)+1, unfolded_size))\n",
    "    #convert to csr matrix, it is better:\n",
    "    fingerprint_matrix =  sparse.csr_matrix(fingerprint_matrix)\n",
    "    \n",
    "    sparse.save_npz(outFileName+'.npz', fingerprint_matrix)\n",
    "    np.save(outFileName+'.npy', np.array(scores) )\n",
    "    \n",
    "    \n",
    "    "
   ]
  },
  {
   "cell_type": "markdown",
   "metadata": {},
   "source": [
    "# Count number of valid molecules:"
   ]
  },
  {
   "cell_type": "code",
   "execution_count": 3,
   "metadata": {},
   "outputs": [],
   "source": [
    "fname = '../data/AmpC_screen_table.csv'\n",
    "fileobj = open(fname)\n",
    "fileobj.readline()\n",
    "\n",
    "\n",
    "count = 0\n",
    "for line in fileobj:\n",
    "    words = line[:-1].split(',')\n",
    "    if len(words[2])<1:\n",
    "        continue\n",
    "    if words[2]=='no_score':\n",
    "        break\n",
    "    count+=1\n",
    "fileobj.close()"
   ]
  },
  {
   "cell_type": "code",
   "execution_count": 4,
   "metadata": {},
   "outputs": [
    {
     "data": {
      "text/plain": [
       "96214206"
      ]
     },
     "execution_count": 4,
     "metadata": {},
     "output_type": "execute_result"
    }
   ],
   "source": [
    "count"
   ]
  },
  {
   "cell_type": "code",
   "execution_count": 5,
   "metadata": {
    "scrolled": true
   },
   "outputs": [
    {
     "name": "stderr",
     "output_type": "stream",
     "text": [
      "<ipython-input-2-3807d4261a91>:14: TqdmDeprecationWarning: This function will be removed in tqdm==5.0.0\n",
      "Please use `tqdm.notebook.tqdm` instead of `tqdm.tqdm_notebook`\n",
      "  for line in tqdm.tqdm_notebook(fileobj, total=chunkSize-1, smoothing=0):\n"
     ]
    },
    {
     "data": {
      "application/vnd.jupyter.widget-view+json": {
       "model_id": "3aba9e97308443689eecf5eb945488e4",
       "version_major": 2,
       "version_minor": 0
      },
      "text/plain": [
       "HBox(children=(FloatProgress(value=0.0, max=9999999.0), HTML(value='')))"
      ]
     },
     "metadata": {},
     "output_type": "display_data"
    },
    {
     "name": "stdout",
     "output_type": "stream",
     "text": [
      "\n"
     ]
    },
    {
     "data": {
      "application/vnd.jupyter.widget-view+json": {
       "model_id": "ba65aafdc28547e6ae18b9280ae6325b",
       "version_major": 2,
       "version_minor": 0
      },
      "text/plain": [
       "HBox(children=(FloatProgress(value=0.0, max=9999999.0), HTML(value='')))"
      ]
     },
     "metadata": {},
     "output_type": "display_data"
    },
    {
     "name": "stderr",
     "output_type": "stream",
     "text": [
      "RDKit ERROR: [16:58:42] SMILES Parse Error: extra close parentheses while parsing: CNc1cc(-c2ccccc2)nc2ccnn21)c1ccncc1\n",
      "RDKit ERROR: [16:58:42] SMILES Parse Error: Failed parsing SMILES 'CNc1cc(-c2ccccc2)nc2ccnn21)c1ccncc1' for input: 'CNc1cc(-c2ccccc2)nc2ccnn21)c1ccncc1'\n"
     ]
    },
    {
     "name": "stdout",
     "output_type": "stream",
     "text": [
      "failed molecule\n",
      "\n"
     ]
    },
    {
     "data": {
      "application/vnd.jupyter.widget-view+json": {
       "model_id": "5cb0fea62b5a421cb10988d49db449ce",
       "version_major": 2,
       "version_minor": 0
      },
      "text/plain": [
       "HBox(children=(FloatProgress(value=0.0, max=9999999.0), HTML(value='')))"
      ]
     },
     "metadata": {},
     "output_type": "display_data"
    },
    {
     "name": "stdout",
     "output_type": "stream",
     "text": [
      "\n"
     ]
    },
    {
     "data": {
      "application/vnd.jupyter.widget-view+json": {
       "model_id": "218494df2d9f4df9ac9691f68c4ca6b9",
       "version_major": 2,
       "version_minor": 0
      },
      "text/plain": [
       "HBox(children=(FloatProgress(value=0.0, max=9999999.0), HTML(value='')))"
      ]
     },
     "metadata": {},
     "output_type": "display_data"
    },
    {
     "name": "stdout",
     "output_type": "stream",
     "text": [
      "\n"
     ]
    },
    {
     "data": {
      "application/vnd.jupyter.widget-view+json": {
       "model_id": "d4ddbb2aa63d4367a43cac99bbe101a2",
       "version_major": 2,
       "version_minor": 0
      },
      "text/plain": [
       "HBox(children=(FloatProgress(value=0.0, max=9999999.0), HTML(value='')))"
      ]
     },
     "metadata": {},
     "output_type": "display_data"
    },
    {
     "name": "stdout",
     "output_type": "stream",
     "text": [
      "\n"
     ]
    },
    {
     "data": {
      "application/vnd.jupyter.widget-view+json": {
       "model_id": "dcc6a39e9d244a6b9e5e94e5027cf5f1",
       "version_major": 2,
       "version_minor": 0
      },
      "text/plain": [
       "HBox(children=(FloatProgress(value=0.0, max=9999999.0), HTML(value='')))"
      ]
     },
     "metadata": {},
     "output_type": "display_data"
    },
    {
     "name": "stdout",
     "output_type": "stream",
     "text": [
      "\n"
     ]
    },
    {
     "data": {
      "application/vnd.jupyter.widget-view+json": {
       "model_id": "1b0ec717542d47efb482de6488d25e0b",
       "version_major": 2,
       "version_minor": 0
      },
      "text/plain": [
       "HBox(children=(FloatProgress(value=0.0, max=9999999.0), HTML(value='')))"
      ]
     },
     "metadata": {},
     "output_type": "display_data"
    },
    {
     "name": "stdout",
     "output_type": "stream",
     "text": [
      "\n"
     ]
    },
    {
     "data": {
      "application/vnd.jupyter.widget-view+json": {
       "model_id": "0ac7c2557af64c368691452bd2be1c45",
       "version_major": 2,
       "version_minor": 0
      },
      "text/plain": [
       "HBox(children=(FloatProgress(value=0.0, max=9999999.0), HTML(value='')))"
      ]
     },
     "metadata": {},
     "output_type": "display_data"
    },
    {
     "name": "stdout",
     "output_type": "stream",
     "text": [
      "\n"
     ]
    },
    {
     "data": {
      "application/vnd.jupyter.widget-view+json": {
       "model_id": "d5117189a3e5437d948e4bae6ab6be80",
       "version_major": 2,
       "version_minor": 0
      },
      "text/plain": [
       "HBox(children=(FloatProgress(value=0.0, max=9999999.0), HTML(value='')))"
      ]
     },
     "metadata": {},
     "output_type": "display_data"
    },
    {
     "name": "stdout",
     "output_type": "stream",
     "text": [
      "\n"
     ]
    },
    {
     "data": {
      "application/vnd.jupyter.widget-view+json": {
       "model_id": "2df2041695a6496ebcf34e90bc13e940",
       "version_major": 2,
       "version_minor": 0
      },
      "text/plain": [
       "HBox(children=(FloatProgress(value=0.0, max=9999999.0), HTML(value='')))"
      ]
     },
     "metadata": {},
     "output_type": "display_data"
    },
    {
     "name": "stdout",
     "output_type": "stream",
     "text": [
      "\n"
     ]
    }
   ],
   "source": [
    "chunksize = 10_000_000\n",
    "fingerprint_function = rdMolDescriptors.GetMorganFingerprintAsBitVect\n",
    "pars = { \"radius\": 2,\n",
    "                     \"nBits\": 8192,\n",
    "                     \"invariants\": [],\n",
    "                     \"fromAtoms\": [],\n",
    "                     \"useChirality\": False,\n",
    "                     \"useBondTypes\": True,\n",
    "                     \"useFeatures\": True,\n",
    "            }\n",
    "\n",
    "\n",
    "fname = '../data/AmpC_screen_table.csv'\n",
    "fileobj = open(fname)\n",
    "fileobj.readline()\n",
    "\n",
    "\n",
    "for i in range( np.ceil(count / chunksize).astype(int) ):\n",
    "    makeChunk(fileobj, chunksize, '../processed_data/AmpC_all'+str(i), fingerprint_function)\n",
    "\n",
    "\n"
   ]
  },
  {
   "cell_type": "code",
   "execution_count": null,
   "metadata": {},
   "outputs": [],
   "source": []
  }
 ],
 "metadata": {
  "kernelspec": {
   "display_name": "Python 3",
   "language": "python",
   "name": "python3"
  },
  "language_info": {
   "codemirror_mode": {
    "name": "ipython",
    "version": 3
   },
   "file_extension": ".py",
   "mimetype": "text/x-python",
   "name": "python",
   "nbconvert_exporter": "python",
   "pygments_lexer": "ipython3",
   "version": "3.8.5"
  }
 },
 "nbformat": 4,
 "nbformat_minor": 4
}
