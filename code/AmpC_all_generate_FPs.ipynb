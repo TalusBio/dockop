{
 "cells": [
  {
   "cell_type": "code",
   "execution_count": 1,
   "metadata": {},
   "outputs": [],
   "source": [
    "import time\n",
    "import numpy as np\n",
    "import matplotlib.pyplot as plt\n",
    "import pandas as pd\n",
    "import tqdm\n",
    "import ray\n",
    "from rdkit import Chem\n",
    "from rdkit.Chem import rdMolDescriptors\n",
    "from scipy import sparse\n",
    "import logging\n",
    "from functools import lru_cache\n",
    "from mol2vec.features import mol2alt_sentence, sentences2vec\n",
    "from gensim.models.word2vec import Word2Vec"
   ]
  },
  {
   "cell_type": "code",
   "execution_count": 2,
   "metadata": {},
   "outputs": [
    {
     "name": "stderr",
     "output_type": "stream",
     "text": [
      "2021-05-27 10:46:52,595\tINFO services.py:1267 -- View the Ray dashboard at \u001b[1m\u001b[32mhttp://127.0.0.1:8266\u001b[39m\u001b[22m\n"
     ]
    },
    {
     "data": {
      "text/plain": [
       "{'node_ip_address': '172.31.35.146',\n",
       " 'raylet_ip_address': '172.31.35.146',\n",
       " 'redis_address': '172.31.35.146:11768',\n",
       " 'object_store_address': '/tmp/ray/session_2021-05-27_10-46-51_604266_7393/sockets/plasma_store',\n",
       " 'raylet_socket_name': '/tmp/ray/session_2021-05-27_10-46-51_604266_7393/sockets/raylet',\n",
       " 'webui_url': '127.0.0.1:8266',\n",
       " 'session_dir': '/tmp/ray/session_2021-05-27_10-46-51_604266_7393',\n",
       " 'metrics_export_port': 51008,\n",
       " 'node_id': '01002931e3670a31762bbc60116c7fbc5a1638d85e0f76c9ddaf1dbd'}"
      ]
     },
     "execution_count": 2,
     "metadata": {},
     "output_type": "execute_result"
    }
   ],
   "source": [
    "ray.init()"
   ]
  },
  {
   "cell_type": "code",
   "execution_count": 5,
   "metadata": {},
   "outputs": [],
   "source": [
    "NUM_CHUNKS = 10"
   ]
  },
  {
   "cell_type": "code",
   "execution_count": 6,
   "metadata": {},
   "outputs": [],
   "source": [
    "USE_EMBEDDINGS = False"
   ]
  },
  {
   "cell_type": "code",
   "execution_count": 7,
   "metadata": {},
   "outputs": [
    {
     "name": "stdout",
     "output_type": "stream",
     "text": [
      "AmpC_screen_table.csv  AmpC_screen_table.csv.zip\r\n"
     ]
    }
   ],
   "source": [
    "!ls /mnt/efs/AmpC_data/"
   ]
  },
  {
   "cell_type": "code",
   "execution_count": 8,
   "metadata": {},
   "outputs": [],
   "source": [
    "RECEPTOR = \"AmpC\"\n",
    "DATA_DIR = \"/mnt/efs/AmpC_data\"\n",
    "INPUT_DATA = f\"{DATA_DIR}/{RECEPTOR}_screen_table.csv\"\n",
    "\n",
    "MODEL_PATH = \"/home/ubuntu/mol2vec/examples/models/model_300dim.pkl\"\n",
    "UNCOMMON = \"UNK\""
   ]
  },
  {
   "cell_type": "code",
   "execution_count": 9,
   "metadata": {},
   "outputs": [],
   "source": [
    "@lru_cache(maxsize=2)\n",
    "def get_data():\n",
    "    ligands_df = pd.read_csv(INPUT_DATA)\n",
    "    ligands_df = ligands_df[ligands_df[\"dockscore\"] != \"no_score\"]\n",
    "    \n",
    "    return ligands_df"
   ]
  },
  {
   "cell_type": "code",
   "execution_count": 13,
   "metadata": {},
   "outputs": [],
   "source": [
    "@lru_cache(maxsize=2)\n",
    "def get_w2v_model():\n",
    "    word2vec_model = Word2Vec.load(MODEL_PATH)\n",
    "    word2vec_model.wv.init_sims()\n",
    "    return word2vec_model"
   ]
  },
  {
   "cell_type": "code",
   "execution_count": 18,
   "metadata": {},
   "outputs": [],
   "source": [
    "@ray.remote\n",
    "def create_fingerprint(smiles, score, i):\n",
    "    if i % 10000 == 0:\n",
    "        logging.basicConfig(level=logging.INFO)\n",
    "        logging.info(i)\n",
    "        \n",
    "    mol = Chem.MolFromSmiles(smiles)\n",
    "    pars = { \n",
    "        \"radius\": 2,\n",
    "        \"nBits\": 8192,\n",
    "        \"invariants\": [],\n",
    "        \"fromAtoms\": [],\n",
    "        \"useChirality\": False,\n",
    "        \"useBondTypes\": True,\n",
    "        \"useFeatures\": True,\n",
    "    }\n",
    "    fp = rdMolDescriptors.GetMorganFingerprintAsBitVect(mol, **pars)\n",
    "    onbits = list(fp.GetOnBits())\n",
    "\n",
    "    return onbits, float(score)"
   ]
  },
  {
   "cell_type": "code",
   "execution_count": 15,
   "metadata": {},
   "outputs": [],
   "source": [
    "@ray.remote\n",
    "def create_mol_sentence(smiles, score, r, i):\n",
    "    if i % 10000 == 0:\n",
    "        logging.basicConfig(level=logging.INFO)\n",
    "        logging.info(i)\n",
    "        \n",
    "    mol = Chem.MolFromSmiles(smiles)\n",
    "    # smiles = Chem.MolToSmiles(mol)\n",
    "    \n",
    "    if not mol:\n",
    "        return\n",
    "    \n",
    "    alt_sentence = mol2alt_sentence(mol, radius=r)\n",
    "    \n",
    "    return alt_sentence, score"
   ]
  },
  {
   "cell_type": "code",
   "execution_count": 16,
   "metadata": {},
   "outputs": [],
   "source": [
    "def get_fingerprints(ligands_df, fp_size=8192, smiles_col=\"smiles\", score_col=\"score\"):\n",
    "    future_values = [create_fingerprint.remote(smiles=smiles, score=score, i=i) for (i, (smiles, score)) in enumerate(zip(ligands_df[smiles_col], ligands_df[score_col]))]\n",
    "    \n",
    "    values = [v for v in ray.get(future_values) if v]\n",
    "    all_bits, scores = zip(*values)\n",
    "    \n",
    "    row_idx = []\n",
    "    col_idx = []\n",
    "    for i, bits in enumerate(all_bits):\n",
    "        # these bits all have the same row:\n",
    "        row_idx += [i] * len(bits)\n",
    "        #and the column indices of those bits:\n",
    "        col_idx += bits\n",
    "    \n",
    "    # generate a sparse matrix out of the row,col indices:\n",
    "    unfolded_size = 8192\n",
    "    fingerprint_matrix = sparse.coo_matrix((np.ones(len(row_idx)).astype(bool), \n",
    "                                           (row_idx, col_idx)), \n",
    "                                           shape=(max(row_idx)+1, unfolded_size))\n",
    "    \n",
    "    # convert to csr matrix, it is better:\n",
    "    fingerprint_matrix =  sparse.csr_matrix(fingerprint_matrix)\n",
    "\n",
    "    return fingerprint_matrix, scores"
   ]
  },
  {
   "cell_type": "code",
   "execution_count": 19,
   "metadata": {},
   "outputs": [],
   "source": [
    "def get_embeddings(ligands_df, model, radius=1):\n",
    "    future_values = [create_mol_sentence.remote(smiles=smiles, score=score, r=radius, i=i) for (i, (smiles, score)) in enumerate(zip(ligands_df[\"smiles\"], ligands_df[\"score\"]))]\n",
    "    \n",
    "    values = [v for v in ray.get(future_values) if v]\n",
    "    mol_sentences, scores = zip(*values)\n",
    "\n",
    "#     vectors = sentences2vec(sentences=mol_sentences, model=model, unseen=UNCOMMON)\n",
    "\n",
    "    return mol_sentences, scores"
   ]
  },
  {
   "cell_type": "code",
   "execution_count": 10,
   "metadata": {},
   "outputs": [
    {
     "name": "stderr",
     "output_type": "stream",
     "text": [
      "/home/ubuntu/anaconda3/envs/dockop/lib/python3.8/site-packages/IPython/core/interactiveshell.py:3361: DtypeWarning: Columns (2) have mixed types.Specify dtype option on import or set low_memory=False.\n",
      "  if (await self.run_code(code, result,  async_=asy)):\n"
     ]
    }
   ],
   "source": [
    "ligands_df = get_data()"
   ]
  },
  {
   "cell_type": "code",
   "execution_count": 17,
   "metadata": {},
   "outputs": [],
   "source": [
    "ligands_df = ligands_df[ligands_df[\"dockscore\"] != \"no_score\"]"
   ]
  },
  {
   "cell_type": "code",
   "execution_count": null,
   "metadata": {},
   "outputs": [],
   "source": [
    "# word2vec_model = get_w2v_model()"
   ]
  },
  {
   "cell_type": "code",
   "execution_count": null,
   "metadata": {},
   "outputs": [
    {
     "name": "stdout",
     "output_type": "stream",
     "text": [
      "Generating Morgan Fingerprints...\n"
     ]
    },
    {
     "name": "stderr",
     "output_type": "stream",
     "text": [
      "\u001b[2m\u001b[36m(pid=10675)\u001b[0m INFO:root:0\n",
      "\u001b[2m\u001b[36m(pid=10665)\u001b[0m INFO:root:10000\n",
      "\u001b[2m\u001b[36m(pid=10654)\u001b[0m INFO:root:20000\n",
      "\u001b[2m\u001b[36m(pid=10672)\u001b[0m INFO:root:30000\n",
      "\u001b[2m\u001b[36m(pid=10673)\u001b[0m INFO:root:40000\n",
      "\u001b[2m\u001b[36m(pid=10664)\u001b[0m INFO:root:50000\n",
      "\u001b[2m\u001b[36m(pid=10670)\u001b[0m INFO:root:60000\n",
      "\u001b[2m\u001b[36m(pid=10669)\u001b[0m INFO:root:70000\n",
      "\u001b[2m\u001b[36m(pid=10655)\u001b[0m INFO:root:80000\n",
      "\u001b[2m\u001b[36m(pid=10690)\u001b[0m INFO:root:90000\n",
      "\u001b[2m\u001b[36m(pid=10675)\u001b[0m INFO:root:100000\n",
      "\u001b[2m\u001b[36m(pid=10703)\u001b[0m INFO:root:110000\n",
      "\u001b[2m\u001b[36m(pid=10690)\u001b[0m INFO:root:120000\n",
      "\u001b[2m\u001b[36m(pid=10659)\u001b[0m INFO:root:130000\n",
      "\u001b[2m\u001b[36m(pid=10699)\u001b[0m INFO:root:140000\n",
      "\u001b[2m\u001b[36m(pid=10673)\u001b[0m INFO:root:150000\n",
      "\u001b[2m\u001b[36m(pid=10670)\u001b[0m INFO:root:160000\n",
      "\u001b[2m\u001b[36m(pid=10711)\u001b[0m INFO:root:170000\n",
      "\u001b[2m\u001b[36m(pid=10667)\u001b[0m INFO:root:180000\n",
      "\u001b[2m\u001b[36m(pid=10672)\u001b[0m INFO:root:190000\n",
      "\u001b[2m\u001b[36m(pid=10709)\u001b[0m INFO:root:200000\n",
      "\u001b[2m\u001b[36m(pid=10661)\u001b[0m INFO:root:210000\n",
      "\u001b[2m\u001b[36m(pid=10700)\u001b[0m INFO:root:220000\n",
      "\u001b[2m\u001b[36m(pid=10663)\u001b[0m INFO:root:230000\n",
      "\u001b[2m\u001b[36m(pid=10672)\u001b[0m INFO:root:240000\n",
      "\u001b[2m\u001b[36m(pid=10675)\u001b[0m INFO:root:250000\n",
      "\u001b[2m\u001b[36m(pid=10666)\u001b[0m INFO:root:260000\n",
      "\u001b[2m\u001b[36m(pid=10655)\u001b[0m INFO:root:270000\n",
      "\u001b[2m\u001b[36m(pid=10658)\u001b[0m INFO:root:280000\n",
      "\u001b[2m\u001b[36m(pid=10690)\u001b[0m INFO:root:290000\n",
      "\u001b[2m\u001b[36m(pid=10665)\u001b[0m INFO:root:300000\n",
      "\u001b[2m\u001b[36m(pid=10675)\u001b[0m INFO:root:310000\n",
      "\u001b[2m\u001b[36m(pid=10675)\u001b[0m INFO:root:320000\n",
      "\u001b[2m\u001b[36m(pid=10704)\u001b[0m INFO:root:330000\n",
      "\u001b[2m\u001b[36m(pid=10709)\u001b[0m INFO:root:340000\n",
      "\u001b[2m\u001b[36m(pid=10697)\u001b[0m INFO:root:350000\n",
      "\u001b[2m\u001b[36m(pid=10663)\u001b[0m INFO:root:360000\n",
      "\u001b[2m\u001b[36m(pid=10700)\u001b[0m INFO:root:370000\n",
      "\u001b[2m\u001b[36m(pid=10699)\u001b[0m INFO:root:380000\n",
      "\u001b[2m\u001b[36m(pid=10673)\u001b[0m INFO:root:390000\n"
     ]
    }
   ],
   "source": [
    "start = time.time()\n",
    "for i, df_chunk in enumerate(np.array_split(ligands_df, NUM_CHUNKS)):\n",
    "    if USE_EMBEDDINGS:\n",
    "        print(\"Generating mol2vec embeddings...\")\n",
    "        embeddings, scores = get_embeddings(ligands_df=df_chunk, model=word2vec_model, radius=1)\n",
    "        vectors = sentences2vec(sentences=embeddings, model=word2vec_model, unseen=UNCOMMON)\n",
    "        np.save(f\"{DATA_DIR}/{RECEPTOR}_embeddings_{i}.npy\", vectors)\n",
    "        np.save(f\"{DATA_DIR}/{RECEPTOR}_embedding_scores_{i}.npy\", np.array(scores))\n",
    "    else:\n",
    "        print(\"Generating Morgan Fingerprints...\")\n",
    "        fingerprint_matrix, scores = get_fingerprints(ligands_df=df_chunk, score_col=\"dockscore\")\n",
    "        sparse.save_npz(f\"{DATA_DIR}/{RECEPTOR}_fingerprints_{i}.npz\", fingerprint_matrix)\n",
    "        np.save(f\"{DATA_DIR}/{RECEPTOR}_scores_{i}.npy\", np.array(scores))\n",
    "    print(f\"Chunk {i} took: {(time.time() - start)/60} mins\")\n",
    "    \n",
    "print(f\"Dataset took: {(time.time() - start)/60} mins\")"
   ]
  },
  {
   "cell_type": "code",
   "execution_count": null,
   "metadata": {},
   "outputs": [],
   "source": []
  }
 ],
 "metadata": {
  "kernelspec": {
   "display_name": "dockop",
   "language": "python",
   "name": "dockop"
  },
  "language_info": {
   "codemirror_mode": {
    "name": "ipython",
    "version": 3
   },
   "file_extension": ".py",
   "mimetype": "text/x-python",
   "name": "python",
   "nbconvert_exporter": "python",
   "pygments_lexer": "ipython3",
   "version": "3.8.10"
  }
 },
 "nbformat": 4,
 "nbformat_minor": 4
}
