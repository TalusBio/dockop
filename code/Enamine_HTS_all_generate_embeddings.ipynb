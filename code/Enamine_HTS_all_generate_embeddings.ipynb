{
 "cells": [
  {
   "cell_type": "code",
   "execution_count": 37,
   "metadata": {},
   "outputs": [],
   "source": [
    "import numpy as np\n",
    "import matplotlib.pyplot as plt\n",
    "import pandas as pd\n",
    "import tqdm\n",
    "import ray\n",
    "from rdkit import Chem\n",
    "from rdkit.Chem import rdMolDescriptors\n",
    "from scipy import sparse\n",
    "import logging\n",
    "from mol2vec.features import mol2alt_sentence\n",
    "from gensim.models.word2vec import Word2Vec"
   ]
  },
  {
   "cell_type": "code",
   "execution_count": 18,
   "metadata": {},
   "outputs": [
    {
     "name": "stderr",
     "output_type": "stream",
     "text": [
      "2021-05-26 22:38:18,136\tINFO services.py:1267 -- View the Ray dashboard at \u001b[1m\u001b[32mhttp://127.0.0.1:8266\u001b[39m\u001b[22m\n"
     ]
    },
    {
     "data": {
      "text/plain": [
       "{'node_ip_address': '172.31.34.223',\n",
       " 'raylet_ip_address': '172.31.34.223',\n",
       " 'redis_address': '172.31.34.223:20179',\n",
       " 'object_store_address': '/tmp/ray/session_2021-05-26_22-38-15_934524_25070/sockets/plasma_store',\n",
       " 'raylet_socket_name': '/tmp/ray/session_2021-05-26_22-38-15_934524_25070/sockets/raylet',\n",
       " 'webui_url': '127.0.0.1:8266',\n",
       " 'session_dir': '/tmp/ray/session_2021-05-26_22-38-15_934524_25070',\n",
       " 'metrics_export_port': 54370,\n",
       " 'node_id': 'e0e172425193445f1a039e5786930123a8924d351c32ba927c5f8df1'}"
      ]
     },
     "execution_count": 18,
     "metadata": {},
     "output_type": "execute_result"
    }
   ],
   "source": [
    "ray.init()"
   ]
  },
  {
   "cell_type": "code",
   "execution_count": 4,
   "metadata": {},
   "outputs": [],
   "source": [
    "RECEPTOR = \"EnamineHTS\"\n",
    "INPUT_DATA_DIR = \"/mnt/efs/enamine\"\n",
    "INPUT_DATA = f\"{INPUT_DATA_DIR}/{RECEPTOR}_scores.csv\"\n",
    "# INPUT_SMILES = f\"{INPUT_DATA_DIR}/{RECEPTOR}.smi\"\n",
    "# OUTPUT_EMBEDDINGS = f\"{INPUT_DATA_DIR}/{RECEPTOR}_embeddings.csv\"\n",
    "OUTPUT_DATA_DIR = \"../processed_data\""
   ]
  },
  {
   "cell_type": "code",
   "execution_count": 5,
   "metadata": {},
   "outputs": [],
   "source": [
    "def get_data():\n",
    "    ligands_df = pd.read_csv(INPUT_DATA)\n",
    "    \n",
    "    return ligands_df"
   ]
  },
  {
   "cell_type": "code",
   "execution_count": 19,
   "metadata": {},
   "outputs": [
    {
     "name": "stderr",
     "output_type": "stream",
     "text": [
      "<ipython-input-19-27f0ea2b60c3>:2: DeprecationWarning: Call to deprecated `init_sims` (Use fill_norms() instead. See https://github.com/RaRe-Technologies/gensim/wiki/Migrating-from-Gensim-3.x-to-4).\n",
      "  word2vec_model.wv.init_sims()\n"
     ]
    }
   ],
   "source": [
    "word2vec_model = Word2Vec.load(\"/home/ubuntu/mol2vec/examples/models/model_300dim.pkl\")\n",
    "word2vec_model.wv.init_sims()"
   ]
  },
  {
   "cell_type": "code",
   "execution_count": 23,
   "metadata": {},
   "outputs": [],
   "source": [
    "UNCOMMON = \"UNK\"\n",
    "# word2vec_model.wv[UNCOMMON]"
   ]
  },
  {
   "cell_type": "markdown",
   "metadata": {},
   "source": [
    "# Embed molecules"
   ]
  },
  {
   "cell_type": "code",
   "execution_count": 25,
   "metadata": {},
   "outputs": [],
   "source": [
    "# mol2vec featurize -i \"/mnt/efs/enamine/EnamineHTS.smi\" -o \"/mnt/efs/enamine/EnamineHTS_embeddings.csv\" -m examples/models/model_300dim.pkl -r 1 --uncommon UNK\n",
    "# features.featurize(in_file=INPUT_SMILES, \n",
    "#                    out_file=OUTPUT_EMBEDDINGS, \n",
    "#                    model_path=\"/home/ubuntu/mol2vec/examples/models/model_300dim.pkl\", \n",
    "#                    r=1, \n",
    "#                    uncommon=\"UNK\")"
   ]
  },
  {
   "cell_type": "code",
   "execution_count": 41,
   "metadata": {},
   "outputs": [],
   "source": [
    "def sentences2vec(sentences, model, unseen=None):\n",
    "    \"\"\"Generate vectors for each sentence (list) in a list of sentences. Vector is simply a\n",
    "    sum of vectors for individual words.\n",
    "    \n",
    "    Parameters\n",
    "    ----------\n",
    "    sentences : list, array\n",
    "        List with sentences\n",
    "    model : word2vec.Word2Vec\n",
    "        Gensim word2vec model\n",
    "    unseen : None, str\n",
    "        Keyword for unseen words. If None, those words are skipped.\n",
    "        https://stats.stackexchange.com/questions/163005/how-to-set-the-dictionary-for-text-analysis-using-neural-networks/163032#163032\n",
    "\n",
    "    Returns\n",
    "    -------\n",
    "    np.array\n",
    "    \"\"\"\n",
    "    keys = set(model.wv.key_to_index)\n",
    "    vec = []\n",
    "    \n",
    "    if unseen:\n",
    "        unseen_vec = model.wv.get_vector(unseen)\n",
    "\n",
    "    for sentence in sentences:\n",
    "        if unseen:\n",
    "            vec.append(sum([model.wv.get_vector(y) if y in set(sentence) & keys\n",
    "                       else unseen_vec for y in sentence]))\n",
    "        else:\n",
    "            vec.append(sum([model.wv.get_vector(y) for y in sentence \n",
    "                            if y in set(sentence) & keys]))\n",
    "    return np.array(vec, dtype=np.float32)"
   ]
  },
  {
   "cell_type": "code",
   "execution_count": 33,
   "metadata": {},
   "outputs": [],
   "source": [
    "@ray.remote\n",
    "def create_mol_sentence(smiles, score, r, i):\n",
    "    if i % 10000 == 0:\n",
    "        logging.basicConfig(level=logging.INFO)\n",
    "        logging.info(i)\n",
    "        \n",
    "    mol = Chem.MolFromSmiles(smiles)\n",
    "    # smiles = Chem.MolToSmiles(mol)\n",
    "    \n",
    "    if not mol:\n",
    "        return\n",
    "    \n",
    "    alt_sentence = mol2alt_sentence(mol, radius=r)\n",
    "    \n",
    "    return alt_sentence, score"
   ]
  },
  {
   "cell_type": "code",
   "execution_count": 34,
   "metadata": {},
   "outputs": [],
   "source": [
    "def get_embeddings(ligands_df, model, radius=1):\n",
    "    future_values = [create_mol_sentence.remote(smiles=smiles, score=score, r=radius, i=i) for (i, (smiles, score)) in enumerate(zip(ligands_df[\"smiles\"], ligands_df[\"score\"]))]\n",
    "    \n",
    "    values = [v for v in ray.get(future_values) if v]\n",
    "    mol_sentences, scores = zip(*values)\n",
    "\n",
    "#     vectors = sentences2vec(sentences=mol_sentences, model=model, unseen=UNCOMMON)\n",
    "\n",
    "    return mol_sentences, scores"
   ]
  },
  {
   "cell_type": "code",
   "execution_count": 35,
   "metadata": {},
   "outputs": [],
   "source": [
    "ligands_df = get_data()"
   ]
  },
  {
   "cell_type": "code",
   "execution_count": 36,
   "metadata": {},
   "outputs": [
    {
     "name": "stderr",
     "output_type": "stream",
     "text": [
      "\u001b[2m\u001b[36m(pid=25786)\u001b[0m INFO:root:0\n",
      "\u001b[2m\u001b[36m(pid=25785)\u001b[0m INFO:root:10000\n",
      "\u001b[2m\u001b[36m(pid=25785)\u001b[0m INFO:root:20000\n",
      "\u001b[2m\u001b[36m(pid=25777)\u001b[0m INFO:root:30000\n",
      "\u001b[2m\u001b[36m(pid=25776)\u001b[0m INFO:root:40000\n",
      "\u001b[2m\u001b[36m(pid=25781)\u001b[0m INFO:root:50000\n",
      "\u001b[2m\u001b[36m(pid=25784)\u001b[0m INFO:root:60000\n",
      "\u001b[2m\u001b[36m(pid=25780)\u001b[0m INFO:root:70000\n",
      "\u001b[2m\u001b[36m(pid=25776)\u001b[0m INFO:root:80000\n",
      "\u001b[2m\u001b[36m(pid=25787)\u001b[0m INFO:root:90000\n",
      "\u001b[2m\u001b[36m(pid=25783)\u001b[0m INFO:root:100000\n",
      "\u001b[2m\u001b[36m(pid=25775)\u001b[0m INFO:root:110000\n",
      "\u001b[2m\u001b[36m(pid=25785)\u001b[0m INFO:root:120000\n",
      "\u001b[2m\u001b[36m(pid=25784)\u001b[0m INFO:root:130000\n",
      "\u001b[2m\u001b[36m(pid=25784)\u001b[0m INFO:root:140000\n",
      "\u001b[2m\u001b[36m(pid=25786)\u001b[0m INFO:root:150000\n",
      "\u001b[2m\u001b[36m(pid=25779)\u001b[0m INFO:root:160000\n",
      "\u001b[2m\u001b[36m(pid=25781)\u001b[0m INFO:root:170000\n",
      "\u001b[2m\u001b[36m(pid=25781)\u001b[0m INFO:root:180000\n",
      "\u001b[2m\u001b[36m(pid=25783)\u001b[0m INFO:root:190000\n",
      "\u001b[2m\u001b[36m(pid=25780)\u001b[0m INFO:root:200000\n",
      "\u001b[2m\u001b[36m(pid=25778)\u001b[0m INFO:root:210000\n",
      "\u001b[2m\u001b[36m(pid=25784)\u001b[0m INFO:root:220000\n",
      "\u001b[2m\u001b[36m(pid=25778)\u001b[0m INFO:root:230000\n",
      "\u001b[2m\u001b[36m(pid=25776)\u001b[0m INFO:root:240000\n",
      "\u001b[2m\u001b[36m(pid=25784)\u001b[0m INFO:root:250000\n",
      "\u001b[2m\u001b[36m(pid=25788)\u001b[0m INFO:root:260000\n",
      "\u001b[2m\u001b[36m(pid=25783)\u001b[0m INFO:root:270000\n",
      "\u001b[2m\u001b[36m(pid=25789)\u001b[0m INFO:root:280000\n",
      "\u001b[2m\u001b[36m(pid=25787)\u001b[0m INFO:root:290000\n",
      "\u001b[2m\u001b[36m(pid=25782)\u001b[0m INFO:root:300000\n",
      "\u001b[2m\u001b[36m(pid=25781)\u001b[0m INFO:root:310000\n",
      "\u001b[2m\u001b[36m(pid=25786)\u001b[0m INFO:root:320000\n",
      "\u001b[2m\u001b[36m(pid=25777)\u001b[0m INFO:root:330000\n",
      "\u001b[2m\u001b[36m(pid=25787)\u001b[0m INFO:root:340000\n",
      "\u001b[2m\u001b[36m(pid=25777)\u001b[0m INFO:root:350000\n",
      "\u001b[2m\u001b[36m(pid=25775)\u001b[0m INFO:root:360000\n",
      "\u001b[2m\u001b[36m(pid=25777)\u001b[0m INFO:root:370000\n",
      "\u001b[2m\u001b[36m(pid=25779)\u001b[0m INFO:root:380000\n",
      "\u001b[2m\u001b[36m(pid=25775)\u001b[0m INFO:root:390000\n",
      "\u001b[2m\u001b[36m(pid=25777)\u001b[0m INFO:root:400000\n",
      "\u001b[2m\u001b[36m(pid=25777)\u001b[0m INFO:root:410000\n",
      "\u001b[2m\u001b[36m(pid=25782)\u001b[0m INFO:root:420000\n",
      "\u001b[2m\u001b[36m(pid=25785)\u001b[0m INFO:root:430000\n",
      "\u001b[2m\u001b[36m(pid=25786)\u001b[0m INFO:root:440000\n",
      "\u001b[2m\u001b[36m(pid=25783)\u001b[0m INFO:root:450000\n",
      "\u001b[2m\u001b[36m(pid=25776)\u001b[0m INFO:root:460000\n",
      "\u001b[2m\u001b[36m(pid=25777)\u001b[0m INFO:root:470000\n",
      "\u001b[2m\u001b[36m(pid=25778)\u001b[0m INFO:root:480000\n",
      "\u001b[2m\u001b[36m(pid=25777)\u001b[0m INFO:root:490000\n",
      "\u001b[2m\u001b[36m(pid=25787)\u001b[0m INFO:root:500000\n",
      "\u001b[2m\u001b[36m(pid=25778)\u001b[0m INFO:root:510000\n",
      "\u001b[2m\u001b[36m(pid=25778)\u001b[0m INFO:root:520000\n",
      "\u001b[2m\u001b[36m(pid=25783)\u001b[0m INFO:root:530000\n",
      "\u001b[2m\u001b[36m(pid=25779)\u001b[0m INFO:root:540000\n",
      "\u001b[2m\u001b[36m(pid=25781)\u001b[0m INFO:root:550000\n",
      "\u001b[2m\u001b[36m(pid=25778)\u001b[0m INFO:root:560000\n",
      "\u001b[2m\u001b[36m(pid=25787)\u001b[0m INFO:root:570000\n",
      "\u001b[2m\u001b[36m(pid=25781)\u001b[0m INFO:root:580000\n",
      "\u001b[2m\u001b[36m(pid=25777)\u001b[0m INFO:root:590000\n",
      "\u001b[2m\u001b[36m(pid=25774)\u001b[0m INFO:root:600000\n",
      "\u001b[2m\u001b[36m(pid=25789)\u001b[0m INFO:root:610000\n",
      "\u001b[2m\u001b[36m(pid=25788)\u001b[0m INFO:root:620000\n",
      "\u001b[2m\u001b[36m(pid=25788)\u001b[0m INFO:root:630000\n",
      "\u001b[2m\u001b[36m(pid=25783)\u001b[0m INFO:root:640000\n",
      "\u001b[2m\u001b[36m(pid=25788)\u001b[0m INFO:root:650000\n",
      "\u001b[2m\u001b[36m(pid=25775)\u001b[0m INFO:root:660000\n",
      "\u001b[2m\u001b[36m(pid=25782)\u001b[0m INFO:root:670000\n",
      "\u001b[2m\u001b[36m(pid=25783)\u001b[0m INFO:root:680000\n",
      "\u001b[2m\u001b[36m(pid=25784)\u001b[0m INFO:root:690000\n",
      "\u001b[2m\u001b[36m(pid=25788)\u001b[0m INFO:root:700000\n",
      "\u001b[2m\u001b[36m(pid=25775)\u001b[0m INFO:root:710000\n",
      "\u001b[2m\u001b[36m(pid=25775)\u001b[0m INFO:root:720000\n",
      "\u001b[2m\u001b[36m(pid=25782)\u001b[0m INFO:root:730000\n",
      "\u001b[2m\u001b[36m(pid=25774)\u001b[0m INFO:root:740000\n",
      "\u001b[2m\u001b[36m(pid=25780)\u001b[0m INFO:root:750000\n",
      "\u001b[2m\u001b[36m(pid=25788)\u001b[0m INFO:root:760000\n",
      "\u001b[2m\u001b[36m(pid=25780)\u001b[0m INFO:root:770000\n",
      "\u001b[2m\u001b[36m(pid=25775)\u001b[0m INFO:root:780000\n",
      "\u001b[2m\u001b[36m(pid=25780)\u001b[0m INFO:root:790000\n",
      "\u001b[2m\u001b[36m(pid=25776)\u001b[0m INFO:root:800000\n",
      "\u001b[2m\u001b[36m(pid=25775)\u001b[0m INFO:root:810000\n",
      "\u001b[2m\u001b[36m(pid=25789)\u001b[0m INFO:root:820000\n",
      "\u001b[2m\u001b[36m(pid=25779)\u001b[0m INFO:root:830000\n",
      "\u001b[2m\u001b[36m(pid=25780)\u001b[0m INFO:root:840000\n",
      "\u001b[2m\u001b[36m(pid=25787)\u001b[0m INFO:root:850000\n",
      "\u001b[2m\u001b[36m(pid=25788)\u001b[0m INFO:root:860000\n",
      "\u001b[2m\u001b[36m(pid=25776)\u001b[0m INFO:root:870000\n",
      "\u001b[2m\u001b[36m(pid=25780)\u001b[0m INFO:root:880000\n",
      "\u001b[2m\u001b[36m(pid=25776)\u001b[0m INFO:root:890000\n",
      "\u001b[2m\u001b[36m(pid=25782)\u001b[0m INFO:root:900000\n",
      "\u001b[2m\u001b[36m(pid=25787)\u001b[0m INFO:root:910000\n",
      "\u001b[2m\u001b[36m(pid=25784)\u001b[0m INFO:root:920000\n",
      "\u001b[2m\u001b[36m(pid=25775)\u001b[0m INFO:root:930000\n",
      "\u001b[2m\u001b[36m(pid=25776)\u001b[0m INFO:root:940000\n",
      "\u001b[2m\u001b[36m(pid=25781)\u001b[0m INFO:root:950000\n",
      "\u001b[2m\u001b[36m(pid=25787)\u001b[0m INFO:root:960000\n",
      "\u001b[2m\u001b[36m(pid=25787)\u001b[0m INFO:root:970000\n",
      "\u001b[2m\u001b[36m(pid=25789)\u001b[0m INFO:root:980000\n",
      "\u001b[2m\u001b[36m(pid=25776)\u001b[0m INFO:root:990000\n",
      "\u001b[2m\u001b[36m(pid=25785)\u001b[0m INFO:root:1000000\n",
      "\u001b[2m\u001b[36m(pid=25786)\u001b[0m INFO:root:1010000\n",
      "\u001b[2m\u001b[36m(pid=25783)\u001b[0m INFO:root:1020000\n",
      "\u001b[2m\u001b[36m(pid=25786)\u001b[0m INFO:root:1030000\n",
      "\u001b[2m\u001b[36m(pid=25786)\u001b[0m INFO:root:1040000\n",
      "\u001b[2m\u001b[36m(pid=25776)\u001b[0m INFO:root:1050000\n",
      "\u001b[2m\u001b[36m(pid=25776)\u001b[0m INFO:root:1060000\n",
      "\u001b[2m\u001b[36m(pid=25776)\u001b[0m INFO:root:1070000\n",
      "\u001b[2m\u001b[36m(pid=25784)\u001b[0m INFO:root:1080000\n",
      "\u001b[2m\u001b[36m(pid=25788)\u001b[0m INFO:root:1090000\n",
      "\u001b[2m\u001b[36m(pid=25787)\u001b[0m INFO:root:1100000\n",
      "\u001b[2m\u001b[36m(pid=25779)\u001b[0m INFO:root:1110000\n",
      "\u001b[2m\u001b[36m(pid=25774)\u001b[0m INFO:root:1120000\n",
      "\u001b[2m\u001b[36m(pid=25785)\u001b[0m INFO:root:1130000\n",
      "\u001b[2m\u001b[36m(pid=25785)\u001b[0m INFO:root:1140000\n",
      "\u001b[2m\u001b[36m(pid=25785)\u001b[0m INFO:root:1150000\n",
      "\u001b[2m\u001b[36m(pid=25786)\u001b[0m INFO:root:1160000\n",
      "\u001b[2m\u001b[36m(pid=25777)\u001b[0m INFO:root:1170000\n",
      "\u001b[2m\u001b[36m(pid=25786)\u001b[0m INFO:root:1180000\n",
      "\u001b[2m\u001b[36m(pid=25783)\u001b[0m INFO:root:1190000\n",
      "\u001b[2m\u001b[36m(pid=25782)\u001b[0m INFO:root:1200000\n",
      "\u001b[2m\u001b[36m(pid=25782)\u001b[0m INFO:root:1210000\n",
      "\u001b[2m\u001b[36m(pid=25781)\u001b[0m INFO:root:1220000\n",
      "\u001b[2m\u001b[36m(pid=25781)\u001b[0m INFO:root:1230000\n",
      "\u001b[2m\u001b[36m(pid=25774)\u001b[0m INFO:root:1240000\n",
      "\u001b[2m\u001b[36m(pid=25778)\u001b[0m INFO:root:1250000\n",
      "\u001b[2m\u001b[36m(pid=25779)\u001b[0m INFO:root:1260000\n",
      "\u001b[2m\u001b[36m(pid=25783)\u001b[0m INFO:root:1270000\n",
      "\u001b[2m\u001b[36m(pid=25776)\u001b[0m INFO:root:1280000\n",
      "\u001b[2m\u001b[36m(pid=25777)\u001b[0m INFO:root:1290000\n",
      "\u001b[2m\u001b[36m(pid=25777)\u001b[0m INFO:root:1300000\n",
      "\u001b[2m\u001b[36m(pid=25789)\u001b[0m INFO:root:1310000\n",
      "\u001b[2m\u001b[36m(pid=25782)\u001b[0m INFO:root:1320000\n",
      "\u001b[2m\u001b[36m(pid=25784)\u001b[0m INFO:root:1330000\n",
      "\u001b[2m\u001b[36m(pid=25780)\u001b[0m INFO:root:1340000\n",
      "\u001b[2m\u001b[36m(pid=25781)\u001b[0m INFO:root:1350000\n",
      "\u001b[2m\u001b[36m(pid=25786)\u001b[0m INFO:root:1360000\n",
      "\u001b[2m\u001b[36m(pid=25782)\u001b[0m INFO:root:1370000\n",
      "\u001b[2m\u001b[36m(pid=25785)\u001b[0m INFO:root:1380000\n",
      "\u001b[2m\u001b[36m(pid=25783)\u001b[0m INFO:root:1390000\n",
      "\u001b[2m\u001b[36m(pid=25789)\u001b[0m INFO:root:1400000\n",
      "\u001b[2m\u001b[36m(pid=25784)\u001b[0m INFO:root:1410000\n",
      "\u001b[2m\u001b[36m(pid=25779)\u001b[0m INFO:root:1420000\n",
      "\u001b[2m\u001b[36m(pid=25784)\u001b[0m INFO:root:1430000\n",
      "\u001b[2m\u001b[36m(pid=25789)\u001b[0m INFO:root:1440000\n",
      "\u001b[2m\u001b[36m(pid=25775)\u001b[0m INFO:root:1450000\n",
      "\u001b[2m\u001b[36m(pid=25784)\u001b[0m INFO:root:1460000\n",
      "\u001b[2m\u001b[36m(pid=25777)\u001b[0m INFO:root:1470000\n",
      "\u001b[2m\u001b[36m(pid=25789)\u001b[0m INFO:root:1480000\n",
      "\u001b[2m\u001b[36m(pid=25776)\u001b[0m INFO:root:1490000\n",
      "\u001b[2m\u001b[36m(pid=25779)\u001b[0m INFO:root:1500000\n",
      "\u001b[2m\u001b[36m(pid=25788)\u001b[0m INFO:root:1510000\n",
      "\u001b[2m\u001b[36m(pid=25774)\u001b[0m INFO:root:1520000\n",
      "\u001b[2m\u001b[36m(pid=25780)\u001b[0m INFO:root:1530000\n",
      "\u001b[2m\u001b[36m(pid=25775)\u001b[0m INFO:root:1540000\n",
      "\u001b[2m\u001b[36m(pid=25789)\u001b[0m INFO:root:1550000\n",
      "\u001b[2m\u001b[36m(pid=25777)\u001b[0m INFO:root:1560000\n",
      "\u001b[2m\u001b[36m(pid=25775)\u001b[0m INFO:root:1570000\n",
      "\u001b[2m\u001b[36m(pid=25779)\u001b[0m INFO:root:1580000\n",
      "\u001b[2m\u001b[36m(pid=25777)\u001b[0m INFO:root:1590000\n",
      "\u001b[2m\u001b[36m(pid=25788)\u001b[0m INFO:root:1600000\n",
      "\u001b[2m\u001b[36m(pid=25786)\u001b[0m INFO:root:1610000\n",
      "\u001b[2m\u001b[36m(pid=25788)\u001b[0m INFO:root:1620000\n",
      "\u001b[2m\u001b[36m(pid=25777)\u001b[0m INFO:root:1630000\n",
      "\u001b[2m\u001b[36m(pid=25781)\u001b[0m INFO:root:1640000\n",
      "\u001b[2m\u001b[36m(pid=25789)\u001b[0m INFO:root:1650000\n",
      "\u001b[2m\u001b[36m(pid=25782)\u001b[0m INFO:root:1660000\n",
      "\u001b[2m\u001b[36m(pid=25781)\u001b[0m INFO:root:1670000\n",
      "\u001b[2m\u001b[36m(pid=25785)\u001b[0m INFO:root:1680000\n",
      "\u001b[2m\u001b[36m(pid=25785)\u001b[0m INFO:root:1690000\n",
      "\u001b[2m\u001b[36m(pid=25776)\u001b[0m INFO:root:1700000\n",
      "\u001b[2m\u001b[36m(pid=25787)\u001b[0m INFO:root:1710000\n",
      "\u001b[2m\u001b[36m(pid=25779)\u001b[0m INFO:root:1720000\n",
      "\u001b[2m\u001b[36m(pid=25786)\u001b[0m INFO:root:1730000\n",
      "\u001b[2m\u001b[36m(pid=25778)\u001b[0m INFO:root:1740000\n",
      "\u001b[2m\u001b[36m(pid=25789)\u001b[0m INFO:root:1750000\n",
      "\u001b[2m\u001b[36m(pid=25785)\u001b[0m INFO:root:1760000\n",
      "\u001b[2m\u001b[36m(pid=25776)\u001b[0m INFO:root:1770000\n",
      "\u001b[2m\u001b[36m(pid=25779)\u001b[0m INFO:root:1780000\n",
      "\u001b[2m\u001b[36m(pid=25774)\u001b[0m INFO:root:1790000\n",
      "\u001b[2m\u001b[36m(pid=25774)\u001b[0m INFO:root:1800000\n",
      "\u001b[2m\u001b[36m(pid=25786)\u001b[0m INFO:root:1810000\n",
      "\u001b[2m\u001b[36m(pid=25789)\u001b[0m INFO:root:1820000\n",
      "\u001b[2m\u001b[36m(pid=25787)\u001b[0m INFO:root:1830000\n",
      "\u001b[2m\u001b[36m(pid=25777)\u001b[0m INFO:root:1840000\n",
      "\u001b[2m\u001b[36m(pid=25780)\u001b[0m INFO:root:1850000\n",
      "\u001b[2m\u001b[36m(pid=25782)\u001b[0m INFO:root:1860000\n",
      "\u001b[2m\u001b[36m(pid=25782)\u001b[0m INFO:root:1870000\n",
      "\u001b[2m\u001b[36m(pid=25778)\u001b[0m INFO:root:1880000\n",
      "\u001b[2m\u001b[36m(pid=25784)\u001b[0m INFO:root:1890000\n",
      "\u001b[2m\u001b[36m(pid=25774)\u001b[0m INFO:root:1900000\n",
      "\u001b[2m\u001b[36m(pid=25789)\u001b[0m INFO:root:1910000\n",
      "\u001b[2m\u001b[36m(pid=25788)\u001b[0m INFO:root:1920000\n",
      "\u001b[2m\u001b[36m(pid=25786)\u001b[0m INFO:root:1930000\n"
     ]
    },
    {
     "name": "stderr",
     "output_type": "stream",
     "text": [
      "\u001b[2m\u001b[36m(pid=25780)\u001b[0m INFO:root:1940000\n",
      "\u001b[2m\u001b[36m(pid=25775)\u001b[0m INFO:root:1950000\n",
      "\u001b[2m\u001b[36m(pid=25789)\u001b[0m INFO:root:1960000\n",
      "\u001b[2m\u001b[36m(pid=25780)\u001b[0m INFO:root:1970000\n",
      "\u001b[2m\u001b[36m(pid=25788)\u001b[0m INFO:root:1980000\n",
      "\u001b[2m\u001b[36m(pid=25785)\u001b[0m INFO:root:1990000\n",
      "\u001b[2m\u001b[36m(pid=25778)\u001b[0m INFO:root:2000000\n",
      "\u001b[2m\u001b[36m(pid=25782)\u001b[0m INFO:root:2010000\n",
      "\u001b[2m\u001b[36m(pid=25787)\u001b[0m INFO:root:2020000\n",
      "\u001b[2m\u001b[36m(pid=25781)\u001b[0m INFO:root:2030000\n",
      "\u001b[2m\u001b[36m(pid=25783)\u001b[0m INFO:root:2040000\n",
      "\u001b[2m\u001b[36m(pid=25787)\u001b[0m INFO:root:2050000\n",
      "\u001b[2m\u001b[36m(pid=25777)\u001b[0m INFO:root:2060000\n",
      "\u001b[2m\u001b[36m(pid=25784)\u001b[0m INFO:root:2070000\n",
      "\u001b[2m\u001b[36m(pid=25776)\u001b[0m INFO:root:2080000\n",
      "\u001b[2m\u001b[36m(pid=25789)\u001b[0m INFO:root:2090000\n",
      "\u001b[2m\u001b[36m(pid=25774)\u001b[0m INFO:root:2100000\n"
     ]
    }
   ],
   "source": [
    "embeddings, scores = get_embeddings(ligands_df=ligands_df, model=word2vec_model, radius=1)"
   ]
  },
  {
   "cell_type": "code",
   "execution_count": 39,
   "metadata": {},
   "outputs": [],
   "source": [
    "vectors = sentences2vec(sentences=embeddings, model=word2vec_model, unseen=UNCOMMON)"
   ]
  },
  {
   "cell_type": "code",
   "execution_count": 42,
   "metadata": {},
   "outputs": [],
   "source": [
    "np.save(f\"{INPUT_DATA_DIR}/{RECEPTOR}_embeddings.npy\", vectors)\n",
    "np.save(f\"{INPUT_DATA_DIR}/{RECEPTOR}_embedding_scores.npy\", np.array(scores))"
   ]
  },
  {
   "cell_type": "code",
   "execution_count": null,
   "metadata": {},
   "outputs": [],
   "source": []
  }
 ],
 "metadata": {
  "kernelspec": {
   "display_name": "dockop",
   "language": "python",
   "name": "dockop"
  },
  "language_info": {
   "codemirror_mode": {
    "name": "ipython",
    "version": 3
   },
   "file_extension": ".py",
   "mimetype": "text/x-python",
   "name": "python",
   "nbconvert_exporter": "python",
   "pygments_lexer": "ipython3",
   "version": "3.8.10"
  }
 },
 "nbformat": 4,
 "nbformat_minor": 4
}
